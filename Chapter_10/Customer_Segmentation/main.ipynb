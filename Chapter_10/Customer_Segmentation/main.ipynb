{
 "cells": [
  {
   "cell_type": "code",
   "execution_count": 2,
   "metadata": {},
   "outputs": [],
   "source": [
    "%matplotlib inline\n",
    "import matplotlib.pyplot as plt\n",
    "import pandas as pd"
   ]
  },
  {
   "cell_type": "code",
   "execution_count": 3,
   "metadata": {},
   "outputs": [
    {
     "data": {
      "application/vnd.microsoft.datawrangler.viewer.v0+json": {
       "columns": [
        {
         "name": "index",
         "rawType": "int64",
         "type": "integer"
        },
        {
         "name": "InvoiceNo",
         "rawType": "object",
         "type": "string"
        },
        {
         "name": "StockCode",
         "rawType": "object",
         "type": "string"
        },
        {
         "name": "Description",
         "rawType": "object",
         "type": "string"
        },
        {
         "name": "Quantity",
         "rawType": "int64",
         "type": "integer"
        },
        {
         "name": "InvoiceDate",
         "rawType": "datetime64[ns]",
         "type": "datetime"
        },
        {
         "name": "UnitPrice",
         "rawType": "float64",
         "type": "float"
        },
        {
         "name": "CustomerID",
         "rawType": "float64",
         "type": "float"
        },
        {
         "name": "Country",
         "rawType": "object",
         "type": "string"
        }
       ],
       "conversionMethod": "pd.DataFrame",
       "ref": "f6cb666e-f19a-4d4f-bc46-cc8199ef476f",
       "rows": [
        [
         "0",
         "536365",
         "85123A",
         "WHITE HANGING HEART T-LIGHT HOLDER",
         "6",
         "2010-12-01 08:26:00",
         "2.55",
         "17850.0",
         "United Kingdom"
        ],
        [
         "1",
         "536365",
         "71053",
         "WHITE METAL LANTERN",
         "6",
         "2010-12-01 08:26:00",
         "3.39",
         "17850.0",
         "United Kingdom"
        ],
        [
         "2",
         "536365",
         "84406B",
         "CREAM CUPID HEARTS COAT HANGER",
         "8",
         "2010-12-01 08:26:00",
         "2.75",
         "17850.0",
         "United Kingdom"
        ],
        [
         "3",
         "536365",
         "84029G",
         "KNITTED UNION FLAG HOT WATER BOTTLE",
         "6",
         "2010-12-01 08:26:00",
         "3.39",
         "17850.0",
         "United Kingdom"
        ],
        [
         "4",
         "536365",
         "84029E",
         "RED WOOLLY HOTTIE WHITE HEART.",
         "6",
         "2010-12-01 08:26:00",
         "3.39",
         "17850.0",
         "United Kingdom"
        ]
       ],
       "shape": {
        "columns": 8,
        "rows": 5
       }
      },
      "text/html": [
       "<div>\n",
       "<style scoped>\n",
       "    .dataframe tbody tr th:only-of-type {\n",
       "        vertical-align: middle;\n",
       "    }\n",
       "\n",
       "    .dataframe tbody tr th {\n",
       "        vertical-align: top;\n",
       "    }\n",
       "\n",
       "    .dataframe thead th {\n",
       "        text-align: right;\n",
       "    }\n",
       "</style>\n",
       "<table border=\"1\" class=\"dataframe\">\n",
       "  <thead>\n",
       "    <tr style=\"text-align: right;\">\n",
       "      <th></th>\n",
       "      <th>InvoiceNo</th>\n",
       "      <th>StockCode</th>\n",
       "      <th>Description</th>\n",
       "      <th>Quantity</th>\n",
       "      <th>InvoiceDate</th>\n",
       "      <th>UnitPrice</th>\n",
       "      <th>CustomerID</th>\n",
       "      <th>Country</th>\n",
       "    </tr>\n",
       "  </thead>\n",
       "  <tbody>\n",
       "    <tr>\n",
       "      <th>0</th>\n",
       "      <td>536365</td>\n",
       "      <td>85123A</td>\n",
       "      <td>WHITE HANGING HEART T-LIGHT HOLDER</td>\n",
       "      <td>6</td>\n",
       "      <td>2010-12-01 08:26:00</td>\n",
       "      <td>2.55</td>\n",
       "      <td>17850.0</td>\n",
       "      <td>United Kingdom</td>\n",
       "    </tr>\n",
       "    <tr>\n",
       "      <th>1</th>\n",
       "      <td>536365</td>\n",
       "      <td>71053</td>\n",
       "      <td>WHITE METAL LANTERN</td>\n",
       "      <td>6</td>\n",
       "      <td>2010-12-01 08:26:00</td>\n",
       "      <td>3.39</td>\n",
       "      <td>17850.0</td>\n",
       "      <td>United Kingdom</td>\n",
       "    </tr>\n",
       "    <tr>\n",
       "      <th>2</th>\n",
       "      <td>536365</td>\n",
       "      <td>84406B</td>\n",
       "      <td>CREAM CUPID HEARTS COAT HANGER</td>\n",
       "      <td>8</td>\n",
       "      <td>2010-12-01 08:26:00</td>\n",
       "      <td>2.75</td>\n",
       "      <td>17850.0</td>\n",
       "      <td>United Kingdom</td>\n",
       "    </tr>\n",
       "    <tr>\n",
       "      <th>3</th>\n",
       "      <td>536365</td>\n",
       "      <td>84029G</td>\n",
       "      <td>KNITTED UNION FLAG HOT WATER BOTTLE</td>\n",
       "      <td>6</td>\n",
       "      <td>2010-12-01 08:26:00</td>\n",
       "      <td>3.39</td>\n",
       "      <td>17850.0</td>\n",
       "      <td>United Kingdom</td>\n",
       "    </tr>\n",
       "    <tr>\n",
       "      <th>4</th>\n",
       "      <td>536365</td>\n",
       "      <td>84029E</td>\n",
       "      <td>RED WOOLLY HOTTIE WHITE HEART.</td>\n",
       "      <td>6</td>\n",
       "      <td>2010-12-01 08:26:00</td>\n",
       "      <td>3.39</td>\n",
       "      <td>17850.0</td>\n",
       "      <td>United Kingdom</td>\n",
       "    </tr>\n",
       "  </tbody>\n",
       "</table>\n",
       "</div>"
      ],
      "text/plain": [
       "  InvoiceNo StockCode                          Description  Quantity  \\\n",
       "0    536365    85123A   WHITE HANGING HEART T-LIGHT HOLDER         6   \n",
       "1    536365     71053                  WHITE METAL LANTERN         6   \n",
       "2    536365    84406B       CREAM CUPID HEARTS COAT HANGER         8   \n",
       "3    536365    84029G  KNITTED UNION FLAG HOT WATER BOTTLE         6   \n",
       "4    536365    84029E       RED WOOLLY HOTTIE WHITE HEART.         6   \n",
       "\n",
       "          InvoiceDate  UnitPrice  CustomerID         Country  \n",
       "0 2010-12-01 08:26:00       2.55     17850.0  United Kingdom  \n",
       "1 2010-12-01 08:26:00       3.39     17850.0  United Kingdom  \n",
       "2 2010-12-01 08:26:00       2.75     17850.0  United Kingdom  \n",
       "3 2010-12-01 08:26:00       3.39     17850.0  United Kingdom  \n",
       "4 2010-12-01 08:26:00       3.39     17850.0  United Kingdom  "
      ]
     },
     "execution_count": 3,
     "metadata": {},
     "output_type": "execute_result"
    }
   ],
   "source": [
    "df = pd.read_excel(io='Online Retail.xlsx', sheet_name='Online Retail')\n",
    "df.head()"
   ]
  },
  {
   "cell_type": "code",
   "execution_count": 4,
   "metadata": {},
   "outputs": [
    {
     "data": {
      "text/plain": [
       "(541909, 8)"
      ]
     },
     "execution_count": 4,
     "metadata": {},
     "output_type": "execute_result"
    }
   ],
   "source": [
    "df.shape"
   ]
  },
  {
   "cell_type": "markdown",
   "metadata": {},
   "source": [
    "# Data Cleanup"
   ]
  },
  {
   "cell_type": "code",
   "execution_count": 5,
   "metadata": {},
   "outputs": [
    {
     "data": {
      "text/plain": [
       "(10624, 8)"
      ]
     },
     "execution_count": 5,
     "metadata": {},
     "output_type": "execute_result"
    }
   ],
   "source": [
    "df.loc[df['Quantity']<=0].shape"
   ]
  },
  {
   "cell_type": "code",
   "execution_count": 6,
   "metadata": {},
   "outputs": [],
   "source": [
    "df = df.loc[df['Quantity']>0]"
   ]
  },
  {
   "cell_type": "code",
   "execution_count": 7,
   "metadata": {},
   "outputs": [
    {
     "data": {
      "text/plain": [
       "(531285, 8)"
      ]
     },
     "execution_count": 7,
     "metadata": {},
     "output_type": "execute_result"
    }
   ],
   "source": [
    "df.shape"
   ]
  },
  {
   "cell_type": "code",
   "execution_count": 8,
   "metadata": {},
   "outputs": [],
   "source": [
    "df.dropna(subset=['CustomerID'], inplace=True)"
   ]
  },
  {
   "cell_type": "code",
   "execution_count": 9,
   "metadata": {},
   "outputs": [
    {
     "data": {
      "text/plain": [
       "(397924, 8)"
      ]
     },
     "execution_count": 9,
     "metadata": {},
     "output_type": "execute_result"
    }
   ],
   "source": [
    "df.shape"
   ]
  },
  {
   "cell_type": "code",
   "execution_count": 10,
   "metadata": {},
   "outputs": [],
   "source": [
    "df = df.loc[\n",
    "  df['InvoiceDate'] < '2011-12-01'\n",
    "]"
   ]
  },
  {
   "cell_type": "markdown",
   "metadata": {},
   "source": [
    "- Total Sales"
   ]
  },
  {
   "cell_type": "code",
   "execution_count": 11,
   "metadata": {},
   "outputs": [],
   "source": [
    "df['Sales'] = df['Quantity'] * df['UnitPrice']"
   ]
  },
  {
   "cell_type": "markdown",
   "metadata": {},
   "source": [
    "- Per Customer Data"
   ]
  },
  {
   "cell_type": "markdown",
   "metadata": {},
   "source": [
    "Per-customer data: In order to analyze customer segments, we need to transform\n",
    "our data, so that each record represents the purchase history of individual\n",
    "customers."
   ]
  },
  {
   "cell_type": "code",
   "execution_count": 12,
   "metadata": {},
   "outputs": [
    {
     "data": {
      "application/vnd.microsoft.datawrangler.viewer.v0+json": {
       "columns": [
        {
         "name": "CustomerID",
         "rawType": "float64",
         "type": "float"
        },
        {
         "name": "TotalSales",
         "rawType": "float64",
         "type": "float"
        },
        {
         "name": "OrderCount",
         "rawType": "int64",
         "type": "integer"
        },
        {
         "name": "AvgOrderValue",
         "rawType": "float64",
         "type": "float"
        }
       ],
       "conversionMethod": "pd.DataFrame",
       "ref": "63fd697f-21fb-477a-ac7e-450b8ce8b25f",
       "rows": [
        [
         "12346.0",
         "77183.6",
         "1",
         "77183.6"
        ],
        [
         "12347.0",
         "4085.1800000000003",
         "6",
         "680.8633333333333"
        ],
        [
         "12348.0",
         "1797.24",
         "4",
         "449.31"
        ],
        [
         "12349.0",
         "1757.55",
         "1",
         "1757.55"
        ],
        [
         "12350.0",
         "334.4",
         "1",
         "334.4"
        ],
        [
         "12352.0",
         "2506.04",
         "8",
         "313.255"
        ],
        [
         "12353.0",
         "89.0",
         "1",
         "89.0"
        ],
        [
         "12354.0",
         "1079.4",
         "1",
         "1079.4"
        ],
        [
         "12355.0",
         "459.4",
         "1",
         "459.4"
        ],
        [
         "12356.0",
         "2811.43",
         "3",
         "937.1433333333333"
        ]
       ],
       "shape": {
        "columns": 3,
        "rows": 10
       }
      },
      "text/html": [
       "<div>\n",
       "<style scoped>\n",
       "    .dataframe tbody tr th:only-of-type {\n",
       "        vertical-align: middle;\n",
       "    }\n",
       "\n",
       "    .dataframe tbody tr th {\n",
       "        vertical-align: top;\n",
       "    }\n",
       "\n",
       "    .dataframe thead th {\n",
       "        text-align: right;\n",
       "    }\n",
       "</style>\n",
       "<table border=\"1\" class=\"dataframe\">\n",
       "  <thead>\n",
       "    <tr style=\"text-align: right;\">\n",
       "      <th></th>\n",
       "      <th>TotalSales</th>\n",
       "      <th>OrderCount</th>\n",
       "      <th>AvgOrderValue</th>\n",
       "    </tr>\n",
       "    <tr>\n",
       "      <th>CustomerID</th>\n",
       "      <th></th>\n",
       "      <th></th>\n",
       "      <th></th>\n",
       "    </tr>\n",
       "  </thead>\n",
       "  <tbody>\n",
       "    <tr>\n",
       "      <th>12346.0</th>\n",
       "      <td>77183.60</td>\n",
       "      <td>1</td>\n",
       "      <td>77183.600000</td>\n",
       "    </tr>\n",
       "    <tr>\n",
       "      <th>12347.0</th>\n",
       "      <td>4085.18</td>\n",
       "      <td>6</td>\n",
       "      <td>680.863333</td>\n",
       "    </tr>\n",
       "    <tr>\n",
       "      <th>12348.0</th>\n",
       "      <td>1797.24</td>\n",
       "      <td>4</td>\n",
       "      <td>449.310000</td>\n",
       "    </tr>\n",
       "    <tr>\n",
       "      <th>12349.0</th>\n",
       "      <td>1757.55</td>\n",
       "      <td>1</td>\n",
       "      <td>1757.550000</td>\n",
       "    </tr>\n",
       "    <tr>\n",
       "      <th>12350.0</th>\n",
       "      <td>334.40</td>\n",
       "      <td>1</td>\n",
       "      <td>334.400000</td>\n",
       "    </tr>\n",
       "    <tr>\n",
       "      <th>12352.0</th>\n",
       "      <td>2506.04</td>\n",
       "      <td>8</td>\n",
       "      <td>313.255000</td>\n",
       "    </tr>\n",
       "    <tr>\n",
       "      <th>12353.0</th>\n",
       "      <td>89.00</td>\n",
       "      <td>1</td>\n",
       "      <td>89.000000</td>\n",
       "    </tr>\n",
       "    <tr>\n",
       "      <th>12354.0</th>\n",
       "      <td>1079.40</td>\n",
       "      <td>1</td>\n",
       "      <td>1079.400000</td>\n",
       "    </tr>\n",
       "    <tr>\n",
       "      <th>12355.0</th>\n",
       "      <td>459.40</td>\n",
       "      <td>1</td>\n",
       "      <td>459.400000</td>\n",
       "    </tr>\n",
       "    <tr>\n",
       "      <th>12356.0</th>\n",
       "      <td>2811.43</td>\n",
       "      <td>3</td>\n",
       "      <td>937.143333</td>\n",
       "    </tr>\n",
       "  </tbody>\n",
       "</table>\n",
       "</div>"
      ],
      "text/plain": [
       "            TotalSales  OrderCount  AvgOrderValue\n",
       "CustomerID                                       \n",
       "12346.0       77183.60           1   77183.600000\n",
       "12347.0        4085.18           6     680.863333\n",
       "12348.0        1797.24           4     449.310000\n",
       "12349.0        1757.55           1    1757.550000\n",
       "12350.0         334.40           1     334.400000\n",
       "12352.0        2506.04           8     313.255000\n",
       "12353.0          89.00           1      89.000000\n",
       "12354.0        1079.40           1    1079.400000\n",
       "12355.0         459.40           1     459.400000\n",
       "12356.0        2811.43           3     937.143333"
      ]
     },
     "execution_count": 12,
     "metadata": {},
     "output_type": "execute_result"
    }
   ],
   "source": [
    "customer_df = df.groupby('CustomerID').agg({\n",
    "  'Sales':sum,\n",
    "  'InvoiceNo':lambda x: x.nunique()\n",
    "})\n",
    "\n",
    "customer_df.columns = ['TotalSales', 'OrderCount']\n",
    "customer_df['AvgOrderValue'] = customer_df['TotalSales'] / customer_df['OrderCount']\n",
    "customer_df.head(10)"
   ]
  },
  {
   "cell_type": "code",
   "execution_count": 13,
   "metadata": {},
   "outputs": [
    {
     "data": {
      "application/vnd.microsoft.datawrangler.viewer.v0+json": {
       "columns": [
        {
         "name": "index",
         "rawType": "object",
         "type": "string"
        },
        {
         "name": "TotalSales",
         "rawType": "float64",
         "type": "float"
        },
        {
         "name": "OrderCount",
         "rawType": "float64",
         "type": "float"
        },
        {
         "name": "AvgOrderValue",
         "rawType": "float64",
         "type": "float"
        }
       ],
       "conversionMethod": "pd.DataFrame",
       "ref": "7f629e98-2b17-42c0-aa10-9816d3e8abad",
       "rows": [
        [
         "count",
         "4298.0",
         "4298.0",
         "4298.0"
        ],
        [
         "mean",
         "1952.8187794322941",
         "4.13168915774779",
         "400.25562143010416"
        ],
        [
         "std",
         "8354.913253635243",
         "7.4202526814978444",
         "1271.1872888467637"
        ],
        [
         "min",
         "0.0",
         "1.0",
         "0.0"
        ],
        [
         "25%",
         "304.305",
         "1.0",
         "178.60250000000002"
        ],
        [
         "50%",
         "657.265",
         "2.0",
         "295.0339583333333"
        ],
        [
         "75%",
         "1599.5149999999999",
         "4.0",
         "431.59425"
        ],
        [
         "max",
         "268478.0",
         "201.0",
         "77183.6"
        ]
       ],
       "shape": {
        "columns": 3,
        "rows": 8
       }
      },
      "text/html": [
       "<div>\n",
       "<style scoped>\n",
       "    .dataframe tbody tr th:only-of-type {\n",
       "        vertical-align: middle;\n",
       "    }\n",
       "\n",
       "    .dataframe tbody tr th {\n",
       "        vertical-align: top;\n",
       "    }\n",
       "\n",
       "    .dataframe thead th {\n",
       "        text-align: right;\n",
       "    }\n",
       "</style>\n",
       "<table border=\"1\" class=\"dataframe\">\n",
       "  <thead>\n",
       "    <tr style=\"text-align: right;\">\n",
       "      <th></th>\n",
       "      <th>TotalSales</th>\n",
       "      <th>OrderCount</th>\n",
       "      <th>AvgOrderValue</th>\n",
       "    </tr>\n",
       "  </thead>\n",
       "  <tbody>\n",
       "    <tr>\n",
       "      <th>count</th>\n",
       "      <td>4298.000000</td>\n",
       "      <td>4298.000000</td>\n",
       "      <td>4298.000000</td>\n",
       "    </tr>\n",
       "    <tr>\n",
       "      <th>mean</th>\n",
       "      <td>1952.818779</td>\n",
       "      <td>4.131689</td>\n",
       "      <td>400.255621</td>\n",
       "    </tr>\n",
       "    <tr>\n",
       "      <th>std</th>\n",
       "      <td>8354.913254</td>\n",
       "      <td>7.420253</td>\n",
       "      <td>1271.187289</td>\n",
       "    </tr>\n",
       "    <tr>\n",
       "      <th>min</th>\n",
       "      <td>0.000000</td>\n",
       "      <td>1.000000</td>\n",
       "      <td>0.000000</td>\n",
       "    </tr>\n",
       "    <tr>\n",
       "      <th>25%</th>\n",
       "      <td>304.305000</td>\n",
       "      <td>1.000000</td>\n",
       "      <td>178.602500</td>\n",
       "    </tr>\n",
       "    <tr>\n",
       "      <th>50%</th>\n",
       "      <td>657.265000</td>\n",
       "      <td>2.000000</td>\n",
       "      <td>295.033958</td>\n",
       "    </tr>\n",
       "    <tr>\n",
       "      <th>75%</th>\n",
       "      <td>1599.515000</td>\n",
       "      <td>4.000000</td>\n",
       "      <td>431.594250</td>\n",
       "    </tr>\n",
       "    <tr>\n",
       "      <th>max</th>\n",
       "      <td>268478.000000</td>\n",
       "      <td>201.000000</td>\n",
       "      <td>77183.600000</td>\n",
       "    </tr>\n",
       "  </tbody>\n",
       "</table>\n",
       "</div>"
      ],
      "text/plain": [
       "          TotalSales   OrderCount  AvgOrderValue\n",
       "count    4298.000000  4298.000000    4298.000000\n",
       "mean     1952.818779     4.131689     400.255621\n",
       "std      8354.913254     7.420253    1271.187289\n",
       "min         0.000000     1.000000       0.000000\n",
       "25%       304.305000     1.000000     178.602500\n",
       "50%       657.265000     2.000000     295.033958\n",
       "75%      1599.515000     4.000000     431.594250\n",
       "max    268478.000000   201.000000   77183.600000"
      ]
     },
     "execution_count": 13,
     "metadata": {},
     "output_type": "execute_result"
    }
   ],
   "source": [
    "customer_df.describe()"
   ]
  },
  {
   "cell_type": "markdown",
   "metadata": {},
   "source": [
    "Now, as you can see from this data, the three columns, TotalSales, OrderCount, and\n",
    "AvgOrderValue, have different scales. TotalSales can take any values from 0 to 26,848,\n",
    "while OrderCount takes values between 1 and 201. Clustering algorithms are highly\n",
    "affected by the scales of the data, so we need to normalize this data to be on the same scale.\n",
    "We are going to take two steps to normalize this data. First, we are going to rank the data,\n",
    "so that the values of each column range from 1 to 4298, which is the total number of\n",
    "records."
   ]
  },
  {
   "cell_type": "code",
   "execution_count": 14,
   "metadata": {},
   "outputs": [
    {
     "data": {
      "application/vnd.microsoft.datawrangler.viewer.v0+json": {
       "columns": [
        {
         "name": "CustomerID",
         "rawType": "float64",
         "type": "float"
        },
        {
         "name": "TotalSales",
         "rawType": "float64",
         "type": "float"
        },
        {
         "name": "OrderCount",
         "rawType": "float64",
         "type": "float"
        },
        {
         "name": "AvgOrderValue",
         "rawType": "float64",
         "type": "float"
        }
       ],
       "conversionMethod": "pd.DataFrame",
       "ref": "cef6eed8-c937-4073-95c0-0985a4865286",
       "rows": [
        [
         "12346.0",
         "4290.0",
         "1.0",
         "4298.0"
        ],
        [
         "12347.0",
         "3958.0",
         "3470.0",
         "3888.0"
        ],
        [
         "12348.0",
         "3350.0",
         "2861.0",
         "3303.0"
        ],
        [
         "12349.0",
         "3321.0",
         "2.0",
         "4238.0"
        ],
        [
         "12350.0",
         "1241.0",
         "3.0",
         "2561.0"
        ],
        [
         "12352.0",
         "3630.0",
         "3774.0",
         "2360.0"
        ],
        [
         "12353.0",
         "119.0",
         "4.0",
         "201.0"
        ],
        [
         "12354.0",
         "2781.0",
         "5.0",
         "4151.0"
        ],
        [
         "12355.0",
         "1670.0",
         "6.0",
         "3354.0"
        ],
        [
         "12356.0",
         "3724.0",
         "2346.0",
         "4082.0"
        ]
       ],
       "shape": {
        "columns": 3,
        "rows": 10
       }
      },
      "text/html": [
       "<div>\n",
       "<style scoped>\n",
       "    .dataframe tbody tr th:only-of-type {\n",
       "        vertical-align: middle;\n",
       "    }\n",
       "\n",
       "    .dataframe tbody tr th {\n",
       "        vertical-align: top;\n",
       "    }\n",
       "\n",
       "    .dataframe thead th {\n",
       "        text-align: right;\n",
       "    }\n",
       "</style>\n",
       "<table border=\"1\" class=\"dataframe\">\n",
       "  <thead>\n",
       "    <tr style=\"text-align: right;\">\n",
       "      <th></th>\n",
       "      <th>TotalSales</th>\n",
       "      <th>OrderCount</th>\n",
       "      <th>AvgOrderValue</th>\n",
       "    </tr>\n",
       "    <tr>\n",
       "      <th>CustomerID</th>\n",
       "      <th></th>\n",
       "      <th></th>\n",
       "      <th></th>\n",
       "    </tr>\n",
       "  </thead>\n",
       "  <tbody>\n",
       "    <tr>\n",
       "      <th>12346.0</th>\n",
       "      <td>4290.0</td>\n",
       "      <td>1.0</td>\n",
       "      <td>4298.0</td>\n",
       "    </tr>\n",
       "    <tr>\n",
       "      <th>12347.0</th>\n",
       "      <td>3958.0</td>\n",
       "      <td>3470.0</td>\n",
       "      <td>3888.0</td>\n",
       "    </tr>\n",
       "    <tr>\n",
       "      <th>12348.0</th>\n",
       "      <td>3350.0</td>\n",
       "      <td>2861.0</td>\n",
       "      <td>3303.0</td>\n",
       "    </tr>\n",
       "    <tr>\n",
       "      <th>12349.0</th>\n",
       "      <td>3321.0</td>\n",
       "      <td>2.0</td>\n",
       "      <td>4238.0</td>\n",
       "    </tr>\n",
       "    <tr>\n",
       "      <th>12350.0</th>\n",
       "      <td>1241.0</td>\n",
       "      <td>3.0</td>\n",
       "      <td>2561.0</td>\n",
       "    </tr>\n",
       "    <tr>\n",
       "      <th>12352.0</th>\n",
       "      <td>3630.0</td>\n",
       "      <td>3774.0</td>\n",
       "      <td>2360.0</td>\n",
       "    </tr>\n",
       "    <tr>\n",
       "      <th>12353.0</th>\n",
       "      <td>119.0</td>\n",
       "      <td>4.0</td>\n",
       "      <td>201.0</td>\n",
       "    </tr>\n",
       "    <tr>\n",
       "      <th>12354.0</th>\n",
       "      <td>2781.0</td>\n",
       "      <td>5.0</td>\n",
       "      <td>4151.0</td>\n",
       "    </tr>\n",
       "    <tr>\n",
       "      <th>12355.0</th>\n",
       "      <td>1670.0</td>\n",
       "      <td>6.0</td>\n",
       "      <td>3354.0</td>\n",
       "    </tr>\n",
       "    <tr>\n",
       "      <th>12356.0</th>\n",
       "      <td>3724.0</td>\n",
       "      <td>2346.0</td>\n",
       "      <td>4082.0</td>\n",
       "    </tr>\n",
       "  </tbody>\n",
       "</table>\n",
       "</div>"
      ],
      "text/plain": [
       "            TotalSales  OrderCount  AvgOrderValue\n",
       "CustomerID                                       \n",
       "12346.0         4290.0         1.0         4298.0\n",
       "12347.0         3958.0      3470.0         3888.0\n",
       "12348.0         3350.0      2861.0         3303.0\n",
       "12349.0         3321.0         2.0         4238.0\n",
       "12350.0         1241.0         3.0         2561.0\n",
       "12352.0         3630.0      3774.0         2360.0\n",
       "12353.0          119.0         4.0          201.0\n",
       "12354.0         2781.0         5.0         4151.0\n",
       "12355.0         1670.0         6.0         3354.0\n",
       "12356.0         3724.0      2346.0         4082.0"
      ]
     },
     "execution_count": 14,
     "metadata": {},
     "output_type": "execute_result"
    }
   ],
   "source": [
    "rank_df = customer_df.rank(method='first')\n",
    "rank_df.head(10)"
   ]
  },
  {
   "cell_type": "code",
   "execution_count": 15,
   "metadata": {},
   "outputs": [],
   "source": [
    "normalized_df = (rank_df - rank_df.mean()) / rank_df.std()"
   ]
  },
  {
   "cell_type": "code",
   "execution_count": 16,
   "metadata": {},
   "outputs": [
    {
     "data": {
      "application/vnd.microsoft.datawrangler.viewer.v0+json": {
       "columns": [
        {
         "name": "CustomerID",
         "rawType": "float64",
         "type": "float"
        },
        {
         "name": "TotalSales",
         "rawType": "float64",
         "type": "float"
        },
        {
         "name": "OrderCount",
         "rawType": "float64",
         "type": "float"
        },
        {
         "name": "AvgOrderValue",
         "rawType": "float64",
         "type": "float"
        }
       ],
       "conversionMethod": "pd.DataFrame",
       "ref": "11b85889-4b10-4bea-b5b8-ef2f74e8ec28",
       "rows": [
        [
         "12346.0",
         "1.7249993154275194",
         "-1.7314464046699487",
         "1.7314464046699487"
        ],
        [
         "12347.0",
         "1.457445111866699",
         "1.0641726680785046",
         "1.4010330809954414"
        ],
        [
         "12348.0",
         "0.9674663294420636",
         "0.5733879994985658",
         "0.9295896801427908"
        ],
        [
         "12349.0",
         "0.9440956309382569",
         "-1.7306405185146452",
         "1.6830932353517283"
        ],
        [
         "12350.0",
         "-0.73214757209339",
         "-1.7298346323593414",
         "0.33162215290746283"
        ],
        [
         "12352.0",
         "1.193114452927093",
         "1.3091620592908224",
         "0.16963903569142388"
        ],
        [
         "12353.0",
         "-1.636351838344115",
         "-1.7290287462040377",
         "-1.5702691736092136"
        ],
        [
         "12354.0",
         "0.5089171070742716",
         "-1.7282228600487342",
         "1.6129811398403084"
        ],
        [
         "12355.0",
         "-0.38642241146811285",
         "-1.7274169738934304",
         "0.9706898740632782"
        ],
        [
         "12356.0",
         "1.2688677515256386",
         "0.15835662951717241",
         "1.5573749951243547"
        ],
        [
         "12357.0",
         "1.5807456936281612",
         "-1.7266110877381267",
         "1.7290287462040377"
        ],
        [
         "12358.0",
         "-0.33162215290746283",
         "-1.7258052015828231",
         "1.0456372865065202"
        ],
        [
         "12359.0",
         "1.5855810105599832",
         "0.5741938856538694",
         "1.6726167153327804"
        ],
        [
         "12360.0",
         "1.2334087606922768",
         "0.15916251567247608",
         "1.5372278412417628"
        ],
        [
         "12361.0",
         "-1.2430793945559209",
         "-1.7249993154275194",
         "-0.7764713106350922"
        ]
       ],
       "shape": {
        "columns": 3,
        "rows": 15
       }
      },
      "text/html": [
       "<div>\n",
       "<style scoped>\n",
       "    .dataframe tbody tr th:only-of-type {\n",
       "        vertical-align: middle;\n",
       "    }\n",
       "\n",
       "    .dataframe tbody tr th {\n",
       "        vertical-align: top;\n",
       "    }\n",
       "\n",
       "    .dataframe thead th {\n",
       "        text-align: right;\n",
       "    }\n",
       "</style>\n",
       "<table border=\"1\" class=\"dataframe\">\n",
       "  <thead>\n",
       "    <tr style=\"text-align: right;\">\n",
       "      <th></th>\n",
       "      <th>TotalSales</th>\n",
       "      <th>OrderCount</th>\n",
       "      <th>AvgOrderValue</th>\n",
       "    </tr>\n",
       "    <tr>\n",
       "      <th>CustomerID</th>\n",
       "      <th></th>\n",
       "      <th></th>\n",
       "      <th></th>\n",
       "    </tr>\n",
       "  </thead>\n",
       "  <tbody>\n",
       "    <tr>\n",
       "      <th>12346.0</th>\n",
       "      <td>1.724999</td>\n",
       "      <td>-1.731446</td>\n",
       "      <td>1.731446</td>\n",
       "    </tr>\n",
       "    <tr>\n",
       "      <th>12347.0</th>\n",
       "      <td>1.457445</td>\n",
       "      <td>1.064173</td>\n",
       "      <td>1.401033</td>\n",
       "    </tr>\n",
       "    <tr>\n",
       "      <th>12348.0</th>\n",
       "      <td>0.967466</td>\n",
       "      <td>0.573388</td>\n",
       "      <td>0.929590</td>\n",
       "    </tr>\n",
       "    <tr>\n",
       "      <th>12349.0</th>\n",
       "      <td>0.944096</td>\n",
       "      <td>-1.730641</td>\n",
       "      <td>1.683093</td>\n",
       "    </tr>\n",
       "    <tr>\n",
       "      <th>12350.0</th>\n",
       "      <td>-0.732148</td>\n",
       "      <td>-1.729835</td>\n",
       "      <td>0.331622</td>\n",
       "    </tr>\n",
       "    <tr>\n",
       "      <th>12352.0</th>\n",
       "      <td>1.193114</td>\n",
       "      <td>1.309162</td>\n",
       "      <td>0.169639</td>\n",
       "    </tr>\n",
       "    <tr>\n",
       "      <th>12353.0</th>\n",
       "      <td>-1.636352</td>\n",
       "      <td>-1.729029</td>\n",
       "      <td>-1.570269</td>\n",
       "    </tr>\n",
       "    <tr>\n",
       "      <th>12354.0</th>\n",
       "      <td>0.508917</td>\n",
       "      <td>-1.728223</td>\n",
       "      <td>1.612981</td>\n",
       "    </tr>\n",
       "    <tr>\n",
       "      <th>12355.0</th>\n",
       "      <td>-0.386422</td>\n",
       "      <td>-1.727417</td>\n",
       "      <td>0.970690</td>\n",
       "    </tr>\n",
       "    <tr>\n",
       "      <th>12356.0</th>\n",
       "      <td>1.268868</td>\n",
       "      <td>0.158357</td>\n",
       "      <td>1.557375</td>\n",
       "    </tr>\n",
       "    <tr>\n",
       "      <th>12357.0</th>\n",
       "      <td>1.580746</td>\n",
       "      <td>-1.726611</td>\n",
       "      <td>1.729029</td>\n",
       "    </tr>\n",
       "    <tr>\n",
       "      <th>12358.0</th>\n",
       "      <td>-0.331622</td>\n",
       "      <td>-1.725805</td>\n",
       "      <td>1.045637</td>\n",
       "    </tr>\n",
       "    <tr>\n",
       "      <th>12359.0</th>\n",
       "      <td>1.585581</td>\n",
       "      <td>0.574194</td>\n",
       "      <td>1.672617</td>\n",
       "    </tr>\n",
       "    <tr>\n",
       "      <th>12360.0</th>\n",
       "      <td>1.233409</td>\n",
       "      <td>0.159163</td>\n",
       "      <td>1.537228</td>\n",
       "    </tr>\n",
       "    <tr>\n",
       "      <th>12361.0</th>\n",
       "      <td>-1.243079</td>\n",
       "      <td>-1.724999</td>\n",
       "      <td>-0.776471</td>\n",
       "    </tr>\n",
       "  </tbody>\n",
       "</table>\n",
       "</div>"
      ],
      "text/plain": [
       "            TotalSales  OrderCount  AvgOrderValue\n",
       "CustomerID                                       \n",
       "12346.0       1.724999   -1.731446       1.731446\n",
       "12347.0       1.457445    1.064173       1.401033\n",
       "12348.0       0.967466    0.573388       0.929590\n",
       "12349.0       0.944096   -1.730641       1.683093\n",
       "12350.0      -0.732148   -1.729835       0.331622\n",
       "12352.0       1.193114    1.309162       0.169639\n",
       "12353.0      -1.636352   -1.729029      -1.570269\n",
       "12354.0       0.508917   -1.728223       1.612981\n",
       "12355.0      -0.386422   -1.727417       0.970690\n",
       "12356.0       1.268868    0.158357       1.557375\n",
       "12357.0       1.580746   -1.726611       1.729029\n",
       "12358.0      -0.331622   -1.725805       1.045637\n",
       "12359.0       1.585581    0.574194       1.672617\n",
       "12360.0       1.233409    0.159163       1.537228\n",
       "12361.0      -1.243079   -1.724999      -0.776471"
      ]
     },
     "execution_count": 16,
     "metadata": {},
     "output_type": "execute_result"
    }
   ],
   "source": [
    "normalized_df.head(15)"
   ]
  },
  {
   "cell_type": "code",
   "execution_count": 17,
   "metadata": {},
   "outputs": [
    {
     "data": {
      "application/vnd.microsoft.datawrangler.viewer.v0+json": {
       "columns": [
        {
         "name": "index",
         "rawType": "object",
         "type": "string"
        },
        {
         "name": "TotalSales",
         "rawType": "float64",
         "type": "float"
        },
        {
         "name": "OrderCount",
         "rawType": "float64",
         "type": "float"
        },
        {
         "name": "AvgOrderValue",
         "rawType": "float64",
         "type": "float"
        }
       ],
       "conversionMethod": "pd.DataFrame",
       "ref": "59329e96-0df8-4a91-8d1f-3c441474e6ee",
       "rows": [
        [
         "count",
         "4298.0",
         "4298.0",
         "4298.0"
        ],
        [
         "mean",
         "0.0",
         "0.0",
         "-6.612775577106563e-18"
        ],
        [
         "std",
         "1.0",
         "1.0",
         "1.0"
        ],
        [
         "min",
         "-1.7314464046699487",
         "-1.7314464046699487",
         "-1.7314464046699487"
        ],
        [
         "25%",
         "-0.8657232023349744",
         "-0.8657232023349744",
         "-0.8657232023349744"
        ],
        [
         "50%",
         "0.0",
         "0.0",
         "0.0"
        ],
        [
         "75%",
         "0.8657232023349744",
         "0.8657232023349744",
         "0.8657232023349744"
        ],
        [
         "max",
         "1.7314464046699487",
         "1.7314464046699487",
         "1.7314464046699487"
        ]
       ],
       "shape": {
        "columns": 3,
        "rows": 8
       }
      },
      "text/html": [
       "<div>\n",
       "<style scoped>\n",
       "    .dataframe tbody tr th:only-of-type {\n",
       "        vertical-align: middle;\n",
       "    }\n",
       "\n",
       "    .dataframe tbody tr th {\n",
       "        vertical-align: top;\n",
       "    }\n",
       "\n",
       "    .dataframe thead th {\n",
       "        text-align: right;\n",
       "    }\n",
       "</style>\n",
       "<table border=\"1\" class=\"dataframe\">\n",
       "  <thead>\n",
       "    <tr style=\"text-align: right;\">\n",
       "      <th></th>\n",
       "      <th>TotalSales</th>\n",
       "      <th>OrderCount</th>\n",
       "      <th>AvgOrderValue</th>\n",
       "    </tr>\n",
       "  </thead>\n",
       "  <tbody>\n",
       "    <tr>\n",
       "      <th>count</th>\n",
       "      <td>4298.000000</td>\n",
       "      <td>4298.000000</td>\n",
       "      <td>4.298000e+03</td>\n",
       "    </tr>\n",
       "    <tr>\n",
       "      <th>mean</th>\n",
       "      <td>0.000000</td>\n",
       "      <td>0.000000</td>\n",
       "      <td>-6.612776e-18</td>\n",
       "    </tr>\n",
       "    <tr>\n",
       "      <th>std</th>\n",
       "      <td>1.000000</td>\n",
       "      <td>1.000000</td>\n",
       "      <td>1.000000e+00</td>\n",
       "    </tr>\n",
       "    <tr>\n",
       "      <th>min</th>\n",
       "      <td>-1.731446</td>\n",
       "      <td>-1.731446</td>\n",
       "      <td>-1.731446e+00</td>\n",
       "    </tr>\n",
       "    <tr>\n",
       "      <th>25%</th>\n",
       "      <td>-0.865723</td>\n",
       "      <td>-0.865723</td>\n",
       "      <td>-8.657232e-01</td>\n",
       "    </tr>\n",
       "    <tr>\n",
       "      <th>50%</th>\n",
       "      <td>0.000000</td>\n",
       "      <td>0.000000</td>\n",
       "      <td>0.000000e+00</td>\n",
       "    </tr>\n",
       "    <tr>\n",
       "      <th>75%</th>\n",
       "      <td>0.865723</td>\n",
       "      <td>0.865723</td>\n",
       "      <td>8.657232e-01</td>\n",
       "    </tr>\n",
       "    <tr>\n",
       "      <th>max</th>\n",
       "      <td>1.731446</td>\n",
       "      <td>1.731446</td>\n",
       "      <td>1.731446e+00</td>\n",
       "    </tr>\n",
       "  </tbody>\n",
       "</table>\n",
       "</div>"
      ],
      "text/plain": [
       "        TotalSales   OrderCount  AvgOrderValue\n",
       "count  4298.000000  4298.000000   4.298000e+03\n",
       "mean      0.000000     0.000000  -6.612776e-18\n",
       "std       1.000000     1.000000   1.000000e+00\n",
       "min      -1.731446    -1.731446  -1.731446e+00\n",
       "25%      -0.865723    -0.865723  -8.657232e-01\n",
       "50%       0.000000     0.000000   0.000000e+00\n",
       "75%       0.865723     0.865723   8.657232e-01\n",
       "max       1.731446     1.731446   1.731446e+00"
      ]
     },
     "execution_count": 17,
     "metadata": {},
     "output_type": "execute_result"
    }
   ],
   "source": [
    "normalized_df.describe()"
   ]
  },
  {
   "cell_type": "markdown",
   "metadata": {},
   "source": [
    "Customer Segmentation via K-Means Clustering"
   ]
  },
  {
   "cell_type": "markdown",
   "metadata": {},
   "source": [
    "The k-means clustering algorithm is a frequently used algorithm for drawing insights into\n",
    "the formations and separations within data. In marketing, it is often used to build customer\n",
    "segments and understand the behaviors of these different segments."
   ]
  },
  {
   "cell_type": "code",
   "execution_count": 18,
   "metadata": {},
   "outputs": [],
   "source": [
    "from sklearn.cluster import KMeans"
   ]
  },
  {
   "cell_type": "code",
   "execution_count": 19,
   "metadata": {},
   "outputs": [
    {
     "name": "stderr",
     "output_type": "stream",
     "text": [
      "/Library/Frameworks/Python.framework/Versions/3.11/lib/python3.11/site-packages/sklearn/cluster/_kmeans.py:870: FutureWarning: The default value of `n_init` will change from 10 to 'auto' in 1.4. Set the value of `n_init` explicitly to suppress the warning\n",
      "  warnings.warn(\n"
     ]
    }
   ],
   "source": [
    "kmeans = KMeans(n_clusters=4).fit(normalized_df[['TotalSales', 'OrderCount', 'AvgOrderValue']])"
   ]
  },
  {
   "cell_type": "markdown",
   "metadata": {},
   "source": [
    "As you can see from this code, we are building a clustering model that splits the data into\n",
    "four segments. You can change the desired number of clusters with the n_clusters\n",
    "parameter. Using the fit function, you can train a k-means clustering algorithm to learn to\n",
    "split the given data. In this code, we are building four clusters, based on the TotalSales,\n",
    "OrderCount, and AvgOrderValue values. The trained model object, kmeans, stores the\n",
    "labels and centers of the clusters in the labels_ and cluster_centers_ attributes of the\n",
    "model object."
   ]
  },
  {
   "cell_type": "code",
   "execution_count": 20,
   "metadata": {},
   "outputs": [
    {
     "data": {
      "text/plain": [
       "array([1, 3, 3, ..., 2, 0, 3], dtype=int32)"
      ]
     },
     "execution_count": 20,
     "metadata": {},
     "output_type": "execute_result"
    }
   ],
   "source": [
    "kmeans.labels_"
   ]
  },
  {
   "cell_type": "code",
   "execution_count": 21,
   "metadata": {},
   "outputs": [
    {
     "data": {
      "text/plain": [
       "array([[ 0.22927119,  0.72651836, -0.64266423],\n",
       "       [-0.13229361, -0.84649738,  0.79586389],\n",
       "       [-1.24090927, -0.79043908, -1.05914892],\n",
       "       [ 1.20686658,  1.00577374,  0.86930797]])"
      ]
     },
     "execution_count": 21,
     "metadata": {},
     "output_type": "execute_result"
    }
   ],
   "source": [
    "kmeans.cluster_centers_"
   ]
  },
  {
   "cell_type": "code",
   "execution_count": 22,
   "metadata": {},
   "outputs": [
    {
     "data": {
      "application/vnd.microsoft.datawrangler.viewer.v0+json": {
       "columns": [
        {
         "name": "CustomerID",
         "rawType": "float64",
         "type": "float"
        },
        {
         "name": "TotalSales",
         "rawType": "float64",
         "type": "float"
        },
        {
         "name": "OrderCount",
         "rawType": "float64",
         "type": "float"
        },
        {
         "name": "AvgOrderValue",
         "rawType": "float64",
         "type": "float"
        },
        {
         "name": "Cluster",
         "rawType": "int32",
         "type": "integer"
        }
       ],
       "conversionMethod": "pd.DataFrame",
       "ref": "937a8f99-61f3-4407-a0ad-37481183099b",
       "rows": [
        [
         "12346.0",
         "1.7249993154275194",
         "-1.7314464046699487",
         "1.7314464046699487",
         "1"
        ],
        [
         "12347.0",
         "1.457445111866699",
         "1.0641726680785046",
         "1.4010330809954414",
         "3"
        ],
        [
         "12348.0",
         "0.9674663294420636",
         "0.5733879994985658",
         "0.9295896801427908",
         "3"
        ],
        [
         "12349.0",
         "0.9440956309382569",
         "-1.7306405185146452",
         "1.6830932353517283",
         "1"
        ],
        [
         "12350.0",
         "-0.73214757209339",
         "-1.7298346323593414",
         "0.33162215290746283",
         "1"
        ],
        [
         "12352.0",
         "1.193114452927093",
         "1.3091620592908224",
         "0.16963903569142388",
         "3"
        ],
        [
         "12353.0",
         "-1.636351838344115",
         "-1.7290287462040377",
         "-1.5702691736092136",
         "2"
        ],
        [
         "12354.0",
         "0.5089171070742716",
         "-1.7282228600487342",
         "1.6129811398403084",
         "1"
        ],
        [
         "12355.0",
         "-0.38642241146811285",
         "-1.7274169738934304",
         "0.9706898740632782",
         "1"
        ],
        [
         "12356.0",
         "1.2688677515256386",
         "0.15835662951717241",
         "1.5573749951243547",
         "3"
        ]
       ],
       "shape": {
        "columns": 4,
        "rows": 10
       }
      },
      "text/html": [
       "<div>\n",
       "<style scoped>\n",
       "    .dataframe tbody tr th:only-of-type {\n",
       "        vertical-align: middle;\n",
       "    }\n",
       "\n",
       "    .dataframe tbody tr th {\n",
       "        vertical-align: top;\n",
       "    }\n",
       "\n",
       "    .dataframe thead th {\n",
       "        text-align: right;\n",
       "    }\n",
       "</style>\n",
       "<table border=\"1\" class=\"dataframe\">\n",
       "  <thead>\n",
       "    <tr style=\"text-align: right;\">\n",
       "      <th></th>\n",
       "      <th>TotalSales</th>\n",
       "      <th>OrderCount</th>\n",
       "      <th>AvgOrderValue</th>\n",
       "      <th>Cluster</th>\n",
       "    </tr>\n",
       "    <tr>\n",
       "      <th>CustomerID</th>\n",
       "      <th></th>\n",
       "      <th></th>\n",
       "      <th></th>\n",
       "      <th></th>\n",
       "    </tr>\n",
       "  </thead>\n",
       "  <tbody>\n",
       "    <tr>\n",
       "      <th>12346.0</th>\n",
       "      <td>1.724999</td>\n",
       "      <td>-1.731446</td>\n",
       "      <td>1.731446</td>\n",
       "      <td>1</td>\n",
       "    </tr>\n",
       "    <tr>\n",
       "      <th>12347.0</th>\n",
       "      <td>1.457445</td>\n",
       "      <td>1.064173</td>\n",
       "      <td>1.401033</td>\n",
       "      <td>3</td>\n",
       "    </tr>\n",
       "    <tr>\n",
       "      <th>12348.0</th>\n",
       "      <td>0.967466</td>\n",
       "      <td>0.573388</td>\n",
       "      <td>0.929590</td>\n",
       "      <td>3</td>\n",
       "    </tr>\n",
       "    <tr>\n",
       "      <th>12349.0</th>\n",
       "      <td>0.944096</td>\n",
       "      <td>-1.730641</td>\n",
       "      <td>1.683093</td>\n",
       "      <td>1</td>\n",
       "    </tr>\n",
       "    <tr>\n",
       "      <th>12350.0</th>\n",
       "      <td>-0.732148</td>\n",
       "      <td>-1.729835</td>\n",
       "      <td>0.331622</td>\n",
       "      <td>1</td>\n",
       "    </tr>\n",
       "    <tr>\n",
       "      <th>12352.0</th>\n",
       "      <td>1.193114</td>\n",
       "      <td>1.309162</td>\n",
       "      <td>0.169639</td>\n",
       "      <td>3</td>\n",
       "    </tr>\n",
       "    <tr>\n",
       "      <th>12353.0</th>\n",
       "      <td>-1.636352</td>\n",
       "      <td>-1.729029</td>\n",
       "      <td>-1.570269</td>\n",
       "      <td>2</td>\n",
       "    </tr>\n",
       "    <tr>\n",
       "      <th>12354.0</th>\n",
       "      <td>0.508917</td>\n",
       "      <td>-1.728223</td>\n",
       "      <td>1.612981</td>\n",
       "      <td>1</td>\n",
       "    </tr>\n",
       "    <tr>\n",
       "      <th>12355.0</th>\n",
       "      <td>-0.386422</td>\n",
       "      <td>-1.727417</td>\n",
       "      <td>0.970690</td>\n",
       "      <td>1</td>\n",
       "    </tr>\n",
       "    <tr>\n",
       "      <th>12356.0</th>\n",
       "      <td>1.268868</td>\n",
       "      <td>0.158357</td>\n",
       "      <td>1.557375</td>\n",
       "      <td>3</td>\n",
       "    </tr>\n",
       "  </tbody>\n",
       "</table>\n",
       "</div>"
      ],
      "text/plain": [
       "            TotalSales  OrderCount  AvgOrderValue  Cluster\n",
       "CustomerID                                                \n",
       "12346.0       1.724999   -1.731446       1.731446        1\n",
       "12347.0       1.457445    1.064173       1.401033        3\n",
       "12348.0       0.967466    0.573388       0.929590        3\n",
       "12349.0       0.944096   -1.730641       1.683093        1\n",
       "12350.0      -0.732148   -1.729835       0.331622        1\n",
       "12352.0       1.193114    1.309162       0.169639        3\n",
       "12353.0      -1.636352   -1.729029      -1.570269        2\n",
       "12354.0       0.508917   -1.728223       1.612981        1\n",
       "12355.0      -0.386422   -1.727417       0.970690        1\n",
       "12356.0       1.268868    0.158357       1.557375        3"
      ]
     },
     "execution_count": 22,
     "metadata": {},
     "output_type": "execute_result"
    }
   ],
   "source": [
    "four_cluster_df = normalized_df.copy(deep=True)\n",
    "four_cluster_df['Cluster'] = kmeans.labels_\n",
    "\n",
    "four_cluster_df.head(10)"
   ]
  },
  {
   "cell_type": "code",
   "execution_count": 23,
   "metadata": {},
   "outputs": [
    {
     "data": {
      "application/vnd.microsoft.datawrangler.viewer.v0+json": {
       "columns": [
        {
         "name": "index",
         "rawType": "int64",
         "type": "integer"
        },
        {
         "name": "CustomerID",
         "rawType": "float64",
         "type": "float"
        }
       ],
       "conversionMethod": "pd.DataFrame",
       "ref": "a642a3c1-cd00-486c-80ab-116b80c61bf6",
       "rows": [
        [
         "6",
         "12353.0"
        ],
        [
         "14",
         "12361.0"
        ],
        [
         "24",
         "12375.0"
        ],
        [
         "32",
         "12386.0"
        ],
        [
         "42",
         "12401.0"
        ],
        [
         "43",
         "12402.0"
        ],
        [
         "67",
         "12430.0"
        ],
        [
         "76",
         "12441.0"
        ],
        [
         "78",
         "12445.0"
        ],
        [
         "83",
         "12450.0"
        ],
        [
         "85",
         "12452.0"
        ],
        [
         "114",
         "12492.0"
        ],
        [
         "115",
         "12493.0"
        ],
        [
         "122",
         "12504.0"
        ],
        [
         "123",
         "12506.0"
        ],
        [
         "125",
         "12508.0"
        ],
        [
         "126",
         "12509.0"
        ],
        [
         "128",
         "12512.0"
        ],
        [
         "138",
         "12522.0"
        ],
        [
         "142",
         "12527.0"
        ],
        [
         "145",
         "12531.0"
        ],
        [
         "157",
         "12547.0"
        ],
        [
         "158",
         "12548.0"
        ],
        [
         "160",
         "12551.0"
        ],
        [
         "161",
         "12552.0"
        ],
        [
         "167",
         "12561.0"
        ],
        [
         "170",
         "12565.0"
        ],
        [
         "176",
         "12573.0"
        ],
        [
         "177",
         "12574.0"
        ],
        [
         "183",
         "12581.0"
        ],
        [
         "188",
         "12586.0"
        ],
        [
         "189",
         "12588.0"
        ],
        [
         "193",
         "12592.0"
        ],
        [
         "202",
         "12602.0"
        ],
        [
         "204",
         "12604.0"
        ],
        [
         "215",
         "12618.0"
        ],
        [
         "219",
         "12622.0"
        ],
        [
         "234",
         "12641.0"
        ],
        [
         "243",
         "12651.0"
        ],
        [
         "250",
         "12659.0"
        ],
        [
         "251",
         "12660.0"
        ],
        [
         "254",
         "12665.0"
        ],
        [
         "259",
         "12672.0"
        ],
        [
         "260",
         "12673.0"
        ],
        [
         "271",
         "12686.0"
        ],
        [
         "282",
         "12702.0"
        ],
        [
         "283",
         "12703.0"
        ],
        [
         "295",
         "12718.0"
        ],
        [
         "296",
         "12719.0"
        ],
        [
         "308",
         "12732.0"
        ]
       ],
       "shape": {
        "columns": 1,
        "rows": 1159
       }
      },
      "text/html": [
       "<div>\n",
       "<style scoped>\n",
       "    .dataframe tbody tr th:only-of-type {\n",
       "        vertical-align: middle;\n",
       "    }\n",
       "\n",
       "    .dataframe tbody tr th {\n",
       "        vertical-align: top;\n",
       "    }\n",
       "\n",
       "    .dataframe thead th {\n",
       "        text-align: right;\n",
       "    }\n",
       "</style>\n",
       "<table border=\"1\" class=\"dataframe\">\n",
       "  <thead>\n",
       "    <tr style=\"text-align: right;\">\n",
       "      <th></th>\n",
       "      <th>CustomerID</th>\n",
       "    </tr>\n",
       "  </thead>\n",
       "  <tbody>\n",
       "    <tr>\n",
       "      <th>6</th>\n",
       "      <td>12353.0</td>\n",
       "    </tr>\n",
       "    <tr>\n",
       "      <th>14</th>\n",
       "      <td>12361.0</td>\n",
       "    </tr>\n",
       "    <tr>\n",
       "      <th>24</th>\n",
       "      <td>12375.0</td>\n",
       "    </tr>\n",
       "    <tr>\n",
       "      <th>32</th>\n",
       "      <td>12386.0</td>\n",
       "    </tr>\n",
       "    <tr>\n",
       "      <th>42</th>\n",
       "      <td>12401.0</td>\n",
       "    </tr>\n",
       "    <tr>\n",
       "      <th>...</th>\n",
       "      <td>...</td>\n",
       "    </tr>\n",
       "    <tr>\n",
       "      <th>4291</th>\n",
       "      <td>18277.0</td>\n",
       "    </tr>\n",
       "    <tr>\n",
       "      <th>4292</th>\n",
       "      <td>18278.0</td>\n",
       "    </tr>\n",
       "    <tr>\n",
       "      <th>4293</th>\n",
       "      <td>18280.0</td>\n",
       "    </tr>\n",
       "    <tr>\n",
       "      <th>4294</th>\n",
       "      <td>18281.0</td>\n",
       "    </tr>\n",
       "    <tr>\n",
       "      <th>4295</th>\n",
       "      <td>18282.0</td>\n",
       "    </tr>\n",
       "  </tbody>\n",
       "</table>\n",
       "<p>1159 rows × 1 columns</p>\n",
       "</div>"
      ],
      "text/plain": [
       "      CustomerID\n",
       "6        12353.0\n",
       "14       12361.0\n",
       "24       12375.0\n",
       "32       12386.0\n",
       "42       12401.0\n",
       "...          ...\n",
       "4291     18277.0\n",
       "4292     18278.0\n",
       "4293     18280.0\n",
       "4294     18281.0\n",
       "4295     18282.0\n",
       "\n",
       "[1159 rows x 1 columns]"
      ]
     },
     "execution_count": 23,
     "metadata": {},
     "output_type": "execute_result"
    }
   ],
   "source": [
    "four_cluster_df = four_cluster_df.reset_index()\n",
    "\n",
    "four_cluster_df.loc[\n",
    "  four_cluster_df['Cluster']==2,\n",
    "  ['CustomerID']\n",
    "]"
   ]
  },
  {
   "cell_type": "code",
   "execution_count": 24,
   "metadata": {},
   "outputs": [
    {
     "data": {
      "text/plain": [
       "2    1159\n",
       "3    1130\n",
       "1    1067\n",
       "0     942\n",
       "Name: Cluster, dtype: int64"
      ]
     },
     "execution_count": 24,
     "metadata": {},
     "output_type": "execute_result"
    }
   ],
   "source": [
    "four_cluster_df['Cluster'].value_counts()"
   ]
  },
  {
   "cell_type": "code",
   "execution_count": 25,
   "metadata": {},
   "outputs": [
    {
     "data": {
      "image/png": "[encoded data removed]",
      "text/plain": [
       "<Figure size 640x480 with 1 Axes>"
      ]
     },
     "metadata": {},
     "output_type": "display_data"
    },
    {
     "data": {
      "image/png": "[encoded data removed]",
      "text/plain": [
       "<Figure size 640x480 with 1 Axes>"
      ]
     },
     "metadata": {},
     "output_type": "display_data"
    },
    {
     "data": {
      "image/png": "[encoded data removed]",
      "text/plain": [
       "<Figure size 640x480 with 1 Axes>"
      ]
     },
     "metadata": {},
     "output_type": "display_data"
    }
   ],
   "source": [
    "plt.scatter(\n",
    "    four_cluster_df.loc[four_cluster_df['Cluster'] == 0]['OrderCount'], \n",
    "    four_cluster_df.loc[four_cluster_df['Cluster'] == 0]['TotalSales'],\n",
    "    c='blue'\n",
    ")\n",
    "\n",
    "plt.scatter(\n",
    "    four_cluster_df.loc[four_cluster_df['Cluster'] == 1]['OrderCount'], \n",
    "    four_cluster_df.loc[four_cluster_df['Cluster'] == 1]['TotalSales'],\n",
    "    c='red'\n",
    ")\n",
    "\n",
    "plt.scatter(\n",
    "    four_cluster_df.loc[four_cluster_df['Cluster'] == 2]['OrderCount'], \n",
    "    four_cluster_df.loc[four_cluster_df['Cluster'] == 2]['TotalSales'],\n",
    "    c='orange'\n",
    ")\n",
    "\n",
    "plt.scatter(\n",
    "    four_cluster_df.loc[four_cluster_df['Cluster'] == 3]['OrderCount'], \n",
    "    four_cluster_df.loc[four_cluster_df['Cluster'] == 3]['TotalSales'],\n",
    "    c='green'\n",
    ")\n",
    "\n",
    "plt.title('TotalSales vs. OrderCount Clusters')\n",
    "plt.xlabel('Order Count')\n",
    "plt.ylabel('Total Sales')\n",
    "\n",
    "plt.grid()\n",
    "plt.show()\n",
    "\n",
    "#############################\n",
    "\n",
    "plt.scatter(\n",
    "    four_cluster_df.loc[four_cluster_df['Cluster'] == 0]['OrderCount'], \n",
    "    four_cluster_df.loc[four_cluster_df['Cluster'] == 0]['AvgOrderValue'],\n",
    "    c='blue'\n",
    ")\n",
    "\n",
    "plt.scatter(\n",
    "    four_cluster_df.loc[four_cluster_df['Cluster'] == 1]['OrderCount'], \n",
    "    four_cluster_df.loc[four_cluster_df['Cluster'] == 1]['AvgOrderValue'],\n",
    "    c='red'\n",
    ")\n",
    "\n",
    "plt.scatter(\n",
    "    four_cluster_df.loc[four_cluster_df['Cluster'] == 2]['OrderCount'], \n",
    "    four_cluster_df.loc[four_cluster_df['Cluster'] == 2]['AvgOrderValue'],\n",
    "    c='orange'\n",
    ")\n",
    "\n",
    "plt.scatter(\n",
    "    four_cluster_df.loc[four_cluster_df['Cluster'] == 3]['OrderCount'], \n",
    "    four_cluster_df.loc[four_cluster_df['Cluster'] == 3]['AvgOrderValue'],\n",
    "    c='green'\n",
    ")\n",
    "\n",
    "plt.title('AvgOrderValue vs. OrderCount Clusters')\n",
    "plt.xlabel('Order Count')\n",
    "plt.ylabel('Avg Order Value')\n",
    "\n",
    "plt.grid()\n",
    "plt.show()\n",
    "\n",
    "#################\n",
    "\n",
    "plt.scatter(\n",
    "    four_cluster_df.loc[four_cluster_df['Cluster'] == 0]['TotalSales'], \n",
    "    four_cluster_df.loc[four_cluster_df['Cluster'] == 0]['AvgOrderValue'],\n",
    "    c='blue'\n",
    ")\n",
    "\n",
    "plt.scatter(\n",
    "    four_cluster_df.loc[four_cluster_df['Cluster'] == 1]['TotalSales'], \n",
    "    four_cluster_df.loc[four_cluster_df['Cluster'] == 1]['AvgOrderValue'],\n",
    "    c='red'\n",
    ")\n",
    "\n",
    "plt.scatter(\n",
    "    four_cluster_df.loc[four_cluster_df['Cluster'] == 2]['TotalSales'], \n",
    "    four_cluster_df.loc[four_cluster_df['Cluster'] == 2]['AvgOrderValue'],\n",
    "    c='orange'\n",
    ")\n",
    "\n",
    "plt.scatter(\n",
    "    four_cluster_df.loc[four_cluster_df['Cluster'] == 3]['TotalSales'], \n",
    "    four_cluster_df.loc[four_cluster_df['Cluster'] == 3]['AvgOrderValue'],\n",
    "    c='green'\n",
    ")\n",
    "\n",
    "plt.title('AvgOrderValue vs. TotalSales Clusters')\n",
    "plt.xlabel('Order Count')\n",
    "plt.ylabel('Total Sales')\n",
    "\n",
    "plt.grid()\n",
    "plt.show()"
   ]
  },
  {
   "cell_type": "markdown",
   "metadata": {},
   "source": [
    "- Selecting the best number of clusters"
   ]
  },
  {
   "cell_type": "code",
   "execution_count": 26,
   "metadata": {},
   "outputs": [],
   "source": [
    "from sklearn.metrics import silhouette_score"
   ]
  },
  {
   "cell_type": "code",
   "execution_count": 27,
   "metadata": {},
   "outputs": [
    {
     "name": "stderr",
     "output_type": "stream",
     "text": [
      "/Library/Frameworks/Python.framework/Versions/3.11/lib/python3.11/site-packages/sklearn/cluster/_kmeans.py:870: FutureWarning: The default value of `n_init` will change from 10 to 'auto' in 1.4. Set the value of `n_init` explicitly to suppress the warning\n",
      "  warnings.warn(\n"
     ]
    },
    {
     "name": "stdout",
     "output_type": "stream",
     "text": [
      "Silhoutte score for 4 Clusters: %0.4114\n"
     ]
    },
    {
     "name": "stderr",
     "output_type": "stream",
     "text": [
      "/Library/Frameworks/Python.framework/Versions/3.11/lib/python3.11/site-packages/sklearn/cluster/_kmeans.py:870: FutureWarning: The default value of `n_init` will change from 10 to 'auto' in 1.4. Set the value of `n_init` explicitly to suppress the warning\n",
      "  warnings.warn(\n"
     ]
    },
    {
     "name": "stdout",
     "output_type": "stream",
     "text": [
      "Silhoutte score for 5 Clusters: %0.3779\n"
     ]
    },
    {
     "name": "stderr",
     "output_type": "stream",
     "text": [
      "/Library/Frameworks/Python.framework/Versions/3.11/lib/python3.11/site-packages/sklearn/cluster/_kmeans.py:870: FutureWarning: The default value of `n_init` will change from 10 to 'auto' in 1.4. Set the value of `n_init` explicitly to suppress the warning\n",
      "  warnings.warn(\n"
     ]
    },
    {
     "name": "stdout",
     "output_type": "stream",
     "text": [
      "Silhoutte score for 6 Clusters: %0.3778\n"
     ]
    },
    {
     "name": "stderr",
     "output_type": "stream",
     "text": [
      "/Library/Frameworks/Python.framework/Versions/3.11/lib/python3.11/site-packages/sklearn/cluster/_kmeans.py:870: FutureWarning: The default value of `n_init` will change from 10 to 'auto' in 1.4. Set the value of `n_init` explicitly to suppress the warning\n",
      "  warnings.warn(\n"
     ]
    },
    {
     "name": "stdout",
     "output_type": "stream",
     "text": [
      "Silhoutte score for 7 Clusters: %0.3910\n"
     ]
    },
    {
     "name": "stderr",
     "output_type": "stream",
     "text": [
      "/Library/Frameworks/Python.framework/Versions/3.11/lib/python3.11/site-packages/sklearn/cluster/_kmeans.py:870: FutureWarning: The default value of `n_init` will change from 10 to 'auto' in 1.4. Set the value of `n_init` explicitly to suppress the warning\n",
      "  warnings.warn(\n"
     ]
    },
    {
     "name": "stdout",
     "output_type": "stream",
     "text": [
      "Silhoutte score for 8 Clusters: %0.3809\n"
     ]
    }
   ],
   "source": [
    "clusters = [4,5,6,7,8]\n",
    "\n",
    "for n_cluster in clusters:\n",
    "  kmeans = KMeans(n_clusters=n_cluster).fit(\n",
    "    normalized_df[['TotalSales', 'OrderCount', 'AvgOrderValue']]\n",
    "  )\n",
    "  \n",
    "  silhouette_avg = silhouette_score(\n",
    "    normalized_df[['TotalSales', 'OrderCount', 'AvgOrderValue']],\n",
    "    kmeans.labels_\n",
    "  )\n",
    "  \n",
    "  print(f\"Silhoutte score for {n_cluster} Clusters: %{silhouette_avg:.4f}\")"
   ]
  },
  {
   "cell_type": "markdown",
   "metadata": {},
   "source": [
    "- Interpreting Customer Segments"
   ]
  },
  {
   "cell_type": "code",
   "execution_count": 28,
   "metadata": {},
   "outputs": [
    {
     "name": "stderr",
     "output_type": "stream",
     "text": [
      "/Library/Frameworks/Python.framework/Versions/3.11/lib/python3.11/site-packages/sklearn/cluster/_kmeans.py:870: FutureWarning: The default value of `n_init` will change from 10 to 'auto' in 1.4. Set the value of `n_init` explicitly to suppress the warning\n",
      "  warnings.warn(\n"
     ]
    }
   ],
   "source": [
    "kmeans = KMeans(n_clusters=4).fit(\n",
    "  normalized_df[['TotalSales', 'OrderCount', 'AvgOrderValue']]\n",
    ")"
   ]
  },
  {
   "cell_type": "code",
   "execution_count": 29,
   "metadata": {},
   "outputs": [
    {
     "data": {
      "application/vnd.microsoft.datawrangler.viewer.v0+json": {
       "columns": [
        {
         "name": "CustomerID",
         "rawType": "float64",
         "type": "float"
        },
        {
         "name": "TotalSales",
         "rawType": "float64",
         "type": "float"
        },
        {
         "name": "OrderCount",
         "rawType": "float64",
         "type": "float"
        },
        {
         "name": "AvgOrderValue",
         "rawType": "float64",
         "type": "float"
        },
        {
         "name": "Cluster",
         "rawType": "int32",
         "type": "integer"
        }
       ],
       "conversionMethod": "pd.DataFrame",
       "ref": "ab5982aa-a3d9-4d44-8b47-87cf10fed563",
       "rows": [
        [
         "12346.0",
         "1.7249993154275194",
         "-1.7314464046699487",
         "1.7314464046699487",
         "2"
        ],
        [
         "12347.0",
         "1.457445111866699",
         "1.0641726680785046",
         "1.4010330809954414",
         "3"
        ],
        [
         "12348.0",
         "0.9674663294420636",
         "0.5733879994985658",
         "0.9295896801427908",
         "3"
        ],
        [
         "12349.0",
         "0.9440956309382569",
         "-1.7306405185146452",
         "1.6830932353517283",
         "2"
        ],
        [
         "12350.0",
         "-0.73214757209339",
         "-1.7298346323593414",
         "0.33162215290746283",
         "2"
        ],
        [
         "12352.0",
         "1.193114452927093",
         "1.3091620592908224",
         "0.16963903569142388",
         "3"
        ],
        [
         "12353.0",
         "-1.636351838344115",
         "-1.7290287462040377",
         "-1.5702691736092136",
         "1"
        ],
        [
         "12354.0",
         "0.5089171070742716",
         "-1.7282228600487342",
         "1.6129811398403084",
         "2"
        ],
        [
         "12355.0",
         "-0.38642241146811285",
         "-1.7274169738934304",
         "0.9706898740632782",
         "2"
        ],
        [
         "12356.0",
         "1.2688677515256386",
         "0.15835662951717241",
         "1.5573749951243547",
         "3"
        ]
       ],
       "shape": {
        "columns": 4,
        "rows": 10
       }
      },
      "text/html": [
       "<div>\n",
       "<style scoped>\n",
       "    .dataframe tbody tr th:only-of-type {\n",
       "        vertical-align: middle;\n",
       "    }\n",
       "\n",
       "    .dataframe tbody tr th {\n",
       "        vertical-align: top;\n",
       "    }\n",
       "\n",
       "    .dataframe thead th {\n",
       "        text-align: right;\n",
       "    }\n",
       "</style>\n",
       "<table border=\"1\" class=\"dataframe\">\n",
       "  <thead>\n",
       "    <tr style=\"text-align: right;\">\n",
       "      <th></th>\n",
       "      <th>TotalSales</th>\n",
       "      <th>OrderCount</th>\n",
       "      <th>AvgOrderValue</th>\n",
       "      <th>Cluster</th>\n",
       "    </tr>\n",
       "    <tr>\n",
       "      <th>CustomerID</th>\n",
       "      <th></th>\n",
       "      <th></th>\n",
       "      <th></th>\n",
       "      <th></th>\n",
       "    </tr>\n",
       "  </thead>\n",
       "  <tbody>\n",
       "    <tr>\n",
       "      <th>12346.0</th>\n",
       "      <td>1.724999</td>\n",
       "      <td>-1.731446</td>\n",
       "      <td>1.731446</td>\n",
       "      <td>2</td>\n",
       "    </tr>\n",
       "    <tr>\n",
       "      <th>12347.0</th>\n",
       "      <td>1.457445</td>\n",
       "      <td>1.064173</td>\n",
       "      <td>1.401033</td>\n",
       "      <td>3</td>\n",
       "    </tr>\n",
       "    <tr>\n",
       "      <th>12348.0</th>\n",
       "      <td>0.967466</td>\n",
       "      <td>0.573388</td>\n",
       "      <td>0.929590</td>\n",
       "      <td>3</td>\n",
       "    </tr>\n",
       "    <tr>\n",
       "      <th>12349.0</th>\n",
       "      <td>0.944096</td>\n",
       "      <td>-1.730641</td>\n",
       "      <td>1.683093</td>\n",
       "      <td>2</td>\n",
       "    </tr>\n",
       "    <tr>\n",
       "      <th>12350.0</th>\n",
       "      <td>-0.732148</td>\n",
       "      <td>-1.729835</td>\n",
       "      <td>0.331622</td>\n",
       "      <td>2</td>\n",
       "    </tr>\n",
       "    <tr>\n",
       "      <th>12352.0</th>\n",
       "      <td>1.193114</td>\n",
       "      <td>1.309162</td>\n",
       "      <td>0.169639</td>\n",
       "      <td>3</td>\n",
       "    </tr>\n",
       "    <tr>\n",
       "      <th>12353.0</th>\n",
       "      <td>-1.636352</td>\n",
       "      <td>-1.729029</td>\n",
       "      <td>-1.570269</td>\n",
       "      <td>1</td>\n",
       "    </tr>\n",
       "    <tr>\n",
       "      <th>12354.0</th>\n",
       "      <td>0.508917</td>\n",
       "      <td>-1.728223</td>\n",
       "      <td>1.612981</td>\n",
       "      <td>2</td>\n",
       "    </tr>\n",
       "    <tr>\n",
       "      <th>12355.0</th>\n",
       "      <td>-0.386422</td>\n",
       "      <td>-1.727417</td>\n",
       "      <td>0.970690</td>\n",
       "      <td>2</td>\n",
       "    </tr>\n",
       "    <tr>\n",
       "      <th>12356.0</th>\n",
       "      <td>1.268868</td>\n",
       "      <td>0.158357</td>\n",
       "      <td>1.557375</td>\n",
       "      <td>3</td>\n",
       "    </tr>\n",
       "  </tbody>\n",
       "</table>\n",
       "</div>"
      ],
      "text/plain": [
       "            TotalSales  OrderCount  AvgOrderValue  Cluster\n",
       "CustomerID                                                \n",
       "12346.0       1.724999   -1.731446       1.731446        2\n",
       "12347.0       1.457445    1.064173       1.401033        3\n",
       "12348.0       0.967466    0.573388       0.929590        3\n",
       "12349.0       0.944096   -1.730641       1.683093        2\n",
       "12350.0      -0.732148   -1.729835       0.331622        2\n",
       "12352.0       1.193114    1.309162       0.169639        3\n",
       "12353.0      -1.636352   -1.729029      -1.570269        1\n",
       "12354.0       0.508917   -1.728223       1.612981        2\n",
       "12355.0      -0.386422   -1.727417       0.970690        2\n",
       "12356.0       1.268868    0.158357       1.557375        3"
      ]
     },
     "execution_count": 29,
     "metadata": {},
     "output_type": "execute_result"
    }
   ],
   "source": [
    "four_cluster_df = normalized_df[['TotalSales', 'OrderCount', 'AvgOrderValue']].copy(deep=True)\n",
    "four_cluster_df['Cluster'] = kmeans.labels_\n",
    "four_cluster_df.head(10)"
   ]
  },
  {
   "cell_type": "code",
   "execution_count": 30,
   "metadata": {},
   "outputs": [
    {
     "data": {
      "text/plain": [
       "array([[ 0.22888789,  0.72574146, -0.64245176],\n",
       "       [-1.2440054 , -0.7917182 , -1.06203644],\n",
       "       [-0.13723954, -0.85002014,  0.79054937],\n",
       "       [ 1.20441747,  1.00058583,  0.87243288]])"
      ]
     },
     "execution_count": 30,
     "metadata": {},
     "output_type": "execute_result"
    }
   ],
   "source": [
    "kmeans.cluster_centers_"
   ]
  },
  {
   "cell_type": "markdown",
   "metadata": {},
   "source": [
    "Let's take a closer look at this. The second cluster has the lowest numbers for all three\n",
    "attributes. This suggests that the second cluster contains customers with the smallest\n",
    "amount of sales, smallest number of orders, and lowest average per-order value. This group\n",
    "of customers is one of low-value customers. On the other hand, the fourth cluster has the\n",
    "highest numbers for all three attributes. The customers in the fourth cluster have the greatest\n",
    "amount of sales, greatest number of orders, and highest average per-order value. So, these\n",
    "customers in the fourth cluster purchase expensive items and give the business the highest\n",
    "revenue. You would typically want to focus your marketing efforts on this segment of\n",
    "customers, as it will result in the highest return.\n",
    "The customers in the first cluster are interesting. They make purchases relatively\n",
    "frequently, as they have a medium-to-high cluster center value for OrderCount, but their\n",
    "average per-order value is low, as the cluster center for AvgOrderValue is low. These are\n",
    "the customers who make frequent purchases of low-value items. So, it would be perfect to\n",
    "market items with low per-item prices to this segment of customers. The customers in the\n",
    "third cluster are also interesting. Their contributions to the revenue and number of orders\n",
    "are medium to low, looking at the centers of this cluster. However, their average per-order\n",
    "value is high. These are the customers who buy expensive items infrequently. Thus, it\n",
    "would be perfect to market expensive items to this segment of customers."
   ]
  },
  {
   "cell_type": "code",
   "execution_count": 32,
   "metadata": {},
   "outputs": [
    {
     "data": {
      "application/vnd.microsoft.datawrangler.viewer.v0+json": {
       "columns": [
        {
         "name": "CustomerID",
         "rawType": "float64",
         "type": "float"
        },
        {
         "name": "TotalSales",
         "rawType": "float64",
         "type": "float"
        },
        {
         "name": "OrderCount",
         "rawType": "float64",
         "type": "float"
        },
        {
         "name": "AvgOrderValue",
         "rawType": "float64",
         "type": "float"
        },
        {
         "name": "Cluster",
         "rawType": "int32",
         "type": "integer"
        }
       ],
       "conversionMethod": "pd.DataFrame",
       "ref": "c796198a-5d63-4f6c-b724-7aeb2502207a",
       "rows": [
        [
         "12347.0",
         "1.457445111866699",
         "1.0641726680785046",
         "1.4010330809954414",
         "3"
        ],
        [
         "12348.0",
         "0.9674663294420636",
         "0.5733879994985658",
         "0.9295896801427908",
         "3"
        ],
        [
         "12352.0",
         "1.193114452927093",
         "1.3091620592908224",
         "0.16963903569142388",
         "3"
        ],
        [
         "12356.0",
         "1.2688677515256386",
         "0.15835662951717241",
         "1.5573749951243547",
         "3"
        ],
        [
         "12359.0",
         "1.5855810105599832",
         "0.5741938856538694",
         "1.6726167153327804",
         "3"
        ]
       ],
       "shape": {
        "columns": 4,
        "rows": 5
       }
      },
      "text/html": [
       "<div>\n",
       "<style scoped>\n",
       "    .dataframe tbody tr th:only-of-type {\n",
       "        vertical-align: middle;\n",
       "    }\n",
       "\n",
       "    .dataframe tbody tr th {\n",
       "        vertical-align: top;\n",
       "    }\n",
       "\n",
       "    .dataframe thead th {\n",
       "        text-align: right;\n",
       "    }\n",
       "</style>\n",
       "<table border=\"1\" class=\"dataframe\">\n",
       "  <thead>\n",
       "    <tr style=\"text-align: right;\">\n",
       "      <th></th>\n",
       "      <th>TotalSales</th>\n",
       "      <th>OrderCount</th>\n",
       "      <th>AvgOrderValue</th>\n",
       "      <th>Cluster</th>\n",
       "    </tr>\n",
       "    <tr>\n",
       "      <th>CustomerID</th>\n",
       "      <th></th>\n",
       "      <th></th>\n",
       "      <th></th>\n",
       "      <th></th>\n",
       "    </tr>\n",
       "  </thead>\n",
       "  <tbody>\n",
       "    <tr>\n",
       "      <th>12347.0</th>\n",
       "      <td>1.457445</td>\n",
       "      <td>1.064173</td>\n",
       "      <td>1.401033</td>\n",
       "      <td>3</td>\n",
       "    </tr>\n",
       "    <tr>\n",
       "      <th>12348.0</th>\n",
       "      <td>0.967466</td>\n",
       "      <td>0.573388</td>\n",
       "      <td>0.929590</td>\n",
       "      <td>3</td>\n",
       "    </tr>\n",
       "    <tr>\n",
       "      <th>12352.0</th>\n",
       "      <td>1.193114</td>\n",
       "      <td>1.309162</td>\n",
       "      <td>0.169639</td>\n",
       "      <td>3</td>\n",
       "    </tr>\n",
       "    <tr>\n",
       "      <th>12356.0</th>\n",
       "      <td>1.268868</td>\n",
       "      <td>0.158357</td>\n",
       "      <td>1.557375</td>\n",
       "      <td>3</td>\n",
       "    </tr>\n",
       "    <tr>\n",
       "      <th>12359.0</th>\n",
       "      <td>1.585581</td>\n",
       "      <td>0.574194</td>\n",
       "      <td>1.672617</td>\n",
       "      <td>3</td>\n",
       "    </tr>\n",
       "  </tbody>\n",
       "</table>\n",
       "</div>"
      ],
      "text/plain": [
       "            TotalSales  OrderCount  AvgOrderValue  Cluster\n",
       "CustomerID                                                \n",
       "12347.0       1.457445    1.064173       1.401033        3\n",
       "12348.0       0.967466    0.573388       0.929590        3\n",
       "12352.0       1.193114    1.309162       0.169639        3\n",
       "12356.0       1.268868    0.158357       1.557375        3\n",
       "12359.0       1.585581    0.574194       1.672617        3"
      ]
     },
     "execution_count": 32,
     "metadata": {},
     "output_type": "execute_result"
    }
   ],
   "source": [
    "high_value_cluster = four_cluster_df.loc[\n",
    "  four_cluster_df['Cluster']==3\n",
    "]\n",
    "\n",
    "high_value_cluster.head()"
   ]
  },
  {
   "cell_type": "code",
   "execution_count": 34,
   "metadata": {},
   "outputs": [
    {
     "data": {
      "application/vnd.microsoft.datawrangler.viewer.v0+json": {
       "columns": [
        {
         "name": "index",
         "rawType": "object",
         "type": "string"
        },
        {
         "name": "TotalSales",
         "rawType": "float64",
         "type": "float"
        },
        {
         "name": "OrderCount",
         "rawType": "float64",
         "type": "float"
        },
        {
         "name": "AvgOrderValue",
         "rawType": "float64",
         "type": "float"
        }
       ],
       "conversionMethod": "pd.DataFrame",
       "ref": "ebafccb4-6475-47a7-8a9b-5343a976138d",
       "rows": [
        [
         "count",
         "1133.0",
         "1133.0",
         "1133.0"
        ],
        [
         "mean",
         "5623.13314298323",
         "8.484554280670785",
         "617.6982582880449"
        ],
        [
         "std",
         "15471.814307700142",
         "10.516476207347688",
         "766.7519789735728"
        ],
        [
         "min",
         "1019.52",
         "1.0",
         "215.45060606060605"
        ],
        [
         "25%",
         "1769.1699999999998",
         "4.0",
         "355.05"
        ],
        [
         "50%",
         "2735.37",
         "6.0",
         "442.68833333333333"
        ],
        [
         "75%",
         "4487.68",
         "10.0",
         "619.6745454545454"
        ],
        [
         "max",
         "268478.0",
         "192.0",
         "14844.766666666668"
        ]
       ],
       "shape": {
        "columns": 3,
        "rows": 8
       }
      },
      "text/html": [
       "<div>\n",
       "<style scoped>\n",
       "    .dataframe tbody tr th:only-of-type {\n",
       "        vertical-align: middle;\n",
       "    }\n",
       "\n",
       "    .dataframe tbody tr th {\n",
       "        vertical-align: top;\n",
       "    }\n",
       "\n",
       "    .dataframe thead th {\n",
       "        text-align: right;\n",
       "    }\n",
       "</style>\n",
       "<table border=\"1\" class=\"dataframe\">\n",
       "  <thead>\n",
       "    <tr style=\"text-align: right;\">\n",
       "      <th></th>\n",
       "      <th>TotalSales</th>\n",
       "      <th>OrderCount</th>\n",
       "      <th>AvgOrderValue</th>\n",
       "    </tr>\n",
       "  </thead>\n",
       "  <tbody>\n",
       "    <tr>\n",
       "      <th>count</th>\n",
       "      <td>1133.000000</td>\n",
       "      <td>1133.000000</td>\n",
       "      <td>1133.000000</td>\n",
       "    </tr>\n",
       "    <tr>\n",
       "      <th>mean</th>\n",
       "      <td>5623.133143</td>\n",
       "      <td>8.484554</td>\n",
       "      <td>617.698258</td>\n",
       "    </tr>\n",
       "    <tr>\n",
       "      <th>std</th>\n",
       "      <td>15471.814308</td>\n",
       "      <td>10.516476</td>\n",
       "      <td>766.751979</td>\n",
       "    </tr>\n",
       "    <tr>\n",
       "      <th>min</th>\n",
       "      <td>1019.520000</td>\n",
       "      <td>1.000000</td>\n",
       "      <td>215.450606</td>\n",
       "    </tr>\n",
       "    <tr>\n",
       "      <th>25%</th>\n",
       "      <td>1769.170000</td>\n",
       "      <td>4.000000</td>\n",
       "      <td>355.050000</td>\n",
       "    </tr>\n",
       "    <tr>\n",
       "      <th>50%</th>\n",
       "      <td>2735.370000</td>\n",
       "      <td>6.000000</td>\n",
       "      <td>442.688333</td>\n",
       "    </tr>\n",
       "    <tr>\n",
       "      <th>75%</th>\n",
       "      <td>4487.680000</td>\n",
       "      <td>10.000000</td>\n",
       "      <td>619.674545</td>\n",
       "    </tr>\n",
       "    <tr>\n",
       "      <th>max</th>\n",
       "      <td>268478.000000</td>\n",
       "      <td>192.000000</td>\n",
       "      <td>14844.766667</td>\n",
       "    </tr>\n",
       "  </tbody>\n",
       "</table>\n",
       "</div>"
      ],
      "text/plain": [
       "          TotalSales   OrderCount  AvgOrderValue\n",
       "count    1133.000000  1133.000000    1133.000000\n",
       "mean     5623.133143     8.484554     617.698258\n",
       "std     15471.814308    10.516476     766.751979\n",
       "min      1019.520000     1.000000     215.450606\n",
       "25%      1769.170000     4.000000     355.050000\n",
       "50%      2735.370000     6.000000     442.688333\n",
       "75%      4487.680000    10.000000     619.674545\n",
       "max    268478.000000   192.000000   14844.766667"
      ]
     },
     "execution_count": 34,
     "metadata": {},
     "output_type": "execute_result"
    }
   ],
   "source": [
    "customer_df.loc[high_value_cluster.index].describe()"
   ]
  },
  {
   "cell_type": "code",
   "execution_count": 37,
   "metadata": {},
   "outputs": [
    {
     "data": {
      "application/vnd.microsoft.datawrangler.viewer.v0+json": {
       "columns": [
        {
         "name": "Description",
         "rawType": "object",
         "type": "string"
        },
        {
         "name": "StockCode",
         "rawType": "int64",
         "type": "integer"
        }
       ],
       "conversionMethod": "pd.DataFrame",
       "ref": "b5afcfde-57c9-43f7-b100-fa1f7bbb8237",
       "rows": [
        [
         "JUMBO BAG RED RETROSPOT",
         "1140"
        ],
        [
         "REGENCY CAKESTAND 3 TIER",
         "1080"
        ],
        [
         "WHITE HANGING HEART T-LIGHT HOLDER",
         "1071"
        ],
        [
         "LUNCH BAG RED RETROSPOT",
         "933"
        ],
        [
         "PARTY BUNTING",
         "865"
        ]
       ],
       "shape": {
        "columns": 1,
        "rows": 5
       }
      },
      "text/html": [
       "<div>\n",
       "<style scoped>\n",
       "    .dataframe tbody tr th:only-of-type {\n",
       "        vertical-align: middle;\n",
       "    }\n",
       "\n",
       "    .dataframe tbody tr th {\n",
       "        vertical-align: top;\n",
       "    }\n",
       "\n",
       "    .dataframe thead th {\n",
       "        text-align: right;\n",
       "    }\n",
       "</style>\n",
       "<table border=\"1\" class=\"dataframe\">\n",
       "  <thead>\n",
       "    <tr style=\"text-align: right;\">\n",
       "      <th></th>\n",
       "      <th>StockCode</th>\n",
       "    </tr>\n",
       "    <tr>\n",
       "      <th>Description</th>\n",
       "      <th></th>\n",
       "    </tr>\n",
       "  </thead>\n",
       "  <tbody>\n",
       "    <tr>\n",
       "      <th>JUMBO BAG RED RETROSPOT</th>\n",
       "      <td>1140</td>\n",
       "    </tr>\n",
       "    <tr>\n",
       "      <th>REGENCY CAKESTAND 3 TIER</th>\n",
       "      <td>1080</td>\n",
       "    </tr>\n",
       "    <tr>\n",
       "      <th>WHITE HANGING HEART T-LIGHT HOLDER</th>\n",
       "      <td>1071</td>\n",
       "    </tr>\n",
       "    <tr>\n",
       "      <th>LUNCH BAG RED RETROSPOT</th>\n",
       "      <td>933</td>\n",
       "    </tr>\n",
       "    <tr>\n",
       "      <th>PARTY BUNTING</th>\n",
       "      <td>865</td>\n",
       "    </tr>\n",
       "  </tbody>\n",
       "</table>\n",
       "</div>"
      ],
      "text/plain": [
       "                                    StockCode\n",
       "Description                                  \n",
       "JUMBO BAG RED RETROSPOT                  1140\n",
       "REGENCY CAKESTAND 3 TIER                 1080\n",
       "WHITE HANGING HEART T-LIGHT HOLDER       1071\n",
       "LUNCH BAG RED RETROSPOT                   933\n",
       "PARTY BUNTING                             865"
      ]
     },
     "execution_count": 37,
     "metadata": {},
     "output_type": "execute_result"
    }
   ],
   "source": [
    "pd.DataFrame(\n",
    "    df.loc[\n",
    "        df['CustomerID'].isin(high_value_cluster.index)\n",
    "    ].groupby('Description').count()[\n",
    "        'StockCode'\n",
    "    ].sort_values(ascending=False).head()\n",
    ")"
   ]
  },
  {
   "cell_type": "code",
   "execution_count": null,
   "metadata": {},
   "outputs": [],
   "source": []
  }
 ],
 "metadata": {
  "kernelspec": {
   "display_name": "Python 3",
   "language": "python",
   "name": "python3"
  },
  "language_info": {
   "codemirror_mode": {
    "name": "ipython",
    "version": 3
   },
   "file_extension": ".py",
   "mimetype": "text/x-python",
   "name": "python",
   "nbconvert_exporter": "python",
   "pygments_lexer": "ipython3",
   "version": "3.11.1"
  }
 },
 "nbformat": 4,
 "nbformat_minor": 2
}
