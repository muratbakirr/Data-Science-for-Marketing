{
 "cells": [
  {
   "metadata": {},
   "cell_type": "markdown",
   "source": [
    "## Desicion \n",
    "\n",
    "* When there is no linear structure in the data, logistic regression models will not be able toperform well, as they try to find linear combinations among the feature variables. On theother hand, decision tree models will perform better for non-linear datasets, as they onlytry to partition the data at the purest levels they can."
   ],
   "id": "f203bb0cda1761c9"
  },
  {
   "cell_type": "code",
   "id": "initial_id",
   "metadata": {
    "collapsed": true,
    "ExecuteTime": {
     "end_time": "2025-01-25T16:42:35.837890Z",
     "start_time": "2025-01-25T16:42:35.758030Z"
    }
   },
   "source": [
    "from pyexpat import features\n",
    "\n",
    "from matplotlib.pyplot import title\n",
    "%matplotlib inline"
   ],
   "outputs": [],
   "execution_count": 45
  },
  {
   "metadata": {
    "ExecuteTime": {
     "end_time": "2025-01-25T16:42:35.865499Z",
     "start_time": "2025-01-25T16:42:35.859272Z"
    }
   },
   "cell_type": "code",
   "source": [
    "import pandas as pd\n",
    "import matplotlib.pyplot as plt\n",
    "import missingno as msn"
   ],
   "id": "eb843f09e45b3f98",
   "outputs": [],
   "execution_count": 46
  },
  {
   "metadata": {
    "ExecuteTime": {
     "end_time": "2025-01-25T16:42:36.088588Z",
     "start_time": "2025-01-25T16:42:36.008362Z"
    }
   },
   "cell_type": "code",
   "source": [
    "df = pd.read_csv('bank-full.csv')\n",
    "df.head()"
   ],
   "id": "e5bdf4288707bae1",
   "outputs": [
    {
     "data": {
      "text/plain": [
       "   age           job  marital  education default  balance housing loan  \\\n",
       "0   58    management  married   tertiary      no     2143     yes   no   \n",
       "1   44    technician   single  secondary      no       29     yes   no   \n",
       "2   33  entrepreneur  married  secondary      no        2     yes  yes   \n",
       "3   47   blue-collar  married    unknown      no     1506     yes   no   \n",
       "4   33       unknown   single    unknown      no        1      no   no   \n",
       "\n",
       "   contact  day month  duration  campaign  pdays  previous poutcome Target  \n",
       "0  unknown    5   may       261         1     -1         0  unknown     no  \n",
       "1  unknown    5   may       151         1     -1         0  unknown     no  \n",
       "2  unknown    5   may        76         1     -1         0  unknown     no  \n",
       "3  unknown    5   may        92         1     -1         0  unknown     no  \n",
       "4  unknown    5   may       198         1     -1         0  unknown     no  "
      ],
      "text/html": [
       "<div>\n",
       "<style scoped>\n",
       "    .dataframe tbody tr th:only-of-type {\n",
       "        vertical-align: middle;\n",
       "    }\n",
       "\n",
       "    .dataframe tbody tr th {\n",
       "        vertical-align: top;\n",
       "    }\n",
       "\n",
       "    .dataframe thead th {\n",
       "        text-align: right;\n",
       "    }\n",
       "</style>\n",
       "<table border=\"1\" class=\"dataframe\">\n",
       "  <thead>\n",
       "    <tr style=\"text-align: right;\">\n",
       "      <th></th>\n",
       "      <th>age</th>\n",
       "      <th>job</th>\n",
       "      <th>marital</th>\n",
       "      <th>education</th>\n",
       "      <th>default</th>\n",
       "      <th>balance</th>\n",
       "      <th>housing</th>\n",
       "      <th>loan</th>\n",
       "      <th>contact</th>\n",
       "      <th>day</th>\n",
       "      <th>month</th>\n",
       "      <th>duration</th>\n",
       "      <th>campaign</th>\n",
       "      <th>pdays</th>\n",
       "      <th>previous</th>\n",
       "      <th>poutcome</th>\n",
       "      <th>Target</th>\n",
       "    </tr>\n",
       "  </thead>\n",
       "  <tbody>\n",
       "    <tr>\n",
       "      <th>0</th>\n",
       "      <td>58</td>\n",
       "      <td>management</td>\n",
       "      <td>married</td>\n",
       "      <td>tertiary</td>\n",
       "      <td>no</td>\n",
       "      <td>2143</td>\n",
       "      <td>yes</td>\n",
       "      <td>no</td>\n",
       "      <td>unknown</td>\n",
       "      <td>5</td>\n",
       "      <td>may</td>\n",
       "      <td>261</td>\n",
       "      <td>1</td>\n",
       "      <td>-1</td>\n",
       "      <td>0</td>\n",
       "      <td>unknown</td>\n",
       "      <td>no</td>\n",
       "    </tr>\n",
       "    <tr>\n",
       "      <th>1</th>\n",
       "      <td>44</td>\n",
       "      <td>technician</td>\n",
       "      <td>single</td>\n",
       "      <td>secondary</td>\n",
       "      <td>no</td>\n",
       "      <td>29</td>\n",
       "      <td>yes</td>\n",
       "      <td>no</td>\n",
       "      <td>unknown</td>\n",
       "      <td>5</td>\n",
       "      <td>may</td>\n",
       "      <td>151</td>\n",
       "      <td>1</td>\n",
       "      <td>-1</td>\n",
       "      <td>0</td>\n",
       "      <td>unknown</td>\n",
       "      <td>no</td>\n",
       "    </tr>\n",
       "    <tr>\n",
       "      <th>2</th>\n",
       "      <td>33</td>\n",
       "      <td>entrepreneur</td>\n",
       "      <td>married</td>\n",
       "      <td>secondary</td>\n",
       "      <td>no</td>\n",
       "      <td>2</td>\n",
       "      <td>yes</td>\n",
       "      <td>yes</td>\n",
       "      <td>unknown</td>\n",
       "      <td>5</td>\n",
       "      <td>may</td>\n",
       "      <td>76</td>\n",
       "      <td>1</td>\n",
       "      <td>-1</td>\n",
       "      <td>0</td>\n",
       "      <td>unknown</td>\n",
       "      <td>no</td>\n",
       "    </tr>\n",
       "    <tr>\n",
       "      <th>3</th>\n",
       "      <td>47</td>\n",
       "      <td>blue-collar</td>\n",
       "      <td>married</td>\n",
       "      <td>unknown</td>\n",
       "      <td>no</td>\n",
       "      <td>1506</td>\n",
       "      <td>yes</td>\n",
       "      <td>no</td>\n",
       "      <td>unknown</td>\n",
       "      <td>5</td>\n",
       "      <td>may</td>\n",
       "      <td>92</td>\n",
       "      <td>1</td>\n",
       "      <td>-1</td>\n",
       "      <td>0</td>\n",
       "      <td>unknown</td>\n",
       "      <td>no</td>\n",
       "    </tr>\n",
       "    <tr>\n",
       "      <th>4</th>\n",
       "      <td>33</td>\n",
       "      <td>unknown</td>\n",
       "      <td>single</td>\n",
       "      <td>unknown</td>\n",
       "      <td>no</td>\n",
       "      <td>1</td>\n",
       "      <td>no</td>\n",
       "      <td>no</td>\n",
       "      <td>unknown</td>\n",
       "      <td>5</td>\n",
       "      <td>may</td>\n",
       "      <td>198</td>\n",
       "      <td>1</td>\n",
       "      <td>-1</td>\n",
       "      <td>0</td>\n",
       "      <td>unknown</td>\n",
       "      <td>no</td>\n",
       "    </tr>\n",
       "  </tbody>\n",
       "</table>\n",
       "</div>"
      ]
     },
     "execution_count": 47,
     "metadata": {},
     "output_type": "execute_result"
    }
   ],
   "execution_count": 47
  },
  {
   "metadata": {
    "ExecuteTime": {
     "end_time": "2025-01-25T16:42:36.538460Z",
     "start_time": "2025-01-25T16:42:36.137119Z"
    }
   },
   "cell_type": "code",
   "source": "msn.matrix(df)",
   "id": "19bbef72dcc60384",
   "outputs": [
    {
     "data": {
      "text/plain": [
       "<Axes: >"
      ]
     },
     "execution_count": 48,
     "metadata": {},
     "output_type": "execute_result"
    },
    {
     "data": {
      "text/plain": [
       "<Figure size 2500x1000 with 2 Axes>"
      ],
      "image/png": "[encoded data removed]"
     },
     "metadata": {},
     "output_type": "display_data"
    }
   ],
   "execution_count": 48
  },
  {
   "metadata": {
    "ExecuteTime": {
     "end_time": "2025-01-25T16:42:36.605099Z",
     "start_time": "2025-01-25T16:42:36.579938Z"
    }
   },
   "cell_type": "code",
   "source": "df.describe().T",
   "id": "d7962dda37dba6c7",
   "outputs": [
    {
     "data": {
      "text/plain": [
       "            count         mean          std     min    25%    50%     75%  \\\n",
       "age       45211.0    40.936210    10.618762    18.0   33.0   39.0    48.0   \n",
       "balance   45211.0  1362.272058  3044.765829 -8019.0   72.0  448.0  1428.0   \n",
       "day       45211.0    15.806419     8.322476     1.0    8.0   16.0    21.0   \n",
       "duration  45211.0   258.163080   257.527812     0.0  103.0  180.0   319.0   \n",
       "campaign  45211.0     2.763841     3.098021     1.0    1.0    2.0     3.0   \n",
       "pdays     45211.0    40.197828   100.128746    -1.0   -1.0   -1.0    -1.0   \n",
       "previous  45211.0     0.580323     2.303441     0.0    0.0    0.0     0.0   \n",
       "\n",
       "               max  \n",
       "age           95.0  \n",
       "balance   102127.0  \n",
       "day           31.0  \n",
       "duration    4918.0  \n",
       "campaign      63.0  \n",
       "pdays        871.0  \n",
       "previous     275.0  "
      ],
      "text/html": [
       "<div>\n",
       "<style scoped>\n",
       "    .dataframe tbody tr th:only-of-type {\n",
       "        vertical-align: middle;\n",
       "    }\n",
       "\n",
       "    .dataframe tbody tr th {\n",
       "        vertical-align: top;\n",
       "    }\n",
       "\n",
       "    .dataframe thead th {\n",
       "        text-align: right;\n",
       "    }\n",
       "</style>\n",
       "<table border=\"1\" class=\"dataframe\">\n",
       "  <thead>\n",
       "    <tr style=\"text-align: right;\">\n",
       "      <th></th>\n",
       "      <th>count</th>\n",
       "      <th>mean</th>\n",
       "      <th>std</th>\n",
       "      <th>min</th>\n",
       "      <th>25%</th>\n",
       "      <th>50%</th>\n",
       "      <th>75%</th>\n",
       "      <th>max</th>\n",
       "    </tr>\n",
       "  </thead>\n",
       "  <tbody>\n",
       "    <tr>\n",
       "      <th>age</th>\n",
       "      <td>45211.0</td>\n",
       "      <td>40.936210</td>\n",
       "      <td>10.618762</td>\n",
       "      <td>18.0</td>\n",
       "      <td>33.0</td>\n",
       "      <td>39.0</td>\n",
       "      <td>48.0</td>\n",
       "      <td>95.0</td>\n",
       "    </tr>\n",
       "    <tr>\n",
       "      <th>balance</th>\n",
       "      <td>45211.0</td>\n",
       "      <td>1362.272058</td>\n",
       "      <td>3044.765829</td>\n",
       "      <td>-8019.0</td>\n",
       "      <td>72.0</td>\n",
       "      <td>448.0</td>\n",
       "      <td>1428.0</td>\n",
       "      <td>102127.0</td>\n",
       "    </tr>\n",
       "    <tr>\n",
       "      <th>day</th>\n",
       "      <td>45211.0</td>\n",
       "      <td>15.806419</td>\n",
       "      <td>8.322476</td>\n",
       "      <td>1.0</td>\n",
       "      <td>8.0</td>\n",
       "      <td>16.0</td>\n",
       "      <td>21.0</td>\n",
       "      <td>31.0</td>\n",
       "    </tr>\n",
       "    <tr>\n",
       "      <th>duration</th>\n",
       "      <td>45211.0</td>\n",
       "      <td>258.163080</td>\n",
       "      <td>257.527812</td>\n",
       "      <td>0.0</td>\n",
       "      <td>103.0</td>\n",
       "      <td>180.0</td>\n",
       "      <td>319.0</td>\n",
       "      <td>4918.0</td>\n",
       "    </tr>\n",
       "    <tr>\n",
       "      <th>campaign</th>\n",
       "      <td>45211.0</td>\n",
       "      <td>2.763841</td>\n",
       "      <td>3.098021</td>\n",
       "      <td>1.0</td>\n",
       "      <td>1.0</td>\n",
       "      <td>2.0</td>\n",
       "      <td>3.0</td>\n",
       "      <td>63.0</td>\n",
       "    </tr>\n",
       "    <tr>\n",
       "      <th>pdays</th>\n",
       "      <td>45211.0</td>\n",
       "      <td>40.197828</td>\n",
       "      <td>100.128746</td>\n",
       "      <td>-1.0</td>\n",
       "      <td>-1.0</td>\n",
       "      <td>-1.0</td>\n",
       "      <td>-1.0</td>\n",
       "      <td>871.0</td>\n",
       "    </tr>\n",
       "    <tr>\n",
       "      <th>previous</th>\n",
       "      <td>45211.0</td>\n",
       "      <td>0.580323</td>\n",
       "      <td>2.303441</td>\n",
       "      <td>0.0</td>\n",
       "      <td>0.0</td>\n",
       "      <td>0.0</td>\n",
       "      <td>0.0</td>\n",
       "      <td>275.0</td>\n",
       "    </tr>\n",
       "  </tbody>\n",
       "</table>\n",
       "</div>"
      ]
     },
     "execution_count": 49,
     "metadata": {},
     "output_type": "execute_result"
    }
   ],
   "execution_count": 49
  },
  {
   "metadata": {},
   "cell_type": "markdown",
   "source": "# Data Analysis",
   "id": "8b0eba0950cb08f5"
  },
  {
   "metadata": {
    "ExecuteTime": {
     "end_time": "2025-01-25T16:42:36.764747Z",
     "start_time": "2025-01-25T16:42:36.762173Z"
    }
   },
   "cell_type": "code",
   "source": "list(df.columns)",
   "id": "f5b9ea6a4a17fa66",
   "outputs": [
    {
     "data": {
      "text/plain": [
       "['age',\n",
       " 'job',\n",
       " 'marital',\n",
       " 'education',\n",
       " 'default',\n",
       " 'balance',\n",
       " 'housing',\n",
       " 'loan',\n",
       " 'contact',\n",
       " 'day',\n",
       " 'month',\n",
       " 'duration',\n",
       " 'campaign',\n",
       " 'pdays',\n",
       " 'previous',\n",
       " 'poutcome',\n",
       " 'Target']"
      ]
     },
     "execution_count": 50,
     "metadata": {},
     "output_type": "execute_result"
    }
   ],
   "execution_count": 50
  },
  {
   "metadata": {
    "ExecuteTime": {
     "end_time": "2025-01-25T16:42:36.945133Z",
     "start_time": "2025-01-25T16:42:36.931922Z"
    }
   },
   "cell_type": "code",
   "source": [
    "# encoded conversion by \"y\"\n",
    "df['conversion'] = df['Target'].apply(lambda x: 0 if x == 'no' else 1)\n",
    "df.head()"
   ],
   "id": "cd4f364fe69aff8b",
   "outputs": [
    {
     "data": {
      "text/plain": [
       "   age           job  marital  education default  balance housing loan  \\\n",
       "0   58    management  married   tertiary      no     2143     yes   no   \n",
       "1   44    technician   single  secondary      no       29     yes   no   \n",
       "2   33  entrepreneur  married  secondary      no        2     yes  yes   \n",
       "3   47   blue-collar  married    unknown      no     1506     yes   no   \n",
       "4   33       unknown   single    unknown      no        1      no   no   \n",
       "\n",
       "   contact  day month  duration  campaign  pdays  previous poutcome Target  \\\n",
       "0  unknown    5   may       261         1     -1         0  unknown     no   \n",
       "1  unknown    5   may       151         1     -1         0  unknown     no   \n",
       "2  unknown    5   may        76         1     -1         0  unknown     no   \n",
       "3  unknown    5   may        92         1     -1         0  unknown     no   \n",
       "4  unknown    5   may       198         1     -1         0  unknown     no   \n",
       "\n",
       "   conversion  \n",
       "0           0  \n",
       "1           0  \n",
       "2           0  \n",
       "3           0  \n",
       "4           0  "
      ],
      "text/html": [
       "<div>\n",
       "<style scoped>\n",
       "    .dataframe tbody tr th:only-of-type {\n",
       "        vertical-align: middle;\n",
       "    }\n",
       "\n",
       "    .dataframe tbody tr th {\n",
       "        vertical-align: top;\n",
       "    }\n",
       "\n",
       "    .dataframe thead th {\n",
       "        text-align: right;\n",
       "    }\n",
       "</style>\n",
       "<table border=\"1\" class=\"dataframe\">\n",
       "  <thead>\n",
       "    <tr style=\"text-align: right;\">\n",
       "      <th></th>\n",
       "      <th>age</th>\n",
       "      <th>job</th>\n",
       "      <th>marital</th>\n",
       "      <th>education</th>\n",
       "      <th>default</th>\n",
       "      <th>balance</th>\n",
       "      <th>housing</th>\n",
       "      <th>loan</th>\n",
       "      <th>contact</th>\n",
       "      <th>day</th>\n",
       "      <th>month</th>\n",
       "      <th>duration</th>\n",
       "      <th>campaign</th>\n",
       "      <th>pdays</th>\n",
       "      <th>previous</th>\n",
       "      <th>poutcome</th>\n",
       "      <th>Target</th>\n",
       "      <th>conversion</th>\n",
       "    </tr>\n",
       "  </thead>\n",
       "  <tbody>\n",
       "    <tr>\n",
       "      <th>0</th>\n",
       "      <td>58</td>\n",
       "      <td>management</td>\n",
       "      <td>married</td>\n",
       "      <td>tertiary</td>\n",
       "      <td>no</td>\n",
       "      <td>2143</td>\n",
       "      <td>yes</td>\n",
       "      <td>no</td>\n",
       "      <td>unknown</td>\n",
       "      <td>5</td>\n",
       "      <td>may</td>\n",
       "      <td>261</td>\n",
       "      <td>1</td>\n",
       "      <td>-1</td>\n",
       "      <td>0</td>\n",
       "      <td>unknown</td>\n",
       "      <td>no</td>\n",
       "      <td>0</td>\n",
       "    </tr>\n",
       "    <tr>\n",
       "      <th>1</th>\n",
       "      <td>44</td>\n",
       "      <td>technician</td>\n",
       "      <td>single</td>\n",
       "      <td>secondary</td>\n",
       "      <td>no</td>\n",
       "      <td>29</td>\n",
       "      <td>yes</td>\n",
       "      <td>no</td>\n",
       "      <td>unknown</td>\n",
       "      <td>5</td>\n",
       "      <td>may</td>\n",
       "      <td>151</td>\n",
       "      <td>1</td>\n",
       "      <td>-1</td>\n",
       "      <td>0</td>\n",
       "      <td>unknown</td>\n",
       "      <td>no</td>\n",
       "      <td>0</td>\n",
       "    </tr>\n",
       "    <tr>\n",
       "      <th>2</th>\n",
       "      <td>33</td>\n",
       "      <td>entrepreneur</td>\n",
       "      <td>married</td>\n",
       "      <td>secondary</td>\n",
       "      <td>no</td>\n",
       "      <td>2</td>\n",
       "      <td>yes</td>\n",
       "      <td>yes</td>\n",
       "      <td>unknown</td>\n",
       "      <td>5</td>\n",
       "      <td>may</td>\n",
       "      <td>76</td>\n",
       "      <td>1</td>\n",
       "      <td>-1</td>\n",
       "      <td>0</td>\n",
       "      <td>unknown</td>\n",
       "      <td>no</td>\n",
       "      <td>0</td>\n",
       "    </tr>\n",
       "    <tr>\n",
       "      <th>3</th>\n",
       "      <td>47</td>\n",
       "      <td>blue-collar</td>\n",
       "      <td>married</td>\n",
       "      <td>unknown</td>\n",
       "      <td>no</td>\n",
       "      <td>1506</td>\n",
       "      <td>yes</td>\n",
       "      <td>no</td>\n",
       "      <td>unknown</td>\n",
       "      <td>5</td>\n",
       "      <td>may</td>\n",
       "      <td>92</td>\n",
       "      <td>1</td>\n",
       "      <td>-1</td>\n",
       "      <td>0</td>\n",
       "      <td>unknown</td>\n",
       "      <td>no</td>\n",
       "      <td>0</td>\n",
       "    </tr>\n",
       "    <tr>\n",
       "      <th>4</th>\n",
       "      <td>33</td>\n",
       "      <td>unknown</td>\n",
       "      <td>single</td>\n",
       "      <td>unknown</td>\n",
       "      <td>no</td>\n",
       "      <td>1</td>\n",
       "      <td>no</td>\n",
       "      <td>no</td>\n",
       "      <td>unknown</td>\n",
       "      <td>5</td>\n",
       "      <td>may</td>\n",
       "      <td>198</td>\n",
       "      <td>1</td>\n",
       "      <td>-1</td>\n",
       "      <td>0</td>\n",
       "      <td>unknown</td>\n",
       "      <td>no</td>\n",
       "      <td>0</td>\n",
       "    </tr>\n",
       "  </tbody>\n",
       "</table>\n",
       "</div>"
      ]
     },
     "execution_count": 51,
     "metadata": {},
     "output_type": "execute_result"
    }
   ],
   "execution_count": 51
  },
  {
   "metadata": {},
   "cell_type": "markdown",
   "source": "- Conversion Rate",
   "id": "cbbccbfedf882212"
  },
  {
   "metadata": {
    "ExecuteTime": {
     "end_time": "2025-01-25T16:42:37.145452Z",
     "start_time": "2025-01-25T16:42:37.084248Z"
    }
   },
   "cell_type": "code",
   "source": [
    "conversion_rate_df = pd.DataFrame(\n",
    "    df.groupby(df['conversion'])['Target'].count() / df.shape[0] * 100\n",
    ")\n",
    "conversion_rate_df.plot(\n",
    "    kind='pie',\n",
    "    subplots=True,\n",
    "    startangle=90,\n",
    "    autopct='%1.1f%%'\n",
    ")"
   ],
   "id": "b84fb3ee77331666",
   "outputs": [
    {
     "data": {
      "text/plain": [
       "array([<Axes: ylabel='Target'>], dtype=object)"
      ]
     },
     "execution_count": 52,
     "metadata": {},
     "output_type": "execute_result"
    },
    {
     "data": {
      "text/plain": [
       "<Figure size 640x480 with 1 Axes>"
      ],
      "image/png": "[encoded data removed]"
     },
     "metadata": {},
     "output_type": "display_data"
    }
   ],
   "execution_count": 52
  },
  {
   "metadata": {},
   "cell_type": "markdown",
   "source": "- Conversion rate by marital status",
   "id": "ffe99c798ed2db8f"
  },
  {
   "metadata": {
    "ExecuteTime": {
     "end_time": "2025-01-25T16:42:37.327101Z",
     "start_time": "2025-01-25T16:42:37.321335Z"
    }
   },
   "cell_type": "code",
   "source": "df['marital'].value_counts()",
   "id": "69cb0d6efb104abf",
   "outputs": [
    {
     "data": {
      "text/plain": [
       "marital\n",
       "married     27214\n",
       "single      12790\n",
       "divorced     5207\n",
       "Name: count, dtype: int64"
      ]
     },
     "execution_count": 53,
     "metadata": {},
     "output_type": "execute_result"
    }
   ],
   "execution_count": 53
  },
  {
   "metadata": {
    "ExecuteTime": {
     "end_time": "2025-01-25T16:42:37.417093Z",
     "start_time": "2025-01-25T16:42:37.405035Z"
    }
   },
   "cell_type": "code",
   "source": [
    "conversion_rate_by_marital = pd.DataFrame(\n",
    "    df.groupby(df['marital'])['conversion'].sum() / df.groupby(df['marital'])['Target'].count() * 100\n",
    ")\n",
    "conversion_rate_by_marital"
   ],
   "id": "25e838257741b96a",
   "outputs": [
    {
     "data": {
      "text/plain": [
       "                  0\n",
       "marital            \n",
       "divorced  11.945458\n",
       "married   10.123466\n",
       "single    14.949179"
      ],
      "text/html": [
       "<div>\n",
       "<style scoped>\n",
       "    .dataframe tbody tr th:only-of-type {\n",
       "        vertical-align: middle;\n",
       "    }\n",
       "\n",
       "    .dataframe tbody tr th {\n",
       "        vertical-align: top;\n",
       "    }\n",
       "\n",
       "    .dataframe thead th {\n",
       "        text-align: right;\n",
       "    }\n",
       "</style>\n",
       "<table border=\"1\" class=\"dataframe\">\n",
       "  <thead>\n",
       "    <tr style=\"text-align: right;\">\n",
       "      <th></th>\n",
       "      <th>0</th>\n",
       "    </tr>\n",
       "    <tr>\n",
       "      <th>marital</th>\n",
       "      <th></th>\n",
       "    </tr>\n",
       "  </thead>\n",
       "  <tbody>\n",
       "    <tr>\n",
       "      <th>divorced</th>\n",
       "      <td>11.945458</td>\n",
       "    </tr>\n",
       "    <tr>\n",
       "      <th>married</th>\n",
       "      <td>10.123466</td>\n",
       "    </tr>\n",
       "    <tr>\n",
       "      <th>single</th>\n",
       "      <td>14.949179</td>\n",
       "    </tr>\n",
       "  </tbody>\n",
       "</table>\n",
       "</div>"
      ]
     },
     "execution_count": 54,
     "metadata": {},
     "output_type": "execute_result"
    }
   ],
   "execution_count": 54
  },
  {
   "metadata": {
    "ExecuteTime": {
     "end_time": "2025-01-25T16:42:38.257116Z",
     "start_time": "2025-01-25T16:42:37.526568Z"
    }
   },
   "cell_type": "code",
   "source": [
    "ax = conversion_rate_by_marital.plot(\n",
    "    kind='bar',\n",
    "    grid=True,\n",
    "    figsize=(8, 4),\n",
    "    color='skyblue',\n",
    "    title='Conversion Rate by Marital'\n",
    ")\n",
    "\n",
    "ax.set_xlabel('Marital')\n",
    "ax.set_ylabel('Conversion Rate (%)')\n",
    "plt.show()"
   ],
   "id": "13040ce66153a057",
   "outputs": [
    {
     "data": {
      "text/plain": [
       "<Figure size 800x400 with 1 Axes>"
      ],
      "image/png": "[encoded data removed]"
     },
     "metadata": {},
     "output_type": "display_data"
    }
   ],
   "execution_count": 55
  },
  {
   "metadata": {},
   "cell_type": "markdown",
   "source": "- Conversion Rates by Job",
   "id": "d1c28d51b0729d38"
  },
  {
   "metadata": {
    "ExecuteTime": {
     "end_time": "2025-01-25T16:42:38.298422Z",
     "start_time": "2025-01-25T16:42:38.290434Z"
    }
   },
   "cell_type": "code",
   "source": "df['job'].value_counts()",
   "id": "b87126a0ddfd01b0",
   "outputs": [
    {
     "data": {
      "text/plain": [
       "job\n",
       "blue-collar      9732\n",
       "management       9458\n",
       "technician       7597\n",
       "admin.           5171\n",
       "services         4154\n",
       "retired          2264\n",
       "self-employed    1579\n",
       "entrepreneur     1487\n",
       "unemployed       1303\n",
       "housemaid        1240\n",
       "student           938\n",
       "unknown           288\n",
       "Name: count, dtype: int64"
      ]
     },
     "execution_count": 56,
     "metadata": {},
     "output_type": "execute_result"
    }
   ],
   "execution_count": 56
  },
  {
   "metadata": {
    "ExecuteTime": {
     "end_time": "2025-01-25T16:42:38.441423Z",
     "start_time": "2025-01-25T16:42:38.361313Z"
    }
   },
   "cell_type": "code",
   "source": [
    "conversion_rate_by_job =  df.groupby(df['job'])['conversion'].sum() / df.groupby(df['job'])['conversion'].count() * 100\n",
    "ax = conversion_rate_by_job.sort_values(ascending=True).plot(\n",
    "    kind='barh',\n",
    "    grid=True,\n",
    "    figsize=(8, 6),\n",
    "    title='Conversion Rate by Job',\n",
    "    color='skyblue'\n",
    ")\n",
    "\n",
    "ax.set_xlabel('Conversion Rate (%)')\n",
    "ax.set_ylabel('Job')\n",
    "plt.show()\n"
   ],
   "id": "bedd1f9d1b02aa4",
   "outputs": [
    {
     "data": {
      "text/plain": [
       "<Figure size 800x600 with 1 Axes>"
      ],
      "image/png": "[encoded data removed]"
     },
     "metadata": {},
     "output_type": "display_data"
    }
   ],
   "execution_count": 57
  },
  {
   "metadata": {},
   "cell_type": "markdown",
   "source": "- Default Rates by Conversions",
   "id": "4033bf45eee91053"
  },
  {
   "metadata": {
    "ExecuteTime": {
     "end_time": "2025-01-25T16:42:38.545225Z",
     "start_time": "2025-01-25T16:42:38.535513Z"
    }
   },
   "cell_type": "code",
   "source": "df['default'].value_counts()",
   "id": "6d7c8c738c9194ea",
   "outputs": [
    {
     "data": {
      "text/plain": [
       "default\n",
       "no     44396\n",
       "yes      815\n",
       "Name: count, dtype: int64"
      ]
     },
     "execution_count": 58,
     "metadata": {},
     "output_type": "execute_result"
    }
   ],
   "execution_count": 58
  },
  {
   "metadata": {
    "ExecuteTime": {
     "end_time": "2025-01-25T16:42:38.613797Z",
     "start_time": "2025-01-25T16:42:38.607307Z"
    }
   },
   "cell_type": "code",
   "source": "df['default'] = df['default'].replace('unknown', 'yes')",
   "id": "d793a5df8e6c6670",
   "outputs": [],
   "execution_count": 59
  },
  {
   "metadata": {
    "ExecuteTime": {
     "end_time": "2025-01-25T16:42:38.675211Z",
     "start_time": "2025-01-25T16:42:38.670409Z"
    }
   },
   "cell_type": "code",
   "source": "df['default'].value_counts()",
   "id": "e739ca2cf6da9530",
   "outputs": [
    {
     "data": {
      "text/plain": [
       "default\n",
       "no     44396\n",
       "yes      815\n",
       "Name: count, dtype: int64"
      ]
     },
     "execution_count": 60,
     "metadata": {},
     "output_type": "execute_result"
    }
   ],
   "execution_count": 60
  },
  {
   "metadata": {
    "ExecuteTime": {
     "end_time": "2025-01-25T16:42:38.777373Z",
     "start_time": "2025-01-25T16:42:38.761511Z"
    }
   },
   "cell_type": "code",
   "source": [
    "default_by_conversion_df = pd.pivot_table(\n",
    "    df, values='default', index=['Target'], columns='conversion', aggfunc=len\n",
    ")\n",
    "default_by_conversion_df.columns = ['non_conversion', 'conversion']\n",
    "default_by_conversion_df"
   ],
   "id": "8f8f1648d8ef681d",
   "outputs": [
    {
     "data": {
      "text/plain": [
       "        non_conversion  conversion\n",
       "Target                            \n",
       "no             39922.0         NaN\n",
       "yes                NaN      5289.0"
      ],
      "text/html": [
       "<div>\n",
       "<style scoped>\n",
       "    .dataframe tbody tr th:only-of-type {\n",
       "        vertical-align: middle;\n",
       "    }\n",
       "\n",
       "    .dataframe tbody tr th {\n",
       "        vertical-align: top;\n",
       "    }\n",
       "\n",
       "    .dataframe thead th {\n",
       "        text-align: right;\n",
       "    }\n",
       "</style>\n",
       "<table border=\"1\" class=\"dataframe\">\n",
       "  <thead>\n",
       "    <tr style=\"text-align: right;\">\n",
       "      <th></th>\n",
       "      <th>non_conversion</th>\n",
       "      <th>conversion</th>\n",
       "    </tr>\n",
       "    <tr>\n",
       "      <th>Target</th>\n",
       "      <th></th>\n",
       "      <th></th>\n",
       "    </tr>\n",
       "  </thead>\n",
       "  <tbody>\n",
       "    <tr>\n",
       "      <th>no</th>\n",
       "      <td>39922.0</td>\n",
       "      <td>NaN</td>\n",
       "    </tr>\n",
       "    <tr>\n",
       "      <th>yes</th>\n",
       "      <td>NaN</td>\n",
       "      <td>5289.0</td>\n",
       "    </tr>\n",
       "  </tbody>\n",
       "</table>\n",
       "</div>"
      ]
     },
     "execution_count": 61,
     "metadata": {},
     "output_type": "execute_result"
    }
   ],
   "execution_count": 61
  },
  {
   "metadata": {},
   "cell_type": "markdown",
   "source": "- Bank Balance by Conversions",
   "id": "2756fc5b98fed5fc"
  },
  {
   "metadata": {
    "ExecuteTime": {
     "end_time": "2025-01-25T16:42:38.957163Z",
     "start_time": "2025-01-25T16:42:38.876711Z"
    }
   },
   "cell_type": "code",
   "source": [
    "ax = df[['conversion', 'balance']].boxplot(\n",
    "    by='conversion',\n",
    "    showfliers=True,\n",
    "    figsize=(8, 6)\n",
    ")\n",
    "ax.set_xlabel('Conversion')\n",
    "ax.set_ylabel('balance')\n",
    "ax.set_title('Average Bank Balance Distributions by Conversion')\n",
    "plt.suptitle(\"\")\n",
    "plt.show()"
   ],
   "id": "5626504abc75c4e4",
   "outputs": [
    {
     "data": {
      "text/plain": [
       "<Figure size 800x600 with 1 Axes>"
      ],
      "image/png": "[encoded data removed]"
     },
     "metadata": {},
     "output_type": "display_data"
    }
   ],
   "execution_count": 62
  },
  {
   "metadata": {
    "ExecuteTime": {
     "end_time": "2025-01-25T16:42:39.115966Z",
     "start_time": "2025-01-25T16:42:39.047020Z"
    }
   },
   "cell_type": "code",
   "source": [
    "ax = df[['conversion', 'balance']].boxplot(\n",
    "    by='conversion',\n",
    "    showfliers=False,\n",
    "    figsize=(8, 6)\n",
    ")\n",
    "ax.set_xlabel('Conversion')\n",
    "ax.set_ylabel('balance')\n",
    "ax.set_title('Average Bank Balance Distributions by Conversion')\n",
    "plt.suptitle(\"\")\n",
    "plt.show()"
   ],
   "id": "bee497b349c47c99",
   "outputs": [
    {
     "data": {
      "text/plain": [
       "<Figure size 800x600 with 1 Axes>"
      ],
      "image/png": "[encoded data removed]"
     },
     "metadata": {},
     "output_type": "display_data"
    }
   ],
   "execution_count": 63
  },
  {
   "metadata": {},
   "cell_type": "markdown",
   "source": "- Conversion Rates by Number of Contact",
   "id": "dc21a231f36be0ca"
  },
  {
   "metadata": {
    "ExecuteTime": {
     "end_time": "2025-01-25T16:42:39.205991Z",
     "start_time": "2025-01-25T16:42:39.195809Z"
    }
   },
   "cell_type": "code",
   "source": [
    "conversion__rate_by_contact_df = df.groupby(\n",
    "    df['campaign'])['conversion'].sum() / df.groupby(df['campaign'])['conversion'].count() * 100\n",
    "conversion__rate_by_contact_df"
   ],
   "id": "b4830f6f8cf9de54",
   "outputs": [
    {
     "data": {
      "text/plain": [
       "campaign\n",
       "1     14.597583\n",
       "2     11.203519\n",
       "3     11.193624\n",
       "4      9.000568\n",
       "5      7.879819\n",
       "6      7.126259\n",
       "7      6.394558\n",
       "8      5.925926\n",
       "9      6.422018\n",
       "10     5.263158\n",
       "11     7.960199\n",
       "12     2.580645\n",
       "13     4.511278\n",
       "14     4.301075\n",
       "15     4.761905\n",
       "16     2.531646\n",
       "17     8.695652\n",
       "18     0.000000\n",
       "19     0.000000\n",
       "20     2.325581\n",
       "21     2.857143\n",
       "22     0.000000\n",
       "23     0.000000\n",
       "24     5.000000\n",
       "25     0.000000\n",
       "26     0.000000\n",
       "27     0.000000\n",
       "28     0.000000\n",
       "29     6.250000\n",
       "30     0.000000\n",
       "31     0.000000\n",
       "32    11.111111\n",
       "33     0.000000\n",
       "34     0.000000\n",
       "35     0.000000\n",
       "36     0.000000\n",
       "37     0.000000\n",
       "38     0.000000\n",
       "39     0.000000\n",
       "41     0.000000\n",
       "43     0.000000\n",
       "44     0.000000\n",
       "46     0.000000\n",
       "50     0.000000\n",
       "51     0.000000\n",
       "55     0.000000\n",
       "58     0.000000\n",
       "63     0.000000\n",
       "Name: conversion, dtype: float64"
      ]
     },
     "execution_count": 64,
     "metadata": {},
     "output_type": "execute_result"
    }
   ],
   "execution_count": 64
  },
  {
   "metadata": {
    "ExecuteTime": {
     "end_time": "2025-01-25T16:42:39.390961Z",
     "start_time": "2025-01-25T16:42:39.270621Z"
    }
   },
   "cell_type": "code",
   "source": [
    "ax = conversion__rate_by_contact_df.plot(\n",
    "    kind='bar',\n",
    "    grid=True,\n",
    "    figsize=(10, 7),\n",
    "    color='skyblue',\n",
    "    title='Conversion Rate by Contact'\n",
    ")\n",
    "\n",
    "ax.set_xlabel('Number of Contacts')\n",
    "ax.set_ylabel('Conversion Rate (%)')\n",
    "\n",
    "plt.show()"
   ],
   "id": "349a120e8d9b60d8",
   "outputs": [
    {
     "data": {
      "text/plain": [
       "<Figure size 1000x700 with 1 Axes>"
      ],
      "image/png": "[encoded data removed]"
     },
     "metadata": {},
     "output_type": "display_data"
    }
   ],
   "execution_count": 65
  },
  {
   "metadata": {},
   "cell_type": "markdown",
   "source": "## 3. Encoding Categorical Variables",
   "id": "d3a15b02dd7aa931"
  },
  {
   "metadata": {
    "ExecuteTime": {
     "end_time": "2025-01-25T16:42:39.472716Z",
     "start_time": "2025-01-25T16:42:39.443767Z"
    }
   },
   "cell_type": "code",
   "source": [
    "cat_df = df.select_dtypes(include=['object'])\n",
    "cat_df.columns"
   ],
   "id": "f2e8a9bcbd7656ed",
   "outputs": [
    {
     "data": {
      "text/plain": [
       "Index(['job', 'marital', 'education', 'default', 'housing', 'loan', 'contact',\n",
       "       'month', 'poutcome', 'Target'],\n",
       "      dtype='object')"
      ]
     },
     "execution_count": 66,
     "metadata": {},
     "output_type": "execute_result"
    }
   ],
   "execution_count": 66
  },
  {
   "metadata": {
    "ExecuteTime": {
     "end_time": "2025-01-25T16:42:39.550269Z",
     "start_time": "2025-01-25T16:42:39.534067Z"
    }
   },
   "cell_type": "code",
   "source": [
    "categorical_vars = ['job', 'marital', 'education', 'default', 'housing', 'loan', 'contact', 'month']\n",
    "df[categorical_vars].nunique()"
   ],
   "id": "a5f8c3acdb121c13",
   "outputs": [
    {
     "data": {
      "text/plain": [
       "job          12\n",
       "marital       3\n",
       "education     4\n",
       "default       2\n",
       "housing       2\n",
       "loan          2\n",
       "contact       3\n",
       "month        12\n",
       "dtype: int64"
      ]
     },
     "execution_count": 67,
     "metadata": {},
     "output_type": "execute_result"
    }
   ],
   "execution_count": 67
  },
  {
   "metadata": {},
   "cell_type": "markdown",
   "source": "- Encoding month",
   "id": "37d4824c425f770b"
  },
  {
   "metadata": {
    "ExecuteTime": {
     "end_time": "2025-01-25T16:42:39.626283Z",
     "start_time": "2025-01-25T16:42:39.623020Z"
    }
   },
   "cell_type": "code",
   "source": "df['month'].unique()",
   "id": "bb845786df832d4d",
   "outputs": [
    {
     "data": {
      "text/plain": [
       "array(['may', 'jun', 'jul', 'aug', 'oct', 'nov', 'dec', 'jan', 'feb',\n",
       "       'mar', 'apr', 'sep'], dtype=object)"
      ]
     },
     "execution_count": 68,
     "metadata": {},
     "output_type": "execute_result"
    }
   ],
   "execution_count": 68
  },
  {
   "metadata": {
    "ExecuteTime": {
     "end_time": "2025-01-25T16:42:39.691511Z",
     "start_time": "2025-01-25T16:42:39.678546Z"
    }
   },
   "cell_type": "code",
   "source": [
    "months = ['jan', 'feb', 'mar', 'apr', 'may', 'jun', 'jul', 'aug', 'sep', 'oct', 'nov', 'dec']\n",
    "df['month'] = df['month'].apply(lambda x: months.index(x)+1)\n",
    "df['month'].unique()"
   ],
   "id": "4b1c5b302ad9deaa",
   "outputs": [
    {
     "data": {
      "text/plain": [
       "array([ 5,  6,  7,  8, 10, 11, 12,  1,  2,  3,  4,  9])"
      ]
     },
     "execution_count": 69,
     "metadata": {},
     "output_type": "execute_result"
    }
   ],
   "execution_count": 69
  },
  {
   "metadata": {
    "ExecuteTime": {
     "end_time": "2025-01-25T16:42:39.808914Z",
     "start_time": "2025-01-25T16:42:39.760786Z"
    }
   },
   "cell_type": "code",
   "source": [
    "df.groupby(df['month'])['conversion'].count().plot(\n",
    "    kind='pie',\n",
    "    autopct='%1.1f%%',\n",
    "    startangle=90,\n",
    "    subplots=True,\n",
    "    figsize=(10, 8)\n",
    ")"
   ],
   "id": "873e354a5aa36b69",
   "outputs": [
    {
     "data": {
      "text/plain": [
       "array([<Axes: ylabel='conversion'>], dtype=object)"
      ]
     },
     "execution_count": 70,
     "metadata": {},
     "output_type": "execute_result"
    },
    {
     "data": {
      "text/plain": [
       "<Figure size 1000x800 with 1 Axes>"
      ],
      "image/png": "[encoded data removed]"
     },
     "metadata": {},
     "output_type": "display_data"
    }
   ],
   "execution_count": 70
  },
  {
   "metadata": {},
   "cell_type": "markdown",
   "source": "- Encoding Jobs",
   "id": "388571dc79c72520"
  },
  {
   "metadata": {
    "ExecuteTime": {
     "end_time": "2025-01-25T16:42:39.915377Z",
     "start_time": "2025-01-25T16:42:39.910975Z"
    }
   },
   "cell_type": "code",
   "source": "df['job'].unique()",
   "id": "c7f843af9fce5a0",
   "outputs": [
    {
     "data": {
      "text/plain": [
       "array(['management', 'technician', 'entrepreneur', 'blue-collar',\n",
       "       'unknown', 'retired', 'admin.', 'services', 'self-employed',\n",
       "       'unemployed', 'housemaid', 'student'], dtype=object)"
      ]
     },
     "execution_count": 71,
     "metadata": {},
     "output_type": "execute_result"
    }
   ],
   "execution_count": 71
  },
  {
   "metadata": {
    "ExecuteTime": {
     "end_time": "2025-01-25T16:42:39.965732Z",
     "start_time": "2025-01-25T16:42:39.956533Z"
    }
   },
   "cell_type": "code",
   "source": [
    "job_encoded_df = pd.get_dummies(df['job'])\n",
    "job_encoded_df = job_encoded_df.astype('int')\n",
    "job_encoded_df.columns = ['job_%s' % x for x in job_encoded_df.columns]\n",
    "job_encoded_df.head()"
   ],
   "id": "7ef877346d86acf4",
   "outputs": [
    {
     "data": {
      "text/plain": [
       "   job_admin.  job_blue-collar  job_entrepreneur  job_housemaid  \\\n",
       "0           0                0                 0              0   \n",
       "1           0                0                 0              0   \n",
       "2           0                0                 1              0   \n",
       "3           0                1                 0              0   \n",
       "4           0                0                 0              0   \n",
       "\n",
       "   job_management  job_retired  job_self-employed  job_services  job_student  \\\n",
       "0               1            0                  0             0            0   \n",
       "1               0            0                  0             0            0   \n",
       "2               0            0                  0             0            0   \n",
       "3               0            0                  0             0            0   \n",
       "4               0            0                  0             0            0   \n",
       "\n",
       "   job_technician  job_unemployed  job_unknown  \n",
       "0               0               0            0  \n",
       "1               1               0            0  \n",
       "2               0               0            0  \n",
       "3               0               0            0  \n",
       "4               0               0            1  "
      ],
      "text/html": [
       "<div>\n",
       "<style scoped>\n",
       "    .dataframe tbody tr th:only-of-type {\n",
       "        vertical-align: middle;\n",
       "    }\n",
       "\n",
       "    .dataframe tbody tr th {\n",
       "        vertical-align: top;\n",
       "    }\n",
       "\n",
       "    .dataframe thead th {\n",
       "        text-align: right;\n",
       "    }\n",
       "</style>\n",
       "<table border=\"1\" class=\"dataframe\">\n",
       "  <thead>\n",
       "    <tr style=\"text-align: right;\">\n",
       "      <th></th>\n",
       "      <th>job_admin.</th>\n",
       "      <th>job_blue-collar</th>\n",
       "      <th>job_entrepreneur</th>\n",
       "      <th>job_housemaid</th>\n",
       "      <th>job_management</th>\n",
       "      <th>job_retired</th>\n",
       "      <th>job_self-employed</th>\n",
       "      <th>job_services</th>\n",
       "      <th>job_student</th>\n",
       "      <th>job_technician</th>\n",
       "      <th>job_unemployed</th>\n",
       "      <th>job_unknown</th>\n",
       "    </tr>\n",
       "  </thead>\n",
       "  <tbody>\n",
       "    <tr>\n",
       "      <th>0</th>\n",
       "      <td>0</td>\n",
       "      <td>0</td>\n",
       "      <td>0</td>\n",
       "      <td>0</td>\n",
       "      <td>1</td>\n",
       "      <td>0</td>\n",
       "      <td>0</td>\n",
       "      <td>0</td>\n",
       "      <td>0</td>\n",
       "      <td>0</td>\n",
       "      <td>0</td>\n",
       "      <td>0</td>\n",
       "    </tr>\n",
       "    <tr>\n",
       "      <th>1</th>\n",
       "      <td>0</td>\n",
       "      <td>0</td>\n",
       "      <td>0</td>\n",
       "      <td>0</td>\n",
       "      <td>0</td>\n",
       "      <td>0</td>\n",
       "      <td>0</td>\n",
       "      <td>0</td>\n",
       "      <td>0</td>\n",
       "      <td>1</td>\n",
       "      <td>0</td>\n",
       "      <td>0</td>\n",
       "    </tr>\n",
       "    <tr>\n",
       "      <th>2</th>\n",
       "      <td>0</td>\n",
       "      <td>0</td>\n",
       "      <td>1</td>\n",
       "      <td>0</td>\n",
       "      <td>0</td>\n",
       "      <td>0</td>\n",
       "      <td>0</td>\n",
       "      <td>0</td>\n",
       "      <td>0</td>\n",
       "      <td>0</td>\n",
       "      <td>0</td>\n",
       "      <td>0</td>\n",
       "    </tr>\n",
       "    <tr>\n",
       "      <th>3</th>\n",
       "      <td>0</td>\n",
       "      <td>1</td>\n",
       "      <td>0</td>\n",
       "      <td>0</td>\n",
       "      <td>0</td>\n",
       "      <td>0</td>\n",
       "      <td>0</td>\n",
       "      <td>0</td>\n",
       "      <td>0</td>\n",
       "      <td>0</td>\n",
       "      <td>0</td>\n",
       "      <td>0</td>\n",
       "    </tr>\n",
       "    <tr>\n",
       "      <th>4</th>\n",
       "      <td>0</td>\n",
       "      <td>0</td>\n",
       "      <td>0</td>\n",
       "      <td>0</td>\n",
       "      <td>0</td>\n",
       "      <td>0</td>\n",
       "      <td>0</td>\n",
       "      <td>0</td>\n",
       "      <td>0</td>\n",
       "      <td>0</td>\n",
       "      <td>0</td>\n",
       "      <td>1</td>\n",
       "    </tr>\n",
       "  </tbody>\n",
       "</table>\n",
       "</div>"
      ]
     },
     "execution_count": 72,
     "metadata": {},
     "output_type": "execute_result"
    }
   ],
   "execution_count": 72
  },
  {
   "metadata": {
    "ExecuteTime": {
     "end_time": "2025-01-25T16:42:40.029735Z",
     "start_time": "2025-01-25T16:42:40.010593Z"
    }
   },
   "cell_type": "code",
   "source": [
    "df = pd.concat([df, job_encoded_df], axis=1)\n",
    "df.head()"
   ],
   "id": "4e237993c2cd82e2",
   "outputs": [
    {
     "data": {
      "text/plain": [
       "   age           job  marital  education default  balance housing loan  \\\n",
       "0   58    management  married   tertiary      no     2143     yes   no   \n",
       "1   44    technician   single  secondary      no       29     yes   no   \n",
       "2   33  entrepreneur  married  secondary      no        2     yes  yes   \n",
       "3   47   blue-collar  married    unknown      no     1506     yes   no   \n",
       "4   33       unknown   single    unknown      no        1      no   no   \n",
       "\n",
       "   contact  day  ...  job_entrepreneur  job_housemaid  job_management  \\\n",
       "0  unknown    5  ...                 0              0               1   \n",
       "1  unknown    5  ...                 0              0               0   \n",
       "2  unknown    5  ...                 1              0               0   \n",
       "3  unknown    5  ...                 0              0               0   \n",
       "4  unknown    5  ...                 0              0               0   \n",
       "\n",
       "   job_retired  job_self-employed job_services job_student  job_technician  \\\n",
       "0            0                  0            0           0               0   \n",
       "1            0                  0            0           0               1   \n",
       "2            0                  0            0           0               0   \n",
       "3            0                  0            0           0               0   \n",
       "4            0                  0            0           0               0   \n",
       "\n",
       "   job_unemployed  job_unknown  \n",
       "0               0            0  \n",
       "1               0            0  \n",
       "2               0            0  \n",
       "3               0            0  \n",
       "4               0            1  \n",
       "\n",
       "[5 rows x 30 columns]"
      ],
      "text/html": [
       "<div>\n",
       "<style scoped>\n",
       "    .dataframe tbody tr th:only-of-type {\n",
       "        vertical-align: middle;\n",
       "    }\n",
       "\n",
       "    .dataframe tbody tr th {\n",
       "        vertical-align: top;\n",
       "    }\n",
       "\n",
       "    .dataframe thead th {\n",
       "        text-align: right;\n",
       "    }\n",
       "</style>\n",
       "<table border=\"1\" class=\"dataframe\">\n",
       "  <thead>\n",
       "    <tr style=\"text-align: right;\">\n",
       "      <th></th>\n",
       "      <th>age</th>\n",
       "      <th>job</th>\n",
       "      <th>marital</th>\n",
       "      <th>education</th>\n",
       "      <th>default</th>\n",
       "      <th>balance</th>\n",
       "      <th>housing</th>\n",
       "      <th>loan</th>\n",
       "      <th>contact</th>\n",
       "      <th>day</th>\n",
       "      <th>...</th>\n",
       "      <th>job_entrepreneur</th>\n",
       "      <th>job_housemaid</th>\n",
       "      <th>job_management</th>\n",
       "      <th>job_retired</th>\n",
       "      <th>job_self-employed</th>\n",
       "      <th>job_services</th>\n",
       "      <th>job_student</th>\n",
       "      <th>job_technician</th>\n",
       "      <th>job_unemployed</th>\n",
       "      <th>job_unknown</th>\n",
       "    </tr>\n",
       "  </thead>\n",
       "  <tbody>\n",
       "    <tr>\n",
       "      <th>0</th>\n",
       "      <td>58</td>\n",
       "      <td>management</td>\n",
       "      <td>married</td>\n",
       "      <td>tertiary</td>\n",
       "      <td>no</td>\n",
       "      <td>2143</td>\n",
       "      <td>yes</td>\n",
       "      <td>no</td>\n",
       "      <td>unknown</td>\n",
       "      <td>5</td>\n",
       "      <td>...</td>\n",
       "      <td>0</td>\n",
       "      <td>0</td>\n",
       "      <td>1</td>\n",
       "      <td>0</td>\n",
       "      <td>0</td>\n",
       "      <td>0</td>\n",
       "      <td>0</td>\n",
       "      <td>0</td>\n",
       "      <td>0</td>\n",
       "      <td>0</td>\n",
       "    </tr>\n",
       "    <tr>\n",
       "      <th>1</th>\n",
       "      <td>44</td>\n",
       "      <td>technician</td>\n",
       "      <td>single</td>\n",
       "      <td>secondary</td>\n",
       "      <td>no</td>\n",
       "      <td>29</td>\n",
       "      <td>yes</td>\n",
       "      <td>no</td>\n",
       "      <td>unknown</td>\n",
       "      <td>5</td>\n",
       "      <td>...</td>\n",
       "      <td>0</td>\n",
       "      <td>0</td>\n",
       "      <td>0</td>\n",
       "      <td>0</td>\n",
       "      <td>0</td>\n",
       "      <td>0</td>\n",
       "      <td>0</td>\n",
       "      <td>1</td>\n",
       "      <td>0</td>\n",
       "      <td>0</td>\n",
       "    </tr>\n",
       "    <tr>\n",
       "      <th>2</th>\n",
       "      <td>33</td>\n",
       "      <td>entrepreneur</td>\n",
       "      <td>married</td>\n",
       "      <td>secondary</td>\n",
       "      <td>no</td>\n",
       "      <td>2</td>\n",
       "      <td>yes</td>\n",
       "      <td>yes</td>\n",
       "      <td>unknown</td>\n",
       "      <td>5</td>\n",
       "      <td>...</td>\n",
       "      <td>1</td>\n",
       "      <td>0</td>\n",
       "      <td>0</td>\n",
       "      <td>0</td>\n",
       "      <td>0</td>\n",
       "      <td>0</td>\n",
       "      <td>0</td>\n",
       "      <td>0</td>\n",
       "      <td>0</td>\n",
       "      <td>0</td>\n",
       "    </tr>\n",
       "    <tr>\n",
       "      <th>3</th>\n",
       "      <td>47</td>\n",
       "      <td>blue-collar</td>\n",
       "      <td>married</td>\n",
       "      <td>unknown</td>\n",
       "      <td>no</td>\n",
       "      <td>1506</td>\n",
       "      <td>yes</td>\n",
       "      <td>no</td>\n",
       "      <td>unknown</td>\n",
       "      <td>5</td>\n",
       "      <td>...</td>\n",
       "      <td>0</td>\n",
       "      <td>0</td>\n",
       "      <td>0</td>\n",
       "      <td>0</td>\n",
       "      <td>0</td>\n",
       "      <td>0</td>\n",
       "      <td>0</td>\n",
       "      <td>0</td>\n",
       "      <td>0</td>\n",
       "      <td>0</td>\n",
       "    </tr>\n",
       "    <tr>\n",
       "      <th>4</th>\n",
       "      <td>33</td>\n",
       "      <td>unknown</td>\n",
       "      <td>single</td>\n",
       "      <td>unknown</td>\n",
       "      <td>no</td>\n",
       "      <td>1</td>\n",
       "      <td>no</td>\n",
       "      <td>no</td>\n",
       "      <td>unknown</td>\n",
       "      <td>5</td>\n",
       "      <td>...</td>\n",
       "      <td>0</td>\n",
       "      <td>0</td>\n",
       "      <td>0</td>\n",
       "      <td>0</td>\n",
       "      <td>0</td>\n",
       "      <td>0</td>\n",
       "      <td>0</td>\n",
       "      <td>0</td>\n",
       "      <td>0</td>\n",
       "      <td>1</td>\n",
       "    </tr>\n",
       "  </tbody>\n",
       "</table>\n",
       "<p>5 rows × 30 columns</p>\n",
       "</div>"
      ]
     },
     "execution_count": 73,
     "metadata": {},
     "output_type": "execute_result"
    }
   ],
   "execution_count": 73
  },
  {
   "metadata": {},
   "cell_type": "markdown",
   "source": "- Encoding Marital",
   "id": "e4a3dd819b365f1d"
  },
  {
   "metadata": {
    "ExecuteTime": {
     "end_time": "2025-01-25T16:42:40.090503Z",
     "start_time": "2025-01-25T16:42:40.086398Z"
    }
   },
   "cell_type": "code",
   "source": "df['marital'].unique()",
   "id": "5484aff86e321e7d",
   "outputs": [
    {
     "data": {
      "text/plain": [
       "array(['married', 'single', 'divorced'], dtype=object)"
      ]
     },
     "execution_count": 74,
     "metadata": {},
     "output_type": "execute_result"
    }
   ],
   "execution_count": 74
  },
  {
   "metadata": {
    "ExecuteTime": {
     "end_time": "2025-01-25T16:42:40.196823Z",
     "start_time": "2025-01-25T16:42:40.190305Z"
    }
   },
   "cell_type": "code",
   "source": [
    "marital_encoded_df = pd.get_dummies(df['marital'])\n",
    "marital_encoded_df = marital_encoded_df.astype('int')\n",
    "marital_encoded_df.columns = ['marital_%s' % x for x in marital_encoded_df.columns]\n",
    "marital_encoded_df.head()"
   ],
   "id": "28606d24f83ee485",
   "outputs": [
    {
     "data": {
      "text/plain": [
       "   marital_divorced  marital_married  marital_single\n",
       "0                 0                1               0\n",
       "1                 0                0               1\n",
       "2                 0                1               0\n",
       "3                 0                1               0\n",
       "4                 0                0               1"
      ],
      "text/html": [
       "<div>\n",
       "<style scoped>\n",
       "    .dataframe tbody tr th:only-of-type {\n",
       "        vertical-align: middle;\n",
       "    }\n",
       "\n",
       "    .dataframe tbody tr th {\n",
       "        vertical-align: top;\n",
       "    }\n",
       "\n",
       "    .dataframe thead th {\n",
       "        text-align: right;\n",
       "    }\n",
       "</style>\n",
       "<table border=\"1\" class=\"dataframe\">\n",
       "  <thead>\n",
       "    <tr style=\"text-align: right;\">\n",
       "      <th></th>\n",
       "      <th>marital_divorced</th>\n",
       "      <th>marital_married</th>\n",
       "      <th>marital_single</th>\n",
       "    </tr>\n",
       "  </thead>\n",
       "  <tbody>\n",
       "    <tr>\n",
       "      <th>0</th>\n",
       "      <td>0</td>\n",
       "      <td>1</td>\n",
       "      <td>0</td>\n",
       "    </tr>\n",
       "    <tr>\n",
       "      <th>1</th>\n",
       "      <td>0</td>\n",
       "      <td>0</td>\n",
       "      <td>1</td>\n",
       "    </tr>\n",
       "    <tr>\n",
       "      <th>2</th>\n",
       "      <td>0</td>\n",
       "      <td>1</td>\n",
       "      <td>0</td>\n",
       "    </tr>\n",
       "    <tr>\n",
       "      <th>3</th>\n",
       "      <td>0</td>\n",
       "      <td>1</td>\n",
       "      <td>0</td>\n",
       "    </tr>\n",
       "    <tr>\n",
       "      <th>4</th>\n",
       "      <td>0</td>\n",
       "      <td>0</td>\n",
       "      <td>1</td>\n",
       "    </tr>\n",
       "  </tbody>\n",
       "</table>\n",
       "</div>"
      ]
     },
     "execution_count": 75,
     "metadata": {},
     "output_type": "execute_result"
    }
   ],
   "execution_count": 75
  },
  {
   "metadata": {
    "ExecuteTime": {
     "end_time": "2025-01-25T16:42:40.297053Z",
     "start_time": "2025-01-25T16:42:40.280716Z"
    }
   },
   "cell_type": "code",
   "source": [
    "df = pd.concat([df, marital_encoded_df], axis=1)\n",
    "df.head()"
   ],
   "id": "ee4b158edc92d347",
   "outputs": [
    {
     "data": {
      "text/plain": [
       "   age           job  marital  education default  balance housing loan  \\\n",
       "0   58    management  married   tertiary      no     2143     yes   no   \n",
       "1   44    technician   single  secondary      no       29     yes   no   \n",
       "2   33  entrepreneur  married  secondary      no        2     yes  yes   \n",
       "3   47   blue-collar  married    unknown      no     1506     yes   no   \n",
       "4   33       unknown   single    unknown      no        1      no   no   \n",
       "\n",
       "   contact  day  ...  job_retired  job_self-employed  job_services  \\\n",
       "0  unknown    5  ...            0                  0             0   \n",
       "1  unknown    5  ...            0                  0             0   \n",
       "2  unknown    5  ...            0                  0             0   \n",
       "3  unknown    5  ...            0                  0             0   \n",
       "4  unknown    5  ...            0                  0             0   \n",
       "\n",
       "   job_student  job_technician job_unemployed job_unknown  marital_divorced  \\\n",
       "0            0               0              0           0                 0   \n",
       "1            0               1              0           0                 0   \n",
       "2            0               0              0           0                 0   \n",
       "3            0               0              0           0                 0   \n",
       "4            0               0              0           1                 0   \n",
       "\n",
       "   marital_married  marital_single  \n",
       "0                1               0  \n",
       "1                0               1  \n",
       "2                1               0  \n",
       "3                1               0  \n",
       "4                0               1  \n",
       "\n",
       "[5 rows x 33 columns]"
      ],
      "text/html": [
       "<div>\n",
       "<style scoped>\n",
       "    .dataframe tbody tr th:only-of-type {\n",
       "        vertical-align: middle;\n",
       "    }\n",
       "\n",
       "    .dataframe tbody tr th {\n",
       "        vertical-align: top;\n",
       "    }\n",
       "\n",
       "    .dataframe thead th {\n",
       "        text-align: right;\n",
       "    }\n",
       "</style>\n",
       "<table border=\"1\" class=\"dataframe\">\n",
       "  <thead>\n",
       "    <tr style=\"text-align: right;\">\n",
       "      <th></th>\n",
       "      <th>age</th>\n",
       "      <th>job</th>\n",
       "      <th>marital</th>\n",
       "      <th>education</th>\n",
       "      <th>default</th>\n",
       "      <th>balance</th>\n",
       "      <th>housing</th>\n",
       "      <th>loan</th>\n",
       "      <th>contact</th>\n",
       "      <th>day</th>\n",
       "      <th>...</th>\n",
       "      <th>job_retired</th>\n",
       "      <th>job_self-employed</th>\n",
       "      <th>job_services</th>\n",
       "      <th>job_student</th>\n",
       "      <th>job_technician</th>\n",
       "      <th>job_unemployed</th>\n",
       "      <th>job_unknown</th>\n",
       "      <th>marital_divorced</th>\n",
       "      <th>marital_married</th>\n",
       "      <th>marital_single</th>\n",
       "    </tr>\n",
       "  </thead>\n",
       "  <tbody>\n",
       "    <tr>\n",
       "      <th>0</th>\n",
       "      <td>58</td>\n",
       "      <td>management</td>\n",
       "      <td>married</td>\n",
       "      <td>tertiary</td>\n",
       "      <td>no</td>\n",
       "      <td>2143</td>\n",
       "      <td>yes</td>\n",
       "      <td>no</td>\n",
       "      <td>unknown</td>\n",
       "      <td>5</td>\n",
       "      <td>...</td>\n",
       "      <td>0</td>\n",
       "      <td>0</td>\n",
       "      <td>0</td>\n",
       "      <td>0</td>\n",
       "      <td>0</td>\n",
       "      <td>0</td>\n",
       "      <td>0</td>\n",
       "      <td>0</td>\n",
       "      <td>1</td>\n",
       "      <td>0</td>\n",
       "    </tr>\n",
       "    <tr>\n",
       "      <th>1</th>\n",
       "      <td>44</td>\n",
       "      <td>technician</td>\n",
       "      <td>single</td>\n",
       "      <td>secondary</td>\n",
       "      <td>no</td>\n",
       "      <td>29</td>\n",
       "      <td>yes</td>\n",
       "      <td>no</td>\n",
       "      <td>unknown</td>\n",
       "      <td>5</td>\n",
       "      <td>...</td>\n",
       "      <td>0</td>\n",
       "      <td>0</td>\n",
       "      <td>0</td>\n",
       "      <td>0</td>\n",
       "      <td>1</td>\n",
       "      <td>0</td>\n",
       "      <td>0</td>\n",
       "      <td>0</td>\n",
       "      <td>0</td>\n",
       "      <td>1</td>\n",
       "    </tr>\n",
       "    <tr>\n",
       "      <th>2</th>\n",
       "      <td>33</td>\n",
       "      <td>entrepreneur</td>\n",
       "      <td>married</td>\n",
       "      <td>secondary</td>\n",
       "      <td>no</td>\n",
       "      <td>2</td>\n",
       "      <td>yes</td>\n",
       "      <td>yes</td>\n",
       "      <td>unknown</td>\n",
       "      <td>5</td>\n",
       "      <td>...</td>\n",
       "      <td>0</td>\n",
       "      <td>0</td>\n",
       "      <td>0</td>\n",
       "      <td>0</td>\n",
       "      <td>0</td>\n",
       "      <td>0</td>\n",
       "      <td>0</td>\n",
       "      <td>0</td>\n",
       "      <td>1</td>\n",
       "      <td>0</td>\n",
       "    </tr>\n",
       "    <tr>\n",
       "      <th>3</th>\n",
       "      <td>47</td>\n",
       "      <td>blue-collar</td>\n",
       "      <td>married</td>\n",
       "      <td>unknown</td>\n",
       "      <td>no</td>\n",
       "      <td>1506</td>\n",
       "      <td>yes</td>\n",
       "      <td>no</td>\n",
       "      <td>unknown</td>\n",
       "      <td>5</td>\n",
       "      <td>...</td>\n",
       "      <td>0</td>\n",
       "      <td>0</td>\n",
       "      <td>0</td>\n",
       "      <td>0</td>\n",
       "      <td>0</td>\n",
       "      <td>0</td>\n",
       "      <td>0</td>\n",
       "      <td>0</td>\n",
       "      <td>1</td>\n",
       "      <td>0</td>\n",
       "    </tr>\n",
       "    <tr>\n",
       "      <th>4</th>\n",
       "      <td>33</td>\n",
       "      <td>unknown</td>\n",
       "      <td>single</td>\n",
       "      <td>unknown</td>\n",
       "      <td>no</td>\n",
       "      <td>1</td>\n",
       "      <td>no</td>\n",
       "      <td>no</td>\n",
       "      <td>unknown</td>\n",
       "      <td>5</td>\n",
       "      <td>...</td>\n",
       "      <td>0</td>\n",
       "      <td>0</td>\n",
       "      <td>0</td>\n",
       "      <td>0</td>\n",
       "      <td>0</td>\n",
       "      <td>0</td>\n",
       "      <td>1</td>\n",
       "      <td>0</td>\n",
       "      <td>0</td>\n",
       "      <td>1</td>\n",
       "    </tr>\n",
       "  </tbody>\n",
       "</table>\n",
       "<p>5 rows × 33 columns</p>\n",
       "</div>"
      ]
     },
     "execution_count": 76,
     "metadata": {},
     "output_type": "execute_result"
    }
   ],
   "execution_count": 76
  },
  {
   "metadata": {},
   "cell_type": "markdown",
   "source": "- Encoding housing and loan",
   "id": "fb53296f84bb1e6b"
  },
  {
   "metadata": {
    "ExecuteTime": {
     "end_time": "2025-01-25T16:42:40.388191Z",
     "start_time": "2025-01-25T16:42:40.383184Z"
    }
   },
   "cell_type": "code",
   "source": [
    "print(df['housing'].unique())\n",
    "print(df['loan'].unique())"
   ],
   "id": "84c04f33c38531a9",
   "outputs": [
    {
     "name": "stdout",
     "output_type": "stream",
     "text": [
      "['yes' 'no']\n",
      "['no' 'yes']\n"
     ]
    }
   ],
   "execution_count": 77
  },
  {
   "metadata": {
    "ExecuteTime": {
     "end_time": "2025-01-25T16:42:40.505257Z",
     "start_time": "2025-01-25T16:42:40.484632Z"
    }
   },
   "cell_type": "code",
   "source": [
    "df['housing'] = df['housing'].apply(lambda x: 1 if x=='yes' else 0)\n",
    "df['loan'] = df['loan'].apply(lambda x: 1 if x=='yes' else 0)"
   ],
   "id": "106e4a4ad86049d3",
   "outputs": [],
   "execution_count": 78
  },
  {
   "metadata": {},
   "cell_type": "markdown",
   "source": "# 4. Fitting Decision Trees",
   "id": "d5baeb020dd75cdc"
  },
  {
   "metadata": {
    "ExecuteTime": {
     "end_time": "2025-01-25T16:42:40.554105Z",
     "start_time": "2025-01-25T16:42:40.547857Z"
    }
   },
   "cell_type": "code",
   "source": "df.head()",
   "id": "a0bf4e64cb128476",
   "outputs": [
    {
     "data": {
      "text/plain": [
       "   age           job  marital  education default  balance  housing  loan  \\\n",
       "0   58    management  married   tertiary      no     2143        1     0   \n",
       "1   44    technician   single  secondary      no       29        1     0   \n",
       "2   33  entrepreneur  married  secondary      no        2        1     1   \n",
       "3   47   blue-collar  married    unknown      no     1506        1     0   \n",
       "4   33       unknown   single    unknown      no        1        0     0   \n",
       "\n",
       "   contact  day  ...  job_retired  job_self-employed  job_services  \\\n",
       "0  unknown    5  ...            0                  0             0   \n",
       "1  unknown    5  ...            0                  0             0   \n",
       "2  unknown    5  ...            0                  0             0   \n",
       "3  unknown    5  ...            0                  0             0   \n",
       "4  unknown    5  ...            0                  0             0   \n",
       "\n",
       "   job_student  job_technician job_unemployed job_unknown  marital_divorced  \\\n",
       "0            0               0              0           0                 0   \n",
       "1            0               1              0           0                 0   \n",
       "2            0               0              0           0                 0   \n",
       "3            0               0              0           0                 0   \n",
       "4            0               0              0           1                 0   \n",
       "\n",
       "   marital_married  marital_single  \n",
       "0                1               0  \n",
       "1                0               1  \n",
       "2                1               0  \n",
       "3                1               0  \n",
       "4                0               1  \n",
       "\n",
       "[5 rows x 33 columns]"
      ],
      "text/html": [
       "<div>\n",
       "<style scoped>\n",
       "    .dataframe tbody tr th:only-of-type {\n",
       "        vertical-align: middle;\n",
       "    }\n",
       "\n",
       "    .dataframe tbody tr th {\n",
       "        vertical-align: top;\n",
       "    }\n",
       "\n",
       "    .dataframe thead th {\n",
       "        text-align: right;\n",
       "    }\n",
       "</style>\n",
       "<table border=\"1\" class=\"dataframe\">\n",
       "  <thead>\n",
       "    <tr style=\"text-align: right;\">\n",
       "      <th></th>\n",
       "      <th>age</th>\n",
       "      <th>job</th>\n",
       "      <th>marital</th>\n",
       "      <th>education</th>\n",
       "      <th>default</th>\n",
       "      <th>balance</th>\n",
       "      <th>housing</th>\n",
       "      <th>loan</th>\n",
       "      <th>contact</th>\n",
       "      <th>day</th>\n",
       "      <th>...</th>\n",
       "      <th>job_retired</th>\n",
       "      <th>job_self-employed</th>\n",
       "      <th>job_services</th>\n",
       "      <th>job_student</th>\n",
       "      <th>job_technician</th>\n",
       "      <th>job_unemployed</th>\n",
       "      <th>job_unknown</th>\n",
       "      <th>marital_divorced</th>\n",
       "      <th>marital_married</th>\n",
       "      <th>marital_single</th>\n",
       "    </tr>\n",
       "  </thead>\n",
       "  <tbody>\n",
       "    <tr>\n",
       "      <th>0</th>\n",
       "      <td>58</td>\n",
       "      <td>management</td>\n",
       "      <td>married</td>\n",
       "      <td>tertiary</td>\n",
       "      <td>no</td>\n",
       "      <td>2143</td>\n",
       "      <td>1</td>\n",
       "      <td>0</td>\n",
       "      <td>unknown</td>\n",
       "      <td>5</td>\n",
       "      <td>...</td>\n",
       "      <td>0</td>\n",
       "      <td>0</td>\n",
       "      <td>0</td>\n",
       "      <td>0</td>\n",
       "      <td>0</td>\n",
       "      <td>0</td>\n",
       "      <td>0</td>\n",
       "      <td>0</td>\n",
       "      <td>1</td>\n",
       "      <td>0</td>\n",
       "    </tr>\n",
       "    <tr>\n",
       "      <th>1</th>\n",
       "      <td>44</td>\n",
       "      <td>technician</td>\n",
       "      <td>single</td>\n",
       "      <td>secondary</td>\n",
       "      <td>no</td>\n",
       "      <td>29</td>\n",
       "      <td>1</td>\n",
       "      <td>0</td>\n",
       "      <td>unknown</td>\n",
       "      <td>5</td>\n",
       "      <td>...</td>\n",
       "      <td>0</td>\n",
       "      <td>0</td>\n",
       "      <td>0</td>\n",
       "      <td>0</td>\n",
       "      <td>1</td>\n",
       "      <td>0</td>\n",
       "      <td>0</td>\n",
       "      <td>0</td>\n",
       "      <td>0</td>\n",
       "      <td>1</td>\n",
       "    </tr>\n",
       "    <tr>\n",
       "      <th>2</th>\n",
       "      <td>33</td>\n",
       "      <td>entrepreneur</td>\n",
       "      <td>married</td>\n",
       "      <td>secondary</td>\n",
       "      <td>no</td>\n",
       "      <td>2</td>\n",
       "      <td>1</td>\n",
       "      <td>1</td>\n",
       "      <td>unknown</td>\n",
       "      <td>5</td>\n",
       "      <td>...</td>\n",
       "      <td>0</td>\n",
       "      <td>0</td>\n",
       "      <td>0</td>\n",
       "      <td>0</td>\n",
       "      <td>0</td>\n",
       "      <td>0</td>\n",
       "      <td>0</td>\n",
       "      <td>0</td>\n",
       "      <td>1</td>\n",
       "      <td>0</td>\n",
       "    </tr>\n",
       "    <tr>\n",
       "      <th>3</th>\n",
       "      <td>47</td>\n",
       "      <td>blue-collar</td>\n",
       "      <td>married</td>\n",
       "      <td>unknown</td>\n",
       "      <td>no</td>\n",
       "      <td>1506</td>\n",
       "      <td>1</td>\n",
       "      <td>0</td>\n",
       "      <td>unknown</td>\n",
       "      <td>5</td>\n",
       "      <td>...</td>\n",
       "      <td>0</td>\n",
       "      <td>0</td>\n",
       "      <td>0</td>\n",
       "      <td>0</td>\n",
       "      <td>0</td>\n",
       "      <td>0</td>\n",
       "      <td>0</td>\n",
       "      <td>0</td>\n",
       "      <td>1</td>\n",
       "      <td>0</td>\n",
       "    </tr>\n",
       "    <tr>\n",
       "      <th>4</th>\n",
       "      <td>33</td>\n",
       "      <td>unknown</td>\n",
       "      <td>single</td>\n",
       "      <td>unknown</td>\n",
       "      <td>no</td>\n",
       "      <td>1</td>\n",
       "      <td>0</td>\n",
       "      <td>0</td>\n",
       "      <td>unknown</td>\n",
       "      <td>5</td>\n",
       "      <td>...</td>\n",
       "      <td>0</td>\n",
       "      <td>0</td>\n",
       "      <td>0</td>\n",
       "      <td>0</td>\n",
       "      <td>0</td>\n",
       "      <td>0</td>\n",
       "      <td>1</td>\n",
       "      <td>0</td>\n",
       "      <td>0</td>\n",
       "      <td>1</td>\n",
       "    </tr>\n",
       "  </tbody>\n",
       "</table>\n",
       "<p>5 rows × 33 columns</p>\n",
       "</div>"
      ]
     },
     "execution_count": 79,
     "metadata": {},
     "output_type": "execute_result"
    }
   ],
   "execution_count": 79
  },
  {
   "metadata": {
    "ExecuteTime": {
     "end_time": "2025-01-25T16:42:40.616394Z",
     "start_time": "2025-01-25T16:42:40.614273Z"
    }
   },
   "cell_type": "code",
   "source": [
    "features = [\n",
    "    'age',\n",
    "    'balance',\n",
    "    'campaign',\n",
    "    'previous',\n",
    "    'housing',\n",
    "] + list(job_encoded_df.columns) + list(marital_encoded_df.columns)\n",
    "\n",
    "response_var = 'conversion'"
   ],
   "id": "e967df453d40a2b1",
   "outputs": [],
   "execution_count": 80
  },
  {
   "metadata": {
    "ExecuteTime": {
     "end_time": "2025-01-25T16:42:40.732257Z",
     "start_time": "2025-01-25T16:42:40.729745Z"
    }
   },
   "cell_type": "code",
   "source": "features",
   "id": "5793e26850066dcc",
   "outputs": [
    {
     "data": {
      "text/plain": [
       "['age',\n",
       " 'balance',\n",
       " 'campaign',\n",
       " 'previous',\n",
       " 'housing',\n",
       " 'job_admin.',\n",
       " 'job_blue-collar',\n",
       " 'job_entrepreneur',\n",
       " 'job_housemaid',\n",
       " 'job_management',\n",
       " 'job_retired',\n",
       " 'job_self-employed',\n",
       " 'job_services',\n",
       " 'job_student',\n",
       " 'job_technician',\n",
       " 'job_unemployed',\n",
       " 'job_unknown',\n",
       " 'marital_divorced',\n",
       " 'marital_married',\n",
       " 'marital_single']"
      ]
     },
     "execution_count": 81,
     "metadata": {},
     "output_type": "execute_result"
    }
   ],
   "execution_count": 81
  },
  {
   "metadata": {
    "ExecuteTime": {
     "end_time": "2025-01-25T16:43:54.867346Z",
     "start_time": "2025-01-25T16:43:53.739036Z"
    }
   },
   "cell_type": "code",
   "source": "from sklearn import tree",
   "id": "f63491f158512495",
   "outputs": [],
   "execution_count": 82
  },
  {
   "metadata": {
    "ExecuteTime": {
     "end_time": "2025-01-25T16:44:33.386742Z",
     "start_time": "2025-01-25T16:44:33.368402Z"
    }
   },
   "cell_type": "code",
   "source": [
    "dt_model = tree.DecisionTreeClassifier(\n",
    "    max_depth=4\n",
    ")"
   ],
   "id": "9cacd8e04a24f906",
   "outputs": [],
   "execution_count": 83
  },
  {
   "metadata": {
    "ExecuteTime": {
     "end_time": "2025-01-25T16:45:54.338300Z",
     "start_time": "2025-01-25T16:45:54.253206Z"
    }
   },
   "cell_type": "code",
   "source": "dt_model.fit(df[features], df['conversion'])",
   "id": "3409a2395cc5a1ac",
   "outputs": [
    {
     "data": {
      "text/plain": [
       "DecisionTreeClassifier(max_depth=4)"
      ],
      "text/html": [
       "<style>#sk-container-id-1 {\n",
       "  /* Definition of color scheme common for light and dark mode */\n",
       "  --sklearn-color-text: #000;\n",
       "  --sklearn-color-text-muted: #666;\n",
       "  --sklearn-color-line: gray;\n",
       "  /* Definition of color scheme for unfitted estimators */\n",
       "  --sklearn-color-unfitted-level-0: #fff5e6;\n",
       "  --sklearn-color-unfitted-level-1: #f6e4d2;\n",
       "  --sklearn-color-unfitted-level-2: #ffe0b3;\n",
       "  --sklearn-color-unfitted-level-3: chocolate;\n",
       "  /* Definition of color scheme for fitted estimators */\n",
       "  --sklearn-color-fitted-level-0: #f0f8ff;\n",
       "  --sklearn-color-fitted-level-1: #d4ebff;\n",
       "  --sklearn-color-fitted-level-2: #b3dbfd;\n",
       "  --sklearn-color-fitted-level-3: cornflowerblue;\n",
       "\n",
       "  /* Specific color for light theme */\n",
       "  --sklearn-color-text-on-default-background: var(--sg-text-color, var(--theme-code-foreground, var(--jp-content-font-color1, black)));\n",
       "  --sklearn-color-background: var(--sg-background-color, var(--theme-background, var(--jp-layout-color0, white)));\n",
       "  --sklearn-color-border-box: var(--sg-text-color, var(--theme-code-foreground, var(--jp-content-font-color1, black)));\n",
       "  --sklearn-color-icon: #696969;\n",
       "\n",
       "  @media (prefers-color-scheme: dark) {\n",
       "    /* Redefinition of color scheme for dark theme */\n",
       "    --sklearn-color-text-on-default-background: var(--sg-text-color, var(--theme-code-foreground, var(--jp-content-font-color1, white)));\n",
       "    --sklearn-color-background: var(--sg-background-color, var(--theme-background, var(--jp-layout-color0, #111)));\n",
       "    --sklearn-color-border-box: var(--sg-text-color, var(--theme-code-foreground, var(--jp-content-font-color1, white)));\n",
       "    --sklearn-color-icon: #878787;\n",
       "  }\n",
       "}\n",
       "\n",
       "#sk-container-id-1 {\n",
       "  color: var(--sklearn-color-text);\n",
       "}\n",
       "\n",
       "#sk-container-id-1 pre {\n",
       "  padding: 0;\n",
       "}\n",
       "\n",
       "#sk-container-id-1 input.sk-hidden--visually {\n",
       "  border: 0;\n",
       "  clip: rect(1px 1px 1px 1px);\n",
       "  clip: rect(1px, 1px, 1px, 1px);\n",
       "  height: 1px;\n",
       "  margin: -1px;\n",
       "  overflow: hidden;\n",
       "  padding: 0;\n",
       "  position: absolute;\n",
       "  width: 1px;\n",
       "}\n",
       "\n",
       "#sk-container-id-1 div.sk-dashed-wrapped {\n",
       "  border: 1px dashed var(--sklearn-color-line);\n",
       "  margin: 0 0.4em 0.5em 0.4em;\n",
       "  box-sizing: border-box;\n",
       "  padding-bottom: 0.4em;\n",
       "  background-color: var(--sklearn-color-background);\n",
       "}\n",
       "\n",
       "#sk-container-id-1 div.sk-container {\n",
       "  /* jupyter's `normalize.less` sets `[hidden] { display: none; }`\n",
       "     but bootstrap.min.css set `[hidden] { display: none !important; }`\n",
       "     so we also need the `!important` here to be able to override the\n",
       "     default hidden behavior on the sphinx rendered scikit-learn.org.\n",
       "     See: https://github.com/scikit-learn/scikit-learn/issues/21755 */\n",
       "  display: inline-block !important;\n",
       "  position: relative;\n",
       "}\n",
       "\n",
       "#sk-container-id-1 div.sk-text-repr-fallback {\n",
       "  display: none;\n",
       "}\n",
       "\n",
       "div.sk-parallel-item,\n",
       "div.sk-serial,\n",
       "div.sk-item {\n",
       "  /* draw centered vertical line to link estimators */\n",
       "  background-image: linear-gradient(var(--sklearn-color-text-on-default-background), var(--sklearn-color-text-on-default-background));\n",
       "  background-size: 2px 100%;\n",
       "  background-repeat: no-repeat;\n",
       "  background-position: center center;\n",
       "}\n",
       "\n",
       "/* Parallel-specific style estimator block */\n",
       "\n",
       "#sk-container-id-1 div.sk-parallel-item::after {\n",
       "  content: \"\";\n",
       "  width: 100%;\n",
       "  border-bottom: 2px solid var(--sklearn-color-text-on-default-background);\n",
       "  flex-grow: 1;\n",
       "}\n",
       "\n",
       "#sk-container-id-1 div.sk-parallel {\n",
       "  display: flex;\n",
       "  align-items: stretch;\n",
       "  justify-content: center;\n",
       "  background-color: var(--sklearn-color-background);\n",
       "  position: relative;\n",
       "}\n",
       "\n",
       "#sk-container-id-1 div.sk-parallel-item {\n",
       "  display: flex;\n",
       "  flex-direction: column;\n",
       "}\n",
       "\n",
       "#sk-container-id-1 div.sk-parallel-item:first-child::after {\n",
       "  align-self: flex-end;\n",
       "  width: 50%;\n",
       "}\n",
       "\n",
       "#sk-container-id-1 div.sk-parallel-item:last-child::after {\n",
       "  align-self: flex-start;\n",
       "  width: 50%;\n",
       "}\n",
       "\n",
       "#sk-container-id-1 div.sk-parallel-item:only-child::after {\n",
       "  width: 0;\n",
       "}\n",
       "\n",
       "/* Serial-specific style estimator block */\n",
       "\n",
       "#sk-container-id-1 div.sk-serial {\n",
       "  display: flex;\n",
       "  flex-direction: column;\n",
       "  align-items: center;\n",
       "  background-color: var(--sklearn-color-background);\n",
       "  padding-right: 1em;\n",
       "  padding-left: 1em;\n",
       "}\n",
       "\n",
       "\n",
       "/* Toggleable style: style used for estimator/Pipeline/ColumnTransformer box that is\n",
       "clickable and can be expanded/collapsed.\n",
       "- Pipeline and ColumnTransformer use this feature and define the default style\n",
       "- Estimators will overwrite some part of the style using the `sk-estimator` class\n",
       "*/\n",
       "\n",
       "/* Pipeline and ColumnTransformer style (default) */\n",
       "\n",
       "#sk-container-id-1 div.sk-toggleable {\n",
       "  /* Default theme specific background. It is overwritten whether we have a\n",
       "  specific estimator or a Pipeline/ColumnTransformer */\n",
       "  background-color: var(--sklearn-color-background);\n",
       "}\n",
       "\n",
       "/* Toggleable label */\n",
       "#sk-container-id-1 label.sk-toggleable__label {\n",
       "  cursor: pointer;\n",
       "  display: flex;\n",
       "  width: 100%;\n",
       "  margin-bottom: 0;\n",
       "  padding: 0.5em;\n",
       "  box-sizing: border-box;\n",
       "  text-align: center;\n",
       "  align-items: start;\n",
       "  justify-content: space-between;\n",
       "  gap: 0.5em;\n",
       "}\n",
       "\n",
       "#sk-container-id-1 label.sk-toggleable__label .caption {\n",
       "  font-size: 0.6rem;\n",
       "  font-weight: lighter;\n",
       "  color: var(--sklearn-color-text-muted);\n",
       "}\n",
       "\n",
       "#sk-container-id-1 label.sk-toggleable__label-arrow:before {\n",
       "  /* Arrow on the left of the label */\n",
       "  content: \"▸\";\n",
       "  float: left;\n",
       "  margin-right: 0.25em;\n",
       "  color: var(--sklearn-color-icon);\n",
       "}\n",
       "\n",
       "#sk-container-id-1 label.sk-toggleable__label-arrow:hover:before {\n",
       "  color: var(--sklearn-color-text);\n",
       "}\n",
       "\n",
       "/* Toggleable content - dropdown */\n",
       "\n",
       "#sk-container-id-1 div.sk-toggleable__content {\n",
       "  max-height: 0;\n",
       "  max-width: 0;\n",
       "  overflow: hidden;\n",
       "  text-align: left;\n",
       "  /* unfitted */\n",
       "  background-color: var(--sklearn-color-unfitted-level-0);\n",
       "}\n",
       "\n",
       "#sk-container-id-1 div.sk-toggleable__content.fitted {\n",
       "  /* fitted */\n",
       "  background-color: var(--sklearn-color-fitted-level-0);\n",
       "}\n",
       "\n",
       "#sk-container-id-1 div.sk-toggleable__content pre {\n",
       "  margin: 0.2em;\n",
       "  border-radius: 0.25em;\n",
       "  color: var(--sklearn-color-text);\n",
       "  /* unfitted */\n",
       "  background-color: var(--sklearn-color-unfitted-level-0);\n",
       "}\n",
       "\n",
       "#sk-container-id-1 div.sk-toggleable__content.fitted pre {\n",
       "  /* unfitted */\n",
       "  background-color: var(--sklearn-color-fitted-level-0);\n",
       "}\n",
       "\n",
       "#sk-container-id-1 input.sk-toggleable__control:checked~div.sk-toggleable__content {\n",
       "  /* Expand drop-down */\n",
       "  max-height: 200px;\n",
       "  max-width: 100%;\n",
       "  overflow: auto;\n",
       "}\n",
       "\n",
       "#sk-container-id-1 input.sk-toggleable__control:checked~label.sk-toggleable__label-arrow:before {\n",
       "  content: \"▾\";\n",
       "}\n",
       "\n",
       "/* Pipeline/ColumnTransformer-specific style */\n",
       "\n",
       "#sk-container-id-1 div.sk-label input.sk-toggleable__control:checked~label.sk-toggleable__label {\n",
       "  color: var(--sklearn-color-text);\n",
       "  background-color: var(--sklearn-color-unfitted-level-2);\n",
       "}\n",
       "\n",
       "#sk-container-id-1 div.sk-label.fitted input.sk-toggleable__control:checked~label.sk-toggleable__label {\n",
       "  background-color: var(--sklearn-color-fitted-level-2);\n",
       "}\n",
       "\n",
       "/* Estimator-specific style */\n",
       "\n",
       "/* Colorize estimator box */\n",
       "#sk-container-id-1 div.sk-estimator input.sk-toggleable__control:checked~label.sk-toggleable__label {\n",
       "  /* unfitted */\n",
       "  background-color: var(--sklearn-color-unfitted-level-2);\n",
       "}\n",
       "\n",
       "#sk-container-id-1 div.sk-estimator.fitted input.sk-toggleable__control:checked~label.sk-toggleable__label {\n",
       "  /* fitted */\n",
       "  background-color: var(--sklearn-color-fitted-level-2);\n",
       "}\n",
       "\n",
       "#sk-container-id-1 div.sk-label label.sk-toggleable__label,\n",
       "#sk-container-id-1 div.sk-label label {\n",
       "  /* The background is the default theme color */\n",
       "  color: var(--sklearn-color-text-on-default-background);\n",
       "}\n",
       "\n",
       "/* On hover, darken the color of the background */\n",
       "#sk-container-id-1 div.sk-label:hover label.sk-toggleable__label {\n",
       "  color: var(--sklearn-color-text);\n",
       "  background-color: var(--sklearn-color-unfitted-level-2);\n",
       "}\n",
       "\n",
       "/* Label box, darken color on hover, fitted */\n",
       "#sk-container-id-1 div.sk-label.fitted:hover label.sk-toggleable__label.fitted {\n",
       "  color: var(--sklearn-color-text);\n",
       "  background-color: var(--sklearn-color-fitted-level-2);\n",
       "}\n",
       "\n",
       "/* Estimator label */\n",
       "\n",
       "#sk-container-id-1 div.sk-label label {\n",
       "  font-family: monospace;\n",
       "  font-weight: bold;\n",
       "  display: inline-block;\n",
       "  line-height: 1.2em;\n",
       "}\n",
       "\n",
       "#sk-container-id-1 div.sk-label-container {\n",
       "  text-align: center;\n",
       "}\n",
       "\n",
       "/* Estimator-specific */\n",
       "#sk-container-id-1 div.sk-estimator {\n",
       "  font-family: monospace;\n",
       "  border: 1px dotted var(--sklearn-color-border-box);\n",
       "  border-radius: 0.25em;\n",
       "  box-sizing: border-box;\n",
       "  margin-bottom: 0.5em;\n",
       "  /* unfitted */\n",
       "  background-color: var(--sklearn-color-unfitted-level-0);\n",
       "}\n",
       "\n",
       "#sk-container-id-1 div.sk-estimator.fitted {\n",
       "  /* fitted */\n",
       "  background-color: var(--sklearn-color-fitted-level-0);\n",
       "}\n",
       "\n",
       "/* on hover */\n",
       "#sk-container-id-1 div.sk-estimator:hover {\n",
       "  /* unfitted */\n",
       "  background-color: var(--sklearn-color-unfitted-level-2);\n",
       "}\n",
       "\n",
       "#sk-container-id-1 div.sk-estimator.fitted:hover {\n",
       "  /* fitted */\n",
       "  background-color: var(--sklearn-color-fitted-level-2);\n",
       "}\n",
       "\n",
       "/* Specification for estimator info (e.g. \"i\" and \"?\") */\n",
       "\n",
       "/* Common style for \"i\" and \"?\" */\n",
       "\n",
       ".sk-estimator-doc-link,\n",
       "a:link.sk-estimator-doc-link,\n",
       "a:visited.sk-estimator-doc-link {\n",
       "  float: right;\n",
       "  font-size: smaller;\n",
       "  line-height: 1em;\n",
       "  font-family: monospace;\n",
       "  background-color: var(--sklearn-color-background);\n",
       "  border-radius: 1em;\n",
       "  height: 1em;\n",
       "  width: 1em;\n",
       "  text-decoration: none !important;\n",
       "  margin-left: 0.5em;\n",
       "  text-align: center;\n",
       "  /* unfitted */\n",
       "  border: var(--sklearn-color-unfitted-level-1) 1pt solid;\n",
       "  color: var(--sklearn-color-unfitted-level-1);\n",
       "}\n",
       "\n",
       ".sk-estimator-doc-link.fitted,\n",
       "a:link.sk-estimator-doc-link.fitted,\n",
       "a:visited.sk-estimator-doc-link.fitted {\n",
       "  /* fitted */\n",
       "  border: var(--sklearn-color-fitted-level-1) 1pt solid;\n",
       "  color: var(--sklearn-color-fitted-level-1);\n",
       "}\n",
       "\n",
       "/* On hover */\n",
       "div.sk-estimator:hover .sk-estimator-doc-link:hover,\n",
       ".sk-estimator-doc-link:hover,\n",
       "div.sk-label-container:hover .sk-estimator-doc-link:hover,\n",
       ".sk-estimator-doc-link:hover {\n",
       "  /* unfitted */\n",
       "  background-color: var(--sklearn-color-unfitted-level-3);\n",
       "  color: var(--sklearn-color-background);\n",
       "  text-decoration: none;\n",
       "}\n",
       "\n",
       "div.sk-estimator.fitted:hover .sk-estimator-doc-link.fitted:hover,\n",
       ".sk-estimator-doc-link.fitted:hover,\n",
       "div.sk-label-container:hover .sk-estimator-doc-link.fitted:hover,\n",
       ".sk-estimator-doc-link.fitted:hover {\n",
       "  /* fitted */\n",
       "  background-color: var(--sklearn-color-fitted-level-3);\n",
       "  color: var(--sklearn-color-background);\n",
       "  text-decoration: none;\n",
       "}\n",
       "\n",
       "/* Span, style for the box shown on hovering the info icon */\n",
       ".sk-estimator-doc-link span {\n",
       "  display: none;\n",
       "  z-index: 9999;\n",
       "  position: relative;\n",
       "  font-weight: normal;\n",
       "  right: .2ex;\n",
       "  padding: .5ex;\n",
       "  margin: .5ex;\n",
       "  width: min-content;\n",
       "  min-width: 20ex;\n",
       "  max-width: 50ex;\n",
       "  color: var(--sklearn-color-text);\n",
       "  box-shadow: 2pt 2pt 4pt #999;\n",
       "  /* unfitted */\n",
       "  background: var(--sklearn-color-unfitted-level-0);\n",
       "  border: .5pt solid var(--sklearn-color-unfitted-level-3);\n",
       "}\n",
       "\n",
       ".sk-estimator-doc-link.fitted span {\n",
       "  /* fitted */\n",
       "  background: var(--sklearn-color-fitted-level-0);\n",
       "  border: var(--sklearn-color-fitted-level-3);\n",
       "}\n",
       "\n",
       ".sk-estimator-doc-link:hover span {\n",
       "  display: block;\n",
       "}\n",
       "\n",
       "/* \"?\"-specific style due to the `<a>` HTML tag */\n",
       "\n",
       "#sk-container-id-1 a.estimator_doc_link {\n",
       "  float: right;\n",
       "  font-size: 1rem;\n",
       "  line-height: 1em;\n",
       "  font-family: monospace;\n",
       "  background-color: var(--sklearn-color-background);\n",
       "  border-radius: 1rem;\n",
       "  height: 1rem;\n",
       "  width: 1rem;\n",
       "  text-decoration: none;\n",
       "  /* unfitted */\n",
       "  color: var(--sklearn-color-unfitted-level-1);\n",
       "  border: var(--sklearn-color-unfitted-level-1) 1pt solid;\n",
       "}\n",
       "\n",
       "#sk-container-id-1 a.estimator_doc_link.fitted {\n",
       "  /* fitted */\n",
       "  border: var(--sklearn-color-fitted-level-1) 1pt solid;\n",
       "  color: var(--sklearn-color-fitted-level-1);\n",
       "}\n",
       "\n",
       "/* On hover */\n",
       "#sk-container-id-1 a.estimator_doc_link:hover {\n",
       "  /* unfitted */\n",
       "  background-color: var(--sklearn-color-unfitted-level-3);\n",
       "  color: var(--sklearn-color-background);\n",
       "  text-decoration: none;\n",
       "}\n",
       "\n",
       "#sk-container-id-1 a.estimator_doc_link.fitted:hover {\n",
       "  /* fitted */\n",
       "  background-color: var(--sklearn-color-fitted-level-3);\n",
       "}\n",
       "</style><div id=\"sk-container-id-1\" class=\"sk-top-container\"><div class=\"sk-text-repr-fallback\"><pre>DecisionTreeClassifier(max_depth=4)</pre><b>In a Jupyter environment, please rerun this cell to show the HTML representation or trust the notebook. <br />On GitHub, the HTML representation is unable to render, please try loading this page with nbviewer.org.</b></div><div class=\"sk-container\" hidden><div class=\"sk-item\"><div class=\"sk-estimator fitted sk-toggleable\"><input class=\"sk-toggleable__control sk-hidden--visually\" id=\"sk-estimator-id-1\" type=\"checkbox\" checked><label for=\"sk-estimator-id-1\" class=\"sk-toggleable__label fitted sk-toggleable__label-arrow\"><div><div>DecisionTreeClassifier</div></div><div><a class=\"sk-estimator-doc-link fitted\" rel=\"noreferrer\" target=\"_blank\" href=\"https://scikit-learn.org/1.6/modules/generated/sklearn.tree.DecisionTreeClassifier.html\">?<span>Documentation for DecisionTreeClassifier</span></a><span class=\"sk-estimator-doc-link fitted\">i<span>Fitted</span></span></div></label><div class=\"sk-toggleable__content fitted\"><pre>DecisionTreeClassifier(max_depth=4)</pre></div> </div></div></div></div>"
      ]
     },
     "execution_count": 84,
     "metadata": {},
     "output_type": "execute_result"
    }
   ],
   "execution_count": 84
  },
  {
   "metadata": {
    "ExecuteTime": {
     "end_time": "2025-01-25T16:46:05.649618Z",
     "start_time": "2025-01-25T16:46:05.637263Z"
    }
   },
   "cell_type": "code",
   "source": "dt_model.classes_",
   "id": "13bd9ce9fe94aaef",
   "outputs": [
    {
     "data": {
      "text/plain": [
       "array([0, 1])"
      ]
     },
     "execution_count": 85,
     "metadata": {},
     "output_type": "execute_result"
    }
   ],
   "execution_count": 85
  },
  {
   "metadata": {},
   "cell_type": "markdown",
   "source": "# 5. Interpreting Decision Tree Model",
   "id": "d5ef4fffe55f1742"
  },
  {
   "metadata": {
    "ExecuteTime": {
     "end_time": "2025-01-25T16:48:22.909493Z",
     "start_time": "2025-01-25T16:48:22.847890Z"
    }
   },
   "cell_type": "code",
   "source": "import graphviz",
   "id": "b2dfd28da1bd1aa7",
   "outputs": [],
   "execution_count": 86
  },
  {
   "metadata": {
    "ExecuteTime": {
     "end_time": "2025-01-25T16:54:33.742122Z",
     "start_time": "2025-01-25T16:54:33.703606Z"
    }
   },
   "cell_type": "code",
   "source": [
    "dot_data = tree.export_graphviz(\n",
    "    dt_model,\n",
    "    feature_names=features,\n",
    "    class_names=['0', '1'],\n",
    "    out_file=None,\n",
    "    filled=True,\n",
    "    rounded=True,\n",
    "    special_characters=True\n",
    ")"
   ],
   "id": "2aa1b67000ff4e26",
   "outputs": [],
   "execution_count": 87
  },
  {
   "metadata": {
    "ExecuteTime": {
     "end_time": "2025-01-25T16:54:40.872533Z",
     "start_time": "2025-01-25T16:54:40.865331Z"
    }
   },
   "cell_type": "code",
   "source": "graph = graphviz.Source(dot_data)",
   "id": "32fa5e3b835bcc10",
   "outputs": [],
   "execution_count": 88
  },
  {
   "metadata": {
    "ExecuteTime": {
     "end_time": "2025-01-25T17:15:47.534850Z",
     "start_time": "2025-01-25T17:15:45.667787Z"
    }
   },
   "cell_type": "code",
   "source": [
    "from IPython.core.display import display, HTML\n",
    "display(HTML(\"<style>text {font-size: 10px;}</style>\"))\n",
    "\n",
    "graph"
   ],
   "id": "1e34854f533713b1",
   "outputs": [
    {
     "name": "stderr",
     "output_type": "stream",
     "text": [
      "/var/folders/hn/c6llvp_d7tb8qrb26k5k5r3w0000gn/T/ipykernel_84547/176354467.py:1: DeprecationWarning: Importing display from IPython.core.display is deprecated since IPython 7.14, please import from IPython.display\n",
      "  from IPython.core.display import display, HTML\n"
     ]
    },
    {
     "data": {
      "text/plain": [
       "<IPython.core.display.HTML object>"
      ],
      "text/html": [
       "<style>text {font-size: 10px;}</style>"
      ]
     },
     "metadata": {},
     "output_type": "display_data"
    },
    {
     "data": {
      "image/svg+xml": "<?xml version=\"1.0\" encoding=\"UTF-8\" standalone=\"no\"?>\n<!DOCTYPE svg PUBLIC \"-//W3C//DTD SVG 1.1//EN\"\n \"http://www.w3.org/Graphics/SVG/1.1/DTD/svg11.dtd\">\n<!-- Generated by graphviz version 12.2.1 (20241206.2353)\n -->\n<!-- Title: Tree Pages: 1 -->\n<svg width=\"2210pt\" height=\"552pt\"\n viewBox=\"0.00 0.00 2209.75 552.00\" xmlns=\"http://www.w3.org/2000/svg\" xmlns:xlink=\"http://www.w3.org/1999/xlink\">\n<g id=\"graph0\" class=\"graph\" transform=\"scale(1 1) rotate(0) translate(4 548)\">\n<title>Tree</title>\n<polygon fill=\"white\" stroke=\"none\" points=\"-4,4 -4,-548 2205.75,-548 2205.75,4 -4,4\"/>\n<!-- 0 -->\n<g id=\"node1\" class=\"node\">\n<title>0</title>\n<path fill=\"#e89253\" stroke=\"black\" d=\"M1184,-544C1184,-544 1061.5,-544 1061.5,-544 1055.5,-544 1049.5,-538 1049.5,-532 1049.5,-532 1049.5,-473 1049.5,-473 1049.5,-467 1055.5,-461 1061.5,-461 1061.5,-461 1184,-461 1184,-461 1190,-461 1196,-467 1196,-473 1196,-473 1196,-532 1196,-532 1196,-538 1190,-544 1184,-544\"/>\n<text text-anchor=\"start\" x=\"1080.38\" y=\"-526.7\" font-family=\"Helvetica,sans-Serif\" font-size=\"14.00\">previous ≤ 0.5</text>\n<text text-anchor=\"start\" x=\"1087.5\" y=\"-511.7\" font-family=\"Helvetica,sans-Serif\" font-size=\"14.00\">gini = 0.207</text>\n<text text-anchor=\"start\" x=\"1070.62\" y=\"-496.7\" font-family=\"Helvetica,sans-Serif\" font-size=\"14.00\">samples = 45211</text>\n<text text-anchor=\"start\" x=\"1057.5\" y=\"-481.7\" font-family=\"Helvetica,sans-Serif\" font-size=\"14.00\">value = [39922, 5289]</text>\n<text text-anchor=\"start\" x=\"1095.75\" y=\"-466.7\" font-family=\"Helvetica,sans-Serif\" font-size=\"14.00\">class = 0</text>\n</g>\n<!-- 1 -->\n<g id=\"node2\" class=\"node\">\n<title>1</title>\n<path fill=\"#e88e4d\" stroke=\"black\" d=\"M930,-425C930,-425 807.5,-425 807.5,-425 801.5,-425 795.5,-419 795.5,-413 795.5,-413 795.5,-354 795.5,-354 795.5,-348 801.5,-342 807.5,-342 807.5,-342 930,-342 930,-342 936,-342 942,-348 942,-354 942,-354 942,-413 942,-413 942,-419 936,-425 930,-425\"/>\n<text text-anchor=\"start\" x=\"836.88\" y=\"-407.7\" font-family=\"Helvetica,sans-Serif\" font-size=\"14.00\">age ≤ 60.5</text>\n<text text-anchor=\"start\" x=\"833.5\" y=\"-392.7\" font-family=\"Helvetica,sans-Serif\" font-size=\"14.00\">gini = 0.166</text>\n<text text-anchor=\"start\" x=\"816.62\" y=\"-377.7\" font-family=\"Helvetica,sans-Serif\" font-size=\"14.00\">samples = 36954</text>\n<text text-anchor=\"start\" x=\"803.5\" y=\"-362.7\" font-family=\"Helvetica,sans-Serif\" font-size=\"14.00\">value = [33570, 3384]</text>\n<text text-anchor=\"start\" x=\"841.75\" y=\"-347.7\" font-family=\"Helvetica,sans-Serif\" font-size=\"14.00\">class = 0</text>\n</g>\n<!-- 0&#45;&gt;1 -->\n<g id=\"edge1\" class=\"edge\">\n<title>0&#45;&gt;1</title>\n<path fill=\"none\" stroke=\"black\" d=\"M1049.28,-467.66C1019.14,-453.77 984.07,-437.62 952.9,-423.26\"/>\n<polygon fill=\"black\" stroke=\"black\" points=\"954.41,-420.11 943.87,-419.1 951.48,-426.46 954.41,-420.11\"/>\n<text text-anchor=\"middle\" x=\"951.15\" y=\"-436.12\" font-family=\"Helvetica,sans-Serif\" font-size=\"14.00\">True</text>\n</g>\n<!-- 16 -->\n<g id=\"node17\" class=\"node\">\n<title>16</title>\n<path fill=\"#eda774\" stroke=\"black\" d=\"M1445.25,-425C1445.25,-425 1330.25,-425 1330.25,-425 1324.25,-425 1318.25,-419 1318.25,-413 1318.25,-413 1318.25,-354 1318.25,-354 1318.25,-348 1324.25,-342 1330.25,-342 1330.25,-342 1445.25,-342 1445.25,-342 1451.25,-342 1457.25,-348 1457.25,-354 1457.25,-354 1457.25,-413 1457.25,-413 1457.25,-419 1451.25,-425 1445.25,-425\"/>\n<text text-anchor=\"start\" x=\"1347.25\" y=\"-407.7\" font-family=\"Helvetica,sans-Serif\" font-size=\"14.00\">housing ≤ 0.5</text>\n<text text-anchor=\"start\" x=\"1352.5\" y=\"-392.7\" font-family=\"Helvetica,sans-Serif\" font-size=\"14.00\">gini = 0.355</text>\n<text text-anchor=\"start\" x=\"1339.38\" y=\"-377.7\" font-family=\"Helvetica,sans-Serif\" font-size=\"14.00\">samples = 8257</text>\n<text text-anchor=\"start\" x=\"1326.25\" y=\"-362.7\" font-family=\"Helvetica,sans-Serif\" font-size=\"14.00\">value = [6352, 1905]</text>\n<text text-anchor=\"start\" x=\"1360.75\" y=\"-347.7\" font-family=\"Helvetica,sans-Serif\" font-size=\"14.00\">class = 0</text>\n</g>\n<!-- 0&#45;&gt;16 -->\n<g id=\"edge16\" class=\"edge\">\n<title>0&#45;&gt;16</title>\n<path fill=\"none\" stroke=\"black\" d=\"M1196.22,-469.06C1230.79,-453.8 1272.11,-435.56 1307.5,-419.93\"/>\n<polygon fill=\"black\" stroke=\"black\" points=\"1308.67,-423.24 1316.41,-416 1305.85,-416.83 1308.67,-423.24\"/>\n<text text-anchor=\"middle\" x=\"1308.76\" y=\"-432.9\" font-family=\"Helvetica,sans-Serif\" font-size=\"14.00\">False</text>\n</g>\n<!-- 2 -->\n<g id=\"node3\" class=\"node\">\n<title>2</title>\n<path fill=\"#e78d4c\" stroke=\"black\" d=\"M522,-306C522,-306 399.5,-306 399.5,-306 393.5,-306 387.5,-300 387.5,-294 387.5,-294 387.5,-235 387.5,-235 387.5,-229 393.5,-223 399.5,-223 399.5,-223 522,-223 522,-223 528,-223 534,-229 534,-235 534,-235 534,-294 534,-294 534,-300 528,-306 522,-306\"/>\n<text text-anchor=\"start\" x=\"420.25\" y=\"-288.7\" font-family=\"Helvetica,sans-Serif\" font-size=\"14.00\">housing ≤ 0.5</text>\n<text text-anchor=\"start\" x=\"425.5\" y=\"-273.7\" font-family=\"Helvetica,sans-Serif\" font-size=\"14.00\">gini = 0.157</text>\n<text text-anchor=\"start\" x=\"408.62\" y=\"-258.7\" font-family=\"Helvetica,sans-Serif\" font-size=\"14.00\">samples = 36202</text>\n<text text-anchor=\"start\" x=\"395.5\" y=\"-243.7\" font-family=\"Helvetica,sans-Serif\" font-size=\"14.00\">value = [33102, 3100]</text>\n<text text-anchor=\"start\" x=\"433.75\" y=\"-228.7\" font-family=\"Helvetica,sans-Serif\" font-size=\"14.00\">class = 0</text>\n</g>\n<!-- 1&#45;&gt;2 -->\n<g id=\"edge2\" class=\"edge\">\n<title>1&#45;&gt;2</title>\n<path fill=\"none\" stroke=\"black\" d=\"M795.34,-361.45C724.92,-341.26 618.71,-310.8 544.91,-289.63\"/>\n<polygon fill=\"black\" stroke=\"black\" points=\"546.29,-286.39 535.72,-287 544.36,-293.12 546.29,-286.39\"/>\n</g>\n<!-- 9 -->\n<g id=\"node10\" class=\"node\">\n<title>9</title>\n<path fill=\"#f5cdb1\" stroke=\"black\" d=\"M931.5,-306C931.5,-306 806,-306 806,-306 800,-306 794,-300 794,-294 794,-294 794,-235 794,-235 794,-229 800,-223 806,-223 806,-223 931.5,-223 931.5,-223 937.5,-223 943.5,-229 943.5,-235 943.5,-235 943.5,-294 943.5,-294 943.5,-300 937.5,-306 931.5,-306\"/>\n<text text-anchor=\"start\" x=\"802\" y=\"-288.7\" font-family=\"Helvetica,sans-Serif\" font-size=\"14.00\">marital_divorced ≤ 0.5</text>\n<text text-anchor=\"start\" x=\"837.25\" y=\"-273.7\" font-family=\"Helvetica,sans-Serif\" font-size=\"14.00\">gini = 0.47</text>\n<text text-anchor=\"start\" x=\"824.12\" y=\"-258.7\" font-family=\"Helvetica,sans-Serif\" font-size=\"14.00\">samples = 752</text>\n<text text-anchor=\"start\" x=\"814.75\" y=\"-243.7\" font-family=\"Helvetica,sans-Serif\" font-size=\"14.00\">value = [468, 284]</text>\n<text text-anchor=\"start\" x=\"841.75\" y=\"-228.7\" font-family=\"Helvetica,sans-Serif\" font-size=\"14.00\">class = 0</text>\n</g>\n<!-- 1&#45;&gt;9 -->\n<g id=\"edge9\" class=\"edge\">\n<title>1&#45;&gt;9</title>\n<path fill=\"none\" stroke=\"black\" d=\"M868.75,-341.58C868.75,-333.79 868.75,-325.53 868.75,-317.45\"/>\n<polygon fill=\"black\" stroke=\"black\" points=\"872.25,-317.71 868.75,-307.71 865.25,-317.71 872.25,-317.71\"/>\n</g>\n<!-- 3 -->\n<g id=\"node4\" class=\"node\">\n<title>3</title>\n<path fill=\"#e89152\" stroke=\"black\" d=\"M284,-187C284,-187 161.5,-187 161.5,-187 155.5,-187 149.5,-181 149.5,-175 149.5,-175 149.5,-116 149.5,-116 149.5,-110 155.5,-104 161.5,-104 161.5,-104 284,-104 284,-104 290,-104 296,-110 296,-116 296,-116 296,-175 296,-175 296,-181 290,-187 284,-187\"/>\n<text text-anchor=\"start\" x=\"190.88\" y=\"-169.7\" font-family=\"Helvetica,sans-Serif\" font-size=\"14.00\">age ≤ 29.5</text>\n<text text-anchor=\"start\" x=\"195\" y=\"-154.7\" font-family=\"Helvetica,sans-Serif\" font-size=\"14.00\">gini = 0.2</text>\n<text text-anchor=\"start\" x=\"170.62\" y=\"-139.7\" font-family=\"Helvetica,sans-Serif\" font-size=\"14.00\">samples = 16263</text>\n<text text-anchor=\"start\" x=\"157.5\" y=\"-124.7\" font-family=\"Helvetica,sans-Serif\" font-size=\"14.00\">value = [14427, 1836]</text>\n<text text-anchor=\"start\" x=\"195.75\" y=\"-109.7\" font-family=\"Helvetica,sans-Serif\" font-size=\"14.00\">class = 0</text>\n</g>\n<!-- 2&#45;&gt;3 -->\n<g id=\"edge3\" class=\"edge\">\n<title>2&#45;&gt;3</title>\n<path fill=\"none\" stroke=\"black\" d=\"M387.08,-227.28C361.65,-214.78 332.97,-200.68 306.77,-187.81\"/>\n<polygon fill=\"black\" stroke=\"black\" points=\"308.36,-184.69 297.84,-183.42 305.27,-190.97 308.36,-184.69\"/>\n</g>\n<!-- 6 -->\n<g id=\"node7\" class=\"node\">\n<title>6</title>\n<path fill=\"#e78a46\" stroke=\"black\" d=\"M522,-187C522,-187 399.5,-187 399.5,-187 393.5,-187 387.5,-181 387.5,-175 387.5,-175 387.5,-116 387.5,-116 387.5,-110 393.5,-104 399.5,-104 399.5,-104 522,-104 522,-104 528,-104 534,-110 534,-116 534,-116 534,-175 534,-175 534,-181 528,-187 522,-187\"/>\n<text text-anchor=\"start\" x=\"396.25\" y=\"-169.7\" font-family=\"Helvetica,sans-Serif\" font-size=\"14.00\">marital_married ≤ 0.5</text>\n<text text-anchor=\"start\" x=\"425.5\" y=\"-154.7\" font-family=\"Helvetica,sans-Serif\" font-size=\"14.00\">gini = 0.119</text>\n<text text-anchor=\"start\" x=\"408.62\" y=\"-139.7\" font-family=\"Helvetica,sans-Serif\" font-size=\"14.00\">samples = 19939</text>\n<text text-anchor=\"start\" x=\"395.5\" y=\"-124.7\" font-family=\"Helvetica,sans-Serif\" font-size=\"14.00\">value = [18675, 1264]</text>\n<text text-anchor=\"start\" x=\"433.75\" y=\"-109.7\" font-family=\"Helvetica,sans-Serif\" font-size=\"14.00\">class = 0</text>\n</g>\n<!-- 2&#45;&gt;6 -->\n<g id=\"edge6\" class=\"edge\">\n<title>2&#45;&gt;6</title>\n<path fill=\"none\" stroke=\"black\" d=\"M460.75,-222.58C460.75,-214.79 460.75,-206.53 460.75,-198.45\"/>\n<polygon fill=\"black\" stroke=\"black\" points=\"464.25,-198.71 460.75,-188.71 457.25,-198.71 464.25,-198.71\"/>\n</g>\n<!-- 4 -->\n<g id=\"node5\" class=\"node\">\n<title>4</title>\n<path fill=\"#eda775\" stroke=\"black\" d=\"M119.5,-68C119.5,-68 12,-68 12,-68 6,-68 0,-62 0,-56 0,-56 0,-12 0,-12 0,-6 6,0 12,0 12,0 119.5,0 119.5,0 125.5,0 131.5,-6 131.5,-12 131.5,-12 131.5,-56 131.5,-56 131.5,-62 125.5,-68 119.5,-68\"/>\n<text text-anchor=\"start\" x=\"30.5\" y=\"-50.7\" font-family=\"Helvetica,sans-Serif\" font-size=\"14.00\">gini = 0.357</text>\n<text text-anchor=\"start\" x=\"17.38\" y=\"-35.7\" font-family=\"Helvetica,sans-Serif\" font-size=\"14.00\">samples = 1751</text>\n<text text-anchor=\"start\" x=\"8\" y=\"-20.7\" font-family=\"Helvetica,sans-Serif\" font-size=\"14.00\">value = [1343, 408]</text>\n<text text-anchor=\"start\" x=\"38.75\" y=\"-5.7\" font-family=\"Helvetica,sans-Serif\" font-size=\"14.00\">class = 0</text>\n</g>\n<!-- 3&#45;&gt;4 -->\n<g id=\"edge4\" class=\"edge\">\n<title>3&#45;&gt;4</title>\n<path fill=\"none\" stroke=\"black\" d=\"M164.29,-103.73C150.76,-94.29 136.38,-84.26 122.91,-74.86\"/>\n<polygon fill=\"black\" stroke=\"black\" points=\"125.19,-72.19 114.99,-69.34 121.19,-77.93 125.19,-72.19\"/>\n</g>\n<!-- 5 -->\n<g id=\"node6\" class=\"node\">\n<title>5</title>\n<path fill=\"#e88f4f\" stroke=\"black\" d=\"M284,-68C284,-68 161.5,-68 161.5,-68 155.5,-68 149.5,-62 149.5,-56 149.5,-56 149.5,-12 149.5,-12 149.5,-6 155.5,0 161.5,0 161.5,0 284,0 284,0 290,0 296,-6 296,-12 296,-12 296,-56 296,-56 296,-62 290,-68 284,-68\"/>\n<text text-anchor=\"start\" x=\"187.5\" y=\"-50.7\" font-family=\"Helvetica,sans-Serif\" font-size=\"14.00\">gini = 0.177</text>\n<text text-anchor=\"start\" x=\"170.62\" y=\"-35.7\" font-family=\"Helvetica,sans-Serif\" font-size=\"14.00\">samples = 14512</text>\n<text text-anchor=\"start\" x=\"157.5\" y=\"-20.7\" font-family=\"Helvetica,sans-Serif\" font-size=\"14.00\">value = [13084, 1428]</text>\n<text text-anchor=\"start\" x=\"195.75\" y=\"-5.7\" font-family=\"Helvetica,sans-Serif\" font-size=\"14.00\">class = 0</text>\n</g>\n<!-- 3&#45;&gt;5 -->\n<g id=\"edge5\" class=\"edge\">\n<title>3&#45;&gt;5</title>\n<path fill=\"none\" stroke=\"black\" d=\"M222.75,-103.73C222.75,-95.88 222.75,-87.63 222.75,-79.67\"/>\n<polygon fill=\"black\" stroke=\"black\" points=\"226.25,-79.81 222.75,-69.81 219.25,-79.81 226.25,-79.81\"/>\n</g>\n<!-- 7 -->\n<g id=\"node8\" class=\"node\">\n<title>7</title>\n<path fill=\"#e78c4a\" stroke=\"black\" d=\"M433.5,-68C433.5,-68 326,-68 326,-68 320,-68 314,-62 314,-56 314,-56 314,-12 314,-12 314,-6 320,0 326,0 326,0 433.5,0 433.5,0 439.5,0 445.5,-6 445.5,-12 445.5,-12 445.5,-56 445.5,-56 445.5,-62 439.5,-68 433.5,-68\"/>\n<text text-anchor=\"start\" x=\"344.5\" y=\"-50.7\" font-family=\"Helvetica,sans-Serif\" font-size=\"14.00\">gini = 0.149</text>\n<text text-anchor=\"start\" x=\"331.38\" y=\"-35.7\" font-family=\"Helvetica,sans-Serif\" font-size=\"14.00\">samples = 7665</text>\n<text text-anchor=\"start\" x=\"322\" y=\"-20.7\" font-family=\"Helvetica,sans-Serif\" font-size=\"14.00\">value = [7043, 622]</text>\n<text text-anchor=\"start\" x=\"352.75\" y=\"-5.7\" font-family=\"Helvetica,sans-Serif\" font-size=\"14.00\">class = 0</text>\n</g>\n<!-- 6&#45;&gt;7 -->\n<g id=\"edge7\" class=\"edge\">\n<title>6&#45;&gt;7</title>\n<path fill=\"none\" stroke=\"black\" d=\"M430.59,-103.73C424.25,-95.15 417.54,-86.09 411.16,-77.46\"/>\n<polygon fill=\"black\" stroke=\"black\" points=\"414.04,-75.47 405.28,-69.52 408.42,-79.64 414.04,-75.47\"/>\n</g>\n<!-- 8 -->\n<g id=\"node9\" class=\"node\">\n<title>8</title>\n<path fill=\"#e68844\" stroke=\"black\" d=\"M590.25,-68C590.25,-68 475.25,-68 475.25,-68 469.25,-68 463.25,-62 463.25,-56 463.25,-56 463.25,-12 463.25,-12 463.25,-6 469.25,0 475.25,0 475.25,0 590.25,0 590.25,0 596.25,0 602.25,-6 602.25,-12 602.25,-12 602.25,-56 602.25,-56 602.25,-62 596.25,-68 590.25,-68\"/>\n<text text-anchor=\"start\" x=\"497.5\" y=\"-50.7\" font-family=\"Helvetica,sans-Serif\" font-size=\"14.00\">gini = 0.099</text>\n<text text-anchor=\"start\" x=\"480.62\" y=\"-35.7\" font-family=\"Helvetica,sans-Serif\" font-size=\"14.00\">samples = 12274</text>\n<text text-anchor=\"start\" x=\"471.25\" y=\"-20.7\" font-family=\"Helvetica,sans-Serif\" font-size=\"14.00\">value = [11632, 642]</text>\n<text text-anchor=\"start\" x=\"505.75\" y=\"-5.7\" font-family=\"Helvetica,sans-Serif\" font-size=\"14.00\">class = 0</text>\n</g>\n<!-- 6&#45;&gt;8 -->\n<g id=\"edge8\" class=\"edge\">\n<title>6&#45;&gt;8</title>\n<path fill=\"none\" stroke=\"black\" d=\"M487.56,-103.73C493.14,-95.24 499.03,-86.28 504.65,-77.73\"/>\n<polygon fill=\"black\" stroke=\"black\" points=\"507.45,-79.84 510.02,-69.56 501.6,-76 507.45,-79.84\"/>\n</g>\n<!-- 10 -->\n<g id=\"node11\" class=\"node\">\n<title>10</title>\n<path fill=\"#f3c5a3\" stroke=\"black\" d=\"M844.25,-187C844.25,-187 723.25,-187 723.25,-187 717.25,-187 711.25,-181 711.25,-175 711.25,-175 711.25,-116 711.25,-116 711.25,-110 717.25,-104 723.25,-104 723.25,-104 844.25,-104 844.25,-104 850.25,-104 856.25,-110 856.25,-116 856.25,-116 856.25,-175 856.25,-175 856.25,-181 850.25,-187 844.25,-187\"/>\n<text text-anchor=\"start\" x=\"719.25\" y=\"-169.7\" font-family=\"Helvetica,sans-Serif\" font-size=\"14.00\">marital_married ≤ 0.5</text>\n<text text-anchor=\"start\" x=\"748.5\" y=\"-154.7\" font-family=\"Helvetica,sans-Serif\" font-size=\"14.00\">gini = 0.455</text>\n<text text-anchor=\"start\" x=\"739.12\" y=\"-139.7\" font-family=\"Helvetica,sans-Serif\" font-size=\"14.00\">samples = 615</text>\n<text text-anchor=\"start\" x=\"729.75\" y=\"-124.7\" font-family=\"Helvetica,sans-Serif\" font-size=\"14.00\">value = [400, 215]</text>\n<text text-anchor=\"start\" x=\"756.75\" y=\"-109.7\" font-family=\"Helvetica,sans-Serif\" font-size=\"14.00\">class = 0</text>\n</g>\n<!-- 9&#45;&gt;10 -->\n<g id=\"edge10\" class=\"edge\">\n<title>9&#45;&gt;10</title>\n<path fill=\"none\" stroke=\"black\" d=\"M839.02,-222.58C832.9,-214.16 826.4,-205.2 820.08,-196.5\"/>\n<polygon fill=\"black\" stroke=\"black\" points=\"822.92,-194.46 814.21,-188.42 817.25,-198.57 822.92,-194.46\"/>\n</g>\n<!-- 13 -->\n<g id=\"node14\" class=\"node\">\n<title>13</title>\n<path fill=\"#fcfeff\" stroke=\"black\" d=\"M1022.75,-187C1022.75,-187 886.75,-187 886.75,-187 880.75,-187 874.75,-181 874.75,-175 874.75,-175 874.75,-116 874.75,-116 874.75,-110 880.75,-104 886.75,-104 886.75,-104 1022.75,-104 1022.75,-104 1028.75,-104 1034.75,-110 1034.75,-116 1034.75,-116 1034.75,-175 1034.75,-175 1034.75,-181 1028.75,-187 1022.75,-187\"/>\n<text text-anchor=\"start\" x=\"882.75\" y=\"-169.7\" font-family=\"Helvetica,sans-Serif\" font-size=\"14.00\">job_self&#45;employed ≤ 0.5</text>\n<text text-anchor=\"start\" x=\"927\" y=\"-154.7\" font-family=\"Helvetica,sans-Serif\" font-size=\"14.00\">gini = 0.5</text>\n<text text-anchor=\"start\" x=\"910.12\" y=\"-139.7\" font-family=\"Helvetica,sans-Serif\" font-size=\"14.00\">samples = 137</text>\n<text text-anchor=\"start\" x=\"908.25\" y=\"-124.7\" font-family=\"Helvetica,sans-Serif\" font-size=\"14.00\">value = [68, 69]</text>\n<text text-anchor=\"start\" x=\"927.75\" y=\"-109.7\" font-family=\"Helvetica,sans-Serif\" font-size=\"14.00\">class = 1</text>\n</g>\n<!-- 9&#45;&gt;13 -->\n<g id=\"edge13\" class=\"edge\">\n<title>9&#45;&gt;13</title>\n<path fill=\"none\" stroke=\"black\" d=\"M898.83,-222.58C905.08,-214.07 911.74,-205.01 918.2,-196.23\"/>\n<polygon fill=\"black\" stroke=\"black\" points=\"920.83,-198.55 923.94,-188.42 915.19,-194.4 920.83,-198.55\"/>\n</g>\n<!-- 11 -->\n<g id=\"node12\" class=\"node\">\n<title>11</title>\n<path fill=\"#ea995f\" stroke=\"black\" d=\"M709.5,-68C709.5,-68 632,-68 632,-68 626,-68 620,-62 620,-56 620,-56 620,-12 620,-12 620,-6 626,0 632,0 632,0 709.5,0 709.5,0 715.5,0 721.5,-6 721.5,-12 721.5,-12 721.5,-56 721.5,-56 721.5,-62 715.5,-68 709.5,-68\"/>\n<text text-anchor=\"start\" x=\"635.5\" y=\"-50.7\" font-family=\"Helvetica,sans-Serif\" font-size=\"14.00\">gini = 0.269</text>\n<text text-anchor=\"start\" x=\"629.88\" y=\"-35.7\" font-family=\"Helvetica,sans-Serif\" font-size=\"14.00\">samples = 25</text>\n<text text-anchor=\"start\" x=\"628\" y=\"-20.7\" font-family=\"Helvetica,sans-Serif\" font-size=\"14.00\">value = [21, 4]</text>\n<text text-anchor=\"start\" x=\"643.75\" y=\"-5.7\" font-family=\"Helvetica,sans-Serif\" font-size=\"14.00\">class = 0</text>\n</g>\n<!-- 10&#45;&gt;11 -->\n<g id=\"edge11\" class=\"edge\">\n<title>10&#45;&gt;11</title>\n<path fill=\"none\" stroke=\"black\" d=\"M741.67,-103.73C732.35,-94.7 722.48,-85.12 713.14,-76.08\"/>\n<polygon fill=\"black\" stroke=\"black\" points=\"715.82,-73.8 706.2,-69.35 710.95,-78.83 715.82,-73.8\"/>\n</g>\n<!-- 12 -->\n<g id=\"node13\" class=\"node\">\n<title>12</title>\n<path fill=\"#f3c7a7\" stroke=\"black\" d=\"M851.75,-68C851.75,-68 751.75,-68 751.75,-68 745.75,-68 739.75,-62 739.75,-56 739.75,-56 739.75,-12 739.75,-12 739.75,-6 745.75,0 751.75,0 751.75,0 851.75,0 851.75,0 857.75,0 863.75,-6 863.75,-12 863.75,-12 863.75,-56 863.75,-56 863.75,-62 857.75,-68 851.75,-68\"/>\n<text text-anchor=\"start\" x=\"766.5\" y=\"-50.7\" font-family=\"Helvetica,sans-Serif\" font-size=\"14.00\">gini = 0.459</text>\n<text text-anchor=\"start\" x=\"757.12\" y=\"-35.7\" font-family=\"Helvetica,sans-Serif\" font-size=\"14.00\">samples = 590</text>\n<text text-anchor=\"start\" x=\"747.75\" y=\"-20.7\" font-family=\"Helvetica,sans-Serif\" font-size=\"14.00\">value = [379, 211]</text>\n<text text-anchor=\"start\" x=\"774.75\" y=\"-5.7\" font-family=\"Helvetica,sans-Serif\" font-size=\"14.00\">class = 0</text>\n</g>\n<!-- 10&#45;&gt;12 -->\n<g id=\"edge12\" class=\"edge\">\n<title>10&#45;&gt;12</title>\n<path fill=\"none\" stroke=\"black\" d=\"M790.45,-103.73C791.76,-95.79 793.13,-87.44 794.45,-79.39\"/>\n<polygon fill=\"black\" stroke=\"black\" points=\"797.86,-80.23 796.03,-69.79 790.95,-79.09 797.86,-80.23\"/>\n</g>\n<!-- 14 -->\n<g id=\"node15\" class=\"node\">\n<title>14</title>\n<path fill=\"#fef9f6\" stroke=\"black\" d=\"M979.25,-68C979.25,-68 894.25,-68 894.25,-68 888.25,-68 882.25,-62 882.25,-56 882.25,-56 882.25,-12 882.25,-12 882.25,-6 888.25,0 894.25,0 894.25,0 979.25,0 979.25,0 985.25,0 991.25,-6 991.25,-12 991.25,-12 991.25,-56 991.25,-56 991.25,-62 985.25,-68 979.25,-68\"/>\n<text text-anchor=\"start\" x=\"909\" y=\"-50.7\" font-family=\"Helvetica,sans-Serif\" font-size=\"14.00\">gini = 0.5</text>\n<text text-anchor=\"start\" x=\"892.12\" y=\"-35.7\" font-family=\"Helvetica,sans-Serif\" font-size=\"14.00\">samples = 133</text>\n<text text-anchor=\"start\" x=\"890.25\" y=\"-20.7\" font-family=\"Helvetica,sans-Serif\" font-size=\"14.00\">value = [68, 65]</text>\n<text text-anchor=\"start\" x=\"909.75\" y=\"-5.7\" font-family=\"Helvetica,sans-Serif\" font-size=\"14.00\">class = 0</text>\n</g>\n<!-- 13&#45;&gt;14 -->\n<g id=\"edge14\" class=\"edge\">\n<title>13&#45;&gt;14</title>\n<path fill=\"none\" stroke=\"black\" d=\"M948.05,-103.73C946.74,-95.79 945.37,-87.44 944.05,-79.39\"/>\n<polygon fill=\"black\" stroke=\"black\" points=\"947.55,-79.09 942.47,-69.79 940.64,-80.23 947.55,-79.09\"/>\n</g>\n<!-- 15 -->\n<g id=\"node16\" class=\"node\">\n<title>15</title>\n<path fill=\"#399de5\" stroke=\"black\" d=\"M1091.75,-68C1091.75,-68 1021.75,-68 1021.75,-68 1015.75,-68 1009.75,-62 1009.75,-56 1009.75,-56 1009.75,-12 1009.75,-12 1009.75,-6 1015.75,0 1021.75,0 1021.75,0 1091.75,0 1091.75,0 1097.75,0 1103.75,-6 1103.75,-12 1103.75,-12 1103.75,-56 1103.75,-56 1103.75,-62 1097.75,-68 1091.75,-68\"/>\n<text text-anchor=\"start\" x=\"1029\" y=\"-50.7\" font-family=\"Helvetica,sans-Serif\" font-size=\"14.00\">gini = 0.0</text>\n<text text-anchor=\"start\" x=\"1019.62\" y=\"-35.7\" font-family=\"Helvetica,sans-Serif\" font-size=\"14.00\">samples = 4</text>\n<text text-anchor=\"start\" x=\"1017.75\" y=\"-20.7\" font-family=\"Helvetica,sans-Serif\" font-size=\"14.00\">value = [0, 4]</text>\n<text text-anchor=\"start\" x=\"1029.75\" y=\"-5.7\" font-family=\"Helvetica,sans-Serif\" font-size=\"14.00\">class = 1</text>\n</g>\n<!-- 13&#45;&gt;15 -->\n<g id=\"edge15\" class=\"edge\">\n<title>13&#45;&gt;15</title>\n<path fill=\"none\" stroke=\"black\" d=\"M992.73,-103.73C1000.97,-94.88 1009.7,-85.51 1017.97,-76.63\"/>\n<polygon fill=\"black\" stroke=\"black\" points=\"1020.44,-79.11 1024.7,-69.41 1015.32,-74.34 1020.44,-79.11\"/>\n</g>\n<!-- 17 -->\n<g id=\"node18\" class=\"node\">\n<title>17</title>\n<path fill=\"#f7d6be\" stroke=\"black\" d=\"M1445.25,-306C1445.25,-306 1330.25,-306 1330.25,-306 1324.25,-306 1318.25,-300 1318.25,-294 1318.25,-294 1318.25,-235 1318.25,-235 1318.25,-229 1324.25,-223 1330.25,-223 1330.25,-223 1445.25,-223 1445.25,-223 1451.25,-223 1457.25,-229 1457.25,-235 1457.25,-235 1457.25,-294 1457.25,-294 1457.25,-300 1451.25,-306 1445.25,-306\"/>\n<text text-anchor=\"start\" x=\"1343.5\" y=\"-288.7\" font-family=\"Helvetica,sans-Serif\" font-size=\"14.00\">balance ≤ 68.0</text>\n<text text-anchor=\"start\" x=\"1352.5\" y=\"-273.7\" font-family=\"Helvetica,sans-Serif\" font-size=\"14.00\">gini = 0.481</text>\n<text text-anchor=\"start\" x=\"1339.38\" y=\"-258.7\" font-family=\"Helvetica,sans-Serif\" font-size=\"14.00\">samples = 3115</text>\n<text text-anchor=\"start\" x=\"1326.25\" y=\"-243.7\" font-family=\"Helvetica,sans-Serif\" font-size=\"14.00\">value = [1861, 1254]</text>\n<text text-anchor=\"start\" x=\"1360.75\" y=\"-228.7\" font-family=\"Helvetica,sans-Serif\" font-size=\"14.00\">class = 0</text>\n</g>\n<!-- 16&#45;&gt;17 -->\n<g id=\"edge17\" class=\"edge\">\n<title>16&#45;&gt;17</title>\n<path fill=\"none\" stroke=\"black\" d=\"M1387.75,-341.58C1387.75,-333.79 1387.75,-325.53 1387.75,-317.45\"/>\n<polygon fill=\"black\" stroke=\"black\" points=\"1391.25,-317.71 1387.75,-307.71 1384.25,-317.71 1391.25,-317.71\"/>\n</g>\n<!-- 24 -->\n<g id=\"node25\" class=\"node\">\n<title>24</title>\n<path fill=\"#e99356\" stroke=\"black\" d=\"M1876.5,-306C1876.5,-306 1769,-306 1769,-306 1763,-306 1757,-300 1757,-294 1757,-294 1757,-235 1757,-235 1757,-229 1763,-223 1769,-223 1769,-223 1876.5,-223 1876.5,-223 1882.5,-223 1888.5,-229 1888.5,-235 1888.5,-235 1888.5,-294 1888.5,-294 1888.5,-300 1882.5,-306 1876.5,-306\"/>\n<text text-anchor=\"start\" x=\"1790.88\" y=\"-288.7\" font-family=\"Helvetica,sans-Serif\" font-size=\"14.00\">age ≤ 60.5</text>\n<text text-anchor=\"start\" x=\"1787.5\" y=\"-273.7\" font-family=\"Helvetica,sans-Serif\" font-size=\"14.00\">gini = 0.221</text>\n<text text-anchor=\"start\" x=\"1774.38\" y=\"-258.7\" font-family=\"Helvetica,sans-Serif\" font-size=\"14.00\">samples = 5142</text>\n<text text-anchor=\"start\" x=\"1765\" y=\"-243.7\" font-family=\"Helvetica,sans-Serif\" font-size=\"14.00\">value = [4491, 651]</text>\n<text text-anchor=\"start\" x=\"1795.75\" y=\"-228.7\" font-family=\"Helvetica,sans-Serif\" font-size=\"14.00\">class = 0</text>\n</g>\n<!-- 16&#45;&gt;24 -->\n<g id=\"edge24\" class=\"edge\">\n<title>16&#45;&gt;24</title>\n<path fill=\"none\" stroke=\"black\" d=\"M1457.64,-363.7C1536.4,-342.52 1664.04,-308.19 1745.65,-286.24\"/>\n<polygon fill=\"black\" stroke=\"black\" points=\"1746.39,-289.66 1755.14,-283.69 1744.57,-282.9 1746.39,-289.66\"/>\n</g>\n<!-- 18 -->\n<g id=\"node19\" class=\"node\">\n<title>18</title>\n<path fill=\"#eead7e\" stroke=\"black\" d=\"M1356,-187C1356,-187 1263.5,-187 1263.5,-187 1257.5,-187 1251.5,-181 1251.5,-175 1251.5,-175 1251.5,-116 1251.5,-116 1251.5,-110 1257.5,-104 1263.5,-104 1263.5,-104 1356,-104 1356,-104 1362,-104 1368,-110 1368,-116 1368,-116 1368,-175 1368,-175 1368,-181 1362,-187 1356,-187\"/>\n<text text-anchor=\"start\" x=\"1267\" y=\"-169.7\" font-family=\"Helvetica,sans-Serif\" font-size=\"14.00\">balance ≤ &#45;1.5</text>\n<text text-anchor=\"start\" x=\"1274.5\" y=\"-154.7\" font-family=\"Helvetica,sans-Serif\" font-size=\"14.00\">gini = 0.383</text>\n<text text-anchor=\"start\" x=\"1265.12\" y=\"-139.7\" font-family=\"Helvetica,sans-Serif\" font-size=\"14.00\">samples = 383</text>\n<text text-anchor=\"start\" x=\"1259.5\" y=\"-124.7\" font-family=\"Helvetica,sans-Serif\" font-size=\"14.00\">value = [284, 99]</text>\n<text text-anchor=\"start\" x=\"1282.75\" y=\"-109.7\" font-family=\"Helvetica,sans-Serif\" font-size=\"14.00\">class = 0</text>\n</g>\n<!-- 17&#45;&gt;18 -->\n<g id=\"edge18\" class=\"edge\">\n<title>17&#45;&gt;18</title>\n<path fill=\"none\" stroke=\"black\" d=\"M1360.47,-222.58C1354.86,-214.16 1348.89,-205.2 1343.09,-196.5\"/>\n<polygon fill=\"black\" stroke=\"black\" points=\"1346.18,-194.84 1337.72,-188.46 1340.36,-198.72 1346.18,-194.84\"/>\n</g>\n<!-- 21 -->\n<g id=\"node22\" class=\"node\">\n<title>21</title>\n<path fill=\"#f8ddca\" stroke=\"black\" d=\"M1535.5,-187C1535.5,-187 1398,-187 1398,-187 1392,-187 1386,-181 1386,-175 1386,-175 1386,-116 1386,-116 1386,-110 1392,-104 1398,-104 1398,-104 1535.5,-104 1535.5,-104 1541.5,-104 1547.5,-110 1547.5,-116 1547.5,-116 1547.5,-175 1547.5,-175 1547.5,-181 1541.5,-187 1535.5,-187\"/>\n<text text-anchor=\"start\" x=\"1420.25\" y=\"-169.7\" font-family=\"Helvetica,sans-Serif\" font-size=\"14.00\">campaign ≤ 4.5</text>\n<text text-anchor=\"start\" x=\"1431.5\" y=\"-154.7\" font-family=\"Helvetica,sans-Serif\" font-size=\"14.00\">gini = 0.488</text>\n<text text-anchor=\"start\" x=\"1418.38\" y=\"-139.7\" font-family=\"Helvetica,sans-Serif\" font-size=\"14.00\">samples = 2732</text>\n<text text-anchor=\"start\" x=\"1394\" y=\"-124.7\" font-family=\"Helvetica,sans-Serif\" font-size=\"14.00\">value = [1577.0, 1155.0]</text>\n<text text-anchor=\"start\" x=\"1439.75\" y=\"-109.7\" font-family=\"Helvetica,sans-Serif\" font-size=\"14.00\">class = 0</text>\n</g>\n<!-- 17&#45;&gt;21 -->\n<g id=\"edge21\" class=\"edge\">\n<title>17&#45;&gt;21</title>\n<path fill=\"none\" stroke=\"black\" d=\"M1415.38,-222.58C1421.07,-214.16 1427.11,-205.2 1432.99,-196.5\"/>\n<polygon fill=\"black\" stroke=\"black\" points=\"1435.73,-198.7 1438.42,-188.45 1429.92,-194.78 1435.73,-198.7\"/>\n</g>\n<!-- 19 -->\n<g id=\"node20\" class=\"node\">\n<title>19</title>\n<path fill=\"#e68742\" stroke=\"black\" d=\"M1211.5,-68C1211.5,-68 1134,-68 1134,-68 1128,-68 1122,-62 1122,-56 1122,-56 1122,-12 1122,-12 1122,-6 1128,0 1134,0 1134,0 1211.5,0 1211.5,0 1217.5,0 1223.5,-6 1223.5,-12 1223.5,-12 1223.5,-56 1223.5,-56 1223.5,-62 1217.5,-68 1211.5,-68\"/>\n<text text-anchor=\"start\" x=\"1137.5\" y=\"-50.7\" font-family=\"Helvetica,sans-Serif\" font-size=\"14.00\">gini = 0.086</text>\n<text text-anchor=\"start\" x=\"1131.88\" y=\"-35.7\" font-family=\"Helvetica,sans-Serif\" font-size=\"14.00\">samples = 67</text>\n<text text-anchor=\"start\" x=\"1130\" y=\"-20.7\" font-family=\"Helvetica,sans-Serif\" font-size=\"14.00\">value = [64, 3]</text>\n<text text-anchor=\"start\" x=\"1145.75\" y=\"-5.7\" font-family=\"Helvetica,sans-Serif\" font-size=\"14.00\">class = 0</text>\n</g>\n<!-- 18&#45;&gt;19 -->\n<g id=\"edge19\" class=\"edge\">\n<title>18&#45;&gt;19</title>\n<path fill=\"none\" stroke=\"black\" d=\"M1258.74,-103.73C1247.1,-94.42 1234.74,-84.54 1223.12,-75.26\"/>\n<polygon fill=\"black\" stroke=\"black\" points=\"1225.59,-72.75 1215.59,-69.24 1221.22,-78.22 1225.59,-72.75\"/>\n</g>\n<!-- 20 -->\n<g id=\"node21\" class=\"node\">\n<title>20</title>\n<path fill=\"#f0b88f\" stroke=\"black\" d=\"M1368.25,-68C1368.25,-68 1253.25,-68 1253.25,-68 1247.25,-68 1241.25,-62 1241.25,-56 1241.25,-56 1241.25,-12 1241.25,-12 1241.25,-6 1247.25,0 1253.25,0 1253.25,0 1368.25,0 1368.25,0 1374.25,0 1380.25,-6 1380.25,-12 1380.25,-12 1380.25,-56 1380.25,-56 1380.25,-62 1374.25,-68 1368.25,-68\"/>\n<text text-anchor=\"start\" x=\"1275.5\" y=\"-50.7\" font-family=\"Helvetica,sans-Serif\" font-size=\"14.00\">gini = 0.423</text>\n<text text-anchor=\"start\" x=\"1266.12\" y=\"-35.7\" font-family=\"Helvetica,sans-Serif\" font-size=\"14.00\">samples = 316</text>\n<text text-anchor=\"start\" x=\"1249.25\" y=\"-20.7\" font-family=\"Helvetica,sans-Serif\" font-size=\"14.00\">value = [220.0, 96.0]</text>\n<text text-anchor=\"start\" x=\"1283.75\" y=\"-5.7\" font-family=\"Helvetica,sans-Serif\" font-size=\"14.00\">class = 0</text>\n</g>\n<!-- 18&#45;&gt;20 -->\n<g id=\"edge20\" class=\"edge\">\n<title>18&#45;&gt;20</title>\n<path fill=\"none\" stroke=\"black\" d=\"M1310.12,-103.73C1310.19,-95.88 1310.27,-87.63 1310.34,-79.67\"/>\n<polygon fill=\"black\" stroke=\"black\" points=\"1313.84,-79.84 1310.43,-69.81 1306.84,-79.78 1313.84,-79.84\"/>\n</g>\n<!-- 22 -->\n<g id=\"node23\" class=\"node\">\n<title>22</title>\n<path fill=\"#f9e1d0\" stroke=\"black\" d=\"M1523.5,-68C1523.5,-68 1410,-68 1410,-68 1404,-68 1398,-62 1398,-56 1398,-56 1398,-12 1398,-12 1398,-6 1404,0 1410,0 1410,0 1523.5,0 1523.5,0 1529.5,0 1535.5,-6 1535.5,-12 1535.5,-12 1535.5,-56 1535.5,-56 1535.5,-62 1529.5,-68 1523.5,-68\"/>\n<text text-anchor=\"start\" x=\"1431.5\" y=\"-50.7\" font-family=\"Helvetica,sans-Serif\" font-size=\"14.00\">gini = 0.491</text>\n<text text-anchor=\"start\" x=\"1418.38\" y=\"-35.7\" font-family=\"Helvetica,sans-Serif\" font-size=\"14.00\">samples = 2563</text>\n<text text-anchor=\"start\" x=\"1406\" y=\"-20.7\" font-family=\"Helvetica,sans-Serif\" font-size=\"14.00\">value = [1452, 1111]</text>\n<text text-anchor=\"start\" x=\"1439.75\" y=\"-5.7\" font-family=\"Helvetica,sans-Serif\" font-size=\"14.00\">class = 0</text>\n</g>\n<!-- 21&#45;&gt;22 -->\n<g id=\"edge22\" class=\"edge\">\n<title>21&#45;&gt;22</title>\n<path fill=\"none\" stroke=\"black\" d=\"M1466.75,-103.73C1466.75,-95.88 1466.75,-87.63 1466.75,-79.67\"/>\n<polygon fill=\"black\" stroke=\"black\" points=\"1470.25,-79.81 1466.75,-69.81 1463.25,-79.81 1470.25,-79.81\"/>\n</g>\n<!-- 23 -->\n<g id=\"node24\" class=\"node\">\n<title>23</title>\n<path fill=\"#eead7f\" stroke=\"black\" d=\"M1658,-68C1658,-68 1565.5,-68 1565.5,-68 1559.5,-68 1553.5,-62 1553.5,-56 1553.5,-56 1553.5,-12 1553.5,-12 1553.5,-6 1559.5,0 1565.5,0 1565.5,0 1658,0 1658,0 1664,0 1670,-6 1670,-12 1670,-12 1670,-56 1670,-56 1670,-62 1664,-68 1658,-68\"/>\n<text text-anchor=\"start\" x=\"1576.5\" y=\"-50.7\" font-family=\"Helvetica,sans-Serif\" font-size=\"14.00\">gini = 0.385</text>\n<text text-anchor=\"start\" x=\"1567.12\" y=\"-35.7\" font-family=\"Helvetica,sans-Serif\" font-size=\"14.00\">samples = 169</text>\n<text text-anchor=\"start\" x=\"1561.5\" y=\"-20.7\" font-family=\"Helvetica,sans-Serif\" font-size=\"14.00\">value = [125, 44]</text>\n<text text-anchor=\"start\" x=\"1584.75\" y=\"-5.7\" font-family=\"Helvetica,sans-Serif\" font-size=\"14.00\">class = 0</text>\n</g>\n<!-- 21&#45;&gt;23 -->\n<g id=\"edge23\" class=\"edge\">\n<title>21&#45;&gt;23</title>\n<path fill=\"none\" stroke=\"black\" d=\"M1520.74,-103.73C1533.18,-94.33 1546.4,-84.35 1558.8,-74.99\"/>\n<polygon fill=\"black\" stroke=\"black\" points=\"1560.58,-78.03 1566.45,-69.21 1556.36,-72.45 1560.58,-78.03\"/>\n</g>\n<!-- 25 -->\n<g id=\"node26\" class=\"node\">\n<title>25</title>\n<path fill=\"#e99355\" stroke=\"black\" d=\"M1879.5,-187C1879.5,-187 1766,-187 1766,-187 1760,-187 1754,-181 1754,-175 1754,-175 1754,-116 1754,-116 1754,-110 1760,-104 1766,-104 1766,-104 1879.5,-104 1879.5,-104 1885.5,-104 1891.5,-110 1891.5,-116 1891.5,-116 1891.5,-175 1891.5,-175 1891.5,-181 1885.5,-187 1879.5,-187\"/>\n<text text-anchor=\"start\" x=\"1762\" y=\"-169.7\" font-family=\"Helvetica,sans-Serif\" font-size=\"14.00\">job_blue&#45;collar ≤ 0.5</text>\n<text text-anchor=\"start\" x=\"1787.5\" y=\"-154.7\" font-family=\"Helvetica,sans-Serif\" font-size=\"14.00\">gini = 0.217</text>\n<text text-anchor=\"start\" x=\"1774.38\" y=\"-139.7\" font-family=\"Helvetica,sans-Serif\" font-size=\"14.00\">samples = 5109</text>\n<text text-anchor=\"start\" x=\"1765\" y=\"-124.7\" font-family=\"Helvetica,sans-Serif\" font-size=\"14.00\">value = [4478, 631]</text>\n<text text-anchor=\"start\" x=\"1795.75\" y=\"-109.7\" font-family=\"Helvetica,sans-Serif\" font-size=\"14.00\">class = 0</text>\n</g>\n<!-- 24&#45;&gt;25 -->\n<g id=\"edge25\" class=\"edge\">\n<title>24&#45;&gt;25</title>\n<path fill=\"none\" stroke=\"black\" d=\"M1822.75,-222.58C1822.75,-214.79 1822.75,-206.53 1822.75,-198.45\"/>\n<polygon fill=\"black\" stroke=\"black\" points=\"1826.25,-198.71 1822.75,-188.71 1819.25,-198.71 1826.25,-198.71\"/>\n</g>\n<!-- 28 -->\n<g id=\"node29\" class=\"node\">\n<title>28</title>\n<path fill=\"#baddf6\" stroke=\"black\" d=\"M2086.5,-187C2086.5,-187 1991,-187 1991,-187 1985,-187 1979,-181 1979,-175 1979,-175 1979,-116 1979,-116 1979,-110 1985,-104 1991,-104 1991,-104 2086.5,-104 2086.5,-104 2092.5,-104 2098.5,-110 2098.5,-116 2098.5,-116 2098.5,-175 2098.5,-175 2098.5,-181 2092.5,-187 2086.5,-187\"/>\n<text text-anchor=\"start\" x=\"1987\" y=\"-169.7\" font-family=\"Helvetica,sans-Serif\" font-size=\"14.00\">balance ≤ 4660.5</text>\n<text text-anchor=\"start\" x=\"2003.5\" y=\"-154.7\" font-family=\"Helvetica,sans-Serif\" font-size=\"14.00\">gini = 0.478</text>\n<text text-anchor=\"start\" x=\"1997.88\" y=\"-139.7\" font-family=\"Helvetica,sans-Serif\" font-size=\"14.00\">samples = 33</text>\n<text text-anchor=\"start\" x=\"1992.25\" y=\"-124.7\" font-family=\"Helvetica,sans-Serif\" font-size=\"14.00\">value = [13, 20]</text>\n<text text-anchor=\"start\" x=\"2011.75\" y=\"-109.7\" font-family=\"Helvetica,sans-Serif\" font-size=\"14.00\">class = 1</text>\n</g>\n<!-- 24&#45;&gt;28 -->\n<g id=\"edge28\" class=\"edge\">\n<title>24&#45;&gt;28</title>\n<path fill=\"none\" stroke=\"black\" d=\"M1888.73,-227.76C1914.03,-214.06 1942.98,-198.38 1968.65,-184.47\"/>\n<polygon fill=\"black\" stroke=\"black\" points=\"1970.23,-187.6 1977.35,-179.76 1966.89,-181.44 1970.23,-187.6\"/>\n</g>\n<!-- 26 -->\n<g id=\"node27\" class=\"node\">\n<title>26</title>\n<path fill=\"#e99559\" stroke=\"black\" d=\"M1807.5,-68C1807.5,-68 1700,-68 1700,-68 1694,-68 1688,-62 1688,-56 1688,-56 1688,-12 1688,-12 1688,-6 1694,0 1700,0 1700,0 1807.5,0 1807.5,0 1813.5,0 1819.5,-6 1819.5,-12 1819.5,-12 1819.5,-56 1819.5,-56 1819.5,-62 1813.5,-68 1807.5,-68\"/>\n<text text-anchor=\"start\" x=\"1718.5\" y=\"-50.7\" font-family=\"Helvetica,sans-Serif\" font-size=\"14.00\">gini = 0.239</text>\n<text text-anchor=\"start\" x=\"1705.38\" y=\"-35.7\" font-family=\"Helvetica,sans-Serif\" font-size=\"14.00\">samples = 3757</text>\n<text text-anchor=\"start\" x=\"1696\" y=\"-20.7\" font-family=\"Helvetica,sans-Serif\" font-size=\"14.00\">value = [3235, 522]</text>\n<text text-anchor=\"start\" x=\"1726.75\" y=\"-5.7\" font-family=\"Helvetica,sans-Serif\" font-size=\"14.00\">class = 0</text>\n</g>\n<!-- 25&#45;&gt;26 -->\n<g id=\"edge26\" class=\"edge\">\n<title>25&#45;&gt;26</title>\n<path fill=\"none\" stroke=\"black\" d=\"M1797.06,-103.73C1791.77,-95.34 1786.19,-86.47 1780.85,-78.01\"/>\n<polygon fill=\"black\" stroke=\"black\" points=\"1783.83,-76.17 1775.54,-69.58 1777.91,-79.91 1783.83,-76.17\"/>\n</g>\n<!-- 27 -->\n<g id=\"node28\" class=\"node\">\n<title>27</title>\n<path fill=\"#e78c4a\" stroke=\"black\" d=\"M1957.5,-68C1957.5,-68 1850,-68 1850,-68 1844,-68 1838,-62 1838,-56 1838,-56 1838,-12 1838,-12 1838,-6 1844,0 1850,0 1850,0 1957.5,0 1957.5,0 1963.5,0 1969.5,-6 1969.5,-12 1969.5,-12 1969.5,-56 1969.5,-56 1969.5,-62 1963.5,-68 1957.5,-68\"/>\n<text text-anchor=\"start\" x=\"1868.5\" y=\"-50.7\" font-family=\"Helvetica,sans-Serif\" font-size=\"14.00\">gini = 0.148</text>\n<text text-anchor=\"start\" x=\"1855.38\" y=\"-35.7\" font-family=\"Helvetica,sans-Serif\" font-size=\"14.00\">samples = 1352</text>\n<text text-anchor=\"start\" x=\"1846\" y=\"-20.7\" font-family=\"Helvetica,sans-Serif\" font-size=\"14.00\">value = [1243, 109]</text>\n<text text-anchor=\"start\" x=\"1876.75\" y=\"-5.7\" font-family=\"Helvetica,sans-Serif\" font-size=\"14.00\">class = 0</text>\n</g>\n<!-- 25&#45;&gt;27 -->\n<g id=\"edge27\" class=\"edge\">\n<title>25&#45;&gt;27</title>\n<path fill=\"none\" stroke=\"black\" d=\"M1852.91,-103.73C1859.25,-95.15 1865.96,-86.09 1872.34,-77.46\"/>\n<polygon fill=\"black\" stroke=\"black\" points=\"1875.08,-79.64 1878.22,-69.52 1869.46,-75.47 1875.08,-79.64\"/>\n</g>\n<!-- 29 -->\n<g id=\"node30\" class=\"node\">\n<title>29</title>\n<path fill=\"#92c9f1\" stroke=\"black\" d=\"M2077.5,-68C2077.5,-68 2000,-68 2000,-68 1994,-68 1988,-62 1988,-56 1988,-56 1988,-12 1988,-12 1988,-6 1994,0 2000,0 2000,0 2077.5,0 2077.5,0 2083.5,0 2089.5,-6 2089.5,-12 2089.5,-12 2089.5,-56 2089.5,-56 2089.5,-62 2083.5,-68 2077.5,-68\"/>\n<text text-anchor=\"start\" x=\"2003.5\" y=\"-50.7\" font-family=\"Helvetica,sans-Serif\" font-size=\"14.00\">gini = 0.428</text>\n<text text-anchor=\"start\" x=\"1997.88\" y=\"-35.7\" font-family=\"Helvetica,sans-Serif\" font-size=\"14.00\">samples = 29</text>\n<text text-anchor=\"start\" x=\"1996\" y=\"-20.7\" font-family=\"Helvetica,sans-Serif\" font-size=\"14.00\">value = [9, 20]</text>\n<text text-anchor=\"start\" x=\"2011.75\" y=\"-5.7\" font-family=\"Helvetica,sans-Serif\" font-size=\"14.00\">class = 1</text>\n</g>\n<!-- 28&#45;&gt;29 -->\n<g id=\"edge29\" class=\"edge\">\n<title>28&#45;&gt;29</title>\n<path fill=\"none\" stroke=\"black\" d=\"M2038.75,-103.73C2038.75,-95.88 2038.75,-87.63 2038.75,-79.67\"/>\n<polygon fill=\"black\" stroke=\"black\" points=\"2042.25,-79.81 2038.75,-69.81 2035.25,-79.81 2042.25,-79.81\"/>\n</g>\n<!-- 30 -->\n<g id=\"node31\" class=\"node\">\n<title>30</title>\n<path fill=\"#e58139\" stroke=\"black\" d=\"M2189.75,-68C2189.75,-68 2119.75,-68 2119.75,-68 2113.75,-68 2107.75,-62 2107.75,-56 2107.75,-56 2107.75,-12 2107.75,-12 2107.75,-6 2113.75,0 2119.75,0 2119.75,0 2189.75,0 2189.75,0 2195.75,0 2201.75,-6 2201.75,-12 2201.75,-12 2201.75,-56 2201.75,-56 2201.75,-62 2195.75,-68 2189.75,-68\"/>\n<text text-anchor=\"start\" x=\"2127\" y=\"-50.7\" font-family=\"Helvetica,sans-Serif\" font-size=\"14.00\">gini = 0.0</text>\n<text text-anchor=\"start\" x=\"2117.62\" y=\"-35.7\" font-family=\"Helvetica,sans-Serif\" font-size=\"14.00\">samples = 4</text>\n<text text-anchor=\"start\" x=\"2115.75\" y=\"-20.7\" font-family=\"Helvetica,sans-Serif\" font-size=\"14.00\">value = [4, 0]</text>\n<text text-anchor=\"start\" x=\"2127.75\" y=\"-5.7\" font-family=\"Helvetica,sans-Serif\" font-size=\"14.00\">class = 0</text>\n</g>\n<!-- 28&#45;&gt;30 -->\n<g id=\"edge30\" class=\"edge\">\n<title>28&#45;&gt;30</title>\n<path fill=\"none\" stroke=\"black\" d=\"M2081.94,-103.73C2091.51,-94.7 2101.65,-85.12 2111.23,-76.08\"/>\n<polygon fill=\"black\" stroke=\"black\" points=\"2113.5,-78.75 2118.37,-69.34 2108.7,-73.66 2113.5,-78.75\"/>\n</g>\n</g>\n</svg>\n",
      "text/plain": [
       "<graphviz.sources.Source at 0x157f35910>"
      ]
     },
     "execution_count": 95,
     "metadata": {},
     "output_type": "execute_result"
    }
   ],
   "execution_count": 95
  },
  {
   "metadata": {},
   "cell_type": "code",
   "outputs": [],
   "execution_count": null,
   "source": "",
   "id": "d2ca179dd58ecbc5"
  }
 ],
 "metadata": {
  "kernelspec": {
   "display_name": "Python 3",
   "language": "python",
   "name": "python3"
  },
  "language_info": {
   "codemirror_mode": {
    "name": "ipython",
    "version": 2
   },
   "file_extension": ".py",
   "mimetype": "text/x-python",
   "name": "python",
   "nbconvert_exporter": "python",
   "pygments_lexer": "ipython2",
   "version": "2.7.6"
  }
 },
 "nbformat": 4,
 "nbformat_minor": 5
}
