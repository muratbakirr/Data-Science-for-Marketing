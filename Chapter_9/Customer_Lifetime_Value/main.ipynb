{
 "cells": [
  {
   "cell_type": "markdown",
   "metadata": {},
   "source": [
    "In marketing, the CLV is one of the key metrics to have and monitor. The CLV measures\n",
    "customers' total worth to the business over the course of their lifetime relationship with the\n",
    "company. This metric is especially important to keep track of for acquiring new customers.\n",
    "It is generally more expensive to acquire new customers than to keep existing customers, so\n",
    "knowing the lifetime value and the costs associated with acquiring new customers is\n",
    "essential in order to build marketing strategies with a positive ROI. For example, if the\n",
    "average CLV of your customer is $100 and it only costs $10 to acquire a new customer, then\n",
    "your business will be generating more revenue as you acquire new customers."
   ]
  },
  {
   "cell_type": "markdown",
   "metadata": {},
   "source": [
    "# Predicting the 3 month CLV"
   ]
  },
  {
   "cell_type": "code",
   "execution_count": 279,
   "metadata": {},
   "outputs": [],
   "source": [
    "%matplotlib inline\n",
    "import pandas as pd\n",
    "import matplotlib.pyplot as plt"
   ]
  },
  {
   "cell_type": "code",
   "execution_count": 280,
   "metadata": {},
   "outputs": [
    {
     "data": {
      "application/vnd.microsoft.datawrangler.viewer.v0+json": {
       "columns": [
        {
         "name": "index",
         "rawType": "int64",
         "type": "integer"
        },
        {
         "name": "InvoiceNo",
         "rawType": "object",
         "type": "string"
        },
        {
         "name": "StockCode",
         "rawType": "object",
         "type": "string"
        },
        {
         "name": "Description",
         "rawType": "object",
         "type": "string"
        },
        {
         "name": "Quantity",
         "rawType": "int64",
         "type": "integer"
        },
        {
         "name": "InvoiceDate",
         "rawType": "datetime64[ns]",
         "type": "datetime"
        },
        {
         "name": "UnitPrice",
         "rawType": "float64",
         "type": "float"
        },
        {
         "name": "CustomerID",
         "rawType": "float64",
         "type": "float"
        },
        {
         "name": "Country",
         "rawType": "object",
         "type": "string"
        }
       ],
       "conversionMethod": "pd.DataFrame",
       "ref": "e1db4cb5-e4d2-449d-8b3d-20c62de5ce8b",
       "rows": [
        [
         "0",
         "536365",
         "85123A",
         "WHITE HANGING HEART T-LIGHT HOLDER",
         "6",
         "2010-12-01 08:26:00",
         "2.55",
         "17850.0",
         "United Kingdom"
        ],
        [
         "1",
         "536365",
         "71053",
         "WHITE METAL LANTERN",
         "6",
         "2010-12-01 08:26:00",
         "3.39",
         "17850.0",
         "United Kingdom"
        ],
        [
         "2",
         "536365",
         "84406B",
         "CREAM CUPID HEARTS COAT HANGER",
         "8",
         "2010-12-01 08:26:00",
         "2.75",
         "17850.0",
         "United Kingdom"
        ],
        [
         "3",
         "536365",
         "84029G",
         "KNITTED UNION FLAG HOT WATER BOTTLE",
         "6",
         "2010-12-01 08:26:00",
         "3.39",
         "17850.0",
         "United Kingdom"
        ],
        [
         "4",
         "536365",
         "84029E",
         "RED WOOLLY HOTTIE WHITE HEART.",
         "6",
         "2010-12-01 08:26:00",
         "3.39",
         "17850.0",
         "United Kingdom"
        ]
       ],
       "shape": {
        "columns": 8,
        "rows": 5
       }
      },
      "text/html": [
       "<div>\n",
       "<style scoped>\n",
       "    .dataframe tbody tr th:only-of-type {\n",
       "        vertical-align: middle;\n",
       "    }\n",
       "\n",
       "    .dataframe tbody tr th {\n",
       "        vertical-align: top;\n",
       "    }\n",
       "\n",
       "    .dataframe thead th {\n",
       "        text-align: right;\n",
       "    }\n",
       "</style>\n",
       "<table border=\"1\" class=\"dataframe\">\n",
       "  <thead>\n",
       "    <tr style=\"text-align: right;\">\n",
       "      <th></th>\n",
       "      <th>InvoiceNo</th>\n",
       "      <th>StockCode</th>\n",
       "      <th>Description</th>\n",
       "      <th>Quantity</th>\n",
       "      <th>InvoiceDate</th>\n",
       "      <th>UnitPrice</th>\n",
       "      <th>CustomerID</th>\n",
       "      <th>Country</th>\n",
       "    </tr>\n",
       "  </thead>\n",
       "  <tbody>\n",
       "    <tr>\n",
       "      <th>0</th>\n",
       "      <td>536365</td>\n",
       "      <td>85123A</td>\n",
       "      <td>WHITE HANGING HEART T-LIGHT HOLDER</td>\n",
       "      <td>6</td>\n",
       "      <td>2010-12-01 08:26:00</td>\n",
       "      <td>2.55</td>\n",
       "      <td>17850.0</td>\n",
       "      <td>United Kingdom</td>\n",
       "    </tr>\n",
       "    <tr>\n",
       "      <th>1</th>\n",
       "      <td>536365</td>\n",
       "      <td>71053</td>\n",
       "      <td>WHITE METAL LANTERN</td>\n",
       "      <td>6</td>\n",
       "      <td>2010-12-01 08:26:00</td>\n",
       "      <td>3.39</td>\n",
       "      <td>17850.0</td>\n",
       "      <td>United Kingdom</td>\n",
       "    </tr>\n",
       "    <tr>\n",
       "      <th>2</th>\n",
       "      <td>536365</td>\n",
       "      <td>84406B</td>\n",
       "      <td>CREAM CUPID HEARTS COAT HANGER</td>\n",
       "      <td>8</td>\n",
       "      <td>2010-12-01 08:26:00</td>\n",
       "      <td>2.75</td>\n",
       "      <td>17850.0</td>\n",
       "      <td>United Kingdom</td>\n",
       "    </tr>\n",
       "    <tr>\n",
       "      <th>3</th>\n",
       "      <td>536365</td>\n",
       "      <td>84029G</td>\n",
       "      <td>KNITTED UNION FLAG HOT WATER BOTTLE</td>\n",
       "      <td>6</td>\n",
       "      <td>2010-12-01 08:26:00</td>\n",
       "      <td>3.39</td>\n",
       "      <td>17850.0</td>\n",
       "      <td>United Kingdom</td>\n",
       "    </tr>\n",
       "    <tr>\n",
       "      <th>4</th>\n",
       "      <td>536365</td>\n",
       "      <td>84029E</td>\n",
       "      <td>RED WOOLLY HOTTIE WHITE HEART.</td>\n",
       "      <td>6</td>\n",
       "      <td>2010-12-01 08:26:00</td>\n",
       "      <td>3.39</td>\n",
       "      <td>17850.0</td>\n",
       "      <td>United Kingdom</td>\n",
       "    </tr>\n",
       "  </tbody>\n",
       "</table>\n",
       "</div>"
      ],
      "text/plain": [
       "  InvoiceNo StockCode                          Description  Quantity  \\\n",
       "0    536365    85123A   WHITE HANGING HEART T-LIGHT HOLDER         6   \n",
       "1    536365     71053                  WHITE METAL LANTERN         6   \n",
       "2    536365    84406B       CREAM CUPID HEARTS COAT HANGER         8   \n",
       "3    536365    84029G  KNITTED UNION FLAG HOT WATER BOTTLE         6   \n",
       "4    536365    84029E       RED WOOLLY HOTTIE WHITE HEART.         6   \n",
       "\n",
       "          InvoiceDate  UnitPrice  CustomerID         Country  \n",
       "0 2010-12-01 08:26:00       2.55     17850.0  United Kingdom  \n",
       "1 2010-12-01 08:26:00       3.39     17850.0  United Kingdom  \n",
       "2 2010-12-01 08:26:00       2.75     17850.0  United Kingdom  \n",
       "3 2010-12-01 08:26:00       3.39     17850.0  United Kingdom  \n",
       "4 2010-12-01 08:26:00       3.39     17850.0  United Kingdom  "
      ]
     },
     "execution_count": 280,
     "metadata": {},
     "output_type": "execute_result"
    }
   ],
   "source": [
    "df = pd.read_excel(io='Online Retail.xlsx', sheet_name='Online Retail')\n",
    "df.head()"
   ]
  },
  {
   "cell_type": "code",
   "execution_count": 281,
   "metadata": {},
   "outputs": [
    {
     "data": {
      "text/plain": [
       "(541909, 8)"
      ]
     },
     "execution_count": 281,
     "metadata": {},
     "output_type": "execute_result"
    }
   ],
   "source": [
    "df.shape"
   ]
  },
  {
   "cell_type": "markdown",
   "metadata": {},
   "source": [
    "# Data cleanup"
   ]
  },
  {
   "cell_type": "code",
   "execution_count": 282,
   "metadata": {},
   "outputs": [
    {
     "data": {
      "text/plain": [
       "InvoiceNo           0\n",
       "StockCode           0\n",
       "Description      1454\n",
       "Quantity            0\n",
       "InvoiceDate         0\n",
       "UnitPrice           0\n",
       "CustomerID     135080\n",
       "Country             0\n",
       "dtype: int64"
      ]
     },
     "execution_count": 282,
     "metadata": {},
     "output_type": "execute_result"
    }
   ],
   "source": [
    "df.isnull().sum()"
   ]
  },
  {
   "cell_type": "code",
   "execution_count": 283,
   "metadata": {},
   "outputs": [
    {
     "data": {
      "text/plain": [
       "<AxesSubplot: >"
      ]
     },
     "execution_count": 283,
     "metadata": {},
     "output_type": "execute_result"
    },
    {
     "data": {
      "image/png": "[encoded data removed]",
      "text/plain": [
       "<Figure size 800x600 with 1 Axes>"
      ]
     },
     "metadata": {},
     "output_type": "display_data"
    }
   ],
   "source": [
    "df['Quantity'].plot.box(\n",
    "  showfliers=True,\n",
    "  grid=True,\n",
    "  figsize=(8,6)\n",
    ")"
   ]
  },
  {
   "cell_type": "code",
   "execution_count": 284,
   "metadata": {},
   "outputs": [],
   "source": [
    "df = df.loc[df['Quantity']>0]"
   ]
  },
  {
   "cell_type": "code",
   "execution_count": 285,
   "metadata": {},
   "outputs": [
    {
     "data": {
      "text/plain": [
       "(531285, 8)"
      ]
     },
     "execution_count": 285,
     "metadata": {},
     "output_type": "execute_result"
    }
   ],
   "source": [
    "df.shape"
   ]
  },
  {
   "cell_type": "markdown",
   "metadata": {},
   "source": [
    "Dropping NaN records: We need to drop records with no CustomerID. Since we\n",
    "are going to build a machine learning model to predict the 3 month customer\n",
    "value, we need to group the data by the CustomerID column. Without it, we\n",
    "cannot properly build models for this project. The code to drop records with no\n",
    "CustomerID values looks like the following code snippet:"
   ]
  },
  {
   "cell_type": "code",
   "execution_count": 286,
   "metadata": {},
   "outputs": [],
   "source": [
    "df.dropna(subset=['CustomerID'], inplace=True)"
   ]
  },
  {
   "cell_type": "code",
   "execution_count": 287,
   "metadata": {},
   "outputs": [
    {
     "data": {
      "text/plain": [
       "(397924, 8)"
      ]
     },
     "execution_count": 287,
     "metadata": {},
     "output_type": "execute_result"
    }
   ],
   "source": [
    "df.shape"
   ]
  },
  {
   "cell_type": "markdown",
   "metadata": {},
   "source": [
    "- Excluding Incomplete Month"
   ]
  },
  {
   "cell_type": "code",
   "execution_count": 288,
   "metadata": {},
   "outputs": [
    {
     "name": "stdout",
     "output_type": "stream",
     "text": [
      "Data Range: 2010-12-01 08:26:00 ~ 2011-12-09 12:50:00\n"
     ]
    }
   ],
   "source": [
    "print('Data Range: %s ~ %s' % (df['InvoiceDate'].min() , df['InvoiceDate'].max()))"
   ]
  },
  {
   "cell_type": "code",
   "execution_count": 289,
   "metadata": {},
   "outputs": [
    {
     "data": {
      "text/plain": [
       "(17304, 8)"
      ]
     },
     "execution_count": 289,
     "metadata": {},
     "output_type": "execute_result"
    }
   ],
   "source": [
    "df.loc[\n",
    "  df['InvoiceDate'] >= '2011-12-01'\n",
    "].shape"
   ]
  },
  {
   "cell_type": "code",
   "execution_count": 290,
   "metadata": {},
   "outputs": [],
   "source": [
    "df = df.loc[\n",
    "  df['InvoiceDate'] < '2011-12-01'\n",
    "]"
   ]
  },
  {
   "cell_type": "code",
   "execution_count": 291,
   "metadata": {},
   "outputs": [
    {
     "data": {
      "text/plain": [
       "(380620, 8)"
      ]
     },
     "execution_count": 291,
     "metadata": {},
     "output_type": "execute_result"
    }
   ],
   "source": [
    "df.shape"
   ]
  },
  {
   "cell_type": "markdown",
   "metadata": {},
   "source": [
    "- Total Sales"
   ]
  },
  {
   "cell_type": "code",
   "execution_count": 292,
   "metadata": {},
   "outputs": [],
   "source": [
    "df['Sales'] = df['Quantity'] * df['UnitPrice']"
   ]
  },
  {
   "cell_type": "code",
   "execution_count": 293,
   "metadata": {},
   "outputs": [
    {
     "data": {
      "application/vnd.microsoft.datawrangler.viewer.v0+json": {
       "columns": [
        {
         "name": "index",
         "rawType": "int64",
         "type": "integer"
        },
        {
         "name": "InvoiceNo",
         "rawType": "object",
         "type": "string"
        },
        {
         "name": "StockCode",
         "rawType": "object",
         "type": "string"
        },
        {
         "name": "Description",
         "rawType": "object",
         "type": "string"
        },
        {
         "name": "Quantity",
         "rawType": "int64",
         "type": "integer"
        },
        {
         "name": "InvoiceDate",
         "rawType": "datetime64[ns]",
         "type": "datetime"
        },
        {
         "name": "UnitPrice",
         "rawType": "float64",
         "type": "float"
        },
        {
         "name": "CustomerID",
         "rawType": "float64",
         "type": "float"
        },
        {
         "name": "Country",
         "rawType": "object",
         "type": "string"
        },
        {
         "name": "Sales",
         "rawType": "float64",
         "type": "float"
        }
       ],
       "conversionMethod": "pd.DataFrame",
       "ref": "57d7096a-383d-49eb-bc0b-1813d4ade121",
       "rows": [
        [
         "0",
         "536365",
         "85123A",
         "WHITE HANGING HEART T-LIGHT HOLDER",
         "6",
         "2010-12-01 08:26:00",
         "2.55",
         "17850.0",
         "United Kingdom",
         "15.299999999999999"
        ],
        [
         "1",
         "536365",
         "71053",
         "WHITE METAL LANTERN",
         "6",
         "2010-12-01 08:26:00",
         "3.39",
         "17850.0",
         "United Kingdom",
         "20.34"
        ],
        [
         "2",
         "536365",
         "84406B",
         "CREAM CUPID HEARTS COAT HANGER",
         "8",
         "2010-12-01 08:26:00",
         "2.75",
         "17850.0",
         "United Kingdom",
         "22.0"
        ],
        [
         "3",
         "536365",
         "84029G",
         "KNITTED UNION FLAG HOT WATER BOTTLE",
         "6",
         "2010-12-01 08:26:00",
         "3.39",
         "17850.0",
         "United Kingdom",
         "20.34"
        ],
        [
         "4",
         "536365",
         "84029E",
         "RED WOOLLY HOTTIE WHITE HEART.",
         "6",
         "2010-12-01 08:26:00",
         "3.39",
         "17850.0",
         "United Kingdom",
         "20.34"
        ]
       ],
       "shape": {
        "columns": 9,
        "rows": 5
       }
      },
      "text/html": [
       "<div>\n",
       "<style scoped>\n",
       "    .dataframe tbody tr th:only-of-type {\n",
       "        vertical-align: middle;\n",
       "    }\n",
       "\n",
       "    .dataframe tbody tr th {\n",
       "        vertical-align: top;\n",
       "    }\n",
       "\n",
       "    .dataframe thead th {\n",
       "        text-align: right;\n",
       "    }\n",
       "</style>\n",
       "<table border=\"1\" class=\"dataframe\">\n",
       "  <thead>\n",
       "    <tr style=\"text-align: right;\">\n",
       "      <th></th>\n",
       "      <th>InvoiceNo</th>\n",
       "      <th>StockCode</th>\n",
       "      <th>Description</th>\n",
       "      <th>Quantity</th>\n",
       "      <th>InvoiceDate</th>\n",
       "      <th>UnitPrice</th>\n",
       "      <th>CustomerID</th>\n",
       "      <th>Country</th>\n",
       "      <th>Sales</th>\n",
       "    </tr>\n",
       "  </thead>\n",
       "  <tbody>\n",
       "    <tr>\n",
       "      <th>0</th>\n",
       "      <td>536365</td>\n",
       "      <td>85123A</td>\n",
       "      <td>WHITE HANGING HEART T-LIGHT HOLDER</td>\n",
       "      <td>6</td>\n",
       "      <td>2010-12-01 08:26:00</td>\n",
       "      <td>2.55</td>\n",
       "      <td>17850.0</td>\n",
       "      <td>United Kingdom</td>\n",
       "      <td>15.30</td>\n",
       "    </tr>\n",
       "    <tr>\n",
       "      <th>1</th>\n",
       "      <td>536365</td>\n",
       "      <td>71053</td>\n",
       "      <td>WHITE METAL LANTERN</td>\n",
       "      <td>6</td>\n",
       "      <td>2010-12-01 08:26:00</td>\n",
       "      <td>3.39</td>\n",
       "      <td>17850.0</td>\n",
       "      <td>United Kingdom</td>\n",
       "      <td>20.34</td>\n",
       "    </tr>\n",
       "    <tr>\n",
       "      <th>2</th>\n",
       "      <td>536365</td>\n",
       "      <td>84406B</td>\n",
       "      <td>CREAM CUPID HEARTS COAT HANGER</td>\n",
       "      <td>8</td>\n",
       "      <td>2010-12-01 08:26:00</td>\n",
       "      <td>2.75</td>\n",
       "      <td>17850.0</td>\n",
       "      <td>United Kingdom</td>\n",
       "      <td>22.00</td>\n",
       "    </tr>\n",
       "    <tr>\n",
       "      <th>3</th>\n",
       "      <td>536365</td>\n",
       "      <td>84029G</td>\n",
       "      <td>KNITTED UNION FLAG HOT WATER BOTTLE</td>\n",
       "      <td>6</td>\n",
       "      <td>2010-12-01 08:26:00</td>\n",
       "      <td>3.39</td>\n",
       "      <td>17850.0</td>\n",
       "      <td>United Kingdom</td>\n",
       "      <td>20.34</td>\n",
       "    </tr>\n",
       "    <tr>\n",
       "      <th>4</th>\n",
       "      <td>536365</td>\n",
       "      <td>84029E</td>\n",
       "      <td>RED WOOLLY HOTTIE WHITE HEART.</td>\n",
       "      <td>6</td>\n",
       "      <td>2010-12-01 08:26:00</td>\n",
       "      <td>3.39</td>\n",
       "      <td>17850.0</td>\n",
       "      <td>United Kingdom</td>\n",
       "      <td>20.34</td>\n",
       "    </tr>\n",
       "  </tbody>\n",
       "</table>\n",
       "</div>"
      ],
      "text/plain": [
       "  InvoiceNo StockCode                          Description  Quantity  \\\n",
       "0    536365    85123A   WHITE HANGING HEART T-LIGHT HOLDER         6   \n",
       "1    536365     71053                  WHITE METAL LANTERN         6   \n",
       "2    536365    84406B       CREAM CUPID HEARTS COAT HANGER         8   \n",
       "3    536365    84029G  KNITTED UNION FLAG HOT WATER BOTTLE         6   \n",
       "4    536365    84029E       RED WOOLLY HOTTIE WHITE HEART.         6   \n",
       "\n",
       "          InvoiceDate  UnitPrice  CustomerID         Country  Sales  \n",
       "0 2010-12-01 08:26:00       2.55     17850.0  United Kingdom  15.30  \n",
       "1 2010-12-01 08:26:00       3.39     17850.0  United Kingdom  20.34  \n",
       "2 2010-12-01 08:26:00       2.75     17850.0  United Kingdom  22.00  \n",
       "3 2010-12-01 08:26:00       3.39     17850.0  United Kingdom  20.34  \n",
       "4 2010-12-01 08:26:00       3.39     17850.0  United Kingdom  20.34  "
      ]
     },
     "execution_count": 293,
     "metadata": {},
     "output_type": "execute_result"
    }
   ],
   "source": [
    "df.head()"
   ]
  },
  {
   "cell_type": "markdown",
   "metadata": {},
   "source": [
    "- Per Order Data"
   ]
  },
  {
   "cell_type": "code",
   "execution_count": 294,
   "metadata": {},
   "outputs": [
    {
     "data": {
      "application/vnd.microsoft.datawrangler.viewer.v0+json": {
       "columns": [
        {
         "name": "('CustomerID', 'InvoiceNo')",
         "rawType": "object",
         "type": "string"
        },
        {
         "name": "Sales",
         "rawType": "float64",
         "type": "float"
        },
        {
         "name": "InvoiceDate",
         "rawType": "datetime64[ns]",
         "type": "datetime"
        }
       ],
       "conversionMethod": "pd.DataFrame",
       "ref": "200a9843-60d7-46bb-9f46-4fef80989707",
       "rows": [
        [
         "(12346.0, 541431)",
         "77183.6",
         "2011-01-18 10:01:00"
        ],
        [
         "(12347.0, 537626)",
         "711.79",
         "2010-12-07 14:57:00"
        ],
        [
         "(12347.0, 542237)",
         "475.39",
         "2011-01-26 14:30:00"
        ],
        [
         "(12347.0, 549222)",
         "636.25",
         "2011-04-07 10:43:00"
        ],
        [
         "(12347.0, 556201)",
         "382.52",
         "2011-06-09 13:01:00"
        ],
        [
         "(12347.0, 562032)",
         "584.9100000000001",
         "2011-08-02 08:48:00"
        ],
        [
         "(12347.0, 573511)",
         "1294.32",
         "2011-10-31 12:25:00"
        ],
        [
         "(12348.0, 539318)",
         "892.8",
         "2010-12-16 19:09:00"
        ],
        [
         "(12348.0, 541998)",
         "227.44",
         "2011-01-25 10:42:00"
        ],
        [
         "(12348.0, 548955)",
         "367.0",
         "2011-04-05 10:47:00"
        ],
        [
         "(12348.0, 568172)",
         "310.0",
         "2011-09-25 13:13:00"
        ],
        [
         "(12349.0, 577609)",
         "1757.55",
         "2011-11-21 09:51:00"
        ],
        [
         "(12350.0, 543037)",
         "334.4",
         "2011-02-02 16:01:00"
        ],
        [
         "(12352.0, 544156)",
         "296.5",
         "2011-02-16 12:33:00"
        ],
        [
         "(12352.0, 545323)",
         "144.35",
         "2011-03-01 14:57:00"
        ],
        [
         "(12352.0, 545332)",
         "840.3",
         "2011-03-01 15:52:00"
        ],
        [
         "(12352.0, 546869)",
         "120.33",
         "2011-03-17 16:00:00"
        ],
        [
         "(12352.0, 547390)",
         "160.33",
         "2011-03-22 16:08:00"
        ],
        [
         "(12352.0, 567505)",
         "366.25",
         "2011-09-20 14:34:00"
        ],
        [
         "(12352.0, 568699)",
         "266.25",
         "2011-09-28 14:58:00"
        ],
        [
         "(12352.0, 574275)",
         "311.73",
         "2011-11-03 14:37:00"
        ],
        [
         "(12353.0, 553900)",
         "89.0",
         "2011-05-19 17:47:00"
        ],
        [
         "(12354.0, 550911)",
         "1079.4",
         "2011-04-21 13:11:00"
        ],
        [
         "(12355.0, 552449)",
         "459.4",
         "2011-05-09 13:49:00"
        ],
        [
         "(12356.0, 541430)",
         "2271.62",
         "2011-01-18 09:50:00"
        ],
        [
         "(12356.0, 549435)",
         "481.46000000000004",
         "2011-04-08 12:33:00"
        ],
        [
         "(12356.0, 576895)",
         "58.349999999999994",
         "2011-11-17 08:40:00"
        ],
        [
         "(12357.0, 574740)",
         "6207.67",
         "2011-11-06 16:07:00"
        ],
        [
         "(12358.0, 559707)",
         "484.86",
         "2011-07-12 10:04:00"
        ],
        [
         "(12359.0, 540946)",
         "547.5",
         "2011-01-12 12:43:00"
        ],
        [
         "(12359.0, 543370)",
         "1838.9099999999999",
         "2011-02-07 14:51:00"
        ],
        [
         "(12359.0, 555477)",
         "1109.32",
         "2011-06-03 12:26:00"
        ],
        [
         "(12359.0, 571034)",
         "2876.85",
         "2011-10-13 12:47:00"
        ],
        [
         "(12360.0, 554132)",
         "1083.58",
         "2011-05-23 09:43:00"
        ],
        [
         "(12360.0, 563749)",
         "534.7",
         "2011-08-19 10:10:00"
        ],
        [
         "(12360.0, 571705)",
         "1043.78",
         "2011-10-18 15:22:00"
        ],
        [
         "(12361.0, 545017)",
         "189.9",
         "2011-02-25 13:51:00"
        ],
        [
         "(12362.0, 544203)",
         "479.1",
         "2011-02-17 10:30:00"
        ],
        [
         "(12362.0, 551346)",
         "495.24",
         "2011-04-28 09:12:00"
        ],
        [
         "(12362.0, 559295)",
         "303.76",
         "2011-07-07 12:32:00"
        ],
        [
         "(12362.0, 563037)",
         "469.25",
         "2011-08-11 15:02:00"
        ],
        [
         "(12362.0, 568651)",
         "829.99",
         "2011-09-28 12:04:00"
        ],
        [
         "(12362.0, 570667)",
         "355.8",
         "2011-10-11 14:33:00"
        ],
        [
         "(12362.0, 572887)",
         "786.95",
         "2011-10-26 13:47:00"
        ],
        [
         "(12362.0, 573173)",
         "499.15999999999997",
         "2011-10-28 10:10:00"
        ],
        [
         "(12362.0, 574329)",
         "477.94",
         "2011-11-04 09:07:00"
        ],
        [
         "(12363.0, 549687)",
         "299.1",
         "2011-04-11 13:29:00"
        ],
        [
         "(12363.0, 563947)",
         "252.9",
         "2011-08-22 10:18:00"
        ],
        [
         "(12364.0, 563854)",
         "623.92",
         "2011-08-19 15:24:00"
        ],
        [
         "(12364.0, 567897)",
         "79.8",
         "2011-09-22 16:07:00"
        ]
       ],
       "shape": {
        "columns": 2,
        "rows": 17758
       }
      },
      "text/html": [
       "<div>\n",
       "<style scoped>\n",
       "    .dataframe tbody tr th:only-of-type {\n",
       "        vertical-align: middle;\n",
       "    }\n",
       "\n",
       "    .dataframe tbody tr th {\n",
       "        vertical-align: top;\n",
       "    }\n",
       "\n",
       "    .dataframe thead th {\n",
       "        text-align: right;\n",
       "    }\n",
       "</style>\n",
       "<table border=\"1\" class=\"dataframe\">\n",
       "  <thead>\n",
       "    <tr style=\"text-align: right;\">\n",
       "      <th></th>\n",
       "      <th></th>\n",
       "      <th>Sales</th>\n",
       "      <th>InvoiceDate</th>\n",
       "    </tr>\n",
       "    <tr>\n",
       "      <th>CustomerID</th>\n",
       "      <th>InvoiceNo</th>\n",
       "      <th></th>\n",
       "      <th></th>\n",
       "    </tr>\n",
       "  </thead>\n",
       "  <tbody>\n",
       "    <tr>\n",
       "      <th>12346.0</th>\n",
       "      <th>541431</th>\n",
       "      <td>77183.60</td>\n",
       "      <td>2011-01-18 10:01:00</td>\n",
       "    </tr>\n",
       "    <tr>\n",
       "      <th rowspan=\"4\" valign=\"top\">12347.0</th>\n",
       "      <th>537626</th>\n",
       "      <td>711.79</td>\n",
       "      <td>2010-12-07 14:57:00</td>\n",
       "    </tr>\n",
       "    <tr>\n",
       "      <th>542237</th>\n",
       "      <td>475.39</td>\n",
       "      <td>2011-01-26 14:30:00</td>\n",
       "    </tr>\n",
       "    <tr>\n",
       "      <th>549222</th>\n",
       "      <td>636.25</td>\n",
       "      <td>2011-04-07 10:43:00</td>\n",
       "    </tr>\n",
       "    <tr>\n",
       "      <th>556201</th>\n",
       "      <td>382.52</td>\n",
       "      <td>2011-06-09 13:01:00</td>\n",
       "    </tr>\n",
       "    <tr>\n",
       "      <th>...</th>\n",
       "      <th>...</th>\n",
       "      <td>...</td>\n",
       "      <td>...</td>\n",
       "    </tr>\n",
       "    <tr>\n",
       "      <th rowspan=\"2\" valign=\"top\">18283.0</th>\n",
       "      <th>578262</th>\n",
       "      <td>313.65</td>\n",
       "      <td>2011-11-23 13:27:00</td>\n",
       "    </tr>\n",
       "    <tr>\n",
       "      <th>579673</th>\n",
       "      <td>223.61</td>\n",
       "      <td>2011-11-30 12:59:00</td>\n",
       "    </tr>\n",
       "    <tr>\n",
       "      <th rowspan=\"3\" valign=\"top\">18287.0</th>\n",
       "      <th>554065</th>\n",
       "      <td>765.28</td>\n",
       "      <td>2011-05-22 10:39:00</td>\n",
       "    </tr>\n",
       "    <tr>\n",
       "      <th>570715</th>\n",
       "      <td>1001.32</td>\n",
       "      <td>2011-10-12 10:23:00</td>\n",
       "    </tr>\n",
       "    <tr>\n",
       "      <th>573167</th>\n",
       "      <td>70.68</td>\n",
       "      <td>2011-10-28 09:29:00</td>\n",
       "    </tr>\n",
       "  </tbody>\n",
       "</table>\n",
       "<p>17758 rows × 2 columns</p>\n",
       "</div>"
      ],
      "text/plain": [
       "                         Sales         InvoiceDate\n",
       "CustomerID InvoiceNo                              \n",
       "12346.0    541431     77183.60 2011-01-18 10:01:00\n",
       "12347.0    537626       711.79 2010-12-07 14:57:00\n",
       "           542237       475.39 2011-01-26 14:30:00\n",
       "           549222       636.25 2011-04-07 10:43:00\n",
       "           556201       382.52 2011-06-09 13:01:00\n",
       "...                        ...                 ...\n",
       "18283.0    578262       313.65 2011-11-23 13:27:00\n",
       "           579673       223.61 2011-11-30 12:59:00\n",
       "18287.0    554065       765.28 2011-05-22 10:39:00\n",
       "           570715      1001.32 2011-10-12 10:23:00\n",
       "           573167        70.68 2011-10-28 09:29:00\n",
       "\n",
       "[17758 rows x 2 columns]"
      ]
     },
     "execution_count": 294,
     "metadata": {},
     "output_type": "execute_result"
    }
   ],
   "source": [
    "orders_df = df.groupby([\n",
    "  'CustomerID', 'InvoiceNo'\n",
    "]).agg({\n",
    "  'Sales':sum,\n",
    "  'InvoiceDate':max\n",
    "})\n",
    "\n",
    "orders_df"
   ]
  },
  {
   "cell_type": "markdown",
   "metadata": {},
   "source": [
    "As you can see from this code, we are grouping the DataFrame df by two\n",
    "columns, CustomerID and InvoiceNo. Then, we are summing up all of\n",
    "the Sales values for each customer and order, and taking the last transaction\n",
    "time for the given order as InvoiceDate. This way we now have a DataFrame,\n",
    "orders_df, as we need to know about each order that each customer placed."
   ]
  },
  {
   "cell_type": "markdown",
   "metadata": {},
   "source": [
    "# 3. Data Analysis"
   ]
  },
  {
   "cell_type": "markdown",
   "metadata": {},
   "source": [
    "In order to calculate the CLV, we need to know the frequency, recency, and total amount of\n",
    "purchases by each customer. We are going to compute basic information about each\n",
    "customer's average and lifetime purchase amount, as well as each customer's duration and\n",
    "frequency of purchases."
   ]
  },
  {
   "cell_type": "code",
   "execution_count": 295,
   "metadata": {},
   "outputs": [
    {
     "data": {
      "application/vnd.microsoft.datawrangler.viewer.v0+json": {
       "columns": [
        {
         "name": "('CustomerID', 'InvoiceNo')",
         "rawType": "object",
         "type": "string"
        },
        {
         "name": "Sales",
         "rawType": "float64",
         "type": "float"
        },
        {
         "name": "InvoiceDate",
         "rawType": "datetime64[ns]",
         "type": "datetime"
        }
       ],
       "conversionMethod": "pd.DataFrame",
       "ref": "017a8dba-9d2c-4c5e-832e-955811b520cb",
       "rows": [
        [
         "(12346.0, 541431)",
         "77183.6",
         "2011-01-18 10:01:00"
        ],
        [
         "(12347.0, 537626)",
         "711.79",
         "2010-12-07 14:57:00"
        ],
        [
         "(12347.0, 542237)",
         "475.39",
         "2011-01-26 14:30:00"
        ],
        [
         "(12347.0, 549222)",
         "636.25",
         "2011-04-07 10:43:00"
        ],
        [
         "(12347.0, 556201)",
         "382.52",
         "2011-06-09 13:01:00"
        ]
       ],
       "shape": {
        "columns": 2,
        "rows": 5
       }
      },
      "text/html": [
       "<div>\n",
       "<style scoped>\n",
       "    .dataframe tbody tr th:only-of-type {\n",
       "        vertical-align: middle;\n",
       "    }\n",
       "\n",
       "    .dataframe tbody tr th {\n",
       "        vertical-align: top;\n",
       "    }\n",
       "\n",
       "    .dataframe thead th {\n",
       "        text-align: right;\n",
       "    }\n",
       "</style>\n",
       "<table border=\"1\" class=\"dataframe\">\n",
       "  <thead>\n",
       "    <tr style=\"text-align: right;\">\n",
       "      <th></th>\n",
       "      <th></th>\n",
       "      <th>Sales</th>\n",
       "      <th>InvoiceDate</th>\n",
       "    </tr>\n",
       "    <tr>\n",
       "      <th>CustomerID</th>\n",
       "      <th>InvoiceNo</th>\n",
       "      <th></th>\n",
       "      <th></th>\n",
       "    </tr>\n",
       "  </thead>\n",
       "  <tbody>\n",
       "    <tr>\n",
       "      <th>12346.0</th>\n",
       "      <th>541431</th>\n",
       "      <td>77183.60</td>\n",
       "      <td>2011-01-18 10:01:00</td>\n",
       "    </tr>\n",
       "    <tr>\n",
       "      <th rowspan=\"4\" valign=\"top\">12347.0</th>\n",
       "      <th>537626</th>\n",
       "      <td>711.79</td>\n",
       "      <td>2010-12-07 14:57:00</td>\n",
       "    </tr>\n",
       "    <tr>\n",
       "      <th>542237</th>\n",
       "      <td>475.39</td>\n",
       "      <td>2011-01-26 14:30:00</td>\n",
       "    </tr>\n",
       "    <tr>\n",
       "      <th>549222</th>\n",
       "      <td>636.25</td>\n",
       "      <td>2011-04-07 10:43:00</td>\n",
       "    </tr>\n",
       "    <tr>\n",
       "      <th>556201</th>\n",
       "      <td>382.52</td>\n",
       "      <td>2011-06-09 13:01:00</td>\n",
       "    </tr>\n",
       "  </tbody>\n",
       "</table>\n",
       "</div>"
      ],
      "text/plain": [
       "                         Sales         InvoiceDate\n",
       "CustomerID InvoiceNo                              \n",
       "12346.0    541431     77183.60 2011-01-18 10:01:00\n",
       "12347.0    537626       711.79 2010-12-07 14:57:00\n",
       "           542237       475.39 2011-01-26 14:30:00\n",
       "           549222       636.25 2011-04-07 10:43:00\n",
       "           556201       382.52 2011-06-09 13:01:00"
      ]
     },
     "execution_count": 295,
     "metadata": {},
     "output_type": "execute_result"
    }
   ],
   "source": [
    "orders_df.head()"
   ]
  },
  {
   "cell_type": "code",
   "execution_count": 296,
   "metadata": {},
   "outputs": [],
   "source": [
    "def groupby_mean(x):\n",
    "  return x.mean()\n",
    "  \n",
    "def groupby_count(x):\n",
    "  return x.count()\n",
    "  \n",
    "def purchase_duration(x):\n",
    "  return (x.max() - x.min()).days\n",
    "\n",
    "def avg_frequency(x):\n",
    "  return (x.max() - x.min()).days / x.count()\n",
    "\n",
    "\n",
    "groupby_mean.__name__ = 'avg'\n",
    "groupby_count.__name__ = 'count'\n",
    "purchase_duration.__name__ = 'purchase_duration'\n",
    "avg_frequency.__name__ = 'purchase_frequency'"
   ]
  },
  {
   "cell_type": "code",
   "execution_count": 297,
   "metadata": {},
   "outputs": [
    {
     "data": {
      "application/vnd.microsoft.datawrangler.viewer.v0+json": {
       "columns": [
        {
         "name": "CustomerID",
         "rawType": "float64",
         "type": "float"
        },
        {
         "name": "('Sales', 'min')",
         "rawType": "float64",
         "type": "float"
        },
        {
         "name": "('Sales', 'max')",
         "rawType": "float64",
         "type": "float"
        },
        {
         "name": "('Sales', 'sum')",
         "rawType": "float64",
         "type": "float"
        },
        {
         "name": "('Sales', 'avg')",
         "rawType": "float64",
         "type": "float"
        },
        {
         "name": "('Sales', 'count')",
         "rawType": "int64",
         "type": "integer"
        },
        {
         "name": "('InvoiceDate', 'min')",
         "rawType": "datetime64[ns]",
         "type": "datetime"
        },
        {
         "name": "('InvoiceDate', 'max')",
         "rawType": "datetime64[ns]",
         "type": "datetime"
        },
        {
         "name": "('InvoiceDate', 'purchase_duration')",
         "rawType": "int64",
         "type": "integer"
        },
        {
         "name": "('InvoiceDate', 'purchase_frequency')",
         "rawType": "float64",
         "type": "float"
        }
       ],
       "conversionMethod": "pd.DataFrame",
       "ref": "bea86480-7c97-4605-b492-af670f45d9fa",
       "rows": [
        [
         "12346.0",
         "77183.6",
         "77183.6",
         "77183.6",
         "77183.6",
         "1",
         "2011-01-18 10:01:00",
         "2011-01-18 10:01:00",
         "0",
         "0.0"
        ],
        [
         "12347.0",
         "382.52",
         "1294.32",
         "4085.18",
         "680.8633333333332",
         "6",
         "2010-12-07 14:57:00",
         "2011-10-31 12:25:00",
         "327",
         "54.5"
        ],
        [
         "12348.0",
         "227.44",
         "892.8",
         "1797.24",
         "449.31",
         "4",
         "2010-12-16 19:09:00",
         "2011-09-25 13:13:00",
         "282",
         "70.5"
        ],
        [
         "12349.0",
         "1757.55",
         "1757.55",
         "1757.55",
         "1757.55",
         "1",
         "2011-11-21 09:51:00",
         "2011-11-21 09:51:00",
         "0",
         "0.0"
        ],
        [
         "12350.0",
         "334.4",
         "334.4",
         "334.4",
         "334.4",
         "1",
         "2011-02-02 16:01:00",
         "2011-02-02 16:01:00",
         "0",
         "0.0"
        ],
        [
         "12352.0",
         "120.33",
         "840.3",
         "2506.04",
         "313.255",
         "8",
         "2011-02-16 12:33:00",
         "2011-11-03 14:37:00",
         "260",
         "32.5"
        ],
        [
         "12353.0",
         "89.0",
         "89.0",
         "89.0",
         "89.0",
         "1",
         "2011-05-19 17:47:00",
         "2011-05-19 17:47:00",
         "0",
         "0.0"
        ],
        [
         "12354.0",
         "1079.4",
         "1079.4",
         "1079.4",
         "1079.4",
         "1",
         "2011-04-21 13:11:00",
         "2011-04-21 13:11:00",
         "0",
         "0.0"
        ],
        [
         "12355.0",
         "459.4",
         "459.4",
         "459.4",
         "459.4",
         "1",
         "2011-05-09 13:49:00",
         "2011-05-09 13:49:00",
         "0",
         "0.0"
        ],
        [
         "12356.0",
         "58.349999999999994",
         "2271.62",
         "2811.43",
         "937.1433333333333",
         "3",
         "2011-01-18 09:50:00",
         "2011-11-17 08:40:00",
         "302",
         "100.66666666666667"
        ],
        [
         "12357.0",
         "6207.67",
         "6207.67",
         "6207.67",
         "6207.67",
         "1",
         "2011-11-06 16:07:00",
         "2011-11-06 16:07:00",
         "0",
         "0.0"
        ],
        [
         "12358.0",
         "484.86",
         "484.86",
         "484.86",
         "484.86",
         "1",
         "2011-07-12 10:04:00",
         "2011-07-12 10:04:00",
         "0",
         "0.0"
        ],
        [
         "12359.0",
         "547.5",
         "2876.85",
         "6372.58",
         "1593.145",
         "4",
         "2011-01-12 12:43:00",
         "2011-10-13 12:47:00",
         "274",
         "68.5"
        ],
        [
         "12360.0",
         "534.7",
         "1083.58",
         "2662.06",
         "887.3533333333334",
         "3",
         "2011-05-23 09:43:00",
         "2011-10-18 15:22:00",
         "148",
         "49.333333333333336"
        ],
        [
         "12361.0",
         "189.9",
         "189.9",
         "189.9",
         "189.9",
         "1",
         "2011-02-25 13:51:00",
         "2011-02-25 13:51:00",
         "0",
         "0.0"
        ],
        [
         "12362.0",
         "303.76",
         "829.99",
         "4697.1900000000005",
         "521.91",
         "9",
         "2011-02-17 10:30:00",
         "2011-11-04 09:07:00",
         "259",
         "28.77777777777778"
        ],
        [
         "12363.0",
         "252.9",
         "299.1",
         "552.0",
         "276.0",
         "2",
         "2011-04-11 13:29:00",
         "2011-08-22 10:18:00",
         "132",
         "66.0"
        ],
        [
         "12364.0",
         "79.8",
         "623.92",
         "1002.78",
         "334.26",
         "3",
         "2011-08-19 15:24:00",
         "2011-10-30 15:43:00",
         "72",
         "24.0"
        ],
        [
         "12365.0",
         "320.69",
         "320.69",
         "641.38",
         "320.69",
         "2",
         "2011-02-21 13:51:00",
         "2011-02-21 14:04:00",
         "0",
         "0.0"
        ],
        [
         "12370.0",
         "277.2",
         "1590.82",
         "3545.6899999999996",
         "886.4224999999999",
         "4",
         "2010-12-14 12:58:00",
         "2011-10-19 14:51:00",
         "309",
         "77.25"
        ],
        [
         "12371.0",
         "360.0",
         "1527.96",
         "1887.96",
         "943.98",
         "2",
         "2011-10-11 10:43:00",
         "2011-10-26 10:16:00",
         "14",
         "7.0"
        ],
        [
         "12372.0",
         "383.12",
         "515.7",
         "1298.04",
         "432.68",
         "3",
         "2011-02-16 12:46:00",
         "2011-09-29 12:12:00",
         "224",
         "74.66666666666667"
        ],
        [
         "12373.0",
         "364.6",
         "364.6",
         "364.6",
         "364.6",
         "1",
         "2011-02-01 13:10:00",
         "2011-02-01 13:10:00",
         "0",
         "0.0"
        ],
        [
         "12374.0",
         "742.9300000000001",
         "742.9300000000001",
         "742.9300000000001",
         "742.9300000000001",
         "1",
         "2011-11-14 15:37:00",
         "2011-11-14 15:37:00",
         "0",
         "0.0"
        ],
        [
         "12375.0",
         "227.20000000000002",
         "230.3",
         "457.5",
         "228.75",
         "2",
         "2011-09-02 14:23:00",
         "2011-11-29 10:36:00",
         "87",
         "43.5"
        ],
        [
         "12377.0",
         "626.6",
         "1001.52",
         "1628.12",
         "814.06",
         "2",
         "2010-12-20 09:37:00",
         "2011-01-28 15:45:00",
         "39",
         "19.5"
        ],
        [
         "12378.0",
         "4008.62",
         "4008.62",
         "4008.62",
         "4008.62",
         "1",
         "2011-08-02 10:34:00",
         "2011-08-02 10:34:00",
         "0",
         "0.0"
        ],
        [
         "12379.0",
         "392.40000000000003",
         "459.84",
         "852.24",
         "426.12",
         "2",
         "2011-06-22 16:32:00",
         "2011-09-19 10:09:00",
         "88",
         "44.0"
        ],
        [
         "12380.0",
         "450.86",
         "1040.39",
         "2724.8100000000004",
         "681.2025000000001",
         "4",
         "2011-06-07 09:49:00",
         "2011-11-18 11:27:00",
         "164",
         "41.0"
        ],
        [
         "12381.0",
         "4.5",
         "1268.74",
         "1698.3",
         "424.575",
         "4",
         "2011-08-12 09:57:00",
         "2011-11-06 13:36:00",
         "86",
         "21.5"
        ],
        [
         "12383.0",
         "99.45",
         "651.16",
         "1850.56",
         "370.112",
         "5",
         "2010-12-22 14:28:00",
         "2011-06-08 08:02:00",
         "167",
         "33.4"
        ],
        [
         "12384.0",
         "292.58",
         "292.69",
         "585.27",
         "292.635",
         "2",
         "2011-08-10 11:23:00",
         "2011-11-11 08:39:00",
         "92",
         "46.0"
        ],
        [
         "12386.0",
         "143.0",
         "258.9",
         "401.9",
         "200.95",
         "2",
         "2010-12-08 09:53:00",
         "2011-01-06 12:37:00",
         "29",
         "14.5"
        ],
        [
         "12388.0",
         "124.05000000000001",
         "902.09",
         "2780.66",
         "463.4433333333334",
         "6",
         "2011-01-17 11:12:00",
         "2011-11-24 12:30:00",
         "311",
         "51.833333333333336"
        ],
        [
         "12390.0",
         "549.84",
         "549.84",
         "549.84",
         "549.84",
         "1",
         "2011-09-21 09:33:00",
         "2011-09-21 09:33:00",
         "0",
         "0.0"
        ],
        [
         "12391.0",
         "460.89",
         "460.89",
         "460.89",
         "460.89",
         "1",
         "2011-11-18 12:07:00",
         "2011-11-18 12:07:00",
         "0",
         "0.0"
        ],
        [
         "12393.0",
         "177.00000000000003",
         "521.5",
         "1582.6",
         "395.65",
         "4",
         "2011-01-11 09:47:00",
         "2011-09-28 15:41:00",
         "260",
         "65.0"
        ],
        [
         "12394.0",
         "381.08",
         "891.4",
         "1272.48",
         "636.24",
         "2",
         "2011-05-06 14:01:00",
         "2011-10-07 08:08:00",
         "153",
         "76.5"
        ],
        [
         "12395.0",
         "149.97",
         "346.68",
         "3018.63",
         "251.55249999999998",
         "12",
         "2010-12-03 16:35:00",
         "2011-11-20 15:21:00",
         "351",
         "29.25"
        ],
        [
         "12397.0",
         "1195.09",
         "1214.81",
         "2409.8999999999996",
         "1204.9499999999998",
         "2",
         "2011-07-27 14:21:00",
         "2011-11-04 09:52:00",
         "99",
         "49.5"
        ],
        [
         "12398.0",
         "1635.6599999999999",
         "1635.6599999999999",
         "1635.6599999999999",
         "1635.6599999999999",
         "1",
         "2011-10-25 10:27:00",
         "2011-10-25 10:27:00",
         "0",
         "0.0"
        ],
        [
         "12399.0",
         "130.08",
         "480.90000000000003",
         "1108.65",
         "277.1625",
         "4",
         "2011-03-23 09:42:00",
         "2011-08-12 13:15:00",
         "142",
         "35.5"
        ],
        [
         "12401.0",
         "84.3",
         "84.3",
         "84.3",
         "84.3",
         "1",
         "2011-02-09 13:50:00",
         "2011-02-09 13:50:00",
         "0",
         "0.0"
        ],
        [
         "12402.0",
         "225.6",
         "225.6",
         "225.6",
         "225.6",
         "1",
         "2011-01-20 13:49:00",
         "2011-01-20 13:49:00",
         "0",
         "0.0"
        ],
        [
         "12403.0",
         "427.7",
         "427.7",
         "427.7",
         "427.7",
         "1",
         "2011-10-21 10:51:00",
         "2011-10-21 10:51:00",
         "0",
         "0.0"
        ],
        [
         "12405.0",
         "1710.39",
         "1710.39",
         "1710.39",
         "1710.39",
         "1",
         "2011-07-14 08:52:00",
         "2011-07-14 08:52:00",
         "0",
         "0.0"
        ],
        [
         "12406.0",
         "1621.25",
         "1794.05",
         "3415.3",
         "1707.65",
         "2",
         "2011-06-09 10:23:00",
         "2011-11-17 19:22:00",
         "161",
         "80.5"
        ],
        [
         "12407.0",
         "192.34",
         "719.06",
         "1708.12",
         "341.62399999999997",
         "5",
         "2011-03-20 13:21:00",
         "2011-10-21 10:11:00",
         "214",
         "42.8"
        ],
        [
         "12408.0",
         "74.7",
         "762.89",
         "2888.55",
         "577.71",
         "5",
         "2011-03-24 14:46:00",
         "2011-11-07 12:27:00",
         "227",
         "45.4"
        ],
        [
         "12409.0",
         "4.95",
         "6207.08",
         "11072.67",
         "3690.89",
         "3",
         "2011-06-10 12:19:00",
         "2011-09-22 10:38:00",
         "103",
         "34.333333333333336"
        ]
       ],
       "shape": {
        "columns": 9,
        "rows": 4298
       }
      },
      "text/html": [
       "<div>\n",
       "<style scoped>\n",
       "    .dataframe tbody tr th:only-of-type {\n",
       "        vertical-align: middle;\n",
       "    }\n",
       "\n",
       "    .dataframe tbody tr th {\n",
       "        vertical-align: top;\n",
       "    }\n",
       "\n",
       "    .dataframe thead tr th {\n",
       "        text-align: left;\n",
       "    }\n",
       "\n",
       "    .dataframe thead tr:last-of-type th {\n",
       "        text-align: right;\n",
       "    }\n",
       "</style>\n",
       "<table border=\"1\" class=\"dataframe\">\n",
       "  <thead>\n",
       "    <tr>\n",
       "      <th></th>\n",
       "      <th colspan=\"5\" halign=\"left\">Sales</th>\n",
       "      <th colspan=\"4\" halign=\"left\">InvoiceDate</th>\n",
       "    </tr>\n",
       "    <tr>\n",
       "      <th></th>\n",
       "      <th>min</th>\n",
       "      <th>max</th>\n",
       "      <th>sum</th>\n",
       "      <th>avg</th>\n",
       "      <th>count</th>\n",
       "      <th>min</th>\n",
       "      <th>max</th>\n",
       "      <th>purchase_duration</th>\n",
       "      <th>purchase_frequency</th>\n",
       "    </tr>\n",
       "    <tr>\n",
       "      <th>CustomerID</th>\n",
       "      <th></th>\n",
       "      <th></th>\n",
       "      <th></th>\n",
       "      <th></th>\n",
       "      <th></th>\n",
       "      <th></th>\n",
       "      <th></th>\n",
       "      <th></th>\n",
       "      <th></th>\n",
       "    </tr>\n",
       "  </thead>\n",
       "  <tbody>\n",
       "    <tr>\n",
       "      <th>12346.0</th>\n",
       "      <td>77183.60</td>\n",
       "      <td>77183.60</td>\n",
       "      <td>77183.60</td>\n",
       "      <td>77183.600000</td>\n",
       "      <td>1</td>\n",
       "      <td>2011-01-18 10:01:00</td>\n",
       "      <td>2011-01-18 10:01:00</td>\n",
       "      <td>0</td>\n",
       "      <td>0.000000</td>\n",
       "    </tr>\n",
       "    <tr>\n",
       "      <th>12347.0</th>\n",
       "      <td>382.52</td>\n",
       "      <td>1294.32</td>\n",
       "      <td>4085.18</td>\n",
       "      <td>680.863333</td>\n",
       "      <td>6</td>\n",
       "      <td>2010-12-07 14:57:00</td>\n",
       "      <td>2011-10-31 12:25:00</td>\n",
       "      <td>327</td>\n",
       "      <td>54.500000</td>\n",
       "    </tr>\n",
       "    <tr>\n",
       "      <th>12348.0</th>\n",
       "      <td>227.44</td>\n",
       "      <td>892.80</td>\n",
       "      <td>1797.24</td>\n",
       "      <td>449.310000</td>\n",
       "      <td>4</td>\n",
       "      <td>2010-12-16 19:09:00</td>\n",
       "      <td>2011-09-25 13:13:00</td>\n",
       "      <td>282</td>\n",
       "      <td>70.500000</td>\n",
       "    </tr>\n",
       "    <tr>\n",
       "      <th>12349.0</th>\n",
       "      <td>1757.55</td>\n",
       "      <td>1757.55</td>\n",
       "      <td>1757.55</td>\n",
       "      <td>1757.550000</td>\n",
       "      <td>1</td>\n",
       "      <td>2011-11-21 09:51:00</td>\n",
       "      <td>2011-11-21 09:51:00</td>\n",
       "      <td>0</td>\n",
       "      <td>0.000000</td>\n",
       "    </tr>\n",
       "    <tr>\n",
       "      <th>12350.0</th>\n",
       "      <td>334.40</td>\n",
       "      <td>334.40</td>\n",
       "      <td>334.40</td>\n",
       "      <td>334.400000</td>\n",
       "      <td>1</td>\n",
       "      <td>2011-02-02 16:01:00</td>\n",
       "      <td>2011-02-02 16:01:00</td>\n",
       "      <td>0</td>\n",
       "      <td>0.000000</td>\n",
       "    </tr>\n",
       "    <tr>\n",
       "      <th>...</th>\n",
       "      <td>...</td>\n",
       "      <td>...</td>\n",
       "      <td>...</td>\n",
       "      <td>...</td>\n",
       "      <td>...</td>\n",
       "      <td>...</td>\n",
       "      <td>...</td>\n",
       "      <td>...</td>\n",
       "      <td>...</td>\n",
       "    </tr>\n",
       "    <tr>\n",
       "      <th>18280.0</th>\n",
       "      <td>180.60</td>\n",
       "      <td>180.60</td>\n",
       "      <td>180.60</td>\n",
       "      <td>180.600000</td>\n",
       "      <td>1</td>\n",
       "      <td>2011-03-07 09:52:00</td>\n",
       "      <td>2011-03-07 09:52:00</td>\n",
       "      <td>0</td>\n",
       "      <td>0.000000</td>\n",
       "    </tr>\n",
       "    <tr>\n",
       "      <th>18281.0</th>\n",
       "      <td>80.82</td>\n",
       "      <td>80.82</td>\n",
       "      <td>80.82</td>\n",
       "      <td>80.820000</td>\n",
       "      <td>1</td>\n",
       "      <td>2011-06-12 10:53:00</td>\n",
       "      <td>2011-06-12 10:53:00</td>\n",
       "      <td>0</td>\n",
       "      <td>0.000000</td>\n",
       "    </tr>\n",
       "    <tr>\n",
       "      <th>18282.0</th>\n",
       "      <td>100.21</td>\n",
       "      <td>100.21</td>\n",
       "      <td>100.21</td>\n",
       "      <td>100.210000</td>\n",
       "      <td>1</td>\n",
       "      <td>2011-08-05 13:35:00</td>\n",
       "      <td>2011-08-05 13:35:00</td>\n",
       "      <td>0</td>\n",
       "      <td>0.000000</td>\n",
       "    </tr>\n",
       "    <tr>\n",
       "      <th>18283.0</th>\n",
       "      <td>1.95</td>\n",
       "      <td>313.65</td>\n",
       "      <td>1886.88</td>\n",
       "      <td>125.792000</td>\n",
       "      <td>15</td>\n",
       "      <td>2011-01-06 14:14:00</td>\n",
       "      <td>2011-11-30 12:59:00</td>\n",
       "      <td>327</td>\n",
       "      <td>21.800000</td>\n",
       "    </tr>\n",
       "    <tr>\n",
       "      <th>18287.0</th>\n",
       "      <td>70.68</td>\n",
       "      <td>1001.32</td>\n",
       "      <td>1837.28</td>\n",
       "      <td>612.426667</td>\n",
       "      <td>3</td>\n",
       "      <td>2011-05-22 10:39:00</td>\n",
       "      <td>2011-10-28 09:29:00</td>\n",
       "      <td>158</td>\n",
       "      <td>52.666667</td>\n",
       "    </tr>\n",
       "  </tbody>\n",
       "</table>\n",
       "<p>4298 rows × 9 columns</p>\n",
       "</div>"
      ],
      "text/plain": [
       "               Sales                                          \\\n",
       "                 min       max       sum           avg count   \n",
       "CustomerID                                                     \n",
       "12346.0     77183.60  77183.60  77183.60  77183.600000     1   \n",
       "12347.0       382.52   1294.32   4085.18    680.863333     6   \n",
       "12348.0       227.44    892.80   1797.24    449.310000     4   \n",
       "12349.0      1757.55   1757.55   1757.55   1757.550000     1   \n",
       "12350.0       334.40    334.40    334.40    334.400000     1   \n",
       "...              ...       ...       ...           ...   ...   \n",
       "18280.0       180.60    180.60    180.60    180.600000     1   \n",
       "18281.0        80.82     80.82     80.82     80.820000     1   \n",
       "18282.0       100.21    100.21    100.21    100.210000     1   \n",
       "18283.0         1.95    313.65   1886.88    125.792000    15   \n",
       "18287.0        70.68   1001.32   1837.28    612.426667     3   \n",
       "\n",
       "                   InvoiceDate                                        \\\n",
       "                           min                 max purchase_duration   \n",
       "CustomerID                                                             \n",
       "12346.0    2011-01-18 10:01:00 2011-01-18 10:01:00                 0   \n",
       "12347.0    2010-12-07 14:57:00 2011-10-31 12:25:00               327   \n",
       "12348.0    2010-12-16 19:09:00 2011-09-25 13:13:00               282   \n",
       "12349.0    2011-11-21 09:51:00 2011-11-21 09:51:00                 0   \n",
       "12350.0    2011-02-02 16:01:00 2011-02-02 16:01:00                 0   \n",
       "...                        ...                 ...               ...   \n",
       "18280.0    2011-03-07 09:52:00 2011-03-07 09:52:00                 0   \n",
       "18281.0    2011-06-12 10:53:00 2011-06-12 10:53:00                 0   \n",
       "18282.0    2011-08-05 13:35:00 2011-08-05 13:35:00                 0   \n",
       "18283.0    2011-01-06 14:14:00 2011-11-30 12:59:00               327   \n",
       "18287.0    2011-05-22 10:39:00 2011-10-28 09:29:00               158   \n",
       "\n",
       "                               \n",
       "           purchase_frequency  \n",
       "CustomerID                     \n",
       "12346.0              0.000000  \n",
       "12347.0             54.500000  \n",
       "12348.0             70.500000  \n",
       "12349.0              0.000000  \n",
       "12350.0              0.000000  \n",
       "...                       ...  \n",
       "18280.0              0.000000  \n",
       "18281.0              0.000000  \n",
       "18282.0              0.000000  \n",
       "18283.0             21.800000  \n",
       "18287.0             52.666667  \n",
       "\n",
       "[4298 rows x 9 columns]"
      ]
     },
     "execution_count": 297,
     "metadata": {},
     "output_type": "execute_result"
    }
   ],
   "source": [
    "summary_df = orders_df.reset_index().groupby('CustomerID').agg({\n",
    "  'Sales': [min, max, sum, groupby_mean, groupby_count],\n",
    "  'InvoiceDate': [min, max, purchase_duration, avg_frequency]\n",
    "})\n",
    "\n",
    "summary_df"
   ]
  },
  {
   "cell_type": "code",
   "execution_count": 298,
   "metadata": {},
   "outputs": [],
   "source": [
    "summary_df.columns = ['_'.join(col).lower() for col in summary_df.columns]"
   ]
  },
  {
   "cell_type": "code",
   "execution_count": 299,
   "metadata": {},
   "outputs": [
    {
     "data": {
      "text/plain": [
       "(4298, 9)"
      ]
     },
     "execution_count": 299,
     "metadata": {},
     "output_type": "execute_result"
    }
   ],
   "source": [
    "summary_df.shape"
   ]
  },
  {
   "cell_type": "code",
   "execution_count": 300,
   "metadata": {},
   "outputs": [
    {
     "data": {
      "text/plain": [
       "(2692, 9)"
      ]
     },
     "execution_count": 300,
     "metadata": {},
     "output_type": "execute_result"
    }
   ],
   "source": [
    "summary_df = summary_df.loc[summary_df['invoicedate_purchase_duration']>0]\n",
    "summary_df.shape"
   ]
  },
  {
   "cell_type": "code",
   "execution_count": 301,
   "metadata": {},
   "outputs": [
    {
     "data": {
      "application/vnd.microsoft.datawrangler.viewer.v0+json": {
       "columns": [
        {
         "name": "CustomerID",
         "rawType": "float64",
         "type": "float"
        },
        {
         "name": "sales_min",
         "rawType": "float64",
         "type": "float"
        },
        {
         "name": "sales_max",
         "rawType": "float64",
         "type": "float"
        },
        {
         "name": "sales_sum",
         "rawType": "float64",
         "type": "float"
        },
        {
         "name": "sales_avg",
         "rawType": "float64",
         "type": "float"
        },
        {
         "name": "sales_count",
         "rawType": "int64",
         "type": "integer"
        },
        {
         "name": "invoicedate_min",
         "rawType": "datetime64[ns]",
         "type": "datetime"
        },
        {
         "name": "invoicedate_max",
         "rawType": "datetime64[ns]",
         "type": "datetime"
        },
        {
         "name": "invoicedate_purchase_duration",
         "rawType": "int64",
         "type": "integer"
        },
        {
         "name": "invoicedate_purchase_frequency",
         "rawType": "float64",
         "type": "float"
        }
       ],
       "conversionMethod": "pd.DataFrame",
       "ref": "9de046bd-7016-4759-9126-acdab8164d30",
       "rows": [
        [
         "12347.0",
         "382.52",
         "1294.32",
         "4085.18",
         "680.8633333333332",
         "6",
         "2010-12-07 14:57:00",
         "2011-10-31 12:25:00",
         "327",
         "54.5"
        ],
        [
         "12348.0",
         "227.44",
         "892.8",
         "1797.24",
         "449.31",
         "4",
         "2010-12-16 19:09:00",
         "2011-09-25 13:13:00",
         "282",
         "70.5"
        ],
        [
         "12352.0",
         "120.33",
         "840.3",
         "2506.04",
         "313.255",
         "8",
         "2011-02-16 12:33:00",
         "2011-11-03 14:37:00",
         "260",
         "32.5"
        ],
        [
         "12356.0",
         "58.349999999999994",
         "2271.62",
         "2811.43",
         "937.1433333333333",
         "3",
         "2011-01-18 09:50:00",
         "2011-11-17 08:40:00",
         "302",
         "100.66666666666667"
        ],
        [
         "12359.0",
         "547.5",
         "2876.85",
         "6372.58",
         "1593.145",
         "4",
         "2011-01-12 12:43:00",
         "2011-10-13 12:47:00",
         "274",
         "68.5"
        ]
       ],
       "shape": {
        "columns": 9,
        "rows": 5
       }
      },
      "text/html": [
       "<div>\n",
       "<style scoped>\n",
       "    .dataframe tbody tr th:only-of-type {\n",
       "        vertical-align: middle;\n",
       "    }\n",
       "\n",
       "    .dataframe tbody tr th {\n",
       "        vertical-align: top;\n",
       "    }\n",
       "\n",
       "    .dataframe thead th {\n",
       "        text-align: right;\n",
       "    }\n",
       "</style>\n",
       "<table border=\"1\" class=\"dataframe\">\n",
       "  <thead>\n",
       "    <tr style=\"text-align: right;\">\n",
       "      <th></th>\n",
       "      <th>sales_min</th>\n",
       "      <th>sales_max</th>\n",
       "      <th>sales_sum</th>\n",
       "      <th>sales_avg</th>\n",
       "      <th>sales_count</th>\n",
       "      <th>invoicedate_min</th>\n",
       "      <th>invoicedate_max</th>\n",
       "      <th>invoicedate_purchase_duration</th>\n",
       "      <th>invoicedate_purchase_frequency</th>\n",
       "    </tr>\n",
       "    <tr>\n",
       "      <th>CustomerID</th>\n",
       "      <th></th>\n",
       "      <th></th>\n",
       "      <th></th>\n",
       "      <th></th>\n",
       "      <th></th>\n",
       "      <th></th>\n",
       "      <th></th>\n",
       "      <th></th>\n",
       "      <th></th>\n",
       "    </tr>\n",
       "  </thead>\n",
       "  <tbody>\n",
       "    <tr>\n",
       "      <th>12347.0</th>\n",
       "      <td>382.52</td>\n",
       "      <td>1294.32</td>\n",
       "      <td>4085.18</td>\n",
       "      <td>680.863333</td>\n",
       "      <td>6</td>\n",
       "      <td>2010-12-07 14:57:00</td>\n",
       "      <td>2011-10-31 12:25:00</td>\n",
       "      <td>327</td>\n",
       "      <td>54.500000</td>\n",
       "    </tr>\n",
       "    <tr>\n",
       "      <th>12348.0</th>\n",
       "      <td>227.44</td>\n",
       "      <td>892.80</td>\n",
       "      <td>1797.24</td>\n",
       "      <td>449.310000</td>\n",
       "      <td>4</td>\n",
       "      <td>2010-12-16 19:09:00</td>\n",
       "      <td>2011-09-25 13:13:00</td>\n",
       "      <td>282</td>\n",
       "      <td>70.500000</td>\n",
       "    </tr>\n",
       "    <tr>\n",
       "      <th>12352.0</th>\n",
       "      <td>120.33</td>\n",
       "      <td>840.30</td>\n",
       "      <td>2506.04</td>\n",
       "      <td>313.255000</td>\n",
       "      <td>8</td>\n",
       "      <td>2011-02-16 12:33:00</td>\n",
       "      <td>2011-11-03 14:37:00</td>\n",
       "      <td>260</td>\n",
       "      <td>32.500000</td>\n",
       "    </tr>\n",
       "    <tr>\n",
       "      <th>12356.0</th>\n",
       "      <td>58.35</td>\n",
       "      <td>2271.62</td>\n",
       "      <td>2811.43</td>\n",
       "      <td>937.143333</td>\n",
       "      <td>3</td>\n",
       "      <td>2011-01-18 09:50:00</td>\n",
       "      <td>2011-11-17 08:40:00</td>\n",
       "      <td>302</td>\n",
       "      <td>100.666667</td>\n",
       "    </tr>\n",
       "    <tr>\n",
       "      <th>12359.0</th>\n",
       "      <td>547.50</td>\n",
       "      <td>2876.85</td>\n",
       "      <td>6372.58</td>\n",
       "      <td>1593.145000</td>\n",
       "      <td>4</td>\n",
       "      <td>2011-01-12 12:43:00</td>\n",
       "      <td>2011-10-13 12:47:00</td>\n",
       "      <td>274</td>\n",
       "      <td>68.500000</td>\n",
       "    </tr>\n",
       "  </tbody>\n",
       "</table>\n",
       "</div>"
      ],
      "text/plain": [
       "            sales_min  sales_max  sales_sum    sales_avg  sales_count  \\\n",
       "CustomerID                                                              \n",
       "12347.0        382.52    1294.32    4085.18   680.863333            6   \n",
       "12348.0        227.44     892.80    1797.24   449.310000            4   \n",
       "12352.0        120.33     840.30    2506.04   313.255000            8   \n",
       "12356.0         58.35    2271.62    2811.43   937.143333            3   \n",
       "12359.0        547.50    2876.85    6372.58  1593.145000            4   \n",
       "\n",
       "               invoicedate_min     invoicedate_max  \\\n",
       "CustomerID                                           \n",
       "12347.0    2010-12-07 14:57:00 2011-10-31 12:25:00   \n",
       "12348.0    2010-12-16 19:09:00 2011-09-25 13:13:00   \n",
       "12352.0    2011-02-16 12:33:00 2011-11-03 14:37:00   \n",
       "12356.0    2011-01-18 09:50:00 2011-11-17 08:40:00   \n",
       "12359.0    2011-01-12 12:43:00 2011-10-13 12:47:00   \n",
       "\n",
       "            invoicedate_purchase_duration  invoicedate_purchase_frequency  \n",
       "CustomerID                                                                 \n",
       "12347.0                               327                       54.500000  \n",
       "12348.0                               282                       70.500000  \n",
       "12352.0                               260                       32.500000  \n",
       "12356.0                               302                      100.666667  \n",
       "12359.0                               274                       68.500000  "
      ]
     },
     "execution_count": 301,
     "metadata": {},
     "output_type": "execute_result"
    }
   ],
   "source": [
    "summary_df.head()"
   ]
  },
  {
   "cell_type": "code",
   "execution_count": 302,
   "metadata": {},
   "outputs": [
    {
     "data": {
      "image/png": "[encoded data removed]",
      "text/plain": [
       "<Figure size 800x800 with 1 Axes>"
      ]
     },
     "metadata": {},
     "output_type": "display_data"
    }
   ],
   "source": [
    "ax = pd.DataFrame(summary_df.groupby('sales_count').count()['sales_avg']).sort_values('sales_avg', ascending=False)[:20].plot(\n",
    "  kind='bar',\n",
    "  grid=True,\n",
    "  figsize=(8,8),\n",
    "  color='skyblue'\n",
    ")\n",
    "\n",
    "ax.set_ylabel('count')\n",
    "\n",
    "plt.show()"
   ]
  },
  {
   "cell_type": "markdown",
   "metadata": {},
   "source": [
    "As you can see from this plot, the majority of customers have made 10 or less purchases\n",
    "historically."
   ]
  },
  {
   "cell_type": "code",
   "execution_count": 303,
   "metadata": {},
   "outputs": [
    {
     "data": {
      "text/plain": [
       "count    2692.000000\n",
       "mean        5.971025\n",
       "std         8.878128\n",
       "min         2.000000\n",
       "25%         2.000000\n",
       "50%         4.000000\n",
       "75%         6.000000\n",
       "max       201.000000\n",
       "Name: sales_count, dtype: float64"
      ]
     },
     "execution_count": 303,
     "metadata": {},
     "output_type": "execute_result"
    }
   ],
   "source": [
    "summary_df['sales_count'].describe()"
   ]
  },
  {
   "cell_type": "code",
   "execution_count": 304,
   "metadata": {},
   "outputs": [
    {
     "data": {
      "text/plain": [
       "count     2692.000000\n",
       "mean       391.458687\n",
       "std        465.584404\n",
       "min          3.450000\n",
       "25%        197.661000\n",
       "50%        306.043333\n",
       "75%        444.524000\n",
       "max      14844.766667\n",
       "Name: sales_avg, dtype: float64"
      ]
     },
     "execution_count": 304,
     "metadata": {},
     "output_type": "execute_result"
    }
   ],
   "source": [
    "summary_df['sales_avg'].describe()"
   ]
  },
  {
   "cell_type": "code",
   "execution_count": 305,
   "metadata": {},
   "outputs": [
    {
     "data": {
      "image/png": "[encoded data removed]",
      "text/plain": [
       "<Figure size 800x800 with 1 Axes>"
      ]
     },
     "metadata": {},
     "output_type": "display_data"
    }
   ],
   "source": [
    "ax = summary_df['invoicedate_purchase_frequency'].hist(\n",
    "  bins=30,\n",
    "  color='skyblue',\n",
    "  figsize=(8,8),\n",
    "  rwidth=0.7\n",
    ")\n",
    "\n",
    "ax.set_ylabel('count')\n",
    "ax.set_xlabel('avg. number of days between purchases')\n",
    "\n",
    "plt.show()"
   ]
  },
  {
   "cell_type": "markdown",
   "metadata": {},
   "source": [
    "This plot tells us the overall view of how frequently repeat customers made purchases\n",
    "historically. As you can see from this plot, the majority of repeat customers made purchases\n",
    "every 20 to 50 days."
   ]
  },
  {
   "cell_type": "code",
   "execution_count": 306,
   "metadata": {},
   "outputs": [
    {
     "data": {
      "text/plain": [
       "count    2692.000000\n",
       "mean       46.999022\n",
       "std        32.395004\n",
       "min         0.029412\n",
       "25%        23.500000\n",
       "50%        40.500000\n",
       "75%        62.333333\n",
       "max       182.000000\n",
       "Name: invoicedate_purchase_frequency, dtype: float64"
      ]
     },
     "execution_count": 306,
     "metadata": {},
     "output_type": "execute_result"
    }
   ],
   "source": [
    "summary_df['invoicedate_purchase_frequency'].describe()"
   ]
  },
  {
   "cell_type": "code",
   "execution_count": 307,
   "metadata": {},
   "outputs": [
    {
     "data": {
      "text/plain": [
       "count    2692.000000\n",
       "mean      199.720282\n",
       "std       107.816559\n",
       "min         1.000000\n",
       "25%       107.000000\n",
       "50%       209.000000\n",
       "75%       296.000000\n",
       "max       364.000000\n",
       "Name: invoicedate_purchase_duration, dtype: float64"
      ]
     },
     "execution_count": 307,
     "metadata": {},
     "output_type": "execute_result"
    }
   ],
   "source": [
    "summary_df['invoicedate_purchase_duration'].describe()"
   ]
  },
  {
   "cell_type": "markdown",
   "metadata": {},
   "source": [
    "# 4. Predicting 3-Month CLV"
   ]
  },
  {
   "cell_type": "markdown",
   "metadata": {},
   "source": [
    "4.1. Data Preparation"
   ]
  },
  {
   "cell_type": "markdown",
   "metadata": {},
   "source": [
    "We are going to first slice the\n",
    "data into chunks of 3 months and take the last 3 months' data as the target for predictions\n",
    "and the rest as the features. We will first prepare our data for model building and then train\n",
    "a linear regression model for the 3 month customer value predictions."
   ]
  },
  {
   "cell_type": "code",
   "execution_count": 308,
   "metadata": {},
   "outputs": [],
   "source": [
    "clv_freq = '3M'"
   ]
  },
  {
   "cell_type": "code",
   "execution_count": 309,
   "metadata": {},
   "outputs": [
    {
     "data": {
      "application/vnd.microsoft.datawrangler.viewer.v0+json": {
       "columns": [
        {
         "name": "('CustomerID', 'InvoiceNo')",
         "rawType": "object",
         "type": "string"
        },
        {
         "name": "Sales",
         "rawType": "float64",
         "type": "float"
        },
        {
         "name": "InvoiceDate",
         "rawType": "datetime64[ns]",
         "type": "datetime"
        }
       ],
       "conversionMethod": "pd.DataFrame",
       "ref": "626e9f73-73e8-4d46-9e13-f3b43dbae7cb",
       "rows": [
        [
         "(12346.0, 541431)",
         "77183.6",
         "2011-01-18 10:01:00"
        ],
        [
         "(12347.0, 537626)",
         "711.79",
         "2010-12-07 14:57:00"
        ],
        [
         "(12347.0, 542237)",
         "475.39",
         "2011-01-26 14:30:00"
        ],
        [
         "(12347.0, 549222)",
         "636.25",
         "2011-04-07 10:43:00"
        ],
        [
         "(12347.0, 556201)",
         "382.52",
         "2011-06-09 13:01:00"
        ],
        [
         "(12347.0, 562032)",
         "584.9100000000001",
         "2011-08-02 08:48:00"
        ],
        [
         "(12347.0, 573511)",
         "1294.32",
         "2011-10-31 12:25:00"
        ],
        [
         "(12348.0, 539318)",
         "892.8",
         "2010-12-16 19:09:00"
        ],
        [
         "(12348.0, 541998)",
         "227.44",
         "2011-01-25 10:42:00"
        ],
        [
         "(12348.0, 548955)",
         "367.0",
         "2011-04-05 10:47:00"
        ],
        [
         "(12348.0, 568172)",
         "310.0",
         "2011-09-25 13:13:00"
        ],
        [
         "(12349.0, 577609)",
         "1757.55",
         "2011-11-21 09:51:00"
        ],
        [
         "(12350.0, 543037)",
         "334.4",
         "2011-02-02 16:01:00"
        ],
        [
         "(12352.0, 544156)",
         "296.5",
         "2011-02-16 12:33:00"
        ],
        [
         "(12352.0, 545323)",
         "144.35",
         "2011-03-01 14:57:00"
        ],
        [
         "(12352.0, 545332)",
         "840.3",
         "2011-03-01 15:52:00"
        ],
        [
         "(12352.0, 546869)",
         "120.33",
         "2011-03-17 16:00:00"
        ],
        [
         "(12352.0, 547390)",
         "160.33",
         "2011-03-22 16:08:00"
        ],
        [
         "(12352.0, 567505)",
         "366.25",
         "2011-09-20 14:34:00"
        ],
        [
         "(12352.0, 568699)",
         "266.25",
         "2011-09-28 14:58:00"
        ],
        [
         "(12352.0, 574275)",
         "311.73",
         "2011-11-03 14:37:00"
        ],
        [
         "(12353.0, 553900)",
         "89.0",
         "2011-05-19 17:47:00"
        ],
        [
         "(12354.0, 550911)",
         "1079.4",
         "2011-04-21 13:11:00"
        ],
        [
         "(12355.0, 552449)",
         "459.4",
         "2011-05-09 13:49:00"
        ],
        [
         "(12356.0, 541430)",
         "2271.62",
         "2011-01-18 09:50:00"
        ],
        [
         "(12356.0, 549435)",
         "481.46000000000004",
         "2011-04-08 12:33:00"
        ],
        [
         "(12356.0, 576895)",
         "58.349999999999994",
         "2011-11-17 08:40:00"
        ],
        [
         "(12357.0, 574740)",
         "6207.67",
         "2011-11-06 16:07:00"
        ],
        [
         "(12358.0, 559707)",
         "484.86",
         "2011-07-12 10:04:00"
        ],
        [
         "(12359.0, 540946)",
         "547.5",
         "2011-01-12 12:43:00"
        ],
        [
         "(12359.0, 543370)",
         "1838.9099999999999",
         "2011-02-07 14:51:00"
        ],
        [
         "(12359.0, 555477)",
         "1109.32",
         "2011-06-03 12:26:00"
        ],
        [
         "(12359.0, 571034)",
         "2876.85",
         "2011-10-13 12:47:00"
        ],
        [
         "(12360.0, 554132)",
         "1083.58",
         "2011-05-23 09:43:00"
        ],
        [
         "(12360.0, 563749)",
         "534.7",
         "2011-08-19 10:10:00"
        ],
        [
         "(12360.0, 571705)",
         "1043.78",
         "2011-10-18 15:22:00"
        ],
        [
         "(12361.0, 545017)",
         "189.9",
         "2011-02-25 13:51:00"
        ],
        [
         "(12362.0, 544203)",
         "479.1",
         "2011-02-17 10:30:00"
        ],
        [
         "(12362.0, 551346)",
         "495.24",
         "2011-04-28 09:12:00"
        ],
        [
         "(12362.0, 559295)",
         "303.76",
         "2011-07-07 12:32:00"
        ],
        [
         "(12362.0, 563037)",
         "469.25",
         "2011-08-11 15:02:00"
        ],
        [
         "(12362.0, 568651)",
         "829.99",
         "2011-09-28 12:04:00"
        ],
        [
         "(12362.0, 570667)",
         "355.8",
         "2011-10-11 14:33:00"
        ],
        [
         "(12362.0, 572887)",
         "786.95",
         "2011-10-26 13:47:00"
        ],
        [
         "(12362.0, 573173)",
         "499.15999999999997",
         "2011-10-28 10:10:00"
        ],
        [
         "(12362.0, 574329)",
         "477.94",
         "2011-11-04 09:07:00"
        ],
        [
         "(12363.0, 549687)",
         "299.1",
         "2011-04-11 13:29:00"
        ],
        [
         "(12363.0, 563947)",
         "252.9",
         "2011-08-22 10:18:00"
        ],
        [
         "(12364.0, 563854)",
         "623.92",
         "2011-08-19 15:24:00"
        ],
        [
         "(12364.0, 567897)",
         "79.8",
         "2011-09-22 16:07:00"
        ]
       ],
       "shape": {
        "columns": 2,
        "rows": 17758
       }
      },
      "text/html": [
       "<div>\n",
       "<style scoped>\n",
       "    .dataframe tbody tr th:only-of-type {\n",
       "        vertical-align: middle;\n",
       "    }\n",
       "\n",
       "    .dataframe tbody tr th {\n",
       "        vertical-align: top;\n",
       "    }\n",
       "\n",
       "    .dataframe thead th {\n",
       "        text-align: right;\n",
       "    }\n",
       "</style>\n",
       "<table border=\"1\" class=\"dataframe\">\n",
       "  <thead>\n",
       "    <tr style=\"text-align: right;\">\n",
       "      <th></th>\n",
       "      <th></th>\n",
       "      <th>Sales</th>\n",
       "      <th>InvoiceDate</th>\n",
       "    </tr>\n",
       "    <tr>\n",
       "      <th>CustomerID</th>\n",
       "      <th>InvoiceNo</th>\n",
       "      <th></th>\n",
       "      <th></th>\n",
       "    </tr>\n",
       "  </thead>\n",
       "  <tbody>\n",
       "    <tr>\n",
       "      <th>12346.0</th>\n",
       "      <th>541431</th>\n",
       "      <td>77183.60</td>\n",
       "      <td>2011-01-18 10:01:00</td>\n",
       "    </tr>\n",
       "    <tr>\n",
       "      <th rowspan=\"4\" valign=\"top\">12347.0</th>\n",
       "      <th>537626</th>\n",
       "      <td>711.79</td>\n",
       "      <td>2010-12-07 14:57:00</td>\n",
       "    </tr>\n",
       "    <tr>\n",
       "      <th>542237</th>\n",
       "      <td>475.39</td>\n",
       "      <td>2011-01-26 14:30:00</td>\n",
       "    </tr>\n",
       "    <tr>\n",
       "      <th>549222</th>\n",
       "      <td>636.25</td>\n",
       "      <td>2011-04-07 10:43:00</td>\n",
       "    </tr>\n",
       "    <tr>\n",
       "      <th>556201</th>\n",
       "      <td>382.52</td>\n",
       "      <td>2011-06-09 13:01:00</td>\n",
       "    </tr>\n",
       "    <tr>\n",
       "      <th>...</th>\n",
       "      <th>...</th>\n",
       "      <td>...</td>\n",
       "      <td>...</td>\n",
       "    </tr>\n",
       "    <tr>\n",
       "      <th rowspan=\"2\" valign=\"top\">18283.0</th>\n",
       "      <th>578262</th>\n",
       "      <td>313.65</td>\n",
       "      <td>2011-11-23 13:27:00</td>\n",
       "    </tr>\n",
       "    <tr>\n",
       "      <th>579673</th>\n",
       "      <td>223.61</td>\n",
       "      <td>2011-11-30 12:59:00</td>\n",
       "    </tr>\n",
       "    <tr>\n",
       "      <th rowspan=\"3\" valign=\"top\">18287.0</th>\n",
       "      <th>554065</th>\n",
       "      <td>765.28</td>\n",
       "      <td>2011-05-22 10:39:00</td>\n",
       "    </tr>\n",
       "    <tr>\n",
       "      <th>570715</th>\n",
       "      <td>1001.32</td>\n",
       "      <td>2011-10-12 10:23:00</td>\n",
       "    </tr>\n",
       "    <tr>\n",
       "      <th>573167</th>\n",
       "      <td>70.68</td>\n",
       "      <td>2011-10-28 09:29:00</td>\n",
       "    </tr>\n",
       "  </tbody>\n",
       "</table>\n",
       "<p>17758 rows × 2 columns</p>\n",
       "</div>"
      ],
      "text/plain": [
       "                         Sales         InvoiceDate\n",
       "CustomerID InvoiceNo                              \n",
       "12346.0    541431     77183.60 2011-01-18 10:01:00\n",
       "12347.0    537626       711.79 2010-12-07 14:57:00\n",
       "           542237       475.39 2011-01-26 14:30:00\n",
       "           549222       636.25 2011-04-07 10:43:00\n",
       "           556201       382.52 2011-06-09 13:01:00\n",
       "...                        ...                 ...\n",
       "18283.0    578262       313.65 2011-11-23 13:27:00\n",
       "           579673       223.61 2011-11-30 12:59:00\n",
       "18287.0    554065       765.28 2011-05-22 10:39:00\n",
       "           570715      1001.32 2011-10-12 10:23:00\n",
       "           573167        70.68 2011-10-28 09:29:00\n",
       "\n",
       "[17758 rows x 2 columns]"
      ]
     },
     "execution_count": 309,
     "metadata": {},
     "output_type": "execute_result"
    }
   ],
   "source": [
    "orders_df"
   ]
  },
  {
   "cell_type": "code",
   "execution_count": 310,
   "metadata": {},
   "outputs": [],
   "source": [
    "data_df = orders_df.reset_index().groupby([\n",
    "  'CustomerID',\n",
    "  pd.Grouper(key='InvoiceDate', freq=clv_freq)\n",
    "]).agg({\n",
    "  'Sales':[sum, groupby_mean, groupby_count]\n",
    "})"
   ]
  },
  {
   "cell_type": "code",
   "execution_count": 311,
   "metadata": {},
   "outputs": [
    {
     "data": {
      "application/vnd.microsoft.datawrangler.viewer.v0+json": {
       "columns": [
        {
         "name": "index",
         "rawType": "int64",
         "type": "integer"
        },
        {
         "name": "CustomerID",
         "rawType": "float64",
         "type": "float"
        },
        {
         "name": "InvoiceDate",
         "rawType": "datetime64[ns]",
         "type": "datetime"
        },
        {
         "name": "sales_sum",
         "rawType": "float64",
         "type": "float"
        },
        {
         "name": "sales_avg",
         "rawType": "float64",
         "type": "float"
        },
        {
         "name": "sales_count",
         "rawType": "int64",
         "type": "integer"
        }
       ],
       "conversionMethod": "pd.DataFrame",
       "ref": "0d6229e8-1d1c-4f0f-9ba3-e3717b699a81",
       "rows": [
        [
         "0",
         "12346.0",
         "2011-03-31 00:00:00",
         "77183.6",
         "77183.6",
         "1"
        ],
        [
         "1",
         "12347.0",
         "2010-12-31 00:00:00",
         "711.79",
         "711.79",
         "1"
        ],
        [
         "2",
         "12347.0",
         "2011-03-31 00:00:00",
         "475.39",
         "475.39",
         "1"
        ],
        [
         "3",
         "12347.0",
         "2011-06-30 00:00:00",
         "1018.77",
         "509.385",
         "2"
        ],
        [
         "4",
         "12347.0",
         "2011-09-30 00:00:00",
         "584.9100000000001",
         "584.9100000000001",
         "1"
        ]
       ],
       "shape": {
        "columns": 5,
        "rows": 5
       }
      },
      "text/html": [
       "<div>\n",
       "<style scoped>\n",
       "    .dataframe tbody tr th:only-of-type {\n",
       "        vertical-align: middle;\n",
       "    }\n",
       "\n",
       "    .dataframe tbody tr th {\n",
       "        vertical-align: top;\n",
       "    }\n",
       "\n",
       "    .dataframe thead th {\n",
       "        text-align: right;\n",
       "    }\n",
       "</style>\n",
       "<table border=\"1\" class=\"dataframe\">\n",
       "  <thead>\n",
       "    <tr style=\"text-align: right;\">\n",
       "      <th></th>\n",
       "      <th>CustomerID</th>\n",
       "      <th>InvoiceDate</th>\n",
       "      <th>sales_sum</th>\n",
       "      <th>sales_avg</th>\n",
       "      <th>sales_count</th>\n",
       "    </tr>\n",
       "  </thead>\n",
       "  <tbody>\n",
       "    <tr>\n",
       "      <th>0</th>\n",
       "      <td>12346.0</td>\n",
       "      <td>2011-03-31</td>\n",
       "      <td>77183.60</td>\n",
       "      <td>77183.600</td>\n",
       "      <td>1</td>\n",
       "    </tr>\n",
       "    <tr>\n",
       "      <th>1</th>\n",
       "      <td>12347.0</td>\n",
       "      <td>2010-12-31</td>\n",
       "      <td>711.79</td>\n",
       "      <td>711.790</td>\n",
       "      <td>1</td>\n",
       "    </tr>\n",
       "    <tr>\n",
       "      <th>2</th>\n",
       "      <td>12347.0</td>\n",
       "      <td>2011-03-31</td>\n",
       "      <td>475.39</td>\n",
       "      <td>475.390</td>\n",
       "      <td>1</td>\n",
       "    </tr>\n",
       "    <tr>\n",
       "      <th>3</th>\n",
       "      <td>12347.0</td>\n",
       "      <td>2011-06-30</td>\n",
       "      <td>1018.77</td>\n",
       "      <td>509.385</td>\n",
       "      <td>2</td>\n",
       "    </tr>\n",
       "    <tr>\n",
       "      <th>4</th>\n",
       "      <td>12347.0</td>\n",
       "      <td>2011-09-30</td>\n",
       "      <td>584.91</td>\n",
       "      <td>584.910</td>\n",
       "      <td>1</td>\n",
       "    </tr>\n",
       "  </tbody>\n",
       "</table>\n",
       "</div>"
      ],
      "text/plain": [
       "   CustomerID InvoiceDate  sales_sum  sales_avg  sales_count\n",
       "0     12346.0  2011-03-31   77183.60  77183.600            1\n",
       "1     12347.0  2010-12-31     711.79    711.790            1\n",
       "2     12347.0  2011-03-31     475.39    475.390            1\n",
       "3     12347.0  2011-06-30    1018.77    509.385            2\n",
       "4     12347.0  2011-09-30     584.91    584.910            1"
      ]
     },
     "execution_count": 311,
     "metadata": {},
     "output_type": "execute_result"
    }
   ],
   "source": [
    "data_df.columns = ['_'.join(col).lower() for col in data_df.columns]\n",
    "data_df = data_df.reset_index()\n",
    "data_df.head()"
   ]
  },
  {
   "cell_type": "markdown",
   "metadata": {},
   "source": [
    "Since we want to predict the 3 month customer value, we are breaking down the data into\n",
    "chunks of 3 months for each customer. As you can see in the groupby function, we group\n",
    "the previously built DataFrame orders_df by CustomerID and a custom Grouper, which\n",
    "groups InvoiceDate by every 3 months. Then, for each group of 3 month time windows,\n",
    "we sum up all of the sales to get the total purchase amount, take the average of purchase\n",
    "amount and the total number of purchases for the given period for each customer. This way\n",
    "we have aggregate data that has purchase information for each customer for every 3\n",
    "months."
   ]
  },
  {
   "cell_type": "code",
   "execution_count": 312,
   "metadata": {},
   "outputs": [
    {
     "data": {
      "text/plain": [
       "{'2011-12-31': 'M_1',\n",
       " '2011-09-30': 'M_2',\n",
       " '2011-06-30': 'M_3',\n",
       " '2011-03-31': 'M_4',\n",
       " '2010-12-31': 'M_5'}"
      ]
     },
     "execution_count": 312,
     "metadata": {},
     "output_type": "execute_result"
    }
   ],
   "source": [
    "date_month_map = {\n",
    "  str(x)[:10]: 'M_%s' % (i+1) for i, x in enumerate(\n",
    "    sorted(data_df.reset_index()['InvoiceDate'].unique(), reverse=True)\n",
    "  )\n",
    "}\n",
    "\n",
    "date_month_map"
   ]
  },
  {
   "cell_type": "code",
   "execution_count": 313,
   "metadata": {},
   "outputs": [],
   "source": [
    "data_df['M'] = data_df['InvoiceDate'].apply(lambda x: date_month_map[str(x)[:10]])"
   ]
  },
  {
   "cell_type": "code",
   "execution_count": 314,
   "metadata": {},
   "outputs": [
    {
     "data": {
      "application/vnd.microsoft.datawrangler.viewer.v0+json": {
       "columns": [
        {
         "name": "index",
         "rawType": "int64",
         "type": "integer"
        },
        {
         "name": "CustomerID",
         "rawType": "float64",
         "type": "float"
        },
        {
         "name": "InvoiceDate",
         "rawType": "datetime64[ns]",
         "type": "datetime"
        },
        {
         "name": "sales_sum",
         "rawType": "float64",
         "type": "float"
        },
        {
         "name": "sales_avg",
         "rawType": "float64",
         "type": "float"
        },
        {
         "name": "sales_count",
         "rawType": "int64",
         "type": "integer"
        },
        {
         "name": "M",
         "rawType": "object",
         "type": "string"
        }
       ],
       "conversionMethod": "pd.DataFrame",
       "ref": "aa59145a-1deb-48b1-9aa8-e9a924f1c9b7",
       "rows": [
        [
         "0",
         "12346.0",
         "2011-03-31 00:00:00",
         "77183.6",
         "77183.6",
         "1",
         "M_4"
        ],
        [
         "1",
         "12347.0",
         "2010-12-31 00:00:00",
         "711.79",
         "711.79",
         "1",
         "M_5"
        ],
        [
         "2",
         "12347.0",
         "2011-03-31 00:00:00",
         "475.39",
         "475.39",
         "1",
         "M_4"
        ],
        [
         "3",
         "12347.0",
         "2011-06-30 00:00:00",
         "1018.77",
         "509.385",
         "2",
         "M_3"
        ],
        [
         "4",
         "12347.0",
         "2011-09-30 00:00:00",
         "584.9100000000001",
         "584.9100000000001",
         "1",
         "M_2"
        ],
        [
         "5",
         "12347.0",
         "2011-12-31 00:00:00",
         "1294.32",
         "1294.32",
         "1",
         "M_1"
        ],
        [
         "6",
         "12348.0",
         "2010-12-31 00:00:00",
         "892.8",
         "892.8",
         "1",
         "M_5"
        ],
        [
         "7",
         "12348.0",
         "2011-03-31 00:00:00",
         "227.44",
         "227.44",
         "1",
         "M_4"
        ],
        [
         "8",
         "12348.0",
         "2011-06-30 00:00:00",
         "367.0",
         "367.0",
         "1",
         "M_3"
        ],
        [
         "9",
         "12348.0",
         "2011-09-30 00:00:00",
         "310.0",
         "310.0",
         "1",
         "M_2"
        ]
       ],
       "shape": {
        "columns": 6,
        "rows": 10
       }
      },
      "text/html": [
       "<div>\n",
       "<style scoped>\n",
       "    .dataframe tbody tr th:only-of-type {\n",
       "        vertical-align: middle;\n",
       "    }\n",
       "\n",
       "    .dataframe tbody tr th {\n",
       "        vertical-align: top;\n",
       "    }\n",
       "\n",
       "    .dataframe thead th {\n",
       "        text-align: right;\n",
       "    }\n",
       "</style>\n",
       "<table border=\"1\" class=\"dataframe\">\n",
       "  <thead>\n",
       "    <tr style=\"text-align: right;\">\n",
       "      <th></th>\n",
       "      <th>CustomerID</th>\n",
       "      <th>InvoiceDate</th>\n",
       "      <th>sales_sum</th>\n",
       "      <th>sales_avg</th>\n",
       "      <th>sales_count</th>\n",
       "      <th>M</th>\n",
       "    </tr>\n",
       "  </thead>\n",
       "  <tbody>\n",
       "    <tr>\n",
       "      <th>0</th>\n",
       "      <td>12346.0</td>\n",
       "      <td>2011-03-31</td>\n",
       "      <td>77183.60</td>\n",
       "      <td>77183.600</td>\n",
       "      <td>1</td>\n",
       "      <td>M_4</td>\n",
       "    </tr>\n",
       "    <tr>\n",
       "      <th>1</th>\n",
       "      <td>12347.0</td>\n",
       "      <td>2010-12-31</td>\n",
       "      <td>711.79</td>\n",
       "      <td>711.790</td>\n",
       "      <td>1</td>\n",
       "      <td>M_5</td>\n",
       "    </tr>\n",
       "    <tr>\n",
       "      <th>2</th>\n",
       "      <td>12347.0</td>\n",
       "      <td>2011-03-31</td>\n",
       "      <td>475.39</td>\n",
       "      <td>475.390</td>\n",
       "      <td>1</td>\n",
       "      <td>M_4</td>\n",
       "    </tr>\n",
       "    <tr>\n",
       "      <th>3</th>\n",
       "      <td>12347.0</td>\n",
       "      <td>2011-06-30</td>\n",
       "      <td>1018.77</td>\n",
       "      <td>509.385</td>\n",
       "      <td>2</td>\n",
       "      <td>M_3</td>\n",
       "    </tr>\n",
       "    <tr>\n",
       "      <th>4</th>\n",
       "      <td>12347.0</td>\n",
       "      <td>2011-09-30</td>\n",
       "      <td>584.91</td>\n",
       "      <td>584.910</td>\n",
       "      <td>1</td>\n",
       "      <td>M_2</td>\n",
       "    </tr>\n",
       "    <tr>\n",
       "      <th>5</th>\n",
       "      <td>12347.0</td>\n",
       "      <td>2011-12-31</td>\n",
       "      <td>1294.32</td>\n",
       "      <td>1294.320</td>\n",
       "      <td>1</td>\n",
       "      <td>M_1</td>\n",
       "    </tr>\n",
       "    <tr>\n",
       "      <th>6</th>\n",
       "      <td>12348.0</td>\n",
       "      <td>2010-12-31</td>\n",
       "      <td>892.80</td>\n",
       "      <td>892.800</td>\n",
       "      <td>1</td>\n",
       "      <td>M_5</td>\n",
       "    </tr>\n",
       "    <tr>\n",
       "      <th>7</th>\n",
       "      <td>12348.0</td>\n",
       "      <td>2011-03-31</td>\n",
       "      <td>227.44</td>\n",
       "      <td>227.440</td>\n",
       "      <td>1</td>\n",
       "      <td>M_4</td>\n",
       "    </tr>\n",
       "    <tr>\n",
       "      <th>8</th>\n",
       "      <td>12348.0</td>\n",
       "      <td>2011-06-30</td>\n",
       "      <td>367.00</td>\n",
       "      <td>367.000</td>\n",
       "      <td>1</td>\n",
       "      <td>M_3</td>\n",
       "    </tr>\n",
       "    <tr>\n",
       "      <th>9</th>\n",
       "      <td>12348.0</td>\n",
       "      <td>2011-09-30</td>\n",
       "      <td>310.00</td>\n",
       "      <td>310.000</td>\n",
       "      <td>1</td>\n",
       "      <td>M_2</td>\n",
       "    </tr>\n",
       "  </tbody>\n",
       "</table>\n",
       "</div>"
      ],
      "text/plain": [
       "   CustomerID InvoiceDate  sales_sum  sales_avg  sales_count    M\n",
       "0     12346.0  2011-03-31   77183.60  77183.600            1  M_4\n",
       "1     12347.0  2010-12-31     711.79    711.790            1  M_5\n",
       "2     12347.0  2011-03-31     475.39    475.390            1  M_4\n",
       "3     12347.0  2011-06-30    1018.77    509.385            2  M_3\n",
       "4     12347.0  2011-09-30     584.91    584.910            1  M_2\n",
       "5     12347.0  2011-12-31    1294.32   1294.320            1  M_1\n",
       "6     12348.0  2010-12-31     892.80    892.800            1  M_5\n",
       "7     12348.0  2011-03-31     227.44    227.440            1  M_4\n",
       "8     12348.0  2011-06-30     367.00    367.000            1  M_3\n",
       "9     12348.0  2011-09-30     310.00    310.000            1  M_2"
      ]
     },
     "execution_count": 314,
     "metadata": {},
     "output_type": "execute_result"
    }
   ],
   "source": [
    "data_df.head(10)"
   ]
  },
  {
   "cell_type": "markdown",
   "metadata": {},
   "source": [
    "As you can see from this code, we are encoding date values into M_1, M_2, M_3, and so\n",
    "forth, where the smaller number represents more recent dates. For example, the\n",
    "date 2011-12-31 is now encoded as M_1 and the date 2011-09-30 is now encoded as M_2."
   ]
  },
  {
   "cell_type": "markdown",
   "metadata": {},
   "source": [
    "- Building Sample Set"
   ]
  },
  {
   "cell_type": "code",
   "execution_count": 315,
   "metadata": {},
   "outputs": [
    {
     "data": {
      "application/vnd.microsoft.datawrangler.viewer.v0+json": {
       "columns": [
        {
         "name": "CustomerID",
         "rawType": "float64",
         "type": "float"
        },
        {
         "name": "sales_avg_M_2",
         "rawType": "float64",
         "type": "float"
        },
        {
         "name": "sales_avg_M_3",
         "rawType": "float64",
         "type": "float"
        },
        {
         "name": "sales_avg_M_4",
         "rawType": "float64",
         "type": "float"
        },
        {
         "name": "sales_avg_M_5",
         "rawType": "float64",
         "type": "float"
        },
        {
         "name": "sales_count_M_2",
         "rawType": "float64",
         "type": "float"
        },
        {
         "name": "sales_count_M_3",
         "rawType": "float64",
         "type": "float"
        },
        {
         "name": "sales_count_M_4",
         "rawType": "float64",
         "type": "float"
        },
        {
         "name": "sales_count_M_5",
         "rawType": "float64",
         "type": "float"
        },
        {
         "name": "sales_sum_M_2",
         "rawType": "float64",
         "type": "float"
        },
        {
         "name": "sales_sum_M_3",
         "rawType": "float64",
         "type": "float"
        },
        {
         "name": "sales_sum_M_4",
         "rawType": "float64",
         "type": "float"
        },
        {
         "name": "sales_sum_M_5",
         "rawType": "float64",
         "type": "float"
        }
       ],
       "conversionMethod": "pd.DataFrame",
       "ref": "6cc8ac8b-5152-4bf8-b6fd-956d07bddc8e",
       "rows": [
        [
         "12346.0",
         null,
         null,
         "77183.6",
         null,
         null,
         null,
         "1.0",
         null,
         null,
         null,
         "77183.6",
         null
        ],
        [
         "12347.0",
         "584.9100000000001",
         "509.385",
         "475.39",
         "711.79",
         "1.0",
         "2.0",
         "1.0",
         "1.0",
         "584.9100000000001",
         "1018.77",
         "475.39",
         "711.79"
        ],
        [
         "12348.0",
         "310.0",
         "367.0",
         "227.44",
         "892.8",
         "1.0",
         "1.0",
         "1.0",
         "1.0",
         "310.0",
         "367.0",
         "227.44",
         "892.8"
        ],
        [
         "12350.0",
         null,
         null,
         "334.4",
         null,
         null,
         null,
         "1.0",
         null,
         null,
         null,
         "334.4",
         null
        ],
        [
         "12352.0",
         "316.25",
         null,
         "312.36199999999997",
         null,
         "2.0",
         null,
         "5.0",
         null,
         "632.5",
         null,
         "1561.81",
         null
        ],
        [
         "12353.0",
         null,
         "89.0",
         null,
         null,
         null,
         "1.0",
         null,
         null,
         null,
         "89.0",
         null,
         null
        ],
        [
         "12354.0",
         null,
         "1079.4",
         null,
         null,
         null,
         "1.0",
         null,
         null,
         null,
         "1079.4",
         null,
         null
        ],
        [
         "12355.0",
         null,
         "459.4",
         null,
         null,
         null,
         "1.0",
         null,
         null,
         null,
         "459.4",
         null,
         null
        ],
        [
         "12356.0",
         null,
         "481.46000000000004",
         "2271.62",
         null,
         null,
         "1.0",
         "1.0",
         null,
         null,
         "481.46000000000004",
         "2271.62",
         null
        ],
        [
         "12358.0",
         "484.86",
         null,
         null,
         null,
         "1.0",
         null,
         null,
         null,
         "484.86",
         null,
         null,
         null
        ]
       ],
       "shape": {
        "columns": 12,
        "rows": 10
       }
      },
      "text/html": [
       "<div>\n",
       "<style scoped>\n",
       "    .dataframe tbody tr th:only-of-type {\n",
       "        vertical-align: middle;\n",
       "    }\n",
       "\n",
       "    .dataframe tbody tr th {\n",
       "        vertical-align: top;\n",
       "    }\n",
       "\n",
       "    .dataframe thead th {\n",
       "        text-align: right;\n",
       "    }\n",
       "</style>\n",
       "<table border=\"1\" class=\"dataframe\">\n",
       "  <thead>\n",
       "    <tr style=\"text-align: right;\">\n",
       "      <th></th>\n",
       "      <th>sales_avg_M_2</th>\n",
       "      <th>sales_avg_M_3</th>\n",
       "      <th>sales_avg_M_4</th>\n",
       "      <th>sales_avg_M_5</th>\n",
       "      <th>sales_count_M_2</th>\n",
       "      <th>sales_count_M_3</th>\n",
       "      <th>sales_count_M_4</th>\n",
       "      <th>sales_count_M_5</th>\n",
       "      <th>sales_sum_M_2</th>\n",
       "      <th>sales_sum_M_3</th>\n",
       "      <th>sales_sum_M_4</th>\n",
       "      <th>sales_sum_M_5</th>\n",
       "    </tr>\n",
       "    <tr>\n",
       "      <th>CustomerID</th>\n",
       "      <th></th>\n",
       "      <th></th>\n",
       "      <th></th>\n",
       "      <th></th>\n",
       "      <th></th>\n",
       "      <th></th>\n",
       "      <th></th>\n",
       "      <th></th>\n",
       "      <th></th>\n",
       "      <th></th>\n",
       "      <th></th>\n",
       "      <th></th>\n",
       "    </tr>\n",
       "  </thead>\n",
       "  <tbody>\n",
       "    <tr>\n",
       "      <th>12346.0</th>\n",
       "      <td>NaN</td>\n",
       "      <td>NaN</td>\n",
       "      <td>77183.600</td>\n",
       "      <td>NaN</td>\n",
       "      <td>NaN</td>\n",
       "      <td>NaN</td>\n",
       "      <td>1.0</td>\n",
       "      <td>NaN</td>\n",
       "      <td>NaN</td>\n",
       "      <td>NaN</td>\n",
       "      <td>77183.60</td>\n",
       "      <td>NaN</td>\n",
       "    </tr>\n",
       "    <tr>\n",
       "      <th>12347.0</th>\n",
       "      <td>584.91</td>\n",
       "      <td>509.385</td>\n",
       "      <td>475.390</td>\n",
       "      <td>711.79</td>\n",
       "      <td>1.0</td>\n",
       "      <td>2.0</td>\n",
       "      <td>1.0</td>\n",
       "      <td>1.0</td>\n",
       "      <td>584.91</td>\n",
       "      <td>1018.77</td>\n",
       "      <td>475.39</td>\n",
       "      <td>711.79</td>\n",
       "    </tr>\n",
       "    <tr>\n",
       "      <th>12348.0</th>\n",
       "      <td>310.00</td>\n",
       "      <td>367.000</td>\n",
       "      <td>227.440</td>\n",
       "      <td>892.80</td>\n",
       "      <td>1.0</td>\n",
       "      <td>1.0</td>\n",
       "      <td>1.0</td>\n",
       "      <td>1.0</td>\n",
       "      <td>310.00</td>\n",
       "      <td>367.00</td>\n",
       "      <td>227.44</td>\n",
       "      <td>892.80</td>\n",
       "    </tr>\n",
       "    <tr>\n",
       "      <th>12350.0</th>\n",
       "      <td>NaN</td>\n",
       "      <td>NaN</td>\n",
       "      <td>334.400</td>\n",
       "      <td>NaN</td>\n",
       "      <td>NaN</td>\n",
       "      <td>NaN</td>\n",
       "      <td>1.0</td>\n",
       "      <td>NaN</td>\n",
       "      <td>NaN</td>\n",
       "      <td>NaN</td>\n",
       "      <td>334.40</td>\n",
       "      <td>NaN</td>\n",
       "    </tr>\n",
       "    <tr>\n",
       "      <th>12352.0</th>\n",
       "      <td>316.25</td>\n",
       "      <td>NaN</td>\n",
       "      <td>312.362</td>\n",
       "      <td>NaN</td>\n",
       "      <td>2.0</td>\n",
       "      <td>NaN</td>\n",
       "      <td>5.0</td>\n",
       "      <td>NaN</td>\n",
       "      <td>632.50</td>\n",
       "      <td>NaN</td>\n",
       "      <td>1561.81</td>\n",
       "      <td>NaN</td>\n",
       "    </tr>\n",
       "    <tr>\n",
       "      <th>12353.0</th>\n",
       "      <td>NaN</td>\n",
       "      <td>89.000</td>\n",
       "      <td>NaN</td>\n",
       "      <td>NaN</td>\n",
       "      <td>NaN</td>\n",
       "      <td>1.0</td>\n",
       "      <td>NaN</td>\n",
       "      <td>NaN</td>\n",
       "      <td>NaN</td>\n",
       "      <td>89.00</td>\n",
       "      <td>NaN</td>\n",
       "      <td>NaN</td>\n",
       "    </tr>\n",
       "    <tr>\n",
       "      <th>12354.0</th>\n",
       "      <td>NaN</td>\n",
       "      <td>1079.400</td>\n",
       "      <td>NaN</td>\n",
       "      <td>NaN</td>\n",
       "      <td>NaN</td>\n",
       "      <td>1.0</td>\n",
       "      <td>NaN</td>\n",
       "      <td>NaN</td>\n",
       "      <td>NaN</td>\n",
       "      <td>1079.40</td>\n",
       "      <td>NaN</td>\n",
       "      <td>NaN</td>\n",
       "    </tr>\n",
       "    <tr>\n",
       "      <th>12355.0</th>\n",
       "      <td>NaN</td>\n",
       "      <td>459.400</td>\n",
       "      <td>NaN</td>\n",
       "      <td>NaN</td>\n",
       "      <td>NaN</td>\n",
       "      <td>1.0</td>\n",
       "      <td>NaN</td>\n",
       "      <td>NaN</td>\n",
       "      <td>NaN</td>\n",
       "      <td>459.40</td>\n",
       "      <td>NaN</td>\n",
       "      <td>NaN</td>\n",
       "    </tr>\n",
       "    <tr>\n",
       "      <th>12356.0</th>\n",
       "      <td>NaN</td>\n",
       "      <td>481.460</td>\n",
       "      <td>2271.620</td>\n",
       "      <td>NaN</td>\n",
       "      <td>NaN</td>\n",
       "      <td>1.0</td>\n",
       "      <td>1.0</td>\n",
       "      <td>NaN</td>\n",
       "      <td>NaN</td>\n",
       "      <td>481.46</td>\n",
       "      <td>2271.62</td>\n",
       "      <td>NaN</td>\n",
       "    </tr>\n",
       "    <tr>\n",
       "      <th>12358.0</th>\n",
       "      <td>484.86</td>\n",
       "      <td>NaN</td>\n",
       "      <td>NaN</td>\n",
       "      <td>NaN</td>\n",
       "      <td>1.0</td>\n",
       "      <td>NaN</td>\n",
       "      <td>NaN</td>\n",
       "      <td>NaN</td>\n",
       "      <td>484.86</td>\n",
       "      <td>NaN</td>\n",
       "      <td>NaN</td>\n",
       "      <td>NaN</td>\n",
       "    </tr>\n",
       "  </tbody>\n",
       "</table>\n",
       "</div>"
      ],
      "text/plain": [
       "            sales_avg_M_2  sales_avg_M_3  sales_avg_M_4  sales_avg_M_5  \\\n",
       "CustomerID                                                               \n",
       "12346.0               NaN            NaN      77183.600            NaN   \n",
       "12347.0            584.91        509.385        475.390         711.79   \n",
       "12348.0            310.00        367.000        227.440         892.80   \n",
       "12350.0               NaN            NaN        334.400            NaN   \n",
       "12352.0            316.25            NaN        312.362            NaN   \n",
       "12353.0               NaN         89.000            NaN            NaN   \n",
       "12354.0               NaN       1079.400            NaN            NaN   \n",
       "12355.0               NaN        459.400            NaN            NaN   \n",
       "12356.0               NaN        481.460       2271.620            NaN   \n",
       "12358.0            484.86            NaN            NaN            NaN   \n",
       "\n",
       "            sales_count_M_2  sales_count_M_3  sales_count_M_4  \\\n",
       "CustomerID                                                      \n",
       "12346.0                 NaN              NaN              1.0   \n",
       "12347.0                 1.0              2.0              1.0   \n",
       "12348.0                 1.0              1.0              1.0   \n",
       "12350.0                 NaN              NaN              1.0   \n",
       "12352.0                 2.0              NaN              5.0   \n",
       "12353.0                 NaN              1.0              NaN   \n",
       "12354.0                 NaN              1.0              NaN   \n",
       "12355.0                 NaN              1.0              NaN   \n",
       "12356.0                 NaN              1.0              1.0   \n",
       "12358.0                 1.0              NaN              NaN   \n",
       "\n",
       "            sales_count_M_5  sales_sum_M_2  sales_sum_M_3  sales_sum_M_4  \\\n",
       "CustomerID                                                                 \n",
       "12346.0                 NaN            NaN            NaN       77183.60   \n",
       "12347.0                 1.0         584.91        1018.77         475.39   \n",
       "12348.0                 1.0         310.00         367.00         227.44   \n",
       "12350.0                 NaN            NaN            NaN         334.40   \n",
       "12352.0                 NaN         632.50            NaN        1561.81   \n",
       "12353.0                 NaN            NaN          89.00            NaN   \n",
       "12354.0                 NaN            NaN        1079.40            NaN   \n",
       "12355.0                 NaN            NaN         459.40            NaN   \n",
       "12356.0                 NaN            NaN         481.46        2271.62   \n",
       "12358.0                 NaN         484.86            NaN            NaN   \n",
       "\n",
       "            sales_sum_M_5  \n",
       "CustomerID                 \n",
       "12346.0               NaN  \n",
       "12347.0            711.79  \n",
       "12348.0            892.80  \n",
       "12350.0               NaN  \n",
       "12352.0               NaN  \n",
       "12353.0               NaN  \n",
       "12354.0               NaN  \n",
       "12355.0               NaN  \n",
       "12356.0               NaN  \n",
       "12358.0               NaN  "
      ]
     },
     "execution_count": 315,
     "metadata": {},
     "output_type": "execute_result"
    }
   ],
   "source": [
    "features_df = pd.pivot_table(\n",
    "  data_df.loc[data_df['M']!='M_1'],\n",
    "  values=['sales_sum', 'sales_avg', 'sales_count'],\n",
    "  columns='M',\n",
    "  index='CustomerID'\n",
    ")\n",
    "\n",
    "features_df.columns = ['_'.join(col) for col in features_df.columns]\n",
    "\n",
    "features_df.head(10)"
   ]
  },
  {
   "cell_type": "code",
   "execution_count": 316,
   "metadata": {},
   "outputs": [
    {
     "data": {
      "text/plain": [
       "(3616, 12)"
      ]
     },
     "execution_count": 316,
     "metadata": {},
     "output_type": "execute_result"
    }
   ],
   "source": [
    "features_df.shape"
   ]
  },
  {
   "cell_type": "code",
   "execution_count": 317,
   "metadata": {},
   "outputs": [],
   "source": [
    "features_df = features_df.fillna(0)"
   ]
  },
  {
   "cell_type": "code",
   "execution_count": 318,
   "metadata": {},
   "outputs": [
    {
     "data": {
      "application/vnd.microsoft.datawrangler.viewer.v0+json": {
       "columns": [
        {
         "name": "CustomerID",
         "rawType": "float64",
         "type": "float"
        },
        {
         "name": "sales_avg_M_2",
         "rawType": "float64",
         "type": "float"
        },
        {
         "name": "sales_avg_M_3",
         "rawType": "float64",
         "type": "float"
        },
        {
         "name": "sales_avg_M_4",
         "rawType": "float64",
         "type": "float"
        },
        {
         "name": "sales_avg_M_5",
         "rawType": "float64",
         "type": "float"
        },
        {
         "name": "sales_count_M_2",
         "rawType": "float64",
         "type": "float"
        },
        {
         "name": "sales_count_M_3",
         "rawType": "float64",
         "type": "float"
        },
        {
         "name": "sales_count_M_4",
         "rawType": "float64",
         "type": "float"
        },
        {
         "name": "sales_count_M_5",
         "rawType": "float64",
         "type": "float"
        },
        {
         "name": "sales_sum_M_2",
         "rawType": "float64",
         "type": "float"
        },
        {
         "name": "sales_sum_M_3",
         "rawType": "float64",
         "type": "float"
        },
        {
         "name": "sales_sum_M_4",
         "rawType": "float64",
         "type": "float"
        },
        {
         "name": "sales_sum_M_5",
         "rawType": "float64",
         "type": "float"
        }
       ],
       "conversionMethod": "pd.DataFrame",
       "ref": "29fb1fb1-afd8-4e83-ae89-f138db707ba3",
       "rows": [
        [
         "12346.0",
         "0.0",
         "0.0",
         "77183.6",
         "0.0",
         "0.0",
         "0.0",
         "1.0",
         "0.0",
         "0.0",
         "0.0",
         "77183.6",
         "0.0"
        ],
        [
         "12347.0",
         "584.9100000000001",
         "509.385",
         "475.39",
         "711.79",
         "1.0",
         "2.0",
         "1.0",
         "1.0",
         "584.9100000000001",
         "1018.77",
         "475.39",
         "711.79"
        ],
        [
         "12348.0",
         "310.0",
         "367.0",
         "227.44",
         "892.8",
         "1.0",
         "1.0",
         "1.0",
         "1.0",
         "310.0",
         "367.0",
         "227.44",
         "892.8"
        ],
        [
         "12350.0",
         "0.0",
         "0.0",
         "334.4",
         "0.0",
         "0.0",
         "0.0",
         "1.0",
         "0.0",
         "0.0",
         "0.0",
         "334.4",
         "0.0"
        ],
        [
         "12352.0",
         "316.25",
         "0.0",
         "312.36199999999997",
         "0.0",
         "2.0",
         "0.0",
         "5.0",
         "0.0",
         "632.5",
         "0.0",
         "1561.81",
         "0.0"
        ]
       ],
       "shape": {
        "columns": 12,
        "rows": 5
       }
      },
      "text/html": [
       "<div>\n",
       "<style scoped>\n",
       "    .dataframe tbody tr th:only-of-type {\n",
       "        vertical-align: middle;\n",
       "    }\n",
       "\n",
       "    .dataframe tbody tr th {\n",
       "        vertical-align: top;\n",
       "    }\n",
       "\n",
       "    .dataframe thead th {\n",
       "        text-align: right;\n",
       "    }\n",
       "</style>\n",
       "<table border=\"1\" class=\"dataframe\">\n",
       "  <thead>\n",
       "    <tr style=\"text-align: right;\">\n",
       "      <th></th>\n",
       "      <th>sales_avg_M_2</th>\n",
       "      <th>sales_avg_M_3</th>\n",
       "      <th>sales_avg_M_4</th>\n",
       "      <th>sales_avg_M_5</th>\n",
       "      <th>sales_count_M_2</th>\n",
       "      <th>sales_count_M_3</th>\n",
       "      <th>sales_count_M_4</th>\n",
       "      <th>sales_count_M_5</th>\n",
       "      <th>sales_sum_M_2</th>\n",
       "      <th>sales_sum_M_3</th>\n",
       "      <th>sales_sum_M_4</th>\n",
       "      <th>sales_sum_M_5</th>\n",
       "    </tr>\n",
       "    <tr>\n",
       "      <th>CustomerID</th>\n",
       "      <th></th>\n",
       "      <th></th>\n",
       "      <th></th>\n",
       "      <th></th>\n",
       "      <th></th>\n",
       "      <th></th>\n",
       "      <th></th>\n",
       "      <th></th>\n",
       "      <th></th>\n",
       "      <th></th>\n",
       "      <th></th>\n",
       "      <th></th>\n",
       "    </tr>\n",
       "  </thead>\n",
       "  <tbody>\n",
       "    <tr>\n",
       "      <th>12346.0</th>\n",
       "      <td>0.00</td>\n",
       "      <td>0.000</td>\n",
       "      <td>77183.600</td>\n",
       "      <td>0.00</td>\n",
       "      <td>0.0</td>\n",
       "      <td>0.0</td>\n",
       "      <td>1.0</td>\n",
       "      <td>0.0</td>\n",
       "      <td>0.00</td>\n",
       "      <td>0.00</td>\n",
       "      <td>77183.60</td>\n",
       "      <td>0.00</td>\n",
       "    </tr>\n",
       "    <tr>\n",
       "      <th>12347.0</th>\n",
       "      <td>584.91</td>\n",
       "      <td>509.385</td>\n",
       "      <td>475.390</td>\n",
       "      <td>711.79</td>\n",
       "      <td>1.0</td>\n",
       "      <td>2.0</td>\n",
       "      <td>1.0</td>\n",
       "      <td>1.0</td>\n",
       "      <td>584.91</td>\n",
       "      <td>1018.77</td>\n",
       "      <td>475.39</td>\n",
       "      <td>711.79</td>\n",
       "    </tr>\n",
       "    <tr>\n",
       "      <th>12348.0</th>\n",
       "      <td>310.00</td>\n",
       "      <td>367.000</td>\n",
       "      <td>227.440</td>\n",
       "      <td>892.80</td>\n",
       "      <td>1.0</td>\n",
       "      <td>1.0</td>\n",
       "      <td>1.0</td>\n",
       "      <td>1.0</td>\n",
       "      <td>310.00</td>\n",
       "      <td>367.00</td>\n",
       "      <td>227.44</td>\n",
       "      <td>892.80</td>\n",
       "    </tr>\n",
       "    <tr>\n",
       "      <th>12350.0</th>\n",
       "      <td>0.00</td>\n",
       "      <td>0.000</td>\n",
       "      <td>334.400</td>\n",
       "      <td>0.00</td>\n",
       "      <td>0.0</td>\n",
       "      <td>0.0</td>\n",
       "      <td>1.0</td>\n",
       "      <td>0.0</td>\n",
       "      <td>0.00</td>\n",
       "      <td>0.00</td>\n",
       "      <td>334.40</td>\n",
       "      <td>0.00</td>\n",
       "    </tr>\n",
       "    <tr>\n",
       "      <th>12352.0</th>\n",
       "      <td>316.25</td>\n",
       "      <td>0.000</td>\n",
       "      <td>312.362</td>\n",
       "      <td>0.00</td>\n",
       "      <td>2.0</td>\n",
       "      <td>0.0</td>\n",
       "      <td>5.0</td>\n",
       "      <td>0.0</td>\n",
       "      <td>632.50</td>\n",
       "      <td>0.00</td>\n",
       "      <td>1561.81</td>\n",
       "      <td>0.00</td>\n",
       "    </tr>\n",
       "  </tbody>\n",
       "</table>\n",
       "</div>"
      ],
      "text/plain": [
       "            sales_avg_M_2  sales_avg_M_3  sales_avg_M_4  sales_avg_M_5  \\\n",
       "CustomerID                                                               \n",
       "12346.0              0.00          0.000      77183.600           0.00   \n",
       "12347.0            584.91        509.385        475.390         711.79   \n",
       "12348.0            310.00        367.000        227.440         892.80   \n",
       "12350.0              0.00          0.000        334.400           0.00   \n",
       "12352.0            316.25          0.000        312.362           0.00   \n",
       "\n",
       "            sales_count_M_2  sales_count_M_3  sales_count_M_4  \\\n",
       "CustomerID                                                      \n",
       "12346.0                 0.0              0.0              1.0   \n",
       "12347.0                 1.0              2.0              1.0   \n",
       "12348.0                 1.0              1.0              1.0   \n",
       "12350.0                 0.0              0.0              1.0   \n",
       "12352.0                 2.0              0.0              5.0   \n",
       "\n",
       "            sales_count_M_5  sales_sum_M_2  sales_sum_M_3  sales_sum_M_4  \\\n",
       "CustomerID                                                                 \n",
       "12346.0                 0.0           0.00           0.00       77183.60   \n",
       "12347.0                 1.0         584.91        1018.77         475.39   \n",
       "12348.0                 1.0         310.00         367.00         227.44   \n",
       "12350.0                 0.0           0.00           0.00         334.40   \n",
       "12352.0                 0.0         632.50           0.00        1561.81   \n",
       "\n",
       "            sales_sum_M_5  \n",
       "CustomerID                 \n",
       "12346.0              0.00  \n",
       "12347.0            711.79  \n",
       "12348.0            892.80  \n",
       "12350.0              0.00  \n",
       "12352.0              0.00  "
      ]
     },
     "execution_count": 318,
     "metadata": {},
     "output_type": "execute_result"
    }
   ],
   "source": [
    "features_df.head()"
   ]
  },
  {
   "cell_type": "code",
   "execution_count": 319,
   "metadata": {},
   "outputs": [
    {
     "data": {
      "application/vnd.microsoft.datawrangler.viewer.v0+json": {
       "columns": [
        {
         "name": "index",
         "rawType": "int64",
         "type": "integer"
        },
        {
         "name": "CustomerID",
         "rawType": "float64",
         "type": "float"
        },
        {
         "name": "CLV_3M",
         "rawType": "float64",
         "type": "float"
        }
       ],
       "conversionMethod": "pd.DataFrame",
       "ref": "ffd90377-4e4b-4960-858d-a3962879c204",
       "rows": [
        [
         "5",
         "12347.0",
         "1294.32"
        ],
        [
         "10",
         "12349.0",
         "1757.55"
        ],
        [
         "14",
         "12352.0",
         "311.73"
        ],
        [
         "20",
         "12356.0",
         "58.349999999999994"
        ],
        [
         "21",
         "12357.0",
         "6207.67"
        ],
        [
         "25",
         "12359.0",
         "2876.85"
        ],
        [
         "28",
         "12360.0",
         "1043.78"
        ],
        [
         "33",
         "12362.0",
         "2119.85"
        ],
        [
         "37",
         "12364.0",
         "299.06"
        ],
        [
         "41",
         "12370.0",
         "739.28"
        ]
       ],
       "shape": {
        "columns": 2,
        "rows": 10
       }
      },
      "text/html": [
       "<div>\n",
       "<style scoped>\n",
       "    .dataframe tbody tr th:only-of-type {\n",
       "        vertical-align: middle;\n",
       "    }\n",
       "\n",
       "    .dataframe tbody tr th {\n",
       "        vertical-align: top;\n",
       "    }\n",
       "\n",
       "    .dataframe thead th {\n",
       "        text-align: right;\n",
       "    }\n",
       "</style>\n",
       "<table border=\"1\" class=\"dataframe\">\n",
       "  <thead>\n",
       "    <tr style=\"text-align: right;\">\n",
       "      <th></th>\n",
       "      <th>CustomerID</th>\n",
       "      <th>CLV_3M</th>\n",
       "    </tr>\n",
       "  </thead>\n",
       "  <tbody>\n",
       "    <tr>\n",
       "      <th>5</th>\n",
       "      <td>12347.0</td>\n",
       "      <td>1294.32</td>\n",
       "    </tr>\n",
       "    <tr>\n",
       "      <th>10</th>\n",
       "      <td>12349.0</td>\n",
       "      <td>1757.55</td>\n",
       "    </tr>\n",
       "    <tr>\n",
       "      <th>14</th>\n",
       "      <td>12352.0</td>\n",
       "      <td>311.73</td>\n",
       "    </tr>\n",
       "    <tr>\n",
       "      <th>20</th>\n",
       "      <td>12356.0</td>\n",
       "      <td>58.35</td>\n",
       "    </tr>\n",
       "    <tr>\n",
       "      <th>21</th>\n",
       "      <td>12357.0</td>\n",
       "      <td>6207.67</td>\n",
       "    </tr>\n",
       "    <tr>\n",
       "      <th>25</th>\n",
       "      <td>12359.0</td>\n",
       "      <td>2876.85</td>\n",
       "    </tr>\n",
       "    <tr>\n",
       "      <th>28</th>\n",
       "      <td>12360.0</td>\n",
       "      <td>1043.78</td>\n",
       "    </tr>\n",
       "    <tr>\n",
       "      <th>33</th>\n",
       "      <td>12362.0</td>\n",
       "      <td>2119.85</td>\n",
       "    </tr>\n",
       "    <tr>\n",
       "      <th>37</th>\n",
       "      <td>12364.0</td>\n",
       "      <td>299.06</td>\n",
       "    </tr>\n",
       "    <tr>\n",
       "      <th>41</th>\n",
       "      <td>12370.0</td>\n",
       "      <td>739.28</td>\n",
       "    </tr>\n",
       "  </tbody>\n",
       "</table>\n",
       "</div>"
      ],
      "text/plain": [
       "    CustomerID   CLV_3M\n",
       "5      12347.0  1294.32\n",
       "10     12349.0  1757.55\n",
       "14     12352.0   311.73\n",
       "20     12356.0    58.35\n",
       "21     12357.0  6207.67\n",
       "25     12359.0  2876.85\n",
       "28     12360.0  1043.78\n",
       "33     12362.0  2119.85\n",
       "37     12364.0   299.06\n",
       "41     12370.0   739.28"
      ]
     },
     "execution_count": 319,
     "metadata": {},
     "output_type": "execute_result"
    }
   ],
   "source": [
    "response_df = data_df.loc[\n",
    "  data_df['M']=='M_1',\n",
    "  ['CustomerID', 'sales_sum']\n",
    "]\n",
    "\n",
    "response_df.columns = ['CustomerID', 'CLV_'+clv_freq]\n",
    "\n",
    "response_df.head(10)"
   ]
  },
  {
   "cell_type": "markdown",
   "metadata": {},
   "source": [
    "As you can see from this code, we are taking the last 3 month period, the M_1 group, as the\n",
    "target variable. The target column will be sales_sum, as we want to predict the next 3\n",
    "month customer value, which is the total purchase amount that a given customer is likely to\n",
    "make in the next 3 months."
   ]
  },
  {
   "cell_type": "code",
   "execution_count": 320,
   "metadata": {},
   "outputs": [
    {
     "data": {
      "text/plain": [
       "(2407, 2)"
      ]
     },
     "execution_count": 320,
     "metadata": {},
     "output_type": "execute_result"
    }
   ],
   "source": [
    "response_df.shape"
   ]
  },
  {
   "cell_type": "code",
   "execution_count": 321,
   "metadata": {},
   "outputs": [
    {
     "data": {
      "application/vnd.microsoft.datawrangler.viewer.v0+json": {
       "columns": [
        {
         "name": "index",
         "rawType": "float64",
         "type": "float"
        },
        {
         "name": "sales_avg_M_2",
         "rawType": "float64",
         "type": "float"
        },
        {
         "name": "sales_avg_M_3",
         "rawType": "float64",
         "type": "float"
        },
        {
         "name": "sales_avg_M_4",
         "rawType": "float64",
         "type": "float"
        },
        {
         "name": "sales_avg_M_5",
         "rawType": "float64",
         "type": "float"
        },
        {
         "name": "sales_count_M_2",
         "rawType": "float64",
         "type": "float"
        },
        {
         "name": "sales_count_M_3",
         "rawType": "float64",
         "type": "float"
        },
        {
         "name": "sales_count_M_4",
         "rawType": "float64",
         "type": "float"
        },
        {
         "name": "sales_count_M_5",
         "rawType": "float64",
         "type": "float"
        },
        {
         "name": "sales_sum_M_2",
         "rawType": "float64",
         "type": "float"
        },
        {
         "name": "sales_sum_M_3",
         "rawType": "float64",
         "type": "float"
        },
        {
         "name": "sales_sum_M_4",
         "rawType": "float64",
         "type": "float"
        },
        {
         "name": "sales_sum_M_5",
         "rawType": "float64",
         "type": "float"
        },
        {
         "name": "CustomerID",
         "rawType": "float64",
         "type": "float"
        },
        {
         "name": "CLV_3M",
         "rawType": "float64",
         "type": "float"
        }
       ],
       "conversionMethod": "pd.DataFrame",
       "ref": "e4fe2434-60db-4096-815e-3c6628da9e84",
       "rows": [
        [
         null,
         "0.0",
         "0.0",
         "77183.6",
         "0.0",
         "0.0",
         "0.0",
         "1.0",
         "0.0",
         "0.0",
         "0.0",
         "77183.6",
         "0.0",
         "12346.0",
         null
        ],
        [
         "5.0",
         "584.9100000000001",
         "509.385",
         "475.39",
         "711.79",
         "1.0",
         "2.0",
         "1.0",
         "1.0",
         "584.9100000000001",
         "1018.77",
         "475.39",
         "711.79",
         "12347.0",
         "1294.32"
        ],
        [
         null,
         "310.0",
         "367.0",
         "227.44",
         "892.8",
         "1.0",
         "1.0",
         "1.0",
         "1.0",
         "310.0",
         "367.0",
         "227.44",
         "892.8",
         "12348.0",
         null
        ],
        [
         null,
         "0.0",
         "0.0",
         "334.4",
         "0.0",
         "0.0",
         "0.0",
         "1.0",
         "0.0",
         "0.0",
         "0.0",
         "334.4",
         "0.0",
         "12350.0",
         null
        ],
        [
         "14.0",
         "316.25",
         "0.0",
         "312.36199999999997",
         "0.0",
         "2.0",
         "0.0",
         "5.0",
         "0.0",
         "632.5",
         "0.0",
         "1561.81",
         "0.0",
         "12352.0",
         "311.73"
        ],
        [
         null,
         "0.0",
         "89.0",
         "0.0",
         "0.0",
         "0.0",
         "1.0",
         "0.0",
         "0.0",
         "0.0",
         "89.0",
         "0.0",
         "0.0",
         "12353.0",
         null
        ],
        [
         null,
         "0.0",
         "1079.4",
         "0.0",
         "0.0",
         "0.0",
         "1.0",
         "0.0",
         "0.0",
         "0.0",
         "1079.4",
         "0.0",
         "0.0",
         "12354.0",
         null
        ],
        [
         null,
         "0.0",
         "459.4",
         "0.0",
         "0.0",
         "0.0",
         "1.0",
         "0.0",
         "0.0",
         "0.0",
         "459.4",
         "0.0",
         "0.0",
         "12355.0",
         null
        ],
        [
         "20.0",
         "0.0",
         "481.46000000000004",
         "2271.62",
         "0.0",
         "0.0",
         "1.0",
         "1.0",
         "0.0",
         "0.0",
         "481.46000000000004",
         "2271.62",
         "0.0",
         "12356.0",
         "58.349999999999994"
        ],
        [
         null,
         "484.86",
         "0.0",
         "0.0",
         "0.0",
         "1.0",
         "0.0",
         "0.0",
         "0.0",
         "484.86",
         "0.0",
         "0.0",
         "0.0",
         "12358.0",
         null
        ],
        [
         "25.0",
         "0.0",
         "1109.32",
         "1193.205",
         "0.0",
         "0.0",
         "1.0",
         "2.0",
         "0.0",
         "0.0",
         "1109.32",
         "2386.41",
         "0.0",
         "12359.0",
         "2876.85"
        ],
        [
         "28.0",
         "534.7",
         "1083.58",
         "0.0",
         "0.0",
         "1.0",
         "1.0",
         "0.0",
         "0.0",
         "534.7",
         "1083.58",
         "0.0",
         "0.0",
         "12360.0",
         "1043.78"
        ],
        [
         null,
         "0.0",
         "0.0",
         "189.9",
         "0.0",
         "0.0",
         "0.0",
         "1.0",
         "0.0",
         "0.0",
         "0.0",
         "189.9",
         "0.0",
         "12361.0",
         null
        ],
        [
         "33.0",
         "534.3333333333334",
         "495.24",
         "479.1",
         "0.0",
         "3.0",
         "1.0",
         "1.0",
         "0.0",
         "1603.0",
         "495.24",
         "479.1",
         "0.0",
         "12362.0",
         "2119.85"
        ],
        [
         null,
         "252.9",
         "299.1",
         "0.0",
         "0.0",
         "1.0",
         "1.0",
         "0.0",
         "0.0",
         "252.9",
         "299.1",
         "0.0",
         "0.0",
         "12363.0",
         null
        ],
        [
         "37.0",
         "351.85999999999996",
         "0.0",
         "0.0",
         "0.0",
         "2.0",
         "0.0",
         "0.0",
         "0.0",
         "703.7199999999999",
         "0.0",
         "0.0",
         "0.0",
         "12364.0",
         "299.06"
        ],
        [
         null,
         "0.0",
         "0.0",
         "320.69",
         "0.0",
         "0.0",
         "0.0",
         "2.0",
         "0.0",
         "0.0",
         "0.0",
         "641.38",
         "0.0",
         "12365.0",
         null
        ],
        [
         "41.0",
         "0.0",
         "0.0",
         "938.39",
         "934.01",
         "0.0",
         "0.0",
         "1.0",
         "2.0",
         "0.0",
         "0.0",
         "938.39",
         "1868.02",
         "12370.0",
         "739.28"
        ],
        [
         null,
         "383.12",
         "515.7",
         "399.22",
         "0.0",
         "1.0",
         "1.0",
         "1.0",
         "0.0",
         "383.12",
         "515.7",
         "399.22",
         "0.0",
         "12372.0",
         null
        ],
        [
         null,
         "0.0",
         "0.0",
         "364.6",
         "0.0",
         "0.0",
         "0.0",
         "1.0",
         "0.0",
         "0.0",
         "0.0",
         "364.6",
         "0.0",
         "12373.0",
         null
        ],
        [
         "49.0",
         "230.3",
         "0.0",
         "0.0",
         "0.0",
         "1.0",
         "0.0",
         "0.0",
         "0.0",
         "230.3",
         "0.0",
         "0.0",
         "0.0",
         "12375.0",
         "227.20000000000002"
        ],
        [
         null,
         "0.0",
         "0.0",
         "626.6",
         "1001.52",
         "0.0",
         "0.0",
         "1.0",
         "1.0",
         "0.0",
         "0.0",
         "626.6",
         "1001.52",
         "12377.0",
         null
        ],
        [
         null,
         "4008.62",
         "0.0",
         "0.0",
         "0.0",
         "1.0",
         "0.0",
         "0.0",
         "0.0",
         "4008.62",
         "0.0",
         "0.0",
         "0.0",
         "12378.0",
         null
        ],
        [
         null,
         "392.40000000000003",
         "459.84",
         "0.0",
         "0.0",
         "1.0",
         "1.0",
         "0.0",
         "0.0",
         "392.40000000000003",
         "459.84",
         "0.0",
         "0.0",
         "12379.0",
         null
        ],
        [
         "57.0",
         "626.01",
         "607.5500000000001",
         "0.0",
         "0.0",
         "1.0",
         "1.0",
         "0.0",
         "0.0",
         "626.01",
         "607.5500000000001",
         "0.0",
         "0.0",
         "12380.0",
         "1491.25"
        ],
        [
         "59.0",
         "1268.74",
         "0.0",
         "0.0",
         "0.0",
         "1.0",
         "0.0",
         "0.0",
         "0.0",
         "1268.74",
         "0.0",
         "0.0",
         "0.0",
         "12381.0",
         "429.56"
        ],
        [
         null,
         "0.0",
         "120.805",
         "504.115",
         "600.72",
         "0.0",
         "2.0",
         "2.0",
         "1.0",
         "0.0",
         "241.61",
         "1008.23",
         "600.72",
         "12383.0",
         null
        ],
        [
         "64.0",
         "292.69",
         "0.0",
         "0.0",
         "0.0",
         "1.0",
         "0.0",
         "0.0",
         "0.0",
         "292.69",
         "0.0",
         "0.0",
         "0.0",
         "12384.0",
         "292.58"
        ],
        [
         null,
         "0.0",
         "0.0",
         "143.0",
         "258.9",
         "0.0",
         "0.0",
         "1.0",
         "1.0",
         "0.0",
         "0.0",
         "143.0",
         "258.9",
         "12386.0",
         null
        ],
        [
         "69.0",
         "864.0050000000001",
         "0.0",
         "255.41666666666666",
         "0.0",
         "2.0",
         "0.0",
         "3.0",
         "0.0",
         "1728.0100000000002",
         "0.0",
         "766.25",
         "0.0",
         "12388.0",
         "286.4"
        ],
        [
         null,
         "549.84",
         "0.0",
         "0.0",
         "0.0",
         "1.0",
         "0.0",
         "0.0",
         "0.0",
         "549.84",
         "0.0",
         "0.0",
         "0.0",
         "12390.0",
         null
        ],
        [
         null,
         "521.5",
         "421.6",
         "319.75",
         "0.0",
         "1.0",
         "1.0",
         "2.0",
         "0.0",
         "521.5",
         "421.6",
         "639.5",
         "0.0",
         "12393.0",
         null
        ],
        [
         "76.0",
         "0.0",
         "381.08",
         "0.0",
         "0.0",
         "0.0",
         "1.0",
         "0.0",
         "0.0",
         "0.0",
         "381.08",
         "0.0",
         "0.0",
         "12394.0",
         "891.4"
        ],
        [
         "81.0",
         "165.95",
         "165.23",
         "279.005",
         "339.96000000000004",
         "1.0",
         "3.0",
         "2.0",
         "2.0",
         "165.95",
         "495.69",
         "558.01",
         "679.9200000000001",
         "12395.0",
         "1119.06"
        ],
        [
         "83.0",
         "1214.81",
         "0.0",
         "0.0",
         "0.0",
         "1.0",
         "0.0",
         "0.0",
         "0.0",
         "1214.81",
         "0.0",
         "0.0",
         "0.0",
         "12397.0",
         "1195.09"
        ],
        [
         null,
         "209.62",
         "305.49",
         "288.05",
         "0.0",
         "1.0",
         "2.0",
         "1.0",
         "0.0",
         "209.62",
         "610.98",
         "288.05",
         "0.0",
         "12399.0",
         null
        ],
        [
         null,
         "0.0",
         "0.0",
         "84.3",
         "0.0",
         "0.0",
         "0.0",
         "1.0",
         "0.0",
         "0.0",
         "0.0",
         "84.3",
         "0.0",
         "12401.0",
         null
        ],
        [
         null,
         "0.0",
         "0.0",
         "225.6",
         "0.0",
         "0.0",
         "0.0",
         "1.0",
         "0.0",
         "0.0",
         "0.0",
         "225.6",
         "0.0",
         "12402.0",
         null
        ],
        [
         null,
         "1710.39",
         "0.0",
         "0.0",
         "0.0",
         "1.0",
         "0.0",
         "0.0",
         "0.0",
         "1710.39",
         "0.0",
         "0.0",
         "0.0",
         "12405.0",
         null
        ],
        [
         "93.0",
         "0.0",
         "1621.25",
         "0.0",
         "0.0",
         "0.0",
         "1.0",
         "0.0",
         "0.0",
         "0.0",
         "1621.25",
         "0.0",
         "0.0",
         "12406.0",
         "1794.05"
        ],
        [
         "97.0",
         "455.7",
         "269.66",
         "226.3",
         "0.0",
         "2.0",
         "1.0",
         "1.0",
         "0.0",
         "911.4",
         "269.66",
         "226.3",
         "0.0",
         "12407.0",
         "300.76"
        ],
        [
         "101.0",
         "642.28",
         "654.18",
         "418.795",
         "0.0",
         "1.0",
         "1.0",
         "2.0",
         "0.0",
         "642.28",
         "654.18",
         "837.59",
         "0.0",
         "12408.0",
         "754.5"
        ],
        [
         null,
         "2432.795",
         "6207.08",
         "0.0",
         "0.0",
         "2.0",
         "1.0",
         "0.0",
         "0.0",
         "4865.59",
         "6207.08",
         "0.0",
         "0.0",
         "12409.0",
         null
        ],
        [
         null,
         "0.0",
         "0.0",
         "346.66499999999996",
         "0.0",
         "0.0",
         "0.0",
         "2.0",
         "0.0",
         "0.0",
         "0.0",
         "693.3299999999999",
         "0.0",
         "12410.0",
         null
        ],
        [
         null,
         "356.19",
         "514.5",
         "0.0",
         "0.0",
         "2.0",
         "1.0",
         "0.0",
         "0.0",
         "712.38",
         "514.5",
         "0.0",
         "0.0",
         "12412.0",
         null
        ],
        [
         "109.0",
         "0.0",
         "84.65",
         "479.25",
         "0.0",
         "0.0",
         "1.0",
         "1.0",
         "0.0",
         "0.0",
         "84.65",
         "479.25",
         "0.0",
         "12413.0",
         "194.20000000000002"
        ],
        [
         null,
         "0.0",
         "204.325",
         "153.76",
         "0.0",
         "0.0",
         "2.0",
         "1.0",
         "0.0",
         "0.0",
         "408.65",
         "153.76",
         "0.0",
         "12414.0",
         null
        ],
        [
         "115.0",
         "4629.528333333333",
         "7293.594",
         "9460.685000000001",
         "0.0",
         "6.0",
         "5.0",
         "4.0",
         "0.0",
         "27777.17",
         "36467.97",
         "37842.74",
         "0.0",
         "12415.0",
         "22826.65"
        ],
        [
         "120.0",
         "459.125",
         "436.745",
         "366.72",
         "291.34",
         "2.0",
         "2.0",
         "2.0",
         "1.0",
         "918.25",
         "873.49",
         "733.44",
         "291.34",
         "12417.0",
         "462.85"
        ],
        [
         null,
         "668.58",
         "0.0",
         "0.0",
         "0.0",
         "1.0",
         "0.0",
         "0.0",
         "0.0",
         "668.58",
         "0.0",
         "0.0",
         "0.0",
         "12418.0",
         null
        ]
       ],
       "shape": {
        "columns": 14,
        "rows": 3616
       }
      },
      "text/html": [
       "<div>\n",
       "<style scoped>\n",
       "    .dataframe tbody tr th:only-of-type {\n",
       "        vertical-align: middle;\n",
       "    }\n",
       "\n",
       "    .dataframe tbody tr th {\n",
       "        vertical-align: top;\n",
       "    }\n",
       "\n",
       "    .dataframe thead th {\n",
       "        text-align: right;\n",
       "    }\n",
       "</style>\n",
       "<table border=\"1\" class=\"dataframe\">\n",
       "  <thead>\n",
       "    <tr style=\"text-align: right;\">\n",
       "      <th></th>\n",
       "      <th>sales_avg_M_2</th>\n",
       "      <th>sales_avg_M_3</th>\n",
       "      <th>sales_avg_M_4</th>\n",
       "      <th>sales_avg_M_5</th>\n",
       "      <th>sales_count_M_2</th>\n",
       "      <th>sales_count_M_3</th>\n",
       "      <th>sales_count_M_4</th>\n",
       "      <th>sales_count_M_5</th>\n",
       "      <th>sales_sum_M_2</th>\n",
       "      <th>sales_sum_M_3</th>\n",
       "      <th>sales_sum_M_4</th>\n",
       "      <th>sales_sum_M_5</th>\n",
       "      <th>CustomerID</th>\n",
       "      <th>CLV_3M</th>\n",
       "    </tr>\n",
       "  </thead>\n",
       "  <tbody>\n",
       "    <tr>\n",
       "      <th>NaN</th>\n",
       "      <td>0.000000</td>\n",
       "      <td>0.000</td>\n",
       "      <td>77183.600000</td>\n",
       "      <td>0.00</td>\n",
       "      <td>0.0</td>\n",
       "      <td>0.0</td>\n",
       "      <td>1.0</td>\n",
       "      <td>0.0</td>\n",
       "      <td>0.00</td>\n",
       "      <td>0.00</td>\n",
       "      <td>77183.60</td>\n",
       "      <td>0.00</td>\n",
       "      <td>12346.0</td>\n",
       "      <td>NaN</td>\n",
       "    </tr>\n",
       "    <tr>\n",
       "      <th>5.0</th>\n",
       "      <td>584.910000</td>\n",
       "      <td>509.385</td>\n",
       "      <td>475.390000</td>\n",
       "      <td>711.79</td>\n",
       "      <td>1.0</td>\n",
       "      <td>2.0</td>\n",
       "      <td>1.0</td>\n",
       "      <td>1.0</td>\n",
       "      <td>584.91</td>\n",
       "      <td>1018.77</td>\n",
       "      <td>475.39</td>\n",
       "      <td>711.79</td>\n",
       "      <td>12347.0</td>\n",
       "      <td>1294.32</td>\n",
       "    </tr>\n",
       "    <tr>\n",
       "      <th>NaN</th>\n",
       "      <td>310.000000</td>\n",
       "      <td>367.000</td>\n",
       "      <td>227.440000</td>\n",
       "      <td>892.80</td>\n",
       "      <td>1.0</td>\n",
       "      <td>1.0</td>\n",
       "      <td>1.0</td>\n",
       "      <td>1.0</td>\n",
       "      <td>310.00</td>\n",
       "      <td>367.00</td>\n",
       "      <td>227.44</td>\n",
       "      <td>892.80</td>\n",
       "      <td>12348.0</td>\n",
       "      <td>NaN</td>\n",
       "    </tr>\n",
       "    <tr>\n",
       "      <th>NaN</th>\n",
       "      <td>0.000000</td>\n",
       "      <td>0.000</td>\n",
       "      <td>334.400000</td>\n",
       "      <td>0.00</td>\n",
       "      <td>0.0</td>\n",
       "      <td>0.0</td>\n",
       "      <td>1.0</td>\n",
       "      <td>0.0</td>\n",
       "      <td>0.00</td>\n",
       "      <td>0.00</td>\n",
       "      <td>334.40</td>\n",
       "      <td>0.00</td>\n",
       "      <td>12350.0</td>\n",
       "      <td>NaN</td>\n",
       "    </tr>\n",
       "    <tr>\n",
       "      <th>14.0</th>\n",
       "      <td>316.250000</td>\n",
       "      <td>0.000</td>\n",
       "      <td>312.362000</td>\n",
       "      <td>0.00</td>\n",
       "      <td>2.0</td>\n",
       "      <td>0.0</td>\n",
       "      <td>5.0</td>\n",
       "      <td>0.0</td>\n",
       "      <td>632.50</td>\n",
       "      <td>0.00</td>\n",
       "      <td>1561.81</td>\n",
       "      <td>0.00</td>\n",
       "      <td>12352.0</td>\n",
       "      <td>311.73</td>\n",
       "    </tr>\n",
       "    <tr>\n",
       "      <th>...</th>\n",
       "      <td>...</td>\n",
       "      <td>...</td>\n",
       "      <td>...</td>\n",
       "      <td>...</td>\n",
       "      <td>...</td>\n",
       "      <td>...</td>\n",
       "      <td>...</td>\n",
       "      <td>...</td>\n",
       "      <td>...</td>\n",
       "      <td>...</td>\n",
       "      <td>...</td>\n",
       "      <td>...</td>\n",
       "      <td>...</td>\n",
       "      <td>...</td>\n",
       "    </tr>\n",
       "    <tr>\n",
       "      <th>NaN</th>\n",
       "      <td>0.000000</td>\n",
       "      <td>0.000</td>\n",
       "      <td>180.600000</td>\n",
       "      <td>0.00</td>\n",
       "      <td>0.0</td>\n",
       "      <td>0.0</td>\n",
       "      <td>1.0</td>\n",
       "      <td>0.0</td>\n",
       "      <td>0.00</td>\n",
       "      <td>0.00</td>\n",
       "      <td>180.60</td>\n",
       "      <td>0.00</td>\n",
       "      <td>18280.0</td>\n",
       "      <td>NaN</td>\n",
       "    </tr>\n",
       "    <tr>\n",
       "      <th>NaN</th>\n",
       "      <td>0.000000</td>\n",
       "      <td>80.820</td>\n",
       "      <td>0.000000</td>\n",
       "      <td>0.00</td>\n",
       "      <td>0.0</td>\n",
       "      <td>1.0</td>\n",
       "      <td>0.0</td>\n",
       "      <td>0.0</td>\n",
       "      <td>0.00</td>\n",
       "      <td>80.82</td>\n",
       "      <td>0.00</td>\n",
       "      <td>0.00</td>\n",
       "      <td>18281.0</td>\n",
       "      <td>NaN</td>\n",
       "    </tr>\n",
       "    <tr>\n",
       "      <th>NaN</th>\n",
       "      <td>100.210000</td>\n",
       "      <td>0.000</td>\n",
       "      <td>0.000000</td>\n",
       "      <td>0.00</td>\n",
       "      <td>1.0</td>\n",
       "      <td>0.0</td>\n",
       "      <td>0.0</td>\n",
       "      <td>0.0</td>\n",
       "      <td>100.21</td>\n",
       "      <td>0.00</td>\n",
       "      <td>0.00</td>\n",
       "      <td>0.00</td>\n",
       "      <td>18282.0</td>\n",
       "      <td>NaN</td>\n",
       "    </tr>\n",
       "    <tr>\n",
       "      <th>9217.0</th>\n",
       "      <td>92.696667</td>\n",
       "      <td>131.170</td>\n",
       "      <td>105.966667</td>\n",
       "      <td>0.00</td>\n",
       "      <td>3.0</td>\n",
       "      <td>4.0</td>\n",
       "      <td>3.0</td>\n",
       "      <td>0.0</td>\n",
       "      <td>278.09</td>\n",
       "      <td>524.68</td>\n",
       "      <td>317.90</td>\n",
       "      <td>0.00</td>\n",
       "      <td>18283.0</td>\n",
       "      <td>766.21</td>\n",
       "    </tr>\n",
       "    <tr>\n",
       "      <th>9219.0</th>\n",
       "      <td>0.000000</td>\n",
       "      <td>765.280</td>\n",
       "      <td>0.000000</td>\n",
       "      <td>0.00</td>\n",
       "      <td>0.0</td>\n",
       "      <td>1.0</td>\n",
       "      <td>0.0</td>\n",
       "      <td>0.0</td>\n",
       "      <td>0.00</td>\n",
       "      <td>765.28</td>\n",
       "      <td>0.00</td>\n",
       "      <td>0.00</td>\n",
       "      <td>18287.0</td>\n",
       "      <td>1072.00</td>\n",
       "    </tr>\n",
       "  </tbody>\n",
       "</table>\n",
       "<p>3616 rows × 14 columns</p>\n",
       "</div>"
      ],
      "text/plain": [
       "        sales_avg_M_2  sales_avg_M_3  sales_avg_M_4  sales_avg_M_5  \\\n",
       "NaN          0.000000          0.000   77183.600000           0.00   \n",
       "5.0        584.910000        509.385     475.390000         711.79   \n",
       "NaN        310.000000        367.000     227.440000         892.80   \n",
       "NaN          0.000000          0.000     334.400000           0.00   \n",
       "14.0       316.250000          0.000     312.362000           0.00   \n",
       "...               ...            ...            ...            ...   \n",
       "NaN          0.000000          0.000     180.600000           0.00   \n",
       "NaN          0.000000         80.820       0.000000           0.00   \n",
       "NaN        100.210000          0.000       0.000000           0.00   \n",
       "9217.0      92.696667        131.170     105.966667           0.00   \n",
       "9219.0       0.000000        765.280       0.000000           0.00   \n",
       "\n",
       "        sales_count_M_2  sales_count_M_3  sales_count_M_4  sales_count_M_5  \\\n",
       "NaN                 0.0              0.0              1.0              0.0   \n",
       "5.0                 1.0              2.0              1.0              1.0   \n",
       "NaN                 1.0              1.0              1.0              1.0   \n",
       "NaN                 0.0              0.0              1.0              0.0   \n",
       "14.0                2.0              0.0              5.0              0.0   \n",
       "...                 ...              ...              ...              ...   \n",
       "NaN                 0.0              0.0              1.0              0.0   \n",
       "NaN                 0.0              1.0              0.0              0.0   \n",
       "NaN                 1.0              0.0              0.0              0.0   \n",
       "9217.0              3.0              4.0              3.0              0.0   \n",
       "9219.0              0.0              1.0              0.0              0.0   \n",
       "\n",
       "        sales_sum_M_2  sales_sum_M_3  sales_sum_M_4  sales_sum_M_5  \\\n",
       "NaN              0.00           0.00       77183.60           0.00   \n",
       "5.0            584.91        1018.77         475.39         711.79   \n",
       "NaN            310.00         367.00         227.44         892.80   \n",
       "NaN              0.00           0.00         334.40           0.00   \n",
       "14.0           632.50           0.00        1561.81           0.00   \n",
       "...               ...            ...            ...            ...   \n",
       "NaN              0.00           0.00         180.60           0.00   \n",
       "NaN              0.00          80.82           0.00           0.00   \n",
       "NaN            100.21           0.00           0.00           0.00   \n",
       "9217.0         278.09         524.68         317.90           0.00   \n",
       "9219.0           0.00         765.28           0.00           0.00   \n",
       "\n",
       "        CustomerID   CLV_3M  \n",
       "NaN        12346.0      NaN  \n",
       "5.0        12347.0  1294.32  \n",
       "NaN        12348.0      NaN  \n",
       "NaN        12350.0      NaN  \n",
       "14.0       12352.0   311.73  \n",
       "...            ...      ...  \n",
       "NaN        18280.0      NaN  \n",
       "NaN        18281.0      NaN  \n",
       "NaN        18282.0      NaN  \n",
       "9217.0     18283.0   766.21  \n",
       "9219.0     18287.0  1072.00  \n",
       "\n",
       "[3616 rows x 14 columns]"
      ]
     },
     "execution_count": 321,
     "metadata": {},
     "output_type": "execute_result"
    }
   ],
   "source": [
    "sample_set_df = features_df.merge(\n",
    "    response_df, \n",
    "    left_index=True, \n",
    "    right_on='CustomerID',\n",
    "    how='left'\n",
    ")\n",
    "\n",
    "sample_set_df"
   ]
  },
  {
   "cell_type": "code",
   "execution_count": 322,
   "metadata": {},
   "outputs": [],
   "source": [
    "sample_set_df = sample_set_df.fillna(0)"
   ]
  },
  {
   "cell_type": "code",
   "execution_count": 323,
   "metadata": {},
   "outputs": [
    {
     "data": {
      "application/vnd.microsoft.datawrangler.viewer.v0+json": {
       "columns": [
        {
         "name": "index",
         "rawType": "float64",
         "type": "float"
        },
        {
         "name": "sales_avg_M_2",
         "rawType": "float64",
         "type": "float"
        },
        {
         "name": "sales_avg_M_3",
         "rawType": "float64",
         "type": "float"
        },
        {
         "name": "sales_avg_M_4",
         "rawType": "float64",
         "type": "float"
        },
        {
         "name": "sales_avg_M_5",
         "rawType": "float64",
         "type": "float"
        },
        {
         "name": "sales_count_M_2",
         "rawType": "float64",
         "type": "float"
        },
        {
         "name": "sales_count_M_3",
         "rawType": "float64",
         "type": "float"
        },
        {
         "name": "sales_count_M_4",
         "rawType": "float64",
         "type": "float"
        },
        {
         "name": "sales_count_M_5",
         "rawType": "float64",
         "type": "float"
        },
        {
         "name": "sales_sum_M_2",
         "rawType": "float64",
         "type": "float"
        },
        {
         "name": "sales_sum_M_3",
         "rawType": "float64",
         "type": "float"
        },
        {
         "name": "sales_sum_M_4",
         "rawType": "float64",
         "type": "float"
        },
        {
         "name": "sales_sum_M_5",
         "rawType": "float64",
         "type": "float"
        },
        {
         "name": "CustomerID",
         "rawType": "float64",
         "type": "float"
        },
        {
         "name": "CLV_3M",
         "rawType": "float64",
         "type": "float"
        }
       ],
       "conversionMethod": "pd.DataFrame",
       "ref": "2b9b3856-3a96-4c0e-a1e9-e6240b51d0e7",
       "rows": [
        [
         null,
         "0.0",
         "0.0",
         "77183.6",
         "0.0",
         "0.0",
         "0.0",
         "1.0",
         "0.0",
         "0.0",
         "0.0",
         "77183.6",
         "0.0",
         "12346.0",
         "0.0"
        ],
        [
         "5.0",
         "584.9100000000001",
         "509.385",
         "475.39",
         "711.79",
         "1.0",
         "2.0",
         "1.0",
         "1.0",
         "584.9100000000001",
         "1018.77",
         "475.39",
         "711.79",
         "12347.0",
         "1294.32"
        ],
        [
         null,
         "310.0",
         "367.0",
         "227.44",
         "892.8",
         "1.0",
         "1.0",
         "1.0",
         "1.0",
         "310.0",
         "367.0",
         "227.44",
         "892.8",
         "12348.0",
         "0.0"
        ],
        [
         null,
         "0.0",
         "0.0",
         "334.4",
         "0.0",
         "0.0",
         "0.0",
         "1.0",
         "0.0",
         "0.0",
         "0.0",
         "334.4",
         "0.0",
         "12350.0",
         "0.0"
        ],
        [
         "14.0",
         "316.25",
         "0.0",
         "312.36199999999997",
         "0.0",
         "2.0",
         "0.0",
         "5.0",
         "0.0",
         "632.5",
         "0.0",
         "1561.81",
         "0.0",
         "12352.0",
         "311.73"
        ]
       ],
       "shape": {
        "columns": 14,
        "rows": 5
       }
      },
      "text/html": [
       "<div>\n",
       "<style scoped>\n",
       "    .dataframe tbody tr th:only-of-type {\n",
       "        vertical-align: middle;\n",
       "    }\n",
       "\n",
       "    .dataframe tbody tr th {\n",
       "        vertical-align: top;\n",
       "    }\n",
       "\n",
       "    .dataframe thead th {\n",
       "        text-align: right;\n",
       "    }\n",
       "</style>\n",
       "<table border=\"1\" class=\"dataframe\">\n",
       "  <thead>\n",
       "    <tr style=\"text-align: right;\">\n",
       "      <th></th>\n",
       "      <th>sales_avg_M_2</th>\n",
       "      <th>sales_avg_M_3</th>\n",
       "      <th>sales_avg_M_4</th>\n",
       "      <th>sales_avg_M_5</th>\n",
       "      <th>sales_count_M_2</th>\n",
       "      <th>sales_count_M_3</th>\n",
       "      <th>sales_count_M_4</th>\n",
       "      <th>sales_count_M_5</th>\n",
       "      <th>sales_sum_M_2</th>\n",
       "      <th>sales_sum_M_3</th>\n",
       "      <th>sales_sum_M_4</th>\n",
       "      <th>sales_sum_M_5</th>\n",
       "      <th>CustomerID</th>\n",
       "      <th>CLV_3M</th>\n",
       "    </tr>\n",
       "  </thead>\n",
       "  <tbody>\n",
       "    <tr>\n",
       "      <th>NaN</th>\n",
       "      <td>0.00</td>\n",
       "      <td>0.000</td>\n",
       "      <td>77183.600</td>\n",
       "      <td>0.00</td>\n",
       "      <td>0.0</td>\n",
       "      <td>0.0</td>\n",
       "      <td>1.0</td>\n",
       "      <td>0.0</td>\n",
       "      <td>0.00</td>\n",
       "      <td>0.00</td>\n",
       "      <td>77183.60</td>\n",
       "      <td>0.00</td>\n",
       "      <td>12346.0</td>\n",
       "      <td>0.00</td>\n",
       "    </tr>\n",
       "    <tr>\n",
       "      <th>5.0</th>\n",
       "      <td>584.91</td>\n",
       "      <td>509.385</td>\n",
       "      <td>475.390</td>\n",
       "      <td>711.79</td>\n",
       "      <td>1.0</td>\n",
       "      <td>2.0</td>\n",
       "      <td>1.0</td>\n",
       "      <td>1.0</td>\n",
       "      <td>584.91</td>\n",
       "      <td>1018.77</td>\n",
       "      <td>475.39</td>\n",
       "      <td>711.79</td>\n",
       "      <td>12347.0</td>\n",
       "      <td>1294.32</td>\n",
       "    </tr>\n",
       "    <tr>\n",
       "      <th>NaN</th>\n",
       "      <td>310.00</td>\n",
       "      <td>367.000</td>\n",
       "      <td>227.440</td>\n",
       "      <td>892.80</td>\n",
       "      <td>1.0</td>\n",
       "      <td>1.0</td>\n",
       "      <td>1.0</td>\n",
       "      <td>1.0</td>\n",
       "      <td>310.00</td>\n",
       "      <td>367.00</td>\n",
       "      <td>227.44</td>\n",
       "      <td>892.80</td>\n",
       "      <td>12348.0</td>\n",
       "      <td>0.00</td>\n",
       "    </tr>\n",
       "    <tr>\n",
       "      <th>NaN</th>\n",
       "      <td>0.00</td>\n",
       "      <td>0.000</td>\n",
       "      <td>334.400</td>\n",
       "      <td>0.00</td>\n",
       "      <td>0.0</td>\n",
       "      <td>0.0</td>\n",
       "      <td>1.0</td>\n",
       "      <td>0.0</td>\n",
       "      <td>0.00</td>\n",
       "      <td>0.00</td>\n",
       "      <td>334.40</td>\n",
       "      <td>0.00</td>\n",
       "      <td>12350.0</td>\n",
       "      <td>0.00</td>\n",
       "    </tr>\n",
       "    <tr>\n",
       "      <th>14.0</th>\n",
       "      <td>316.25</td>\n",
       "      <td>0.000</td>\n",
       "      <td>312.362</td>\n",
       "      <td>0.00</td>\n",
       "      <td>2.0</td>\n",
       "      <td>0.0</td>\n",
       "      <td>5.0</td>\n",
       "      <td>0.0</td>\n",
       "      <td>632.50</td>\n",
       "      <td>0.00</td>\n",
       "      <td>1561.81</td>\n",
       "      <td>0.00</td>\n",
       "      <td>12352.0</td>\n",
       "      <td>311.73</td>\n",
       "    </tr>\n",
       "  </tbody>\n",
       "</table>\n",
       "</div>"
      ],
      "text/plain": [
       "      sales_avg_M_2  sales_avg_M_3  sales_avg_M_4  sales_avg_M_5  \\\n",
       "NaN            0.00          0.000      77183.600           0.00   \n",
       "5.0          584.91        509.385        475.390         711.79   \n",
       "NaN          310.00        367.000        227.440         892.80   \n",
       "NaN            0.00          0.000        334.400           0.00   \n",
       "14.0         316.25          0.000        312.362           0.00   \n",
       "\n",
       "      sales_count_M_2  sales_count_M_3  sales_count_M_4  sales_count_M_5  \\\n",
       "NaN               0.0              0.0              1.0              0.0   \n",
       "5.0               1.0              2.0              1.0              1.0   \n",
       "NaN               1.0              1.0              1.0              1.0   \n",
       "NaN               0.0              0.0              1.0              0.0   \n",
       "14.0              2.0              0.0              5.0              0.0   \n",
       "\n",
       "      sales_sum_M_2  sales_sum_M_3  sales_sum_M_4  sales_sum_M_5  CustomerID  \\\n",
       "NaN            0.00           0.00       77183.60           0.00     12346.0   \n",
       "5.0          584.91        1018.77         475.39         711.79     12347.0   \n",
       "NaN          310.00         367.00         227.44         892.80     12348.0   \n",
       "NaN            0.00           0.00         334.40           0.00     12350.0   \n",
       "14.0         632.50           0.00        1561.81           0.00     12352.0   \n",
       "\n",
       "       CLV_3M  \n",
       "NaN      0.00  \n",
       "5.0   1294.32  \n",
       "NaN      0.00  \n",
       "NaN      0.00  \n",
       "14.0   311.73  "
      ]
     },
     "execution_count": 323,
     "metadata": {},
     "output_type": "execute_result"
    }
   ],
   "source": [
    "sample_set_df.head()"
   ]
  },
  {
   "cell_type": "code",
   "execution_count": 324,
   "metadata": {},
   "outputs": [
    {
     "data": {
      "text/plain": [
       "count     3616.000000\n",
       "mean       511.558520\n",
       "std       2371.743293\n",
       "min          0.000000\n",
       "25%          0.000000\n",
       "50%          0.000000\n",
       "75%        458.662500\n",
       "max      68012.350000\n",
       "Name: CLV_3M, dtype: float64"
      ]
     },
     "execution_count": 324,
     "metadata": {},
     "output_type": "execute_result"
    }
   ],
   "source": [
    "sample_set_df['CLV_'+clv_freq].describe()"
   ]
  },
  {
   "cell_type": "markdown",
   "metadata": {},
   "source": [
    "# 4.2. Regression Models"
   ]
  },
  {
   "cell_type": "code",
   "execution_count": 325,
   "metadata": {},
   "outputs": [],
   "source": [
    "from sklearn.model_selection import train_test_split"
   ]
  },
  {
   "cell_type": "code",
   "execution_count": 326,
   "metadata": {},
   "outputs": [],
   "source": [
    "target_var = 'CLV_'+clv_freq\n",
    "all_features = [x for x in sample_set_df if x not in ['CustomerID', target_var]]"
   ]
  },
  {
   "cell_type": "code",
   "execution_count": 327,
   "metadata": {},
   "outputs": [],
   "source": [
    "x_train, x_test, y_train, y_test = train_test_split(sample_set_df[all_features], sample_set_df[target_var], test_size=0.3)"
   ]
  },
  {
   "cell_type": "markdown",
   "metadata": {},
   "source": [
    "- Linear Regression Model"
   ]
  },
  {
   "cell_type": "code",
   "execution_count": 328,
   "metadata": {},
   "outputs": [],
   "source": [
    "from sklearn.linear_model import LinearRegression"
   ]
  },
  {
   "cell_type": "code",
   "execution_count": 329,
   "metadata": {},
   "outputs": [
    {
     "data": {
      "text/html": [
       "<style>#sk-container-id-2 {color: black;background-color: white;}#sk-container-id-2 pre{padding: 0;}#sk-container-id-2 div.sk-toggleable {background-color: white;}#sk-container-id-2 label.sk-toggleable__label {cursor: pointer;display: block;width: 100%;margin-bottom: 0;padding: 0.3em;box-sizing: border-box;text-align: center;}#sk-container-id-2 label.sk-toggleable__label-arrow:before {content: \"▸\";float: left;margin-right: 0.25em;color: #696969;}#sk-container-id-2 label.sk-toggleable__label-arrow:hover:before {color: black;}#sk-container-id-2 div.sk-estimator:hover label.sk-toggleable__label-arrow:before {color: black;}#sk-container-id-2 div.sk-toggleable__content {max-height: 0;max-width: 0;overflow: hidden;text-align: left;background-color: #f0f8ff;}#sk-container-id-2 div.sk-toggleable__content pre {margin: 0.2em;color: black;border-radius: 0.25em;background-color: #f0f8ff;}#sk-container-id-2 input.sk-toggleable__control:checked~div.sk-toggleable__content {max-height: 200px;max-width: 100%;overflow: auto;}#sk-container-id-2 input.sk-toggleable__control:checked~label.sk-toggleable__label-arrow:before {content: \"▾\";}#sk-container-id-2 div.sk-estimator input.sk-toggleable__control:checked~label.sk-toggleable__label {background-color: #d4ebff;}#sk-container-id-2 div.sk-label input.sk-toggleable__control:checked~label.sk-toggleable__label {background-color: #d4ebff;}#sk-container-id-2 input.sk-hidden--visually {border: 0;clip: rect(1px 1px 1px 1px);clip: rect(1px, 1px, 1px, 1px);height: 1px;margin: -1px;overflow: hidden;padding: 0;position: absolute;width: 1px;}#sk-container-id-2 div.sk-estimator {font-family: monospace;background-color: #f0f8ff;border: 1px dotted black;border-radius: 0.25em;box-sizing: border-box;margin-bottom: 0.5em;}#sk-container-id-2 div.sk-estimator:hover {background-color: #d4ebff;}#sk-container-id-2 div.sk-parallel-item::after {content: \"\";width: 100%;border-bottom: 1px solid gray;flex-grow: 1;}#sk-container-id-2 div.sk-label:hover label.sk-toggleable__label {background-color: #d4ebff;}#sk-container-id-2 div.sk-serial::before {content: \"\";position: absolute;border-left: 1px solid gray;box-sizing: border-box;top: 0;bottom: 0;left: 50%;z-index: 0;}#sk-container-id-2 div.sk-serial {display: flex;flex-direction: column;align-items: center;background-color: white;padding-right: 0.2em;padding-left: 0.2em;position: relative;}#sk-container-id-2 div.sk-item {position: relative;z-index: 1;}#sk-container-id-2 div.sk-parallel {display: flex;align-items: stretch;justify-content: center;background-color: white;position: relative;}#sk-container-id-2 div.sk-item::before, #sk-container-id-2 div.sk-parallel-item::before {content: \"\";position: absolute;border-left: 1px solid gray;box-sizing: border-box;top: 0;bottom: 0;left: 50%;z-index: -1;}#sk-container-id-2 div.sk-parallel-item {display: flex;flex-direction: column;z-index: 1;position: relative;background-color: white;}#sk-container-id-2 div.sk-parallel-item:first-child::after {align-self: flex-end;width: 50%;}#sk-container-id-2 div.sk-parallel-item:last-child::after {align-self: flex-start;width: 50%;}#sk-container-id-2 div.sk-parallel-item:only-child::after {width: 0;}#sk-container-id-2 div.sk-dashed-wrapped {border: 1px dashed gray;margin: 0 0.4em 0.5em 0.4em;box-sizing: border-box;padding-bottom: 0.4em;background-color: white;}#sk-container-id-2 div.sk-label label {font-family: monospace;font-weight: bold;display: inline-block;line-height: 1.2em;}#sk-container-id-2 div.sk-label-container {text-align: center;}#sk-container-id-2 div.sk-container {/* jupyter's `normalize.less` sets `[hidden] { display: none; }` but bootstrap.min.css set `[hidden] { display: none !important; }` so we also need the `!important` here to be able to override the default hidden behavior on the sphinx rendered scikit-learn.org. See: https://github.com/scikit-learn/scikit-learn/issues/21755 */display: inline-block !important;position: relative;}#sk-container-id-2 div.sk-text-repr-fallback {display: none;}</style><div id=\"sk-container-id-2\" class=\"sk-top-container\"><div class=\"sk-text-repr-fallback\"><pre>LinearRegression()</pre><b>In a Jupyter environment, please rerun this cell to show the HTML representation or trust the notebook. <br />On GitHub, the HTML representation is unable to render, please try loading this page with nbviewer.org.</b></div><div class=\"sk-container\" hidden><div class=\"sk-item\"><div class=\"sk-estimator sk-toggleable\"><input class=\"sk-toggleable__control sk-hidden--visually\" id=\"sk-estimator-id-2\" type=\"checkbox\" checked><label for=\"sk-estimator-id-2\" class=\"sk-toggleable__label sk-toggleable__label-arrow\">LinearRegression</label><div class=\"sk-toggleable__content\"><pre>LinearRegression()</pre></div></div></div></div></div>"
      ],
      "text/plain": [
       "LinearRegression()"
      ]
     },
     "execution_count": 329,
     "metadata": {},
     "output_type": "execute_result"
    }
   ],
   "source": [
    "reg_fit = LinearRegression()\n",
    "reg_fit.fit(x_train, y_train)"
   ]
  },
  {
   "cell_type": "code",
   "execution_count": 330,
   "metadata": {},
   "outputs": [
    {
     "data": {
      "text/plain": [
       "7.98815326245068"
      ]
     },
     "execution_count": 330,
     "metadata": {},
     "output_type": "execute_result"
    }
   ],
   "source": [
    "reg_fit.intercept_"
   ]
  },
  {
   "cell_type": "code",
   "execution_count": 331,
   "metadata": {},
   "outputs": [
    {
     "data": {
      "application/vnd.microsoft.datawrangler.viewer.v0+json": {
       "columns": [
        {
         "name": "index",
         "rawType": "int64",
         "type": "integer"
        },
        {
         "name": "features",
         "rawType": "object",
         "type": "string"
        },
        {
         "name": "coef",
         "rawType": "float64",
         "type": "float"
        }
       ],
       "conversionMethod": "pd.DataFrame",
       "ref": "6931ac25-cdbd-48ce-a791-4c4a44aadf04",
       "rows": [
        [
         "0",
         "sales_avg_M_2",
         "0.1553023980704181"
        ],
        [
         "1",
         "sales_avg_M_3",
         "-0.4916933987217595"
        ],
        [
         "2",
         "sales_avg_M_4",
         "0.21248132318582388"
        ],
        [
         "3",
         "sales_avg_M_5",
         "-0.3231091738609526"
        ],
        [
         "4",
         "sales_count_M_2",
         "110.9668453089348"
        ],
        [
         "5",
         "sales_count_M_3",
         "6.638197901331653"
        ],
        [
         "6",
         "sales_count_M_4",
         "13.312860582409263"
        ],
        [
         "7",
         "sales_count_M_5",
         "-69.70166144906818"
        ],
        [
         "8",
         "sales_sum_M_2",
         "0.321525423967694"
        ],
        [
         "9",
         "sales_sum_M_3",
         "0.3485256183478607"
        ],
        [
         "10",
         "sales_sum_M_4",
         "-0.19758106194898417"
        ],
        [
         "11",
         "sales_sum_M_5",
         "0.8364024843780311"
        ]
       ],
       "shape": {
        "columns": 2,
        "rows": 12
       }
      },
      "text/html": [
       "<div>\n",
       "<style scoped>\n",
       "    .dataframe tbody tr th:only-of-type {\n",
       "        vertical-align: middle;\n",
       "    }\n",
       "\n",
       "    .dataframe tbody tr th {\n",
       "        vertical-align: top;\n",
       "    }\n",
       "\n",
       "    .dataframe thead th {\n",
       "        text-align: right;\n",
       "    }\n",
       "</style>\n",
       "<table border=\"1\" class=\"dataframe\">\n",
       "  <thead>\n",
       "    <tr style=\"text-align: right;\">\n",
       "      <th></th>\n",
       "      <th>features</th>\n",
       "      <th>coef</th>\n",
       "    </tr>\n",
       "  </thead>\n",
       "  <tbody>\n",
       "    <tr>\n",
       "      <th>0</th>\n",
       "      <td>sales_avg_M_2</td>\n",
       "      <td>0.155302</td>\n",
       "    </tr>\n",
       "    <tr>\n",
       "      <th>1</th>\n",
       "      <td>sales_avg_M_3</td>\n",
       "      <td>-0.491693</td>\n",
       "    </tr>\n",
       "    <tr>\n",
       "      <th>2</th>\n",
       "      <td>sales_avg_M_4</td>\n",
       "      <td>0.212481</td>\n",
       "    </tr>\n",
       "    <tr>\n",
       "      <th>3</th>\n",
       "      <td>sales_avg_M_5</td>\n",
       "      <td>-0.323109</td>\n",
       "    </tr>\n",
       "    <tr>\n",
       "      <th>4</th>\n",
       "      <td>sales_count_M_2</td>\n",
       "      <td>110.966845</td>\n",
       "    </tr>\n",
       "    <tr>\n",
       "      <th>5</th>\n",
       "      <td>sales_count_M_3</td>\n",
       "      <td>6.638198</td>\n",
       "    </tr>\n",
       "    <tr>\n",
       "      <th>6</th>\n",
       "      <td>sales_count_M_4</td>\n",
       "      <td>13.312861</td>\n",
       "    </tr>\n",
       "    <tr>\n",
       "      <th>7</th>\n",
       "      <td>sales_count_M_5</td>\n",
       "      <td>-69.701661</td>\n",
       "    </tr>\n",
       "    <tr>\n",
       "      <th>8</th>\n",
       "      <td>sales_sum_M_2</td>\n",
       "      <td>0.321525</td>\n",
       "    </tr>\n",
       "    <tr>\n",
       "      <th>9</th>\n",
       "      <td>sales_sum_M_3</td>\n",
       "      <td>0.348526</td>\n",
       "    </tr>\n",
       "    <tr>\n",
       "      <th>10</th>\n",
       "      <td>sales_sum_M_4</td>\n",
       "      <td>-0.197581</td>\n",
       "    </tr>\n",
       "    <tr>\n",
       "      <th>11</th>\n",
       "      <td>sales_sum_M_5</td>\n",
       "      <td>0.836402</td>\n",
       "    </tr>\n",
       "  </tbody>\n",
       "</table>\n",
       "</div>"
      ],
      "text/plain": [
       "           features        coef\n",
       "0     sales_avg_M_2    0.155302\n",
       "1     sales_avg_M_3   -0.491693\n",
       "2     sales_avg_M_4    0.212481\n",
       "3     sales_avg_M_5   -0.323109\n",
       "4   sales_count_M_2  110.966845\n",
       "5   sales_count_M_3    6.638198\n",
       "6   sales_count_M_4   13.312861\n",
       "7   sales_count_M_5  -69.701661\n",
       "8     sales_sum_M_2    0.321525\n",
       "9     sales_sum_M_3    0.348526\n",
       "10    sales_sum_M_4   -0.197581\n",
       "11    sales_sum_M_5    0.836402"
      ]
     },
     "execution_count": 331,
     "metadata": {},
     "output_type": "execute_result"
    }
   ],
   "source": [
    "coef = pd.DataFrame(list(zip(all_features, reg_fit.coef_)))\n",
    "coef.columns = ['features', 'coef']\n",
    "\n",
    "coef"
   ]
  },
  {
   "cell_type": "markdown",
   "metadata": {},
   "source": [
    "# 4.3. Evaluation"
   ]
  },
  {
   "cell_type": "code",
   "execution_count": 332,
   "metadata": {},
   "outputs": [],
   "source": [
    "from sklearn.metrics import r2_score, median_absolute_error"
   ]
  },
  {
   "cell_type": "code",
   "execution_count": 333,
   "metadata": {},
   "outputs": [],
   "source": [
    "train_preds = reg_fit.predict(x_train)\n",
    "test_preds = reg_fit.predict(x_test)"
   ]
  },
  {
   "cell_type": "code",
   "execution_count": 334,
   "metadata": {},
   "outputs": [
    {
     "name": "stdout",
     "output_type": "stream",
     "text": [
      "In-Sample R-Squared: 0.6967\n",
      "Out-of-Sample R-Squared: 0.6837\n"
     ]
    }
   ],
   "source": [
    "print('In-Sample R-Squared: %0.4f' % r2_score(y_true=y_train, y_pred=train_preds))\n",
    "print('Out-of-Sample R-Squared: %0.4f' % r2_score(y_true=y_test, y_pred=test_preds))"
   ]
  },
  {
   "cell_type": "code",
   "execution_count": 335,
   "metadata": {},
   "outputs": [
    {
     "name": "stdout",
     "output_type": "stream",
     "text": [
      "In-Sample MSE: 202.0780\n",
      "Out-of-Sample MSE: 205.6285\n"
     ]
    }
   ],
   "source": [
    "print('In-Sample MSE: %0.4f' % median_absolute_error(y_true=y_train, y_pred=train_preds))\n",
    "print('Out-of-Sample MSE: %0.4f' % median_absolute_error(y_true=y_test, y_pred=test_preds))"
   ]
  },
  {
   "cell_type": "code",
   "execution_count": 336,
   "metadata": {},
   "outputs": [
    {
     "data": {
      "image/png": "[encoded data removed]",
      "text/plain": [
       "<Figure size 640x480 with 1 Axes>"
      ]
     },
     "metadata": {},
     "output_type": "display_data"
    }
   ],
   "source": [
    "plt.scatter(y_train, train_preds)\n",
    "plt.plot([0, max(y_train)], [0, max(train_preds)], color='gray', lw=1, linestyle='--')\n",
    "\n",
    "plt.xlabel('actual')\n",
    "plt.ylabel('predicted')\n",
    "plt.title('In-Sample Actual vs. Predicted')\n",
    "plt.grid()\n",
    "\n",
    "plt.show()"
   ]
  },
  {
   "cell_type": "code",
   "execution_count": 337,
   "metadata": {},
   "outputs": [
    {
     "data": {
      "image/png": "[encoded data removed]",
      "text/plain": [
       "<Figure size 640x480 with 1 Axes>"
      ]
     },
     "metadata": {},
     "output_type": "display_data"
    }
   ],
   "source": [
    "plt.scatter(y_test, test_preds)\n",
    "plt.plot([0, max(y_test)], [0, max(test_preds)], color='gray', lw=1, linestyle='--')\n",
    "\n",
    "plt.xlabel('actual')\n",
    "plt.ylabel('predicted')\n",
    "plt.title('Out-of-Sample Actual vs. Predicted')\n",
    "plt.grid()\n",
    "\n",
    "plt.show()"
   ]
  },
  {
   "cell_type": "code",
   "execution_count": null,
   "metadata": {},
   "outputs": [],
   "source": []
  }
 ],
 "metadata": {
  "kernelspec": {
   "display_name": "Python 3",
   "language": "python",
   "name": "python3"
  },
  "language_info": {
   "codemirror_mode": {
    "name": "ipython",
    "version": 3
   },
   "file_extension": ".py",
   "mimetype": "text/x-python",
   "name": "python",
   "nbconvert_exporter": "python",
   "pygments_lexer": "ipython3",
   "version": "3.11.1"
  }
 },
 "nbformat": 4,
 "nbformat_minor": 2
}
